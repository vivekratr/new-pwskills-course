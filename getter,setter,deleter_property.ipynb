{
 "cells": [
  {
   "cell_type": "code",
   "execution_count": 39,
   "id": "6e2c47fe-ac2f-4fb2-b3e5-b24f99d73983",
   "metadata": {},
   "outputs": [],
   "source": [
    "class course:\n",
    "    def __init__(self,course_name,price):\n",
    "        self.course_name = course_name\n",
    "        self.__price = price\n",
    "    @property\n",
    "    def price_access(self):\n",
    "        return self.__price\n",
    "    @price_access.setter\n",
    "    def price_set(self, p):\n",
    "        self.__price = p\n",
    "    @price_access.deleter\n",
    "    def price_del(self):\n",
    "        del self.__price"
   ]
  },
  {
   "cell_type": "code",
   "execution_count": 40,
   "id": "0f56d79f-6a4b-4a26-805a-9076ebcc0c31",
   "metadata": {},
   "outputs": [],
   "source": [
    "vk = course('DS', 3500)"
   ]
  },
  {
   "cell_type": "code",
   "execution_count": 41,
   "id": "7bc4e52b-7f6d-41f0-bb3d-bc80ec5395af",
   "metadata": {},
   "outputs": [
    {
     "ename": "AttributeError",
     "evalue": "'course' object has no attribute 'price'",
     "output_type": "error",
     "traceback": [
      "\u001b[0;31m---------------------------------------------------------------------------\u001b[0m",
      "\u001b[0;31mAttributeError\u001b[0m                            Traceback (most recent call last)",
      "Cell \u001b[0;32mIn[41], line 1\u001b[0m\n\u001b[0;32m----> 1\u001b[0m \u001b[43mvk\u001b[49m\u001b[38;5;241;43m.\u001b[39;49m\u001b[43mprice\u001b[49m\n",
      "\u001b[0;31mAttributeError\u001b[0m: 'course' object has no attribute 'price'"
     ]
    }
   ],
   "source": [
    "vk.price"
   ]
  },
  {
   "cell_type": "code",
   "execution_count": 42,
   "id": "e21638df-e568-497e-b14a-e5d4587c0a57",
   "metadata": {},
   "outputs": [
    {
     "ename": "AttributeError",
     "evalue": "'course' object has no attribute '__price'",
     "output_type": "error",
     "traceback": [
      "\u001b[0;31m---------------------------------------------------------------------------\u001b[0m",
      "\u001b[0;31mAttributeError\u001b[0m                            Traceback (most recent call last)",
      "Cell \u001b[0;32mIn[42], line 1\u001b[0m\n\u001b[0;32m----> 1\u001b[0m \u001b[43mvk\u001b[49m\u001b[38;5;241;43m.\u001b[39;49m\u001b[43m__price\u001b[49m\n",
      "\u001b[0;31mAttributeError\u001b[0m: 'course' object has no attribute '__price'"
     ]
    }
   ],
   "source": [
    "vk.__price"
   ]
  },
  {
   "cell_type": "code",
   "execution_count": 43,
   "id": "9f20129b-13e4-4004-9433-50702565f0f3",
   "metadata": {},
   "outputs": [
    {
     "data": {
      "text/plain": [
       "3500"
      ]
     },
     "execution_count": 43,
     "metadata": {},
     "output_type": "execute_result"
    }
   ],
   "source": [
    "vk.price_access"
   ]
  },
  {
   "cell_type": "code",
   "execution_count": 44,
   "id": "4cb85b3e-98be-4d87-89d3-190acbd9a72c",
   "metadata": {},
   "outputs": [],
   "source": [
    "vk.price_set = 2000"
   ]
  },
  {
   "cell_type": "code",
   "execution_count": 45,
   "id": "81f56046-ecec-4c3c-a74e-02f74e4c5f32",
   "metadata": {},
   "outputs": [
    {
     "data": {
      "text/plain": [
       "2000"
      ]
     },
     "execution_count": 45,
     "metadata": {},
     "output_type": "execute_result"
    }
   ],
   "source": [
    "vk.price_access"
   ]
  },
  {
   "cell_type": "code",
   "execution_count": 46,
   "id": "799d2595-e736-41ee-9a48-a614a83111fa",
   "metadata": {},
   "outputs": [],
   "source": [
    "del vk.price_del"
   ]
  },
  {
   "cell_type": "code",
   "execution_count": 47,
   "id": "0891e857-2bc9-4898-8de7-c0c16c516ef5",
   "metadata": {},
   "outputs": [
    {
     "ename": "AttributeError",
     "evalue": "'course' object has no attribute '_course__price'",
     "output_type": "error",
     "traceback": [
      "\u001b[0;31m---------------------------------------------------------------------------\u001b[0m",
      "\u001b[0;31mAttributeError\u001b[0m                            Traceback (most recent call last)",
      "Cell \u001b[0;32mIn[47], line 1\u001b[0m\n\u001b[0;32m----> 1\u001b[0m \u001b[43mvk\u001b[49m\u001b[38;5;241;43m.\u001b[39;49m\u001b[43mprice_access\u001b[49m\n",
      "Cell \u001b[0;32mIn[39], line 7\u001b[0m, in \u001b[0;36mcourse.price_access\u001b[0;34m(self)\u001b[0m\n\u001b[1;32m      5\u001b[0m \u001b[38;5;129m@property\u001b[39m\n\u001b[1;32m      6\u001b[0m \u001b[38;5;28;01mdef\u001b[39;00m \u001b[38;5;21mprice_access\u001b[39m(\u001b[38;5;28mself\u001b[39m):\n\u001b[0;32m----> 7\u001b[0m     \u001b[38;5;28;01mreturn\u001b[39;00m \u001b[38;5;28;43mself\u001b[39;49m\u001b[38;5;241;43m.\u001b[39;49m\u001b[43m__price\u001b[49m\n",
      "\u001b[0;31mAttributeError\u001b[0m: 'course' object has no attribute '_course__price'"
     ]
    }
   ],
   "source": [
    "vk.price_access"
   ]
  },
  {
   "cell_type": "code",
   "execution_count": null,
   "id": "3b8c5cb4-3e17-425b-bc95-233846fa5b0e",
   "metadata": {},
   "outputs": [],
   "source": []
  }
 ],
 "metadata": {
  "kernelspec": {
   "display_name": "Python 3 (ipykernel)",
   "language": "python",
   "name": "python3"
  },
  "language_info": {
   "codemirror_mode": {
    "name": "ipython",
    "version": 3
   },
   "file_extension": ".py",
   "mimetype": "text/x-python",
   "name": "python",
   "nbconvert_exporter": "python",
   "pygments_lexer": "ipython3",
   "version": "3.10.8"
  }
 },
 "nbformat": 4,
 "nbformat_minor": 5
}
