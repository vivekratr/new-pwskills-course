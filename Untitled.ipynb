{
 "cells": [
  {
   "cell_type": "code",
   "execution_count": 18,
   "id": "dc725bb2-a97a-417d-86a0-3a248acc9a49",
   "metadata": {},
   "outputs": [],
   "source": [
    "d6 = {'mentor': 1,\"sudhansu\": 2,\"krish\": 3,\"anurag\": 4}\n"
   ]
  },
  {
   "cell_type": "code",
   "execution_count": 19,
   "id": "e083087e-86a9-4d97-a856-a78af91781fe",
   "metadata": {},
   "outputs": [
    {
     "ename": "AttributeError",
     "evalue": "'dict' object has no attribute 'append'",
     "output_type": "error",
     "traceback": [
      "\u001b[0;31m---------------------------------------------------------------------------\u001b[0m",
      "\u001b[0;31mAttributeError\u001b[0m                            Traceback (most recent call last)",
      "Cell \u001b[0;32mIn[19], line 1\u001b[0m\n\u001b[0;32m----> 1\u001b[0m \u001b[43md6\u001b[49m\u001b[38;5;241;43m.\u001b[39;49m\u001b[43mappend\u001b[49m({\u001b[38;5;124m\"\u001b[39m\u001b[38;5;124map\u001b[39m\u001b[38;5;124m\"\u001b[39m:\u001b[38;5;241m1\u001b[39m})\n",
      "\u001b[0;31mAttributeError\u001b[0m: 'dict' object has no attribute 'append'"
     ]
    }
   ],
   "source": [
    "d6.append({\"ap\":1})"
   ]
  },
  {
   "cell_type": "code",
   "execution_count": 20,
   "id": "53a3e9a9-d57d-4225-9d4a-22d757836128",
   "metadata": {},
   "outputs": [
    {
     "data": {
      "text/plain": [
       "{'mentor': 1, 'sudhansu': 2, 'krish': 3, 'anurag': 4}"
      ]
     },
     "execution_count": 20,
     "metadata": {},
     "output_type": "execute_result"
    }
   ],
   "source": [
    "d6"
   ]
  },
  {
   "cell_type": "code",
   "execution_count": 21,
   "id": "1a452189-ca29-4397-be39-4e469527d288",
   "metadata": {},
   "outputs": [
    {
     "data": {
      "text/plain": [
       "[('mentor', 1), ('sudhansu', 2), ('krish', 3), ('anurag', 4)]"
      ]
     },
     "execution_count": 21,
     "metadata": {},
     "output_type": "execute_result"
    }
   ],
   "source": [
    "list(d6.items())\n"
   ]
  },
  {
   "cell_type": "code",
   "execution_count": 26,
   "id": "a3ae0fc1-749f-4ef4-8568-491a5363481f",
   "metadata": {},
   "outputs": [
    {
     "data": {
      "text/plain": [
       "[1, 2, 3, 4, 5, 6, 7, 8]"
      ]
     },
     "execution_count": 26,
     "metadata": {},
     "output_type": "execute_result"
    }
   ],
   "source": [
    "l = [1,2,3,4,5,6,7,8]\n",
    "l"
   ]
  },
  {
   "cell_type": "code",
   "execution_count": 27,
   "id": "560f99ce-fe86-418f-ad44-6be9383b0ade",
   "metadata": {},
   "outputs": [],
   "source": [
    "for i in range(0,8):\n",
    "    l[i] += 1"
   ]
  },
  {
   "cell_type": "code",
   "execution_count": 29,
   "id": "89091e19-7e61-4e96-b3a1-c9da178a04fd",
   "metadata": {},
   "outputs": [
    {
     "data": {
      "text/plain": [
       "[2, 3, 4, 5, 6, 7, 8, 9]"
      ]
     },
     "execution_count": 29,
     "metadata": {},
     "output_type": "execute_result"
    }
   ],
   "source": [
    "l"
   ]
  },
  {
   "cell_type": "code",
   "execution_count": 30,
   "id": "1d6acccd-4d9f-4cdc-a46d-d92eb616d59a",
   "metadata": {},
   "outputs": [],
   "source": [
    "l1 = ['vvvvvvvvvvvvvvvvvvvvvvvvvvvvv','afas','awas']\n"
   ]
  },
  {
   "cell_type": "code",
   "execution_count": 31,
   "id": "fd9a70ff-b4db-4701-b528-dfe036a7ba56",
   "metadata": {},
   "outputs": [
    {
     "data": {
      "text/plain": [
       "['vvvvvvvvvvvvvvvvvvvvvvvvvvvvv', 'afas', 'awas']"
      ]
     },
     "execution_count": 31,
     "metadata": {},
     "output_type": "execute_result"
    }
   ],
   "source": [
    "l1"
   ]
  },
  {
   "cell_type": "code",
   "execution_count": 33,
   "id": "30092310-3c38-4b34-9733-1e9ddb630756",
   "metadata": {},
   "outputs": [
    {
     "ename": "NameError",
     "evalue": "name 'string' is not defined",
     "output_type": "error",
     "traceback": [
      "\u001b[0;31m---------------------------------------------------------------------------\u001b[0m",
      "\u001b[0;31mNameError\u001b[0m                                 Traceback (most recent call last)",
      "Cell \u001b[0;32mIn[33], line 2\u001b[0m\n\u001b[1;32m      1\u001b[0m \u001b[38;5;28;01mfor\u001b[39;00m i \u001b[38;5;129;01min\u001b[39;00m \u001b[38;5;28mrange\u001b[39m(\u001b[38;5;241m0\u001b[39m,\u001b[38;5;241m3\u001b[39m):\n\u001b[0;32m----> 2\u001b[0m     l1[i] \u001b[38;5;241m=\u001b[39m \u001b[43mstring\u001b[49m\u001b[38;5;241m.\u001b[39mupper(li[i])\n",
      "\u001b[0;31mNameError\u001b[0m: name 'string' is not defined"
     ]
    }
   ],
   "source": [
    "for i in range(0,3):\n",
    "    l1[i] = string.upper(li[i])"
   ]
  },
  {
   "cell_type": "code",
   "execution_count": null,
   "id": "6e84e178-0e0c-4abe-adc7-8e8c4913cfc5",
   "metadata": {},
   "outputs": [],
   "source": []
  },
  {
   "cell_type": "code",
   "execution_count": 34,
   "id": "17bfa233-a4cd-4426-a708-bb65ced5dc7c",
   "metadata": {},
   "outputs": [],
   "source": [
    "l2 = [1,2,3,4,4,\"sudh\",\"kumar\",324,34,456,\"abc\"]"
   ]
  },
  {
   "cell_type": "code",
   "execution_count": 57,
   "id": "6b4911f5-0c0f-4dc5-9dbb-bcf22023b127",
   "metadata": {},
   "outputs": [
    {
     "data": {
      "text/plain": [
       "int"
      ]
     },
     "execution_count": 57,
     "metadata": {},
     "output_type": "execute_result"
    }
   ],
   "source": [
    "l2\n",
    "\n",
    "type(1)"
   ]
  },
  {
   "cell_type": "code",
   "execution_count": 58,
   "id": "ba50e336-d065-4cb0-a54b-4f1b0d5d9ec9",
   "metadata": {},
   "outputs": [],
   "source": [
    "l21 =[]\n",
    "l22 = []\n",
    "for i in range(0,11):\n",
    "    if(type(l2[i]) == int):\n",
    "        l21.append(l2[i])\n",
    "    else:\n",
    "        l22.append(l2[i])"
   ]
  },
  {
   "cell_type": "code",
   "execution_count": 60,
   "id": "e19a7d48-26f6-4bd6-b560-9ced66f7045d",
   "metadata": {},
   "outputs": [
    {
     "data": {
      "text/plain": [
       "['sudh', 'kumar', 'abc']"
      ]
     },
     "execution_count": 60,
     "metadata": {},
     "output_type": "execute_result"
    }
   ],
   "source": [
    "l22"
   ]
  },
  {
   "cell_type": "code",
   "execution_count": 61,
   "id": "0295e81d-26d5-4767-9d59-dc51a10dfa69",
   "metadata": {},
   "outputs": [
    {
     "data": {
      "text/plain": [
       "[1, 2, 3, 4, 4, 324, 34, 456]"
      ]
     },
     "execution_count": 61,
     "metadata": {},
     "output_type": "execute_result"
    }
   ],
   "source": [
    "l21"
   ]
  }
 ],
 "metadata": {
  "kernelspec": {
   "display_name": "Python 3 (ipykernel)",
   "language": "python",
   "name": "python3"
  },
  "language_info": {
   "codemirror_mode": {
    "name": "ipython",
    "version": 3
   },
   "file_extension": ".py",
   "mimetype": "text/x-python",
   "name": "python",
   "nbconvert_exporter": "python",
   "pygments_lexer": "ipython3",
   "version": "3.10.8"
  }
 },
 "nbformat": 4,
 "nbformat_minor": 5
}
