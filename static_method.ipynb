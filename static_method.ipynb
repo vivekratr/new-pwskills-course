{
 "cells": [
  {
   "cell_type": "code",
   "execution_count": null,
   "id": "a4198010-0ef8-4b94-af7a-87efd0637f22",
   "metadata": {},
   "outputs": [],
   "source": [
    "A static method is a type of function that is associated with a class rather than an instance of the class. \n",
    "\n",
    "It is different from a regular method, which operates on an instance of the class and has access to its attributes and behaviors.\n",
    "\n",
    "Static methods are often used for utility functions that perform some operation related to the class but don't require access to the instance's data.\n",
    "\n",
    "Static methods do not have access to the instance's data, so they cannot modify the instance's attributes or call other instance methods. \n",
    "\n",
    "They can only access the class variables and other static methods.\n",
    "\n",
    "When a static method is called on an instance of a class, it operates in the same way as when it is called on the class itself.\n",
    "\n",
    "The instance is not passed as an argument to the static method, and the static method does not have access to the instance's attributes or behaviors."
   ]
  },
  {
   "cell_type": "code",
   "execution_count": 13,
   "id": "5332dd7e-b47b-41f4-8b2d-143e60ce8274",
   "metadata": {},
   "outputs": [],
   "source": [
    "class details:\n",
    "    country = \"India\"\n",
    "    def __init__(self, name, email ):\n",
    "        self.name = name\n",
    "        self.email = email\n",
    "    def onlybans(str):\n",
    "        print(str)\n",
    "    @staticmethod\n",
    "    def onlybans1(str):\n",
    "        print(str)\n",
    "    @classmethod\n",
    "    def instant_detail(cls,name,email):\n",
    "        return cls(name,email)\n",
    "    @classmethod\n",
    "    def chng_country(cls,country):\n",
    "        details.country  = country\n",
    "    def prtdet(self):\n",
    "         print(self.name,self.email,details.country)\n",
    "# vk = details.instant_detail('Vivek','vivekratr@gmail')\n",
    "# vk.prtdet()\n",
    "vk1 = details('v','vv')\n"
   ]
  },
  {
   "cell_type": "code",
   "execution_count": 14,
   "id": "42f60ab5-ed51-4da1-9e81-1744f363df5a",
   "metadata": {},
   "outputs": [
    {
     "ename": "TypeError",
     "evalue": "details.onlybans() takes 1 positional argument but 2 were given",
     "output_type": "error",
     "traceback": [
      "\u001b[0;31m---------------------------------------------------------------------------\u001b[0m",
      "\u001b[0;31mTypeError\u001b[0m                                 Traceback (most recent call last)",
      "Cell \u001b[0;32mIn[14], line 1\u001b[0m\n\u001b[0;32m----> 1\u001b[0m \u001b[43mvk1\u001b[49m\u001b[38;5;241;43m.\u001b[39;49m\u001b[43monlybans\u001b[49m\u001b[43m(\u001b[49m\u001b[38;5;124;43m'\u001b[39;49m\u001b[38;5;124;43maaa\u001b[39;49m\u001b[38;5;124;43m'\u001b[39;49m\u001b[43m)\u001b[49m\n",
      "\u001b[0;31mTypeError\u001b[0m: details.onlybans() takes 1 positional argument but 2 were given"
     ]
    }
   ],
   "source": [
    "vk1.onlybans('aaa')"
   ]
  },
  {
   "cell_type": "code",
   "execution_count": 15,
   "id": "b71cfdc3-3b3b-4ce3-b4c5-5b5af177d760",
   "metadata": {},
   "outputs": [
    {
     "name": "stdout",
     "output_type": "stream",
     "text": [
      "Fanttttaaaa\n"
     ]
    }
   ],
   "source": [
    "vk1.onlybans1('Fanttttaaaa')"
   ]
  }
 ],
 "metadata": {
  "kernelspec": {
   "display_name": "Python 3 (ipykernel)",
   "language": "python",
   "name": "python3"
  },
  "language_info": {
   "codemirror_mode": {
    "name": "ipython",
    "version": 3
   },
   "file_extension": ".py",
   "mimetype": "text/x-python",
   "name": "python",
   "nbconvert_exporter": "python",
   "pygments_lexer": "ipython3",
   "version": "3.10.8"
  }
 },
 "nbformat": 4,
 "nbformat_minor": 5
}
