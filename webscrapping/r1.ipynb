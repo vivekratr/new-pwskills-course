{
 "cells": [
  {
   "cell_type": "code",
   "execution_count": 197,
   "id": "2c6d524f-df17-4a32-800b-073e18e34c23",
   "metadata": {},
   "outputs": [],
   "source": [
    "from flask import Flask, render_template, request,jsonify\n",
    "from flask_cors import CORS,cross_origin\n",
    "import requests\n",
    "from bs4 import BeautifulSoup as bs\n",
    "from urllib.request import urlopen as uReq\n",
    "import pymongo\n",
    "from selenium import webdriver"
   ]
  },
  {
   "cell_type": "code",
   "execution_count": 198,
   "id": "ad53e8c7-0e5f-4132-898f-eb811100c353",
   "metadata": {},
   "outputs": [],
   "source": [
    "yt = 'https://www.youtube.com/@PW-Foundation/videos'"
   ]
  },
  {
   "cell_type": "code",
   "execution_count": 199,
   "id": "6908b970-1db5-4978-aa0d-215b96317ec7",
   "metadata": {},
   "outputs": [],
   "source": [
    "url_client = uReq(yt)"
   ]
  },
  {
   "cell_type": "code",
   "execution_count": 200,
   "id": "def96c09-601f-404f-a1fd-86434f062c31",
   "metadata": {},
   "outputs": [
    {
     "data": {
      "text/plain": [
       "<http.client.HTTPResponse at 0x7f7fc8e68550>"
      ]
     },
     "execution_count": 200,
     "metadata": {},
     "output_type": "execute_result"
    }
   ],
   "source": [
    "url_client"
   ]
  },
  {
   "cell_type": "code",
   "execution_count": 201,
   "id": "6ea0e8b0-021b-4617-bfc4-d89ebc8b2f7f",
   "metadata": {},
   "outputs": [],
   "source": [
    "yt_page = url_client.read()"
   ]
  },
  {
   "cell_type": "code",
   "execution_count": null,
   "id": "c1314083-5663-4d0d-8da0-820c53e2bf1a",
   "metadata": {},
   "outputs": [],
   "source": [
    "yt_page"
   ]
  },
  {
   "cell_type": "code",
   "execution_count": 204,
   "id": "e6358fac-8756-49d8-ae19-0003e73226a9",
   "metadata": {},
   "outputs": [],
   "source": [
    "ytpageHtml = bs(yt_page,'html.parser')"
   ]
  },
  {
   "cell_type": "code",
   "execution_count": 209,
   "id": "f873b282-cb92-41a8-ae51-d9c6d9745150",
   "metadata": {},
   "outputs": [],
   "source": [
    "box = ytpageHtml.findAll('div',{\"class\":\"style-scope ytd-two-column-browse-results-renderer\"}) "
   ]
  },
  {
   "cell_type": "code",
   "execution_count": 210,
   "id": "f41895b9-e670-4411-9e88-3f0a133b3563",
   "metadata": {},
   "outputs": [
    {
     "data": {
      "text/plain": [
       "[]"
      ]
     },
     "execution_count": 210,
     "metadata": {},
     "output_type": "execute_result"
    }
   ],
   "source": [
    "box"
   ]
  },
  {
   "cell_type": "code",
   "execution_count": null,
   "id": "0d2a4498-60ce-4cba-92d4-9b79c8b527b1",
   "metadata": {},
   "outputs": [],
   "source": []
  }
 ],
 "metadata": {
  "kernelspec": {
   "display_name": "Python 3 (ipykernel)",
   "language": "python",
   "name": "python3"
  },
  "language_info": {
   "codemirror_mode": {
    "name": "ipython",
    "version": 3
   },
   "file_extension": ".py",
   "mimetype": "text/x-python",
   "name": "python",
   "nbconvert_exporter": "python",
   "pygments_lexer": "ipython3",
   "version": "3.10.8"
  }
 },
 "nbformat": 4,
 "nbformat_minor": 5
}
