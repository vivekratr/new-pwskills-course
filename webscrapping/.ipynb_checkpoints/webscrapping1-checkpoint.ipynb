{
 "cells": [
  {
   "cell_type": "code",
   "execution_count": 3,
   "id": "ca74ee3b-238f-4bbc-bdc5-307b31bdb209",
   "metadata": {},
   "outputs": [],
   "source": [
    "import requests\n",
    "from bs4 import BeautifulSoup as bs\n",
    "from urllib.request import urlopen as uReq\n",
    "import logging"
   ]
  },
  {
   "cell_type": "code",
   "execution_count": 4,
   "id": "72527662-6ec4-425f-ad1b-50bd1558acc6",
   "metadata": {},
   "outputs": [],
   "source": [
    "flipkart = \"https://www.flipkart.com/search?q=oneplus%2010%20pro\""
   ]
  },
  {
   "cell_type": "code",
   "execution_count": 5,
   "id": "74b758e8-7687-448c-8fe0-46229fd49db7",
   "metadata": {},
   "outputs": [
    {
     "data": {
      "text/plain": [
       "'https://www.flipkart.com/search?q=oneplus%2010%20pro'"
      ]
     },
     "execution_count": 5,
     "metadata": {},
     "output_type": "execute_result"
    }
   ],
   "source": [
    "flipkart"
   ]
  },
  {
   "cell_type": "code",
   "execution_count": 6,
   "id": "4f1b9793-b10d-4499-8a73-dac480c3c6ec",
   "metadata": {},
   "outputs": [],
   "source": [
    "url_client = uReq(flipkart)"
   ]
  },
  {
   "cell_type": "code",
   "execution_count": 7,
   "id": "e92b6a99-6f71-4472-8437-621de2c81028",
   "metadata": {},
   "outputs": [
    {
     "data": {
      "text/plain": [
       "<http.client.HTTPResponse at 0x7fec3c1896f0>"
      ]
     },
     "execution_count": 7,
     "metadata": {},
     "output_type": "execute_result"
    }
   ],
   "source": [
    "url_client"
   ]
  },
  {
   "cell_type": "code",
   "execution_count": 8,
   "id": "7839634d-8737-4372-af4e-cfd666115a2e",
   "metadata": {},
   "outputs": [],
   "source": [
    "flipkart_page = url_client.read()"
   ]
  },
  {
   "cell_type": "code",
   "execution_count": null,
   "id": "1ed46c2c-797b-46ac-aa5e-25f1a4394a99",
   "metadata": {},
   "outputs": [],
   "source": [
    "flipkart_page"
   ]
  },
  {
   "cell_type": "code",
   "execution_count": 10,
   "id": "f439eb52-ac46-48ee-a475-9914f17438f5",
   "metadata": {},
   "outputs": [],
   "source": [
    "flipkart_html = bs(flipkart_page,'html.parser') #for beautifying the page dump"
   ]
  },
  {
   "cell_type": "code",
   "execution_count": 11,
   "id": "c1aa3983-d185-4e89-a1ee-c94d9b5db8f1",
   "metadata": {},
   "outputs": [
    {
     "data": {
      "text/plain": [
       "'https://www.flipkart.com/oneplus-10-pro-5g-volcanic-black-128-gb/p/itm6f3bc476a043f?pid=MOBGHBZHAJ2UZYBD&lid=LSTMOBGHBZHAJ2UZYBDGNYYDA&marketplace=FLIPKART&q=oneplus+10+pro+5g+mobile&store=tyy%2F4io&srno=s_1_1&otracker=AS_QueryStore_OrganicAutoSuggest_1_14_na_na_na&otracker1=AS_QueryStore_OrganicAutoSuggest_1_14_na_na_na&fm=organic&iid=96f5253e-7821-4840-a3ae-3d34cacd11db.MOBGHBZHAJ2UZYBD.SEARCH&ppt=sp&ppn=sp&ssid=epqtauur0g0000001679135550298&qH=37228130c532e6ef'"
      ]
     },
     "execution_count": 11,
     "metadata": {},
     "output_type": "execute_result"
    }
   ],
   "source": [
    "\"https://www.flipkart.com\"+\"/oneplus-10-pro-5g-volcanic-black-128-gb/p/itm6f3bc476a043f?pid=MOBGHBZHAJ2UZYBD&lid=LSTMOBGHBZHAJ2UZYBDGNYYDA&marketplace=FLIPKART&q=oneplus+10+pro+5g+mobile&store=tyy%2F4io&srno=s_1_1&otracker=AS_QueryStore_OrganicAutoSuggest_1_14_na_na_na&otracker1=AS_QueryStore_OrganicAutoSuggest_1_14_na_na_na&fm=organic&iid=96f5253e-7821-4840-a3ae-3d34cacd11db.MOBGHBZHAJ2UZYBD.SEARCH&ppt=sp&ppn=sp&ssid=epqtauur0g0000001679135550298&qH=37228130c532e6ef\""
   ]
  },
  {
   "cell_type": "code",
   "execution_count": 12,
   "id": "a3c9ca95-2b9d-4442-953f-3ddac360055a",
   "metadata": {},
   "outputs": [],
   "source": [
    "box = flipkart_html.findAll('div',{\"class\":\"_1AtVbE col-12-12\"}) # here we are filtering the html code where contains the links of all the products i.e they share the \n",
    "# same class inside a div"
   ]
  },
  {
   "cell_type": "code",
   "execution_count": 13,
   "id": "7afb6028-72fc-42cb-819d-a4ef5ed6fb1d",
   "metadata": {},
   "outputs": [
    {
     "data": {
      "text/plain": [
       "30"
      ]
     },
     "execution_count": 13,
     "metadata": {},
     "output_type": "execute_result"
    }
   ],
   "source": [
    "len(box) #we found 30 products in that website"
   ]
  },
  {
   "cell_type": "code",
   "execution_count": null,
   "id": "1f49b496-e4b3-4d20-83e2-66c9d2b24570",
   "metadata": {},
   "outputs": [],
   "source": [
    "box #still we want to find out the links , but it has some junk codes of the html too"
   ]
  },
  {
   "cell_type": "code",
   "execution_count": 15,
   "id": "ea74b303-d509-45a1-ad1a-f9da20d14759",
   "metadata": {},
   "outputs": [
    {
     "data": {
      "text/plain": [
       "'https://www.flipkart.com/apple-iphone-14-plus-starlight-128-gb/p/itmc922ddc8af349?pid=MOBGHWFHVCB2YZYR&lid=LSTMOBGHWFHVCB2YZYR7XYF6W&marketplace=FLIPKART&q=oneplus+10+pro&store=tyy%2F4io&srno=s_1_2&otracker=search&fm=organic&iid=8b56803c-a241-4155-ade8-5995a2b5a803.MOBGHWFHVCB2YZYR.SEARCH&ppt=None&ppn=None&ssid=g4hukarmfk0000001679139096346&qH=c2530500a12909a1'"
      ]
     },
     "execution_count": 15,
     "metadata": {},
     "output_type": "execute_result"
    }
   ],
   "source": [
    "\"https://www.flipkart.com\"+box[3].div.div.div.a['href'] # we have now completely filter the raw data and found out the link of the product\n"
   ]
  },
  {
   "cell_type": "code",
   "execution_count": 22,
   "id": "c4ffac19-7d68-4303-899b-b15bdc7eabb1",
   "metadata": {},
   "outputs": [
    {
     "data": {
      "text/plain": [
       "'https://www.flipkart.com/apple-iphone-14-plus-starlight-128-gb/p/itmc922ddc8af349?pid=MOBGHWFHVCB2YZYR&lid=LSTMOBGHWFHVCB2YZYR7XYF6W&marketplace=FLIPKART&q=oneplus+10+pro&store=tyy%2F4io&srno=s_1_2&otracker=search&fm=organic&iid=8b56803c-a241-4155-ade8-5995a2b5a803.MOBGHWFHVCB2YZYR.SEARCH&ppt=None&ppn=None&ssid=g4hukarmfk0000001679139096346&qH=c2530500a12909a1'"
      ]
     },
     "execution_count": 22,
     "metadata": {},
     "output_type": "execute_result"
    }
   ],
   "source": [
    "#box contains 3 data which is pointing to above product\n",
    "del box[0:3]\n",
    "\"https://www.flipkart.com\"+box[0].div.div.div.a['href'] # we have now completely filter the raw data and found out the link of the product\n"
   ]
  },
  {
   "cell_type": "code",
   "execution_count": 23,
   "id": "3addf06d-1ffd-4026-8b7b-4e00b605417a",
   "metadata": {},
   "outputs": [
    {
     "ename": "AttributeError",
     "evalue": "'NoneType' object has no attribute 'a'",
     "output_type": "error",
     "traceback": [
      "\u001b[0;31m---------------------------------------------------------------------------\u001b[0m",
      "\u001b[0;31mAttributeError\u001b[0m                            Traceback (most recent call last)",
      "Cell \u001b[0;32mIn[23], line 3\u001b[0m\n\u001b[1;32m      1\u001b[0m links \u001b[38;5;241m=\u001b[39m []\n\u001b[1;32m      2\u001b[0m \u001b[38;5;28;01mfor\u001b[39;00m i \u001b[38;5;129;01min\u001b[39;00m box:\n\u001b[0;32m----> 3\u001b[0m     links\u001b[38;5;241m.\u001b[39mappend(\u001b[38;5;124m\"\u001b[39m\u001b[38;5;124mhttps://www.flipkart.com\u001b[39m\u001b[38;5;124m\"\u001b[39m\u001b[38;5;241m+\u001b[39m\u001b[43mi\u001b[49m\u001b[38;5;241;43m.\u001b[39;49m\u001b[43mdiv\u001b[49m\u001b[38;5;241;43m.\u001b[39;49m\u001b[43mdiv\u001b[49m\u001b[38;5;241;43m.\u001b[39;49m\u001b[43mdiv\u001b[49m\u001b[38;5;241;43m.\u001b[39;49m\u001b[43ma\u001b[49m[\u001b[38;5;124m'\u001b[39m\u001b[38;5;124mhref\u001b[39m\u001b[38;5;124m'\u001b[39m]) \u001b[38;5;66;03m#below error is due to the unwanted links at the end of website\u001b[39;00m\n",
      "\u001b[0;31mAttributeError\u001b[0m: 'NoneType' object has no attribute 'a'"
     ]
    }
   ],
   "source": [
    "links = []\n",
    "for i in box:\n",
    "    links.append(\"https://www.flipkart.com\"+i.div.div.div.a['href']) #below error is due to the unwanted links at the end of website"
   ]
  },
  {
   "cell_type": "code",
   "execution_count": 24,
   "id": "f0b683be-01a2-43fe-980a-3ef6e482485e",
   "metadata": {},
   "outputs": [
    {
     "name": "stdout",
     "output_type": "stream",
     "text": [
      "['https://www.flipkart.com/apple-iphone-14-plus-starlight-128-gb/p/itmc922ddc8af349?pid=MOBGHWFHVCB2YZYR&lid=LSTMOBGHWFHVCB2YZYR7XYF6W&marketplace=FLIPKART&q=oneplus+10+pro&store=tyy%2F4io&srno=s_1_2&otracker=search&fm=organic&iid=8b56803c-a241-4155-ade8-5995a2b5a803.MOBGHWFHVCB2YZYR.SEARCH&ppt=None&ppn=None&ssid=g4hukarmfk0000001679139096346&qH=c2530500a12909a1', 'https://www.flipkart.com/apple-iphone-14-purple-128-gb/p/itm0b581eba85e08?pid=MOBGHWFHQFSQYBFU&lid=LSTMOBGHWFHQFSQYBFU9AP8AR&marketplace=FLIPKART&q=oneplus+10+pro&store=tyy%2F4io&srno=s_1_3&otracker=search&fm=organic&iid=8b56803c-a241-4155-ade8-5995a2b5a803.MOBGHWFHQFSQYBFU.SEARCH&ppt=None&ppn=None&ssid=g4hukarmfk0000001679139096346&qH=c2530500a12909a1', 'https://www.flipkart.com/apple-iphone-14-blue-128-gb/p/itmdb77f40da6b6d?pid=MOBGHWFHSV7GUFWA&lid=LSTMOBGHWFHSV7GUFWAIB1T9P&marketplace=FLIPKART&q=oneplus+10+pro&store=tyy%2F4io&spotlightTagId=BestsellerId_tyy%2F4io&srno=s_1_4&otracker=search&fm=organic&iid=8b56803c-a241-4155-ade8-5995a2b5a803.MOBGHWFHSV7GUFWA.SEARCH&ppt=None&ppn=None&ssid=g4hukarmfk0000001679139096346&qH=c2530500a12909a1', 'https://www.flipkart.com/apple-iphone-14-plus-blue-128-gb/p/itmac8385391b02b?pid=MOBGHWFHUYWGB5F2&lid=LSTMOBGHWFHUYWGB5F2RJNHBM&marketplace=FLIPKART&q=oneplus+10+pro&store=tyy%2F4io&srno=s_1_5&otracker=search&fm=organic&iid=8b56803c-a241-4155-ade8-5995a2b5a803.MOBGHWFHUYWGB5F2.SEARCH&ppt=None&ppn=None&ssid=g4hukarmfk0000001679139096346&qH=c2530500a12909a1', 'https://www.flipkart.com/apple-iphone-14-plus-midnight-128-gb/p/itm4199ea6bcd38b?pid=MOBGHWFH3JX6NWWY&lid=LSTMOBGHWFH3JX6NWWYRH38NG&marketplace=FLIPKART&q=oneplus+10+pro&store=tyy%2F4io&srno=s_1_6&otracker=search&fm=organic&iid=8b56803c-a241-4155-ade8-5995a2b5a803.MOBGHWFH3JX6NWWY.SEARCH&ppt=None&ppn=None&ssid=g4hukarmfk0000001679139096346&qH=c2530500a12909a1', 'https://www.flipkart.com/apple-iphone-11-white-64-gb/p/itmfc6a7091eb20b?pid=MOBFWQ6BVWVEH3XE&lid=LSTMOBFWQ6BVWVEH3XEMXQMLO&marketplace=FLIPKART&q=oneplus+10+pro&store=tyy%2F4io&srno=s_1_7&otracker=search&fm=organic&iid=8b56803c-a241-4155-ade8-5995a2b5a803.MOBFWQ6BVWVEH3XE.SEARCH&ppt=None&ppn=None&ssid=g4hukarmfk0000001679139096346&qH=c2530500a12909a1', 'https://www.flipkart.com/apple-iphone-14-plus-purple-128-gb/p/itm7a759a472d863?pid=MOBGHWFHYFJWRHAG&lid=LSTMOBGHWFHYFJWRHAGX1JLRZ&marketplace=FLIPKART&q=oneplus+10+pro&store=tyy%2F4io&srno=s_1_8&otracker=search&fm=organic&iid=8b56803c-a241-4155-ade8-5995a2b5a803.MOBGHWFHYFJWRHAG.SEARCH&ppt=None&ppn=None&ssid=g4hukarmfk0000001679139096346&qH=c2530500a12909a1', 'https://www.flipkart.com/apple-iphone-13-midnight-128-gb/p/itmca361aab1c5b0?pid=MOBG6VF5Q82T3XRS&lid=LSTMOBG6VF5Q82T3XRSOXJLM9&marketplace=FLIPKART&q=oneplus+10+pro&store=tyy%2F4io&srno=s_1_9&otracker=search&fm=organic&iid=8b56803c-a241-4155-ade8-5995a2b5a803.MOBG6VF5Q82T3XRS.SEARCH&ppt=None&ppn=None&ssid=g4hukarmfk0000001679139096346&qH=c2530500a12909a1', 'https://www.flipkart.com/apple-iphone-11-black-64-gb/p/itm4e5041ba101fd?pid=MOBFWQ6BXGJCEYNY&lid=LSTMOBFWQ6BXGJCEYNYZXSHRJ&marketplace=FLIPKART&q=oneplus+10+pro&store=tyy%2F4io&srno=s_1_10&otracker=search&fm=organic&iid=8b56803c-a241-4155-ade8-5995a2b5a803.MOBFWQ6BXGJCEYNY.SEARCH&ppt=None&ppn=None&ssid=g4hukarmfk0000001679139096346&qH=c2530500a12909a1', 'https://www.flipkart.com/apple-iphone-13-pink-128-gb/p/itm6e30c6ee045d2?pid=MOBG6VF5GXVFTQ5Y&lid=LSTMOBG6VF5GXVFTQ5YSGQY4O&marketplace=FLIPKART&q=oneplus+10+pro&store=tyy%2F4io&srno=s_1_11&otracker=search&fm=organic&iid=8b56803c-a241-4155-ade8-5995a2b5a803.MOBG6VF5GXVFTQ5Y.SEARCH&ppt=None&ppn=None&ssid=g4hukarmfk0000001679139096346&qH=c2530500a12909a1', 'https://www.flipkart.com/apple-iphone-13-green-128-gb/p/itm18a55937b2607?pid=MOBGC9VGSU9DWGJZ&lid=LSTMOBGC9VGSU9DWGJZ0Q1T8E&marketplace=FLIPKART&q=oneplus+10+pro&store=tyy%2F4io&srno=s_1_12&otracker=search&fm=organic&iid=8b56803c-a241-4155-ade8-5995a2b5a803.MOBGC9VGSU9DWGJZ.SEARCH&ppt=None&ppn=None&ssid=g4hukarmfk0000001679139096346&qH=c2530500a12909a1', 'https://www.flipkart.com/apple-iphone-14-product-red-128-gb/p/itm1f78a4e1a1d76?pid=MOBGHWFHFBJVSW22&lid=LSTMOBGHWFHFBJVSW22H8TJ3V&marketplace=FLIPKART&q=oneplus+10+pro&store=tyy%2F4io&srno=s_1_13&otracker=search&fm=organic&iid=8b56803c-a241-4155-ade8-5995a2b5a803.MOBGHWFHFBJVSW22.SEARCH&ppt=None&ppn=None&ssid=g4hukarmfk0000001679139096346&qH=c2530500a12909a1', 'https://www.flipkart.com/apple-iphone-14-blue-256-gb/p/itm04dba659735c7?pid=MOBGHWFHD3XPKDPN&lid=LSTMOBGHWFHD3XPKDPNUH3TWL&marketplace=FLIPKART&q=oneplus+10+pro&store=tyy%2F4io&srno=s_1_14&otracker=search&fm=organic&iid=8b56803c-a241-4155-ade8-5995a2b5a803.MOBGHWFHD3XPKDPN.SEARCH&ppt=None&ppn=None&ssid=g4hukarmfk0000001679139096346&qH=c2530500a12909a1', 'https://www.flipkart.com/apple-iphone-14-starlight-256-gb/p/itmaeda15697bb79?pid=MOBGHWFHBJGZYRZC&lid=LSTMOBGHWFHBJGZYRZCN4ICRV&marketplace=FLIPKART&q=oneplus+10+pro&store=tyy%2F4io&srno=s_1_15&otracker=search&fm=organic&iid=8b56803c-a241-4155-ade8-5995a2b5a803.MOBGHWFHBJGZYRZC.SEARCH&ppt=None&ppn=None&ssid=g4hukarmfk0000001679139096346&qH=c2530500a12909a1', 'https://www.flipkart.com/samsung-galaxy-s21-fe-5g-lavender-128-gb/p/itm3b094762fb621?pid=MOBGBNBDZJ5Q3RXK&lid=LSTMOBGBNBDZJ5Q3RXKUCNNBS&marketplace=FLIPKART&q=oneplus+10+pro&store=tyy%2F4io&srno=s_1_16&otracker=search&fm=organic&iid=8b56803c-a241-4155-ade8-5995a2b5a803.MOBGBNBDZJ5Q3RXK.SEARCH&ppt=None&ppn=None&ssid=g4hukarmfk0000001679139096346&qH=c2530500a12909a1', 'https://www.flipkart.com/samsung-galaxy-s21-fe-5g-white-128-gb/p/itme7ee482a0b7f0?pid=MOBGE8DZ5VYDPUZT&lid=LSTMOBGE8DZ5VYDPUZTM0ZPM7&marketplace=FLIPKART&q=oneplus+10+pro&store=tyy%2F4io&srno=s_1_17&otracker=search&fm=organic&iid=8b56803c-a241-4155-ade8-5995a2b5a803.MOBGE8DZ5VYDPUZT.SEARCH&ppt=None&ppn=None&ssid=g4hukarmfk0000001679139096346&qH=c2530500a12909a1', 'https://www.flipkart.com/apple-iphone-14-midnight-128-gb/p/itm9e6293c322a84?pid=MOBGHWFHECFVMDCX&lid=LSTMOBGHWFHECFVMDCXBOYSND&marketplace=FLIPKART&q=oneplus+10+pro&store=tyy%2F4io&srno=s_1_18&otracker=search&fm=organic&iid=8b56803c-a241-4155-ade8-5995a2b5a803.MOBGHWFHECFVMDCX.SEARCH&ppt=None&ppn=None&ssid=g4hukarmfk0000001679139096346&qH=c2530500a12909a1', 'https://www.flipkart.com/apple-iphone-14-plus-starlight-256-gb/p/itm8ee001dd954a2?pid=MOBGHWFHQGM9B4EU&lid=LSTMOBGHWFHQGM9B4EULCGGOM&marketplace=FLIPKART&q=oneplus+10+pro&store=tyy%2F4io&srno=s_1_19&otracker=search&fm=organic&iid=8b56803c-a241-4155-ade8-5995a2b5a803.MOBGHWFHQGM9B4EU.SEARCH&ppt=None&ppn=None&ssid=g4hukarmfk0000001679139096346&qH=c2530500a12909a1', 'https://www.flipkart.com/apple-iphone-14-plus-product-red-128-gb/p/itm185314a3fac59?pid=MOBGHWFH2KZRNRH5&lid=LSTMOBGHWFH2KZRNRH5NEHUFB&marketplace=FLIPKART&q=oneplus+10+pro&store=tyy%2F4io&srno=s_1_20&otracker=search&fm=organic&iid=8b56803c-a241-4155-ade8-5995a2b5a803.MOBGHWFH2KZRNRH5.SEARCH&ppt=None&ppn=None&ssid=g4hukarmfk0000001679139096346&qH=c2530500a12909a1', 'https://www.flipkart.com/samsung-galaxy-s21-fe-5g-olive-128-gb/p/itm76e6e65136e17?pid=MOBGCKMEMZE5UJXK&lid=LSTMOBGCKMEMZE5UJXK6LPNPI&marketplace=FLIPKART&q=oneplus+10+pro&store=tyy%2F4io&srno=s_1_21&otracker=search&fm=organic&iid=8b56803c-a241-4155-ade8-5995a2b5a803.MOBGCKMEMZE5UJXK.SEARCH&ppt=None&ppn=None&ssid=g4hukarmfk0000001679139096346&qH=c2530500a12909a1', 'https://www.flipkart.com/samsung-galaxy-s21-fe-5g-graphite-128-gb/p/itm7be0f72fff180?pid=MOBGBPFZSPRG8GSU&lid=LSTMOBGBPFZSPRG8GSUQRST90&marketplace=FLIPKART&q=oneplus+10+pro&store=tyy%2F4io&srno=s_1_22&otracker=search&fm=organic&iid=8b56803c-a241-4155-ade8-5995a2b5a803.MOBGBPFZSPRG8GSU.SEARCH&ppt=None&ppn=None&ssid=g4hukarmfk0000001679139096346&qH=c2530500a12909a1', 'https://www.flipkart.com/apple-iphone-11-white-128-gb/p/itme32df47ea6742?pid=MOBFWQ6B7KKRXDDS&lid=LSTMOBFWQ6B7KKRXDDSULUZ0N&marketplace=FLIPKART&q=oneplus+10+pro&store=tyy%2F4io&srno=s_1_23&otracker=search&fm=organic&iid=8b56803c-a241-4155-ade8-5995a2b5a803.MOBFWQ6B7KKRXDDS.SEARCH&ppt=None&ppn=None&ssid=g4hukarmfk0000001679139096346&qH=c2530500a12909a1', 'https://www.flipkart.com/apple-iphone-13-blue-128-gb/p/itm6c601e0a58b3c?pid=MOBG6VF5SMXPNQHG&lid=LSTMOBG6VF5SMXPNQHGH3DY6Z&marketplace=FLIPKART&q=oneplus+10+pro&store=tyy%2F4io&srno=s_1_24&otracker=search&fm=organic&iid=8b56803c-a241-4155-ade8-5995a2b5a803.MOBG6VF5SMXPNQHG.SEARCH&ppt=None&ppn=None&ssid=g4hukarmfk0000001679139096346&qH=c2530500a12909a1']\n"
     ]
    }
   ],
   "source": [
    "len(links) #we got the links of 23 products yay!\n",
    "print(links)"
   ]
  },
  {
   "cell_type": "code",
   "execution_count": 25,
   "id": "0dcdb7e6-3da4-48ae-aad5-8458983fe6b7",
   "metadata": {},
   "outputs": [
    {
     "name": "stdout",
     "output_type": "stream",
     "text": [
      "https://www.flipkart.com/apple-iphone-14-plus-starlight-128-gb/p/itmc922ddc8af349?pid=MOBGHWFHVCB2YZYR&lid=LSTMOBGHWFHVCB2YZYR7XYF6W&marketplace=FLIPKART&q=oneplus+10+pro&store=tyy%2F4io&srno=s_1_2&otracker=search&fm=organic&iid=8b56803c-a241-4155-ade8-5995a2b5a803.MOBGHWFHVCB2YZYR.SEARCH&ppt=None&ppn=None&ssid=g4hukarmfk0000001679139096346&qH=c2530500a12909a1\n"
     ]
    }
   ],
   "source": [
    "prod_link1 =links[0]\n",
    "print(prod_link1)"
   ]
  },
  {
   "cell_type": "code",
   "execution_count": 26,
   "id": "b99b072b-1e33-4d39-bb1b-e14f8a8c1cce",
   "metadata": {},
   "outputs": [],
   "source": [
    "prod_req1 = requests.get(prod_link1)"
   ]
  },
  {
   "cell_type": "code",
   "execution_count": 27,
   "id": "a0a0e5e2-b2d4-406b-b7da-8cc942792d95",
   "metadata": {},
   "outputs": [
    {
     "data": {
      "text/plain": [
       "<Response [200]>"
      ]
     },
     "execution_count": 27,
     "metadata": {},
     "output_type": "execute_result"
    }
   ],
   "source": [
    "prod_req1\n"
   ]
  },
  {
   "cell_type": "code",
   "execution_count": 28,
   "id": "9973931b-b4df-48ca-8cd4-cfb9ae49e7ee",
   "metadata": {},
   "outputs": [],
   "source": [
    "prod_html1 = bs(prod_req1.text,'html.parser')"
   ]
  },
  {
   "cell_type": "code",
   "execution_count": null,
   "id": "31268219-b098-4867-9941-c0859da3c044",
   "metadata": {},
   "outputs": [],
   "source": [
    "prod_html1"
   ]
  },
  {
   "cell_type": "code",
   "execution_count": 30,
   "id": "54f1c861-81a8-4fe8-a980-ce096a71a775",
   "metadata": {},
   "outputs": [],
   "source": [
    "comment_box1 = prod_html1.find_all('div',{'class':\"_16PBlm\"})"
   ]
  },
  {
   "cell_type": "code",
   "execution_count": 31,
   "id": "4113aefa-e40d-48e8-8acb-24fbd1ceadc2",
   "metadata": {},
   "outputs": [
    {
     "data": {
      "text/plain": [
       "11"
      ]
     },
     "execution_count": 31,
     "metadata": {},
     "output_type": "execute_result"
    }
   ],
   "source": [
    "len(comment_box1)"
   ]
  },
  {
   "cell_type": "code",
   "execution_count": 32,
   "id": "30f0f805-afc5-4869-8f43-422ed361568c",
   "metadata": {},
   "outputs": [
    {
     "data": {
      "text/plain": [
       "<div class=\"_16PBlm\"><div class=\"col\"><div class=\"col _2wzgFH\"><div class=\"row\"><div class=\"_3LWZlK _1BLPMq\">5<img class=\"_1wB99o\" src=\"data:image/svg+xml;base64,PHN2ZyB4bWxucz0iaHR0cDovL3d3dy53My5vcmcvMjAwMC9zdmciIHdpZHRoPSIxMyIgaGVpZ2h0PSIxMiI+PHBhdGggZmlsbD0iI0ZGRiIgZD0iTTYuNSA5LjQzOWwtMy42NzQgMi4yMy45NC00LjI2LTMuMjEtMi44ODMgNC4yNTQtLjQwNEw2LjUuMTEybDEuNjkgNC4wMSA0LjI1NC40MDQtMy4yMSAyLjg4Mi45NCA0LjI2eiIvPjwvc3ZnPg==\"/></div><p class=\"_2-N8zT\">Terrific purchase</p></div><div class=\"row\"><div class=\"t-ZTKy\"><div><div class=\"\">Camera is really good and battery performance also too good. Now apple has inbuilt photo edit options which is really nice to make your photos much better one.</div><span class=\"_1H-bmy\"><span>READ MORE</span></span></div></div></div><div class=\"_2nMSwX _3oLIki\"><div class=\"_21YjFX _2A07HP\" style=\"background-image:url(https://rukminim1.flixcart.com/blobio/124/124/imr/blobio-imr_ca3c097ce31c403bae6b2f3952cbcaec.jpeg?q=90), url(data:image/svg+xml;base64,PHN2ZyB3aWR0aD0iMjIiIGhlaWdodD0iMTgiIHhtbG5zPSJodHRwOi8vd3d3LnczLm9yZy8yMDAwL3N2ZyI+PGcgZmlsbD0iIzlEOUQ5RCIgZmlsbC1ydWxlPSJub256ZXJvIj48cGF0aCBkPSJNMjAgMEgyQzEgMCAwIDEgMCAydjE0YzAgMS4xLjkgMiAyIDJoMThjMSAwIDItMSAyLTJWMmMwLTEtMS0yLTItMnptMCAxNS45MmMtLjAyLjAzLS4wNi4wNi0uMDguMDhIMlYyLjA4TDIuMDggMmgxNy44M2MuMDMuMDIuMDYuMDYuMDguMDh2MTMuODRIMjB6Ii8+PHBhdGggZD0iTTEwIDEyLjUxTDcuNSA5LjUgNCAxNGgxNGwtNC41LTZ6Ii8+PC9nPjwvc3ZnPg==);width:62px;height:62px\"></div></div><div class=\"row _3n8db9\"><div class=\"row\"><p class=\"_2sc7ZR _2V5EHH\">Anil Kumar Bore Gowda</p><svg class=\"_2a1p_T\" height=\"14\" viewbox=\"0 0 12 12\" width=\"14\" xmlns=\"http://www.w3.org/2000/svg\"><g><circle cx=\"6\" cy=\"6\" fill=\"#878787\" r=\"6\"></circle><path d=\"M3 6l2 2 4-4\" fill=\"#878787\" stroke=\"#FFF\" stroke-width=\"1.5\"></path></g></svg><p class=\"_2mcZGG\" id=\"review-fa486fcf-2729-4e96-83ff-2113900d6557\"><span>Certified Buyer</span><span>, Bangalore</span></p><div></div><p class=\"_2sc7ZR\">5 months ago</p></div><div class=\"_1e9_Zu\"><div class=\"row\"><div class=\"_27aTsS\"><div class=\"_1LmwT9\"><svg class=\"skCrcq\" height=\"15\" width=\"20\" xmlns=\"http://www.w3.org/2000/svg\"><path class=\"_1LIt4y\" d=\"M9.58.006c-.41.043-.794.32-1.01.728-.277.557-2.334 4.693-2.74 5.1-.41.407-.944.6-1.544.6v8.572h7.5c.45 0 .835-.28 1.007-.665 0 0 2.207-6.234 2.207-6.834 0-.6-.47-1.072-1.07-1.072h-3.216c-.6 0-1.07-.535-1.07-1.07 0-.537.835-3.387 1.006-3.944.17-.557-.107-1.157-.664-1.35-.15-.043-.257-.086-.407-.064zM0 6.434v8.572h2.143V6.434H0z\" fill=\"#fff\" fill-rule=\"evenodd\"></path></svg><span class=\"_3c3Px5\">1175</span></div><div class=\"_1LmwT9 pkR4jH\"><svg class=\"skCrcq pkR4jH\" height=\"15\" width=\"20\" xmlns=\"http://www.w3.org/2000/svg\"><path class=\"_1LIt4y\" d=\"M9.58.006c-.41.043-.794.32-1.01.728-.277.557-2.334 4.693-2.74 5.1-.41.407-.944.6-1.544.6v8.572h7.5c.45 0 .835-.28 1.007-.665 0 0 2.207-6.234 2.207-6.834 0-.6-.47-1.072-1.07-1.072h-3.216c-.6 0-1.07-.535-1.07-1.07 0-.537.835-3.387 1.006-3.944.17-.557-.107-1.157-.664-1.35-.15-.043-.257-.086-.407-.064zM0 6.434v8.572h2.143V6.434H0z\" fill=\"#fff\" fill-rule=\"evenodd\"></path></svg><span class=\"_3c3Px5\">235</span></div></div><div class=\"_2bmov8\"><svg class=\"_2UvOBb\" height=\"11\" viewbox=\"0 0 16 27\" width=\"6\" xmlns=\"http://www.w3.org/2000/svg\"><path class=\"_2aPE6f\" d=\"M16 23.207L6.11 13.161 16 3.093 12.955 0 0 13.161l12.955 13.161z\" fill=\"#fff\"></path></svg><div class=\"_3E8aIl _38dCuf\"><div class=\"_3XCI6U\"><a href=\"/reviews/MOBGHWFH3JX6NWWY:1?reviewId=fa486fcf-2729-4e96-83ff-2113900d6557\"><span>Permalink</span></a></div><div class=\"_3XCI6U _2b2z-j\"><span>Report Abuse</span></div></div></div></div></div></div></div></div></div>"
      ]
     },
     "execution_count": 32,
     "metadata": {},
     "output_type": "execute_result"
    }
   ],
   "source": [
    "comment_box1[0] # for now we want to extract the names of the user from the comment, we have to go through layers of div"
   ]
  },
  {
   "cell_type": "code",
   "execution_count": 33,
   "id": "e2327589-a13a-44aa-a610-cb034a6fb9de",
   "metadata": {},
   "outputs": [
    {
     "data": {
      "text/plain": [
       "'Anil Kumar Bore Gowda'"
      ]
     },
     "execution_count": 33,
     "metadata": {},
     "output_type": "execute_result"
    }
   ],
   "source": [
    "comment_box1[0].div.div.find_all('p',{'class':\"_2sc7ZR _2V5EHH\"})[0].text # this is achieved by lots of hit and try"
   ]
  },
  {
   "cell_type": "code",
   "execution_count": 34,
   "id": "4e85dae6-a567-40fc-a351-a2bb650bd0a3",
   "metadata": {},
   "outputs": [
    {
     "ename": "AttributeError",
     "evalue": "'NoneType' object has no attribute 'div'",
     "output_type": "error",
     "traceback": [
      "\u001b[0;31m---------------------------------------------------------------------------\u001b[0m",
      "\u001b[0;31mAttributeError\u001b[0m                            Traceback (most recent call last)",
      "Cell \u001b[0;32mIn[34], line 4\u001b[0m\n\u001b[1;32m      2\u001b[0m names1 \u001b[38;5;241m=\u001b[39m []\n\u001b[1;32m      3\u001b[0m \u001b[38;5;28;01mfor\u001b[39;00m i \u001b[38;5;129;01min\u001b[39;00m comment_box1:\n\u001b[0;32m----> 4\u001b[0m     names1\u001b[38;5;241m.\u001b[39mappend(\u001b[43mi\u001b[49m\u001b[38;5;241;43m.\u001b[39;49m\u001b[43mdiv\u001b[49m\u001b[38;5;241;43m.\u001b[39;49m\u001b[43mdiv\u001b[49m\u001b[38;5;241m.\u001b[39mfind_all(\u001b[38;5;124m'\u001b[39m\u001b[38;5;124mp\u001b[39m\u001b[38;5;124m'\u001b[39m,{\u001b[38;5;124m'\u001b[39m\u001b[38;5;124mclass\u001b[39m\u001b[38;5;124m'\u001b[39m:\u001b[38;5;124m\"\u001b[39m\u001b[38;5;124m_2sc7ZR _2V5EHH\u001b[39m\u001b[38;5;124m\"\u001b[39m})[\u001b[38;5;241m0\u001b[39m]\u001b[38;5;241m.\u001b[39mtext)\n",
      "\u001b[0;31mAttributeError\u001b[0m: 'NoneType' object has no attribute 'div'"
     ]
    }
   ],
   "source": [
    "# now we will use loop\n",
    "names1 = []\n",
    "for i in comment_box1:\n",
    "    names1.append(i.div.div.find_all('p',{'class':\"_2sc7ZR _2V5EHH\"})[0].text)"
   ]
  },
  {
   "cell_type": "code",
   "execution_count": 35,
   "id": "4d3550ef-59a6-472b-b5f7-a9852ee5b848",
   "metadata": {},
   "outputs": [
    {
     "data": {
      "text/plain": [
       "['Anil Kumar Bore Gowda',\n",
       " 'Biplob Shrivastava',\n",
       " 'Vishwajeet Sahoo',\n",
       " 'Flipkart Customer',\n",
       " 'Rishi Ram',\n",
       " 'Ashish Sharma',\n",
       " 'Vivek Kumar',\n",
       " 'Shamima Chowdhury ',\n",
       " 'ISTIAQUE ALI KHAN',\n",
       " 'Sourav Kumar  Soni']"
      ]
     },
     "execution_count": 35,
     "metadata": {},
     "output_type": "execute_result"
    }
   ],
   "source": [
    "names1"
   ]
  },
  {
   "cell_type": "code",
   "execution_count": 36,
   "id": "7fd7a287-05f0-4a24-a190-2527738ef366",
   "metadata": {},
   "outputs": [
    {
     "data": {
      "text/plain": [
       "'5'"
      ]
     },
     "execution_count": 36,
     "metadata": {},
     "output_type": "execute_result"
    }
   ],
   "source": [
    "# now we will extract ratings _3LWZlK _1BLPMq\n",
    "comment_box1[0].div.div.div.div.text\n"
   ]
  },
  {
   "cell_type": "code",
   "execution_count": 37,
   "id": "dd17a3f3-5913-43dd-89eb-2f17f9ef99ff",
   "metadata": {},
   "outputs": [
    {
     "ename": "AttributeError",
     "evalue": "'NoneType' object has no attribute 'div'",
     "output_type": "error",
     "traceback": [
      "\u001b[0;31m---------------------------------------------------------------------------\u001b[0m",
      "\u001b[0;31mAttributeError\u001b[0m                            Traceback (most recent call last)",
      "Cell \u001b[0;32mIn[37], line 3\u001b[0m\n\u001b[1;32m      1\u001b[0m ratings1 \u001b[38;5;241m=\u001b[39m []\n\u001b[1;32m      2\u001b[0m \u001b[38;5;28;01mfor\u001b[39;00m i \u001b[38;5;129;01min\u001b[39;00m comment_box1:\n\u001b[0;32m----> 3\u001b[0m     ratings1\u001b[38;5;241m.\u001b[39mappend(\u001b[43mi\u001b[49m\u001b[38;5;241;43m.\u001b[39;49m\u001b[43mdiv\u001b[49m\u001b[38;5;241;43m.\u001b[39;49m\u001b[43mdiv\u001b[49m\u001b[38;5;241m.\u001b[39mdiv\u001b[38;5;241m.\u001b[39mdiv\u001b[38;5;241m.\u001b[39mtext)\n",
      "\u001b[0;31mAttributeError\u001b[0m: 'NoneType' object has no attribute 'div'"
     ]
    }
   ],
   "source": [
    "ratings1 = []\n",
    "for i in comment_box1:\n",
    "    ratings1.append(i.div.div.div.div.text)"
   ]
  },
  {
   "cell_type": "code",
   "execution_count": 38,
   "id": "76e0dbe6-8ace-4492-9232-44ce9f60cb80",
   "metadata": {},
   "outputs": [
    {
     "data": {
      "text/plain": [
       "['5', '5', '5', '5', '5', '5', '5', '5', '5', '5']"
      ]
     },
     "execution_count": 38,
     "metadata": {},
     "output_type": "execute_result"
    }
   ],
   "source": [
    "ratings1"
   ]
  },
  {
   "cell_type": "code",
   "execution_count": 39,
   "id": "f2c641e5-13f9-4cb4-a45c-f7e05b17374e",
   "metadata": {},
   "outputs": [
    {
     "data": {
      "text/plain": [
       "'Terrific purchase'"
      ]
     },
     "execution_count": 39,
     "metadata": {},
     "output_type": "execute_result"
    }
   ],
   "source": [
    "#now lets extract the comment head\n",
    "comment_box1[0].div.div.div.p.text\n"
   ]
  },
  {
   "cell_type": "code",
   "execution_count": 40,
   "id": "41a5fb6e-67e9-41bd-8892-6509b2d58f6a",
   "metadata": {},
   "outputs": [
    {
     "ename": "AttributeError",
     "evalue": "'NoneType' object has no attribute 'div'",
     "output_type": "error",
     "traceback": [
      "\u001b[0;31m---------------------------------------------------------------------------\u001b[0m",
      "\u001b[0;31mAttributeError\u001b[0m                            Traceback (most recent call last)",
      "Cell \u001b[0;32mIn[40], line 4\u001b[0m\n\u001b[1;32m      2\u001b[0m comment_heads1 \u001b[38;5;241m=\u001b[39m []\n\u001b[1;32m      3\u001b[0m \u001b[38;5;28;01mfor\u001b[39;00m i \u001b[38;5;129;01min\u001b[39;00m comment_box1:\n\u001b[0;32m----> 4\u001b[0m     comment_heads1\u001b[38;5;241m.\u001b[39mappend(\u001b[43mi\u001b[49m\u001b[38;5;241;43m.\u001b[39;49m\u001b[43mdiv\u001b[49m\u001b[38;5;241;43m.\u001b[39;49m\u001b[43mdiv\u001b[49m\u001b[38;5;241m.\u001b[39mdiv\u001b[38;5;241m.\u001b[39mp\u001b[38;5;241m.\u001b[39mtext)\n",
      "\u001b[0;31mAttributeError\u001b[0m: 'NoneType' object has no attribute 'div'"
     ]
    }
   ],
   "source": [
    "#lets do it in loop\n",
    "comment_heads1 = []\n",
    "for i in comment_box1:\n",
    "    comment_heads1.append(i.div.div.div.p.text)"
   ]
  },
  {
   "cell_type": "code",
   "execution_count": 41,
   "id": "b1c17a3f-eca0-4c66-8f08-f53e8b8dac0b",
   "metadata": {},
   "outputs": [
    {
     "data": {
      "text/plain": [
       "['Terrific purchase',\n",
       " 'Terrific purchase',\n",
       " 'Mind-blowing purchase',\n",
       " 'Terrific purchase',\n",
       " 'Worth every penny',\n",
       " 'Mind-blowing purchase',\n",
       " 'Highly recommended',\n",
       " 'Classy product',\n",
       " 'Perfect product!',\n",
       " 'Great product']"
      ]
     },
     "execution_count": 41,
     "metadata": {},
     "output_type": "execute_result"
    }
   ],
   "source": [
    "comment_heads1"
   ]
  },
  {
   "cell_type": "code",
   "execution_count": 47,
   "id": "a2b02612-c4ef-412f-b8bf-eccfa4a4b3c3",
   "metadata": {},
   "outputs": [
    {
     "data": {
      "text/plain": [
       "'Camera is really good and battery performance also too good. Now apple has inbuilt photo edit options which is really nice to make your photos much better one.READ MORE'"
      ]
     },
     "execution_count": 47,
     "metadata": {},
     "output_type": "execute_result"
    }
   ],
   "source": [
    "#lets extract the actual comment\n",
    "comment_box1[0].div.div.find_all('div',{'class':''})[0].text"
   ]
  },
  {
   "cell_type": "code",
   "execution_count": 51,
   "id": "3fb9481c-00b6-48d4-a0c8-e29a280867d4",
   "metadata": {},
   "outputs": [
    {
     "ename": "AttributeError",
     "evalue": "'NoneType' object has no attribute 'div'",
     "output_type": "error",
     "traceback": [
      "\u001b[0;31m---------------------------------------------------------------------------\u001b[0m",
      "\u001b[0;31mAttributeError\u001b[0m                            Traceback (most recent call last)",
      "Cell \u001b[0;32mIn[51], line 3\u001b[0m\n\u001b[1;32m      1\u001b[0m comments1 \u001b[38;5;241m=\u001b[39m []\n\u001b[1;32m      2\u001b[0m \u001b[38;5;28;01mfor\u001b[39;00m i \u001b[38;5;129;01min\u001b[39;00m comment_box1:\n\u001b[0;32m----> 3\u001b[0m     comments1\u001b[38;5;241m.\u001b[39mappend(\u001b[43mi\u001b[49m\u001b[38;5;241;43m.\u001b[39;49m\u001b[43mdiv\u001b[49m\u001b[38;5;241;43m.\u001b[39;49m\u001b[43mdiv\u001b[49m\u001b[38;5;241m.\u001b[39mfind_all(\u001b[38;5;124m'\u001b[39m\u001b[38;5;124mdiv\u001b[39m\u001b[38;5;124m'\u001b[39m,{\u001b[38;5;124m'\u001b[39m\u001b[38;5;124mclass\u001b[39m\u001b[38;5;124m'\u001b[39m:\u001b[38;5;124m'\u001b[39m\u001b[38;5;124m'\u001b[39m})[\u001b[38;5;241m0\u001b[39m]\u001b[38;5;241m.\u001b[39mtext)\n",
      "\u001b[0;31mAttributeError\u001b[0m: 'NoneType' object has no attribute 'div'"
     ]
    }
   ],
   "source": [
    "comments1 = []\n",
    "for i in comment_box1:\n",
    "    comments1.append(i.div.div.find_all('div',{'class':''})[0].text)"
   ]
  },
  {
   "cell_type": "code",
   "execution_count": 52,
   "id": "202aa7da-1e83-4dc4-b40c-b39a6bdc3ccc",
   "metadata": {},
   "outputs": [
    {
     "data": {
      "text/plain": [
       "['Camera is really good and battery performance also too good. Now apple has inbuilt photo edit options which is really nice to make your photos much better one.READ MORE',\n",
       " 'This is a power packed product considering the price. It comes with 33% more battery and 0.7 inches larger display than the base model. Camera is superb in terms of video recording(cinematic mode and normal mode of 4K format). It feels like iphone 14 pro max in hands from the front. A revolutionary product.READ MORE',\n",
       " \"Simply awesome!Iphone 13 was already good enough, but 14 offers even more improvement in every way. biggest noticeable thing is the display, it's crisp and smooth and colours are vivid.And think everyone knows about quality of photos from iPhones!, Iphone 14 offerd best ever camera photo quality yet on iphones.very happy with the purchase!READ MORE\",\n",
       " \"Just go for it. People are comparing it with 13 pro but according to me it's the better one because here the screen size is much bigger and the battery life is the best compared to the other series of iphones even the pro max ones😊 Yes it comes with 60Hz refresh rate but it won't matter if you are not a regular gamer. Coming to the camera then of course you will be getting better quality in 13pro in potraits because of its telephoto lens but both the phones give the same quality when you sho...READ MORE\",\n",
       " 'Amazing purchase from Flipkart! Fresh iPhone 14 plus. Excellent and genuine product. Worth every penny. I recommend you folks to buy lens protector and screen guard sold separately. As we know before, we have to buy Apple Charger separately 😉READ MORE',\n",
       " 'Amazing Beast Battery is very powerful you can use it full day in single charge just go for it camera quality is super powerful and works very smoothREAD MORE',\n",
       " 'Great Phone at this price range, 60hz refresh rate feels smooth, great camera,big screen, good battery backup and superb for gaming. What else can anyone ask for. Highly Recommended 😍.READ MORE',\n",
       " \"Writing this review after using for 2 days.Camera 5/5 - Slightly better than iPhone 13Display 5/5 - Huge n smooth display🤩 Looks like iPhone 13 pro max from frontBattery 4/5Performance 5/5Overall loved the phone. It's totally worth it🤍READ MORE\",\n",
       " 'The mobile is lighter than the iphone 13. The big screen looks good and display is crunch. I charged the mobile 100% and still 30% of battery life is left after moderate use of 1 n half day.I ordered blue colour and its look very subtle and cool. Just loved it.READ MORE',\n",
       " 'Best in all iPhones till now .a bigger screen with best processor. Refresh could be 120hz and this is disappointing me here. I love the start light colour . I thought of going for purple or blue but did not attract me moreREAD MORE']"
      ]
     },
     "execution_count": 52,
     "metadata": {},
     "output_type": "execute_result"
    }
   ],
   "source": [
    "comments1"
   ]
  },
  {
   "cell_type": "code",
   "execution_count": null,
   "id": "3f66daee-2c07-4be2-b5e3-fdd453b91921",
   "metadata": {},
   "outputs": [],
   "source": []
  }
 ],
 "metadata": {
  "kernelspec": {
   "display_name": "Python 3 (ipykernel)",
   "language": "python",
   "name": "python3"
  },
  "language_info": {
   "codemirror_mode": {
    "name": "ipython",
    "version": 3
   },
   "file_extension": ".py",
   "mimetype": "text/x-python",
   "name": "python",
   "nbconvert_exporter": "python",
   "pygments_lexer": "ipython3",
   "version": "3.10.8"
  }
 },
 "nbformat": 4,
 "nbformat_minor": 5
}
