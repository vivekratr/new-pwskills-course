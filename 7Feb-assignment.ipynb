{
 "cells": [
  {
   "cell_type": "code",
   "execution_count": 1,
   "id": "6e8f2800-b4fe-4004-8062-eeb4a46026bf",
   "metadata": {},
   "outputs": [
    {
     "name": "stdout",
     "output_type": "stream",
     "text": [
      "Valid Password\n"
     ]
    }
   ],
   "source": [
    "# Q1. You are writing code for a company. The requirement of the company is that you create a python\n",
    "# function that will check whether the password entered by the user is correct or not. The function should\n",
    "# take the password as input and return the string “Valid Password” if the entered password follows the\n",
    "# below-given password guidelines else it should return “Invalid Password”.\n",
    "# Note: 1. The Password should contain at least two uppercase letters and at least two lowercase letters.\n",
    "# 2. The Password should contain at least a number and three special characters.\n",
    "# 3. The length of the password should be 10 characters long.\n",
    "from functools import reduce\n",
    "def valPass(s):\n",
    "    # upperc =[lambda a:1 if a.isupper() == True else 0,s[::1]]\n",
    "    length = len(s)\n",
    "    if length != 10: #in the question it is given that password should be 10 characters long\n",
    "        print(\"Invalid Password\")\n",
    "        exit()\n",
    "    upper = len(list(filter(lambda a: a.isupper()==True,s)))\n",
    "    lower = len(list(filter(lambda a: a.islower()==True,s)))\n",
    "    num = len(list(filter(lambda a: a.isdigit()==True,s)))\n",
    "    symbol =  len(list(filter(lambda a: a in ['!','@','#','$','%','^','&','*','(',')','_','+','-','=',',','.','?','/','>','<','~','`',':',\"\\'\",'|',],s)))\n",
    "\n",
    "    if(upper>=2 and lower >= 2 and num>0 and symbol>=3):\n",
    "        print(\"Valid Password\")\n",
    "        exit()\n",
    "    \n",
    "ss = 'f9nNN#%$11'\n",
    "\n",
    "\n",
    "valPass(list(ss))"
   ]
  },
  {
   "cell_type": "code",
   "execution_count": 41,
   "id": "af59b2e8-c6ce-4b0c-ae38-6677e8454d2b",
   "metadata": {},
   "outputs": [],
   "source": [
    "# Q2. Solve the below-given questions using at least one of the following:\n",
    "# 1. Lambda function\n",
    "# 2. Filter function\n",
    "# 3. map function\n",
    "# 4. List Comprehension"
   ]
  },
  {
   "cell_type": "code",
   "execution_count": 22,
   "id": "b9f9d11b-2c45-4b0d-9778-ac8da676ca6c",
   "metadata": {},
   "outputs": [
    {
     "name": "stdin",
     "output_type": "stream",
     "text": [
      "Enter the letter: v\n",
      "Enter the string: Vivek\n"
     ]
    },
    {
     "data": {
      "text/plain": [
       "'Yes, the string Vivek does starts with letter v '"
      ]
     },
     "execution_count": 22,
     "metadata": {},
     "output_type": "execute_result"
    }
   ],
   "source": [
    " # Check if the string starts with a particular letter\n",
    " \n",
    "l = input(\"Enter the letter:\")\n",
    "str = input('Enter the string:')\n",
    "a = lambda s,string: f\"Yes, the string {string} does starts with letter {s} \" if s.lower() == string[0].lower() else f\"No, the string {string} does not starts with letter {s} \"\n",
    "a(l,str)"
   ]
  },
  {
   "cell_type": "code",
   "execution_count": 25,
   "id": "ae9a39e0-bf33-4fde-8642-656ab2d65480",
   "metadata": {},
   "outputs": [
    {
     "name": "stdin",
     "output_type": "stream",
     "text": [
      "Enter the string: 34243\n"
     ]
    },
    {
     "data": {
      "text/plain": [
       "'Yes, the string is numeric.'"
      ]
     },
     "execution_count": 25,
     "metadata": {},
     "output_type": "execute_result"
    }
   ],
   "source": [
    " # Check if the string is numeric\n",
    "str1 = input('Enter the string:')\n",
    "a = lambda s: 'Yes, the string is numeric.' if str1.isnumeric() else 'No, the string is not numeric.'\n",
    "a(str1)\n"
   ]
  },
  {
   "cell_type": "code",
   "execution_count": 19,
   "id": "30cd5619-c702-4491-8720-c464856de050",
   "metadata": {},
   "outputs": [
    {
     "name": "stdout",
     "output_type": "stream",
     "text": [
      "[('orange', 80), ('mango', 99), ('grapes', 1000)]\n"
     ]
    }
   ],
   "source": [
    " # Sort a list of tuples having fruit names and their quantity. [(\"mango\",99),(\"orange\",80), (\"grapes\", 1000)\n",
    "from functools import reduce\n",
    "l = [(\"mango\",99),(\"orange\",80), (\"grapes\", 1000)]\n",
    "l1 = list(map(lambda a:a[1],l))\n",
    "l1.sort()\n",
    "l2 = []\n",
    "n = 0\n",
    "for i in l1:\n",
    "    for j in l:\n",
    "        if i == j[1]:\n",
    "            l2.append(j)\n",
    "            n = n+1\n",
    "print(l2)\n"
   ]
  },
  {
   "cell_type": "code",
   "execution_count": 28,
   "id": "5ae20718-9393-40ba-87fa-dff875fa9e50",
   "metadata": {},
   "outputs": [
    {
     "data": {
      "text/plain": [
       "[1, 4, 9, 16, 25, 36, 49, 64, 81, 100]"
      ]
     },
     "execution_count": 28,
     "metadata": {},
     "output_type": "execute_result"
    }
   ],
   "source": [
    " # Find the squares of numbers from 1 to 10\n",
    "s = list(map(lambda a:a**2,range(1,11)))\n",
    "s"
   ]
  },
  {
   "cell_type": "code",
   "execution_count": 30,
   "id": "34a220e2-d2ac-4207-abdc-6517f9f9862a",
   "metadata": {},
   "outputs": [
    {
     "data": {
      "text/plain": [
       "[1, 8, 27, 64, 125, 216, 343, 512, 729, 1000]"
      ]
     },
     "execution_count": 30,
     "metadata": {},
     "output_type": "execute_result"
    }
   ],
   "source": [
    " # Find the cube root of numbers from 1 to 10\n",
    "c = list(map(lambda a:a**3,range(1,11)))\n",
    "c"
   ]
  },
  {
   "cell_type": "code",
   "execution_count": 36,
   "id": "698a7bfa-a889-48b2-bdf0-2410cbd64f9a",
   "metadata": {},
   "outputs": [
    {
     "name": "stdin",
     "output_type": "stream",
     "text": [
      "Enter the number: 22\n"
     ]
    },
    {
     "name": "stdout",
     "output_type": "stream",
     "text": [
      "Number is even\n"
     ]
    }
   ],
   "source": [
    " # Check if a given number is even\n",
    "str2 = lambda a: print('Number is even') if a%2 == 0 else print('Number is not even')\n",
    "str2(int(input(\"Enter the number:\")))"
   ]
  },
  {
   "cell_type": "code",
   "execution_count": 40,
   "id": "8c3a5422-062e-43d2-805c-ce59cc9be02f",
   "metadata": {},
   "outputs": [
    {
     "data": {
      "text/plain": [
       "[1, 3, 5, 7, 9]"
      ]
     },
     "execution_count": 40,
     "metadata": {},
     "output_type": "execute_result"
    }
   ],
   "source": [
    "# Filter odd numbers from the given list.\n",
    "# [1,2,3,4,5,6,7,8,9,10]\n",
    "l3 = [1,2,3,4,5,6,7,8,9,10]\n",
    "l4 = list(filter(lambda a: a%2 !=0,l3))\n",
    "l4"
   ]
  },
  {
   "cell_type": "code",
   "execution_count": 43,
   "id": "b2dd3c79-a174-413e-98d3-b097144151b9",
   "metadata": {},
   "outputs": [
    {
     "name": "stdout",
     "output_type": "stream",
     "text": [
      "Positive = [1, 2, 3, 4, 5, 6] , Negative = [-1, -2, -3, -4, -5] \n"
     ]
    }
   ],
   "source": [
    "# Sort a list of integers into positive and negative integers lists.\n",
    "# [1,2,3,4,5,6,-1,-2,-3,-4,-5,0]\n",
    "l4 = [1,2,3,4,5,6,-1,-2,-3,-4,-5,0]\n",
    "\n",
    "positive = list(filter(lambda a: a>0,l4))\n",
    "negative = list(filter(lambda a: a<0,l4))\n",
    "print(f\"Positive = {positive} , Negative = {negative} \")"
   ]
  }
 ],
 "metadata": {
  "kernelspec": {
   "display_name": "Python 3 (ipykernel)",
   "language": "python",
   "name": "python3"
  },
  "language_info": {
   "codemirror_mode": {
    "name": "ipython",
    "version": 3
   },
   "file_extension": ".py",
   "mimetype": "text/x-python",
   "name": "python",
   "nbconvert_exporter": "python",
   "pygments_lexer": "ipython3",
   "version": "3.10.8"
  }
 },
 "nbformat": 4,
 "nbformat_minor": 5
}
