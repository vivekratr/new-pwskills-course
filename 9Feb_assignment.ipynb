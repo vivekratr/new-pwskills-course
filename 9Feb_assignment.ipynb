{
 "cells": [
  {
   "cell_type": "code",
   "execution_count": 3,
   "id": "98e43247-1f25-4fe8-9e2b-2d4952fd3536",
   "metadata": {},
   "outputs": [],
   "source": [
    "# Q1, Create a vehicle class with an init method having instance variables as name_of_vehicle, max_speed\n",
    "# and average_of_vehicle.\n",
    "class Vehicle:\n",
    "    def __init__(self, name_of_vehicle , max_speed,average_of_vehicle):\n",
    "        self.name_of_vehicle = name_of_vehicle\n",
    "        self.max_speed = max_speed\n",
    "        self.average_of_vehicle = average_of_vehicle"
   ]
  },
  {
   "cell_type": "code",
   "execution_count": 9,
   "id": "a990db27-e207-4b2a-b49d-1467d89bf16f",
   "metadata": {},
   "outputs": [
    {
     "data": {
      "text/plain": [
       "('audi', 8)"
      ]
     },
     "execution_count": 9,
     "metadata": {},
     "output_type": "execute_result"
    }
   ],
   "source": [
    "# Q2. Create a child class car from the vehicle class created in Que 1, which will inherit the vehicle class.\n",
    "# Create a method named seating_capacity which takes capacity as an argument and returns the name of\n",
    "# the vehicle and its seating capacity.\n",
    "class car(Vehicle):\n",
    "    # def __init__(self, capacity):\n",
    "    #     self.seating_capacity = seating_capacity\n",
    "    def seating_capacity(self,capacity):\n",
    "        return self.name_of_vehicle,capacity\n",
    "vk = car('audi',90,350000)\n",
    "vk.seating_capacity(8)"
   ]
  },
  {
   "cell_type": "code",
   "execution_count": 12,
   "id": "09eec102-2446-49bd-886a-7620c0bae394",
   "metadata": {},
   "outputs": [
    {
     "name": "stdout",
     "output_type": "stream",
     "text": [
      "No of students in batch 3 of Vivek Sir is 150\n",
      "Subject in batch 2 of Paresh sir is C++\n"
     ]
    }
   ],
   "source": [
    "# Q3. What is multiple inheritance? Write a python code to demonstrate multiple inheritance.\n",
    "# Ans->Multiple inheritance is a feature in object-oriented programming languages where a class can inherit properties and methods from multiple parent classes.\n",
    "# This allows a class to inherit attributes and behaviors from multiple classes, rather than just one.\n",
    "class Batch1:\n",
    "    no_of_students_b1 = 130\n",
    "    subjects_b1 = 'Data Science'\n",
    "class Batch2:\n",
    "    no_of_students_b2 = 110\n",
    "    subjects_b2 = 'C++'\n",
    "    \n",
    "class Batch3:\n",
    "    no_of_students_b3 = 150\n",
    "    subjects_b1 = 'Java'\n",
    "class professor1(Batch2,Batch3):\n",
    "    pass\n",
    "class professor2(Batch1,Batch2):\n",
    "    pass\n",
    "vivek = professor1()\n",
    "paresh = professor2()\n",
    "print(f\"No of students in batch 3 of Vivek Sir is {vivek.no_of_students_b3}\")\n",
    "print(f\"Subject in batch 2 of Paresh sir is {paresh.subjects_b2}\")"
   ]
  },
  {
   "cell_type": "code",
   "execution_count": 16,
   "id": "d8534062-036b-4ade-bbf5-0bcbb1abbc58",
   "metadata": {},
   "outputs": [
    {
     "name": "stdout",
     "output_type": "stream",
     "text": [
      "John Doe\n",
      "Jane Doe\n"
     ]
    }
   ],
   "source": [
    "# Q4. What are getter and setter in python? Create a class and create a getter and a setter method in this\n",
    "# class.\n",
    "# Ans->In Python, getters and setters are methods that allow you to access or set the values of an object's attributes.\n",
    "# They are often used to provide additional control over the access to an object's attributes,\n",
    "# such as data validation or transforming the data before it is returned.\n",
    "class Person:\n",
    "    def __init__(self, name):\n",
    "        self._name = name\n",
    "    \n",
    "    @property\n",
    "    def prt_name(self):\n",
    "        return self._name\n",
    "    \n",
    "    @prt_name.setter\n",
    "    def set_name(self, name):\n",
    "        if len(name) > 0:\n",
    "            self._name = name\n",
    "        else:\n",
    "             print(\"Name must be a non-empty string\")\n",
    "\n",
    "p = Person(\"John Doe\")\n",
    "print(p.prt_name) \n",
    "p.set_name = \"Jane Doe\"\n",
    "print(p.prt_name) \n"
   ]
  },
  {
   "cell_type": "code",
   "execution_count": 19,
   "id": "82626a09-472b-4c8c-9ef3-28ac973d6b4b",
   "metadata": {},
   "outputs": [
    {
     "name": "stdout",
     "output_type": "stream",
     "text": [
      "I am inside class A's constructor Instance var in class A\n"
     ]
    }
   ],
   "source": [
    "class A:\n",
    "    classvar1 = \"I am a class variable in class A\"\n",
    "    def __init__(self):\n",
    "        self.var1 = \"I am inside class A's constructor\"\n",
    "        self.classvar1 = \"Instance var in class A\" #this will get printed as it is instance variable.\n",
    "   \n",
    "\n",
    "class B(A):\n",
    "    classvar1 = \"I am in class B\" #this will not get printed as it is class variable and not instance variable\n",
    "b = B()\n",
    "print( b.var1, b.classvar1)"
   ]
  },
  {
   "cell_type": "code",
   "execution_count": 21,
   "id": "11f1e07c-d00c-4983-9e04-79214b6c5fa7",
   "metadata": {},
   "outputs": [
    {
     "name": "stdout",
     "output_type": "stream",
     "text": [
      "I am in class B\n"
     ]
    }
   ],
   "source": [
    "# Example2\n",
    "class A:\n",
    "    classvar1 = \"I am a class variable in class A\" #this will not get printed as it outside the current class\n",
    "    def __init__(self):\n",
    "        self.var1 = \"I am inside class A's constructor\"\n",
    "        # self.classvar1 = \"Instance var in class A\"\n",
    "   \n",
    "\n",
    "class B(A):\n",
    "    classvar1 = \"I am in class B\" #this will get printed as there are no instance variable and also because it comes in the current class\n",
    "\n",
    "\n",
    "\n",
    "a = A()\n",
    "b = B()\n",
    "\n",
    "print( b.classvar1)"
   ]
  },
  {
   "cell_type": "code",
   "execution_count": 24,
   "id": "06f50bba-ca8a-41b6-88e5-1570826c994d",
   "metadata": {},
   "outputs": [
    {
     "name": "stdout",
     "output_type": "stream",
     "text": [
      "I am a class variable in class A\n"
     ]
    }
   ],
   "source": [
    "# Example3:\n",
    "class A:\n",
    "    classvar1 = \"I am a class variable in class A\" #this will get printed as there is no choice\n",
    "    def __init__(self):\n",
    "        self.var1 = \"I am inside class A's constructor\"\n",
    "        # self.classvar1 = \"Instance var in class A\"\n",
    "   \n",
    "\n",
    "class B(A):\n",
    "    pass\n",
    "    \n",
    "#priority instance variable(current>parent)>class variable(current>parent)\n",
    "\n",
    "a = A()\n",
    "b = B()\n",
    "\n",
    "print( b.classvar1)"
   ]
  },
  {
   "cell_type": "code",
   "execution_count": 26,
   "id": "27bb223a-cd49-473a-9fbf-52a4ada10769",
   "metadata": {},
   "outputs": [
    {
     "name": "stdout",
     "output_type": "stream",
     "text": [
      "Instance var in class B\n"
     ]
    }
   ],
   "source": [
    "# example 4\n",
    "class A:\n",
    "    classvar1 = \"I am a class variable in class A\"\n",
    "    def __init__(self):\n",
    "        self.var1 = \"I am inside class A's constructor\"\n",
    "        self.classvar1 = \"Instance var in class A\"\n",
    "        self.special = \"Special\"\n",
    "\n",
    "class B(A):\n",
    "    classvar1 = \"I am in class B\"\n",
    "\n",
    "    def __init__(self):\n",
    "        self.var1 = \"I am inside class B's constructor\"\n",
    "        self.classvar1 = \"Instance var in class B\" #printed as it is instance variable in current class\n",
    "        \n",
    "\n",
    "\n",
    "a = A()\n",
    "b = B()\n",
    "\n",
    "print(b.classvar1)"
   ]
  },
  {
   "cell_type": "code",
   "execution_count": null,
   "id": "522f8dca-ce86-4783-82b2-1c36b0571d7b",
   "metadata": {},
   "outputs": [],
   "source": [
    "In question 5 , I have given 5 examples so that we can understand how overriding is done in different cases."
   ]
  }
 ],
 "metadata": {
  "kernelspec": {
   "display_name": "Python 3 (ipykernel)",
   "language": "python",
   "name": "python3"
  },
  "language_info": {
   "codemirror_mode": {
    "name": "ipython",
    "version": 3
   },
   "file_extension": ".py",
   "mimetype": "text/x-python",
   "name": "python",
   "nbconvert_exporter": "python",
   "pygments_lexer": "ipython3",
   "version": "3.10.8"
  }
 },
 "nbformat": 4,
 "nbformat_minor": 5
}
