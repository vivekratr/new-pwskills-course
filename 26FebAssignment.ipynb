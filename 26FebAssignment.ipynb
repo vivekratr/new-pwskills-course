{
 "cells": [
  {
   "cell_type": "code",
   "execution_count": 1,
   "id": "d03aa34e-69f8-4e1e-a2d5-567a24786e4c",
   "metadata": {},
   "outputs": [
    {
     "data": {
      "text/plain": [
       "array(['1', '2', '3', '4', '5'], dtype='<U1')"
      ]
     },
     "execution_count": 1,
     "metadata": {},
     "output_type": "execute_result"
    }
   ],
   "source": [
    "import numpy as np\n",
    "list_ = [ '1' , '2' , '3' , '4' , '5' ]\n",
    "array_list = np.array(object = list_)\n",
    "array_list"
   ]
  },
  {
   "cell_type": "code",
   "execution_count": 3,
   "id": "0a2c7160-48d7-4900-8255-1bd3c310c37d",
   "metadata": {},
   "outputs": [
    {
     "name": "stdout",
     "output_type": "stream",
     "text": [
      "<class 'list'>\n",
      "<class 'numpy.ndarray'>\n"
     ]
    }
   ],
   "source": [
    "# Q1. Is there any difference in the data type of variables list_ and array_list? If there is then write a code\n",
    "# to print the data types of both the variables.\n",
    "# Ans->Yes, there can be a difference in the data type of variables list_ and array_list.\n",
    "# 1) A list in Python is a collection of items of different data types, such as strings, integers, and floats.\n",
    "# 2) It is a dynamic data structure, which means that its size can change during runtime.\n",
    "# 3) On the other hand, an array in Python is a collection of items of the same data type, such as integers or floats.\n",
    "# 4) It is a static data structure, which means that its size is fixed during runtime.\n",
    "print(type(list_))\n",
    "print(type(array_list))\n"
   ]
  },
  {
   "cell_type": "code",
   "execution_count": 4,
   "id": "b2300b19-554e-435d-af47-f773db5d8922",
   "metadata": {},
   "outputs": [
    {
     "name": "stdout",
     "output_type": "stream",
     "text": [
      "<class 'str'> <class 'numpy.str_'>\n",
      "<class 'str'> <class 'numpy.str_'>\n",
      "<class 'str'> <class 'numpy.str_'>\n",
      "<class 'str'> <class 'numpy.str_'>\n",
      "<class 'str'> <class 'numpy.str_'>\n"
     ]
    }
   ],
   "source": [
    "# Q2. Write a code to print the data type of each and every element of both the variables list_ and\n",
    "# arra_list.\n",
    "for i in range(len(list_)):\n",
    "    print(type(list_[i]),type(array_list[i]))"
   ]
  },
  {
   "cell_type": "code",
   "execution_count": 7,
   "id": "812b9bdc-25d7-42a4-9ce6-998604ae3ce8",
   "metadata": {},
   "outputs": [
    {
     "name": "stdout",
     "output_type": "stream",
     "text": [
      "<class 'str'> <class 'numpy.int64'>\n",
      "<class 'str'> <class 'numpy.int64'>\n",
      "<class 'str'> <class 'numpy.int64'>\n",
      "<class 'str'> <class 'numpy.int64'>\n",
      "<class 'str'> <class 'numpy.int64'>\n"
     ]
    }
   ],
   "source": [
    "# Q3. Considering the following changes in the variable, array_list:\n",
    "array_list = np.array(object = list_, dtype = int)\n",
    "# Will there be any difference in the data type of the elements present in both the variables, list_ and\n",
    "# arra_list? If so then print the data types of each and every element present in both the variables, list_\n",
    "# and arra_list.\n",
    "# Ans-> Yes, there will be a change in variable array_list as its datatype is changed to int, and there will be no change in the variable list_.\n",
    "for i in range(len(list_)):\n",
    "    print(type(list_[i]),type(array_list[i]))"
   ]
  },
  {
   "cell_type": "code",
   "execution_count": 14,
   "id": "9f8346d3-d8da-413b-866e-4c7b31cba1d7",
   "metadata": {},
   "outputs": [
    {
     "name": "stdout",
     "output_type": "stream",
     "text": [
      "Shape:  (2, 3)\n",
      "Size:  6\n"
     ]
    }
   ],
   "source": [
    "import numpy as np\n",
    "num_list = [ [ 1 , 2 , 3 ] , [ 4 , 5 , 6 ] ]\n",
    "num_array = np.array(object = num_list)\n",
    "# Q4. Write a code to find the following characteristics of variable, num_array:\n",
    "# (i) shape\n",
    "# (ii) size\n",
    "print(\"Shape: \",num_array.shape)\n",
    "print(\"Size: \",num_array.size)"
   ]
  },
  {
   "cell_type": "code",
   "execution_count": 22,
   "id": "7b3966b5-4e99-4618-8221-b4b4fea6c047",
   "metadata": {},
   "outputs": [
    {
     "name": "stdout",
     "output_type": "stream",
     "text": [
      "Array: [[0. 0. 0.]\n",
      " [0. 0. 0.]\n",
      " [0. 0. 0.]]\n",
      "Shape:  (3, 3)\n",
      "Size:  9\n"
     ]
    }
   ],
   "source": [
    "# Q5. Write a code to create numpy array of 3*3 matrix containing zeros only, using a numpy array\n",
    "# creation function.\n",
    "arr = np.zeros((3,3))\n",
    "print(\"Array:\",arr)\n",
    "print(\"Shape: \",arr.shape)\n",
    "print(\"Size: \",arr.size)"
   ]
  },
  {
   "cell_type": "code",
   "execution_count": 26,
   "id": "111fcb03-af44-4779-8b8e-baeba2afe4d1",
   "metadata": {},
   "outputs": [
    {
     "name": "stdout",
     "output_type": "stream",
     "text": [
      "[[1. 0. 0. 0. 0.]\n",
      " [0. 1. 0. 0. 0.]\n",
      " [0. 0. 1. 0. 0.]\n",
      " [0. 0. 0. 1. 0.]\n",
      " [0. 0. 0. 0. 1.]]\n",
      "(5, 5)\n"
     ]
    }
   ],
   "source": [
    "# Q6. Create an identity matrix of shape (5,5) using numpy functions?\n",
    "arr1 = np.eye(5)\n",
    "print(arr1)\n",
    "print(arr1.shape)"
   ]
  },
  {
   "cell_type": "code",
   "execution_count": null,
   "id": "f9008e82-1cd4-4a7e-943a-f4eff68b0c23",
   "metadata": {},
   "outputs": [],
   "source": []
  }
 ],
 "metadata": {
  "kernelspec": {
   "display_name": "Python 3 (ipykernel)",
   "language": "python",
   "name": "python3"
  },
  "language_info": {
   "codemirror_mode": {
    "name": "ipython",
    "version": 3
   },
   "file_extension": ".py",
   "mimetype": "text/x-python",
   "name": "python",
   "nbconvert_exporter": "python",
   "pygments_lexer": "ipython3",
   "version": "3.10.8"
  }
 },
 "nbformat": 4,
 "nbformat_minor": 5
}
