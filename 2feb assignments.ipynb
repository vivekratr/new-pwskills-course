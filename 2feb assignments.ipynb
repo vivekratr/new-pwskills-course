{
 "cells": [
  {
   "cell_type": "code",
   "execution_count": 1,
   "id": "aa1dae9f-f83d-4cfa-a546-3e401e607283",
   "metadata": {},
   "outputs": [
    {
     "name": "stdin",
     "output_type": "stream",
     "text": [
      "Enter the number: 20\n"
     ]
    },
    {
     "name": "stdout",
     "output_type": "stream",
     "text": [
      "1 , 2 , 3 , 4 , 5 , 6 , 7 , 8 , 9 , 10 , 11 , 12 , 13 , 14 , 15 , 16 , 17 , 18 , 19 , 20 , "
     ]
    },
    {
     "name": "stdin",
     "output_type": "stream",
     "text": [
      "Enter the number: 200\n"
     ]
    },
    {
     "name": "stdout",
     "output_type": "stream",
     "text": [
      "200 has 3 digits\n"
     ]
    }
   ],
   "source": [
    "# Q.NO 1\n",
    "# Ans-> We use for loop when we know how many times we need to repeat the particular statements.\n",
    "#       for example:\n",
    "#       program to print the first n natural numbers\n",
    "n = int(input(\"Enter the number:\"))\n",
    "for i in range(1,n+1):\n",
    "    \n",
    "        print(i,\",\",end=\" \")\n",
    "#         here we know that for loop will iterate for n times\n",
    "\n",
    "# We use while loop where we do not know how many times the loop will iterate\n",
    "# for example:\n",
    "# program to identify the number of digits in a number without len()\n",
    "\n",
    "n1 = int(input(\"Enter the number:\"))\n",
    "n2 = n1\n",
    "dig =0\n",
    "while(n2 != 0):\n",
    "    dig = dig +1\n",
    "    n2 = int(n2 /10)\n",
    "print(f\"{n1} has {dig} digits\")\n",
    "    "
   ]
  },
  {
   "cell_type": "code",
   "execution_count": 2,
   "id": "b9e5d1bc-c51b-41cf-b1f3-3b000e033538",
   "metadata": {},
   "outputs": [
    {
     "name": "stdout",
     "output_type": "stream",
     "text": [
      "Using For loop:\n",
      "Sum = 55 and Product 3628800 \n",
      "\n",
      "\n",
      "Using WHile loop\n",
      "Sum = 55 and Product 3628800 \n"
     ]
    }
   ],
   "source": [
    "#Q.NO2\n",
    "print('Using For loop:')\n",
    "sumf =0\n",
    "prodf = 1\n",
    "for i in range(1,11):\n",
    "    sumf += i\n",
    "    prodf *= i\n",
    "print(f\"Sum = {sumf} and Product {prodf} \")\n",
    "print(f\"\\n\\nUsing WHile loop\")\n",
    "i=1\n",
    "sumw = 0\n",
    "prodw =1\n",
    "while(i !=11):\n",
    "    sumw += i\n",
    "    prodw *= i\n",
    "    i+=1\n",
    "print(f\"Sum = {sumw} and Product {prodw} \")\n"
   ]
  },
  {
   "cell_type": "code",
   "execution_count": 9,
   "id": "267249ec-23ee-4721-ab78-240931587111",
   "metadata": {},
   "outputs": [
    {
     "name": "stdin",
     "output_type": "stream",
     "text": [
      "Enter the number of units consumed in a month: 310\n"
     ]
    },
    {
     "name": "stdout",
     "output_type": "stream",
     "text": [
      " Total Electricity Bill = 2250.0\n"
     ]
    }
   ],
   "source": [
    "#Q.NO3\n",
    "unit = int(input(\"Enter the number of units consumed in a month:\"))\n",
    "i = unit\n",
    "price = 0.00\n",
    "if i <=100 and i>0:\n",
    "    price = float(i*4.5)\n",
    "    i = 0\n",
    "elif i> 100:\n",
    "    price = float(100*4.5)\n",
    "    i -=100\n",
    "if i <=100 and 1>0:\n",
    "    price += flaot(i*6)\n",
    "    i = 0\n",
    "elif i> 100:\n",
    "    price += float(100*6)\n",
    "    i -=100\n",
    "if i <=100 and 1>0:\n",
    "    price += float(i*10)\n",
    "    i = 0\n",
    "elif i> 100:\n",
    "    price += float(100*10)\n",
    "    i -=100\n",
    "if i>0:\n",
    "    price += float(i*20) \n",
    "print(f\" Total Electricity Bill = {price}\")"
   ]
  },
  {
   "cell_type": "code",
   "execution_count": 2,
   "id": "d2873216-8940-473d-a0ad-08b120065e01",
   "metadata": {},
   "outputs": [
    {
     "name": "stdout",
     "output_type": "stream",
     "text": [
      "[8, 64, 125, 216, 512, 1000, 1728, 2744, 3375, 4096, 5832, 8000, 10648, 13824, 15625, 17576, 21952, 27000, 32768, 39304, 42875, 46656, 54872, 64000, 74088, 85184, 91125, 97336, 110592, 125000, 140608, 157464, 166375, 175616, 195112, 216000, 238328, 262144, 274625, 287496, 314432, 343000, 373248, 405224, 421875, 438976, 474552, 512000, 551368, 592704, 614125, 636056, 681472, 729000, 778688, 830584, 857375, 884736, 941192, 1000000]\n"
     ]
    }
   ],
   "source": [
    "#Q.NO4\n",
    "l1 = []\n",
    "for i in range(1,101):\n",
    "    l1.append(i)\n",
    "l2 = []\n",
    "i=0\n",
    "while(i <100):\n",
    "    c = l1[i]**3\n",
    "    if (c%4 == 0 or c%5 == 0):\n",
    "        l2.append(c)\n",
    "    i +=1\n",
    "print(l2)"
   ]
  },
  {
   "cell_type": "code",
   "execution_count": 3,
   "id": "7133822a-bafa-4c0a-a308-eec88d7cf5b5",
   "metadata": {},
   "outputs": [
    {
     "name": "stdout",
     "output_type": "stream",
     "text": [
      "Number of vowels in the string is 12\n"
     ]
    }
   ],
   "source": [
    "#Q.NO5\n",
    "vowel = ['a','e','i','o','u']\n",
    "s =\"I want to become a data scientist\"\n",
    "ctr = 0\n",
    "for i in s:\n",
    "    if(i.lower() in vowel):\n",
    "        ctr +=1\n",
    "print(f\"Number of vowels in the string is {ctr}\")"
   ]
  }
 ],
 "metadata": {
  "kernelspec": {
   "display_name": "Python 3 (ipykernel)",
   "language": "python",
   "name": "python3"
  },
  "language_info": {
   "codemirror_mode": {
    "name": "ipython",
    "version": 3
   },
   "file_extension": ".py",
   "mimetype": "text/x-python",
   "name": "python",
   "nbconvert_exporter": "python",
   "pygments_lexer": "ipython3",
   "version": "3.10.8"
  }
 },
 "nbformat": 4,
 "nbformat_minor": 5
}
