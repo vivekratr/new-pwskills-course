{
 "cells": [
  {
   "cell_type": "code",
   "execution_count": 2,
   "id": "ce673ef5-cba5-4b6d-bad7-06761e568749",
   "metadata": {},
   "outputs": [
    {
     "data": {
      "text/plain": [
       "[1, 3, 5, 7, 9, 11, 13, 15, 17, 19, 21, 23, 25]"
      ]
     },
     "execution_count": 2,
     "metadata": {},
     "output_type": "execute_result"
    }
   ],
   "source": [
    "# Q1. Which keyword is used to create a function? Create a function to return a list of odd numbers in the\n",
    "# range of 1 to 25.\n",
    "# Ans-> 'def' keyword is used to create a function.\n",
    "def oddNum(n):\n",
    "    oddN = []\n",
    "    for i in range(1,n+1):\n",
    "        if i%2 != 0:\n",
    "            oddN.append(i)\n",
    "    return oddN\n",
    "oddNum(25)"
   ]
  },
  {
   "cell_type": "code",
   "execution_count": 3,
   "id": "8c0663a9-f146-45cc-aa28-a6b757e6e6a6",
   "metadata": {},
   "outputs": [
    {
     "name": "stdout",
     "output_type": "stream",
     "text": [
      "Demonstration of the uses of '*args'\n",
      "28\n",
      "Demonstration of the uses of '**kwargs'\n",
      "a: 1\n",
      "b: 2\n",
      "c: 3\n"
     ]
    }
   ],
   "source": [
    "# Q2. Why *args and **kwargs is used in some functions? Create a function each for *args and **kwargs\n",
    "# to demonstrate their use.\n",
    "# Ans->a) '*args' is used to take multiple inputs inside the function, it is used when we want to give dynamic inputs to the function.\n",
    "# '*args' values are stored inside a tuple.\n",
    "# b) '**kwargs' allows you to pass keyworded, variable-length argument list to a function. In other words, you can pass an arbitrary\n",
    "# number of named arguments to a function. These arguments are then stored in a dictionary.\n",
    "\n",
    "def sumNum(*numbers):\n",
    "    print(\"Demonstration of the uses of '*args'\")\n",
    "    \n",
    "    sum = 0\n",
    "    for i in numbers:\n",
    "        sum +=i\n",
    "    return sum\n",
    "def printKeyword(**kwargs):\n",
    "    print(\"Demonstration of the uses of '**kwargs'\")\n",
    "    \n",
    "    for key, value in kwargs.items():\n",
    "        print(f\"{key}: {value}\")\n",
    "print(sumNum(1,2,3,4,5,6,7))\n",
    "printKeyword(a=1, b=2, c=3)\n"
   ]
  },
  {
   "cell_type": "code",
   "execution_count": 4,
   "id": "28ece182-f387-49f0-959a-7c6cd07f63c3",
   "metadata": {},
   "outputs": [
    {
     "name": "stdout",
     "output_type": "stream",
     "text": [
      "2\n",
      "4\n",
      "6\n",
      "8\n",
      "10\n"
     ]
    }
   ],
   "source": [
    "# Q3. What is an iterator in python? Name the method used to initialise the iterator object and the method\n",
    "# used for iteration. Use these methods to print the first five elements of the given list [2, 4, 6, 8, 10, 12, 14,\n",
    "# 16, 18, 20].\n",
    "# Ans-> An iterator in Python is an object that implements the iterator protocol, which consists of the methods __iter__() and __next__().\n",
    "# The method iter() is used to initialize the iterator object, and the method next() is used for iteration.\n",
    "my_list = [2, 4, 6, 8, 10, 12, 14, 16, 18, 20]\n",
    "\n",
    "# Create an iterator object from the list\n",
    "my_iter = iter(my_list)\n",
    "\n",
    "# Use the iterator object to print the first five elements\n",
    "for i in range(5):\n",
    "    print(next(my_iter))\n"
   ]
  },
  {
   "cell_type": "code",
   "execution_count": 40,
   "id": "37cc627b-22c1-4ccc-ad58-fd6088de4ef1",
   "metadata": {},
   "outputs": [
    {
     "name": "stdin",
     "output_type": "stream",
     "text": [
      "Enter the upper range for finding Armstrong numbers: 500\n"
     ]
    },
    {
     "name": "stdout",
     "output_type": "stream",
     "text": [
      "0\n",
      "1\n",
      "153\n",
      "370\n",
      "371\n",
      "407\n"
     ]
    }
   ],
   "source": [
    "#Q.4 What is a generator function in python? Why yield keyword is used? Give an example of a generator\n",
    "# function.\n",
    "# Ans-> In Python, a generator function is a special type of function that allows you to generate a sequence of values,\n",
    "# one at a time, instead of all at once like a regular function. The values are generated on-the-fly, as they are requested,\n",
    "# instead of being stored in memory all at once. This can be useful for working with very large sequences of values that can't\n",
    "# fit into memory all at once.\n",
    "# The yield keyword is used to produce a value and pause the execution of the generator function. When the generator is resumed,\n",
    "# it continues execution from where it left off. This allows the generator to produce its values one at a time, instead of all at\n",
    "# once. This can be more memory-efficient than returning a large list, especially when the list is very long.\n",
    "\n",
    "# example:\n",
    "from functools import reduce\n",
    "def armstrong(n):\n",
    "    \n",
    "    for i in range(n+1):\n",
    "        num = reduce(lambda a,b :a+b ,[int(j)**3 for j in str(i)])\n",
    "        if i == int(num):\n",
    "            yield i\n",
    "a = int(input(\"Enter the upper range for finding Armstrong numbers:\"))\n",
    "for ii in armstrong(a):\n",
    "    print(ii)"
   ]
  },
  {
   "cell_type": "code",
   "execution_count": 50,
   "id": "adbdebac-ec9b-4761-8d0e-630de51bb8d5",
   "metadata": {},
   "outputs": [
    {
     "name": "stdout",
     "output_type": "stream",
     "text": [
      "2\n",
      "3\n",
      "5\n",
      "7\n",
      "11\n",
      "13\n",
      "17\n",
      "19\n",
      "23\n",
      "29\n",
      "31\n",
      "37\n",
      "41\n",
      "43\n",
      "47\n",
      "53\n",
      "59\n",
      "61\n",
      "67\n",
      "71\n"
     ]
    }
   ],
   "source": [
    "# Q.5 Create a generator function for prime numbers less than 1000. Use the next() method to print the\n",
    "# first 20 prime numbers.\n",
    "def primeNum():\n",
    "    for i in range(2,100):\n",
    "        r = 0\n",
    "        for j in range(2,i):\n",
    "            if i%j == 0:\n",
    "                r=1\n",
    "        if r == 0:\n",
    "            yield i\n",
    "\n",
    "p = primeNum()\n",
    "for i in range(20):\n",
    "     print(next(p))"
   ]
  },
  {
   "cell_type": "code",
   "execution_count": 55,
   "id": "a1419e05-dcd4-46ed-87fe-4a0febe46463",
   "metadata": {},
   "outputs": [
    {
     "name": "stdout",
     "output_type": "stream",
     "text": [
      "0\n",
      "1\n",
      "1\n",
      "2\n",
      "3\n",
      "5\n",
      "8\n",
      "13\n",
      "21\n",
      "34\n"
     ]
    }
   ],
   "source": [
    "#Q.no 6 Write a python program to print the first 10 Fibonacci numbers using a while loop.\n",
    "a,b = 0,1\n",
    "i = 1\n",
    "while i<=10:\n",
    "    print(a)\n",
    "    a,b = b,a+b\n",
    "    i+=1"
   ]
  },
  {
   "cell_type": "code",
   "execution_count": 58,
   "id": "729afb17-dbdc-4671-8cbc-4459288f314d",
   "metadata": {},
   "outputs": [
    {
     "data": {
      "text/plain": [
       "['p', 'w', 's', 'k', 'i', 'l', 'l', 's']"
      ]
     },
     "execution_count": 58,
     "metadata": {},
     "output_type": "execute_result"
    }
   ],
   "source": [
    "# Q7. Write a List Comprehension to iterate through the given string: ‘pwskills’.\n",
    "# Expected output: ['p', 'w', 's', 'k', 'i', 'l', 'l', 's']\n",
    "a = [j for j in 'pwskills']\n",
    "a"
   ]
  },
  {
   "cell_type": "code",
   "execution_count": 125,
   "id": "5c3b704e-5bfa-49cd-8bdb-3a01ad21d17b",
   "metadata": {},
   "outputs": [
    {
     "name": "stdin",
     "output_type": "stream",
     "text": [
      "Enter the number to check if it is Palindrome or not: 1551\n"
     ]
    },
    {
     "data": {
      "text/plain": [
       "True"
      ]
     },
     "execution_count": 125,
     "metadata": {},
     "output_type": "execute_result"
    }
   ],
   "source": [
    "# Q8. Write a python program to check whether a given number is Palindrome or not using a while loop.\n",
    "num = list(input('Enter the number to check if it is Palindrome or not:'))\n",
    "# print(num)\n",
    "i = ''\n",
    "rev = [i + j for j in num[::-1]]\n",
    "b = [ True for i in num  for j in rev if i == j ]\n",
    "p = rev == num\n",
    "p"
   ]
  },
  {
   "cell_type": "code",
   "execution_count": 131,
   "id": "26a3e8a6-105c-4873-81e3-2c897d227d51",
   "metadata": {},
   "outputs": [
    {
     "data": {
      "text/plain": [
       "[1,\n",
       " 3,\n",
       " 5,\n",
       " 7,\n",
       " 9,\n",
       " 11,\n",
       " 13,\n",
       " 15,\n",
       " 17,\n",
       " 19,\n",
       " 21,\n",
       " 23,\n",
       " 25,\n",
       " 27,\n",
       " 29,\n",
       " 31,\n",
       " 33,\n",
       " 35,\n",
       " 37,\n",
       " 39,\n",
       " 41,\n",
       " 43,\n",
       " 45,\n",
       " 47,\n",
       " 49,\n",
       " 51,\n",
       " 53,\n",
       " 55,\n",
       " 57,\n",
       " 59,\n",
       " 61,\n",
       " 63,\n",
       " 65,\n",
       " 67,\n",
       " 69,\n",
       " 71,\n",
       " 73,\n",
       " 75,\n",
       " 77,\n",
       " 79,\n",
       " 81,\n",
       " 83,\n",
       " 85,\n",
       " 87,\n",
       " 89,\n",
       " 91,\n",
       " 93,\n",
       " 95,\n",
       " 97,\n",
       " 99]"
      ]
     },
     "execution_count": 131,
     "metadata": {},
     "output_type": "execute_result"
    }
   ],
   "source": [
    "# Q9. Write a code to print odd numbers from 1 to 100 using list comprehension.\n",
    "p = [i for i in range(1,101)]\n",
    "f = list(filter(lambda x:x%2 != 0,p))\n",
    "f"
   ]
  }
 ],
 "metadata": {
  "kernelspec": {
   "display_name": "Python 3 (ipykernel)",
   "language": "python",
   "name": "python3"
  },
  "language_info": {
   "codemirror_mode": {
    "name": "ipython",
    "version": 3
   },
   "file_extension": ".py",
   "mimetype": "text/x-python",
   "name": "python",
   "nbconvert_exporter": "python",
   "pygments_lexer": "ipython3",
   "version": "3.10.8"
  }
 },
 "nbformat": 4,
 "nbformat_minor": 5
}
