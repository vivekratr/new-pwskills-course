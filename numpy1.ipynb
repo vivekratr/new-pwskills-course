{
 "cells": [
  {
   "cell_type": "code",
   "execution_count": 2,
   "id": "74f1df1c-5267-4d07-a802-dda752c2764c",
   "metadata": {},
   "outputs": [],
   "source": [
    "import numpy as np"
   ]
  },
  {
   "cell_type": "code",
   "execution_count": 3,
   "id": "03865041-1001-4724-8f7b-71002ad6cc23",
   "metadata": {},
   "outputs": [
    {
     "data": {
      "text/plain": [
       "array([1, 2, 9, 3, 4, 5, 5])"
      ]
     },
     "execution_count": 3,
     "metadata": {},
     "output_type": "execute_result"
    }
   ],
   "source": [
    "l = [1,2,9,3,4,5,5]\n",
    "a = np.array(l)\n",
    "a"
   ]
  },
  {
   "cell_type": "code",
   "execution_count": 4,
   "id": "0752968c-251c-4f35-8122-e23474a9a405",
   "metadata": {},
   "outputs": [
    {
     "data": {
      "text/plain": [
       "numpy.ndarray"
      ]
     },
     "execution_count": 4,
     "metadata": {},
     "output_type": "execute_result"
    }
   ],
   "source": [
    "type(a)"
   ]
  },
  {
   "cell_type": "code",
   "execution_count": 5,
   "id": "e68420ed-f1fe-469f-b231-4c27169caffd",
   "metadata": {},
   "outputs": [
    {
     "data": {
      "text/plain": [
       "array([[1, 2, 3],\n",
       "       [4, 5, 6]])"
      ]
     },
     "execution_count": 5,
     "metadata": {},
     "output_type": "execute_result"
    }
   ],
   "source": [
    "np.array([[1,2,3],[4,5,6]])"
   ]
  },
  {
   "cell_type": "code",
   "execution_count": 6,
   "id": "3a55df09-1201-4d2c-bfad-038cb1c3f404",
   "metadata": {},
   "outputs": [
    {
     "data": {
      "text/plain": [
       "array([1, 2, 9, 3, 4, 5, 5])"
      ]
     },
     "execution_count": 6,
     "metadata": {},
     "output_type": "execute_result"
    }
   ],
   "source": [
    "np.asarray(l)"
   ]
  },
  {
   "cell_type": "code",
   "execution_count": 7,
   "id": "f1ab660a-bc8b-49dc-86a8-a6327cd6e9fd",
   "metadata": {},
   "outputs": [
    {
     "data": {
      "text/plain": [
       "array([1, 2, 9, 3, 4, 5, 5])"
      ]
     },
     "execution_count": 7,
     "metadata": {},
     "output_type": "execute_result"
    }
   ],
   "source": [
    "np.asanyarray(l)"
   ]
  },
  {
   "cell_type": "code",
   "execution_count": 8,
   "id": "77a81407-8916-427e-b2bd-1c2cd4592904",
   "metadata": {},
   "outputs": [],
   "source": [
    "b = np.matrix(l) #matrix is a two dimensional array"
   ]
  },
  {
   "cell_type": "code",
   "execution_count": 9,
   "id": "d5ee5215-cc20-4cdb-94b6-a5a194b2babb",
   "metadata": {},
   "outputs": [
    {
     "data": {
      "text/plain": [
       "matrix([[1, 2, 9, 3, 4, 5, 5]])"
      ]
     },
     "execution_count": 9,
     "metadata": {},
     "output_type": "execute_result"
    }
   ],
   "source": [
    "b"
   ]
  },
  {
   "cell_type": "code",
   "execution_count": 10,
   "id": "4589a715-f462-4b88-bff0-f3da9212eb1b",
   "metadata": {},
   "outputs": [],
   "source": [
    "c =a #it makes swallow copy , means that any changes to any of the array will change the other array too. It is just like a pointer but bidirectional"
   ]
  },
  {
   "cell_type": "code",
   "execution_count": 11,
   "id": "9ba29f38-b139-443b-8262-634fde454051",
   "metadata": {},
   "outputs": [
    {
     "data": {
      "text/plain": [
       "array([1, 2, 9, 3, 4, 5, 5])"
      ]
     },
     "execution_count": 11,
     "metadata": {},
     "output_type": "execute_result"
    }
   ],
   "source": [
    "a"
   ]
  },
  {
   "cell_type": "code",
   "execution_count": 12,
   "id": "a5ffa971-d4ce-4454-9dbd-1274af87e285",
   "metadata": {},
   "outputs": [
    {
     "data": {
      "text/plain": [
       "99"
      ]
     },
     "execution_count": 12,
     "metadata": {},
     "output_type": "execute_result"
    }
   ],
   "source": [
    "a[0] =99\n",
    "c[0]"
   ]
  },
  {
   "cell_type": "code",
   "execution_count": 13,
   "id": "d74e3bb2-92d3-41ad-a59b-0bcd24d5a934",
   "metadata": {},
   "outputs": [
    {
     "data": {
      "text/plain": [
       "array([99,  2,  9,  3,  4,  5,  5])"
      ]
     },
     "execution_count": 13,
     "metadata": {},
     "output_type": "execute_result"
    }
   ],
   "source": [
    "d = np.array(a) #it will make a copy of a such that there will be no relation between them\n",
    "d"
   ]
  },
  {
   "cell_type": "code",
   "execution_count": 14,
   "id": "7007e6ef-916d-4ec6-96c2-13723e273004",
   "metadata": {},
   "outputs": [
    {
     "data": {
      "text/plain": [
       "array([99,  2,  9,  3,  4,  5,  5])"
      ]
     },
     "execution_count": 14,
     "metadata": {},
     "output_type": "execute_result"
    }
   ],
   "source": [
    "a"
   ]
  },
  {
   "cell_type": "code",
   "execution_count": 15,
   "id": "e33e60ad-3ba1-43a0-aee6-0e7593972653",
   "metadata": {},
   "outputs": [
    {
     "data": {
      "text/plain": [
       "array([99,  2,  9,  3,  4,  5,  5])"
      ]
     },
     "execution_count": 15,
     "metadata": {},
     "output_type": "execute_result"
    }
   ],
   "source": [
    "a[1] = 77\n",
    "d"
   ]
  },
  {
   "cell_type": "code",
   "execution_count": 16,
   "id": "abcd9d05-a8c3-43a4-a11b-164e56776b7b",
   "metadata": {},
   "outputs": [
    {
     "data": {
      "text/plain": [
       "array([99, 77,  9,  3,  4,  5,  5])"
      ]
     },
     "execution_count": 16,
     "metadata": {},
     "output_type": "execute_result"
    }
   ],
   "source": [
    "c"
   ]
  },
  {
   "cell_type": "code",
   "execution_count": 17,
   "id": "af09602b-b383-4859-acbe-f77ea692ea1e",
   "metadata": {},
   "outputs": [
    {
     "data": {
      "text/plain": [
       "array([[ True, False, False],\n",
       "       [False,  True, False],\n",
       "       [False, False,  True]])"
      ]
     },
     "execution_count": 17,
     "metadata": {},
     "output_type": "execute_result"
    }
   ],
   "source": [
    "np.fromfunction(lambda i, j : i==j , (3,3))"
   ]
  },
  {
   "cell_type": "code",
   "execution_count": 18,
   "id": "07e8664d-8457-458b-a479-dc7b343152b2",
   "metadata": {},
   "outputs": [
    {
     "data": {
      "text/plain": [
       "array([[0., 0., 0., 0.],\n",
       "       [0., 1., 2., 3.],\n",
       "       [0., 2., 4., 6.]])"
      ]
     },
     "execution_count": 18,
     "metadata": {},
     "output_type": "execute_result"
    }
   ],
   "source": [
    "np.fromfunction(lambda i, j : i*j , (3,4))"
   ]
  },
  {
   "cell_type": "code",
   "execution_count": 19,
   "id": "27fa8f5b-acbf-4cdc-bc1f-4d645a6aa11f",
   "metadata": {},
   "outputs": [
    {
     "data": {
      "text/plain": [
       "<generator object <genexpr> at 0x7f5fd81f47b0>"
      ]
     },
     "execution_count": 19,
     "metadata": {},
     "output_type": "execute_result"
    }
   ],
   "source": [
    "(i*i for i in range(5))"
   ]
  },
  {
   "cell_type": "code",
   "execution_count": 20,
   "id": "2d0ae8a8-c954-48d5-9caf-e1884757ece3",
   "metadata": {},
   "outputs": [],
   "source": [
    "it =(i*i for i in range(5))"
   ]
  },
  {
   "cell_type": "code",
   "execution_count": 21,
   "id": "be1707e8-5998-4582-b752-ff29b0a88ccd",
   "metadata": {},
   "outputs": [
    {
     "data": {
      "text/plain": [
       "array([ 0,  1,  4,  9, 16])"
      ]
     },
     "execution_count": 21,
     "metadata": {},
     "output_type": "execute_result"
    }
   ],
   "source": [
    "np.fromiter(it,int)"
   ]
  },
  {
   "cell_type": "code",
   "execution_count": 22,
   "id": "07b157d3-0625-448a-82fa-6c3648c60ac8",
   "metadata": {},
   "outputs": [
    {
     "data": {
      "text/plain": [
       "array([283., 382., 238.])"
      ]
     },
     "execution_count": 22,
     "metadata": {},
     "output_type": "execute_result"
    }
   ],
   "source": [
    "np.fromstring('283 382 238',sep = ' ')"
   ]
  },
  {
   "cell_type": "code",
   "execution_count": 23,
   "id": "8400ffec-cc18-4907-be4f-aecaba105233",
   "metadata": {},
   "outputs": [
    {
     "data": {
      "text/plain": [
       "array([283., 382., 238.])"
      ]
     },
     "execution_count": 23,
     "metadata": {},
     "output_type": "execute_result"
    }
   ],
   "source": [
    "np.fromstring('283,382,238',sep = ',')"
   ]
  },
  {
   "cell_type": "code",
   "execution_count": 24,
   "id": "17ff301b-7b82-452b-aca1-873bcea13411",
   "metadata": {},
   "outputs": [],
   "source": [
    "#Numpy Datatypes\n",
    "l = [ 1,2,3,4,3131,31]"
   ]
  },
  {
   "cell_type": "code",
   "execution_count": 25,
   "id": "4cdf41c0-d8cc-4c90-99bd-0d428d0ae282",
   "metadata": {},
   "outputs": [],
   "source": [
    "ar = np.array(l)"
   ]
  },
  {
   "cell_type": "code",
   "execution_count": 26,
   "id": "0288caa6-41ad-4f27-9435-b8cb8d9c3e94",
   "metadata": {},
   "outputs": [
    {
     "data": {
      "text/plain": [
       "1"
      ]
     },
     "execution_count": 26,
     "metadata": {},
     "output_type": "execute_result"
    }
   ],
   "source": [
    "ar.ndim #states the dimension of an array"
   ]
  },
  {
   "cell_type": "code",
   "execution_count": 27,
   "id": "dc94102b-edb4-4323-a235-8d90a13325a4",
   "metadata": {},
   "outputs": [],
   "source": [
    "ar1 = np.array([[[1,2,3,4],[5,6,7,8]],[[11,22,33,44],[55,66,77,88]]])"
   ]
  },
  {
   "cell_type": "code",
   "execution_count": 28,
   "id": "1ab6a3c7-55fc-495e-8390-3cf3934f3467",
   "metadata": {},
   "outputs": [
    {
     "data": {
      "text/plain": [
       "array([[[ 1,  2,  3,  4],\n",
       "        [ 5,  6,  7,  8]],\n",
       "\n",
       "       [[11, 22, 33, 44],\n",
       "        [55, 66, 77, 88]]])"
      ]
     },
     "execution_count": 28,
     "metadata": {},
     "output_type": "execute_result"
    }
   ],
   "source": [
    "ar1"
   ]
  },
  {
   "cell_type": "code",
   "execution_count": 29,
   "id": "21b255e3-9706-4433-be5e-5c3daa052ecc",
   "metadata": {},
   "outputs": [
    {
     "data": {
      "text/plain": [
       "3"
      ]
     },
     "execution_count": 29,
     "metadata": {},
     "output_type": "execute_result"
    }
   ],
   "source": [
    "ar1.ndim"
   ]
  },
  {
   "cell_type": "code",
   "execution_count": 30,
   "id": "ad76ec81-b3d0-434b-bd72-ef408d33d769",
   "metadata": {},
   "outputs": [
    {
     "data": {
      "text/plain": [
       "(6,)"
      ]
     },
     "execution_count": 30,
     "metadata": {},
     "output_type": "execute_result"
    }
   ],
   "source": [
    "ar.shape"
   ]
  },
  {
   "cell_type": "code",
   "execution_count": 31,
   "id": "89eb6341-7220-4347-a236-f1d68e3e2bb0",
   "metadata": {},
   "outputs": [
    {
     "data": {
      "text/plain": [
       "(2, 2, 4)"
      ]
     },
     "execution_count": 31,
     "metadata": {},
     "output_type": "execute_result"
    }
   ],
   "source": [
    "ar1.shape # rows column and their sequence"
   ]
  },
  {
   "cell_type": "code",
   "execution_count": 32,
   "id": "d2bb887a-a459-4234-8a39-e66ff7be6ab0",
   "metadata": {},
   "outputs": [
    {
     "data": {
      "text/plain": [
       "array([0.1, 0.2, 0.3, 0.4, 0.5, 0.6, 0.7, 0.8, 0.9, 1. , 1.1, 1.2, 1.3,\n",
       "       1.4, 1.5, 1.6, 1.7, 1.8, 1.9, 2. ])"
      ]
     },
     "execution_count": 32,
     "metadata": {},
     "output_type": "execute_result"
    }
   ],
   "source": [
    "np.arange(0.1,2.1,0.1)"
   ]
  },
  {
   "cell_type": "code",
   "execution_count": 33,
   "id": "8d041c9d-4529-4b66-b726-6a60212bd362",
   "metadata": {},
   "outputs": [
    {
     "data": {
      "text/plain": [
       "array([1. , 1.4, 1.8, 2.2, 2.6, 3. , 3.4, 3.8, 4.2, 4.6, 5. ])"
      ]
     },
     "execution_count": 33,
     "metadata": {},
     "output_type": "execute_result"
    }
   ],
   "source": [
    "np.linspace(1,5,11) #linspace is used to generate n equal fractions from a given interval"
   ]
  },
  {
   "cell_type": "code",
   "execution_count": 34,
   "id": "89ae9902-125d-4ee7-8d75-6dcccba448d7",
   "metadata": {},
   "outputs": [
    {
     "data": {
      "text/plain": [
       "array([0., 0., 0., 0., 0.])"
      ]
     },
     "execution_count": 34,
     "metadata": {},
     "output_type": "execute_result"
    }
   ],
   "source": [
    "np.zeros(5) #produces 1 dimensional array of size 5 and their values to zero"
   ]
  },
  {
   "cell_type": "code",
   "execution_count": 35,
   "id": "7283e6c0-63c6-4701-85a9-850712133a6c",
   "metadata": {},
   "outputs": [
    {
     "data": {
      "text/plain": [
       "array([[0., 0., 0.],\n",
       "       [0., 0., 0.]])"
      ]
     },
     "execution_count": 35,
     "metadata": {},
     "output_type": "execute_result"
    }
   ],
   "source": [
    "np.zeros((2,3)) #multidimensional array"
   ]
  },
  {
   "cell_type": "code",
   "execution_count": 36,
   "id": "c3596878-8ae6-4c76-a1ef-0a6bfa5fb644",
   "metadata": {},
   "outputs": [
    {
     "data": {
      "text/plain": [
       "array([[[0., 0., 0., 0.],\n",
       "        [0., 0., 0., 0.],\n",
       "        [0., 0., 0., 0.]],\n",
       "\n",
       "       [[0., 0., 0., 0.],\n",
       "        [0., 0., 0., 0.],\n",
       "        [0., 0., 0., 0.]],\n",
       "\n",
       "       [[0., 0., 0., 0.],\n",
       "        [0., 0., 0., 0.],\n",
       "        [0., 0., 0., 0.]],\n",
       "\n",
       "       [[0., 0., 0., 0.],\n",
       "        [0., 0., 0., 0.],\n",
       "        [0., 0., 0., 0.]],\n",
       "\n",
       "       [[0., 0., 0., 0.],\n",
       "        [0., 0., 0., 0.],\n",
       "        [0., 0., 0., 0.]]])"
      ]
     },
     "execution_count": 36,
     "metadata": {},
     "output_type": "execute_result"
    }
   ],
   "source": [
    "np.zeros((5,3,4))"
   ]
  },
  {
   "cell_type": "code",
   "execution_count": 37,
   "id": "186ec028-0363-4e40-92ef-e3f797e92190",
   "metadata": {},
   "outputs": [
    {
     "data": {
      "text/plain": [
       "array([[[[0., 0., 0., 0.],\n",
       "         [0., 0., 0., 0.],\n",
       "         [0., 0., 0., 0.]],\n",
       "\n",
       "        [[0., 0., 0., 0.],\n",
       "         [0., 0., 0., 0.],\n",
       "         [0., 0., 0., 0.]],\n",
       "\n",
       "        [[0., 0., 0., 0.],\n",
       "         [0., 0., 0., 0.],\n",
       "         [0., 0., 0., 0.]],\n",
       "\n",
       "        [[0., 0., 0., 0.],\n",
       "         [0., 0., 0., 0.],\n",
       "         [0., 0., 0., 0.]],\n",
       "\n",
       "        [[0., 0., 0., 0.],\n",
       "         [0., 0., 0., 0.],\n",
       "         [0., 0., 0., 0.]]],\n",
       "\n",
       "\n",
       "       [[[0., 0., 0., 0.],\n",
       "         [0., 0., 0., 0.],\n",
       "         [0., 0., 0., 0.]],\n",
       "\n",
       "        [[0., 0., 0., 0.],\n",
       "         [0., 0., 0., 0.],\n",
       "         [0., 0., 0., 0.]],\n",
       "\n",
       "        [[0., 0., 0., 0.],\n",
       "         [0., 0., 0., 0.],\n",
       "         [0., 0., 0., 0.]],\n",
       "\n",
       "        [[0., 0., 0., 0.],\n",
       "         [0., 0., 0., 0.],\n",
       "         [0., 0., 0., 0.]],\n",
       "\n",
       "        [[0., 0., 0., 0.],\n",
       "         [0., 0., 0., 0.],\n",
       "         [0., 0., 0., 0.]]]])"
      ]
     },
     "execution_count": 37,
     "metadata": {},
     "output_type": "execute_result"
    }
   ],
   "source": [
    "np.zeros((2,5,3,4))"
   ]
  },
  {
   "cell_type": "code",
   "execution_count": 38,
   "id": "5e7302a3-162d-401f-9399-895a2e4a4aa9",
   "metadata": {},
   "outputs": [
    {
     "data": {
      "text/plain": [
       "array([1., 1., 1., 1., 1.])"
      ]
     },
     "execution_count": 38,
     "metadata": {},
     "output_type": "execute_result"
    }
   ],
   "source": [
    "np.ones(5)"
   ]
  },
  {
   "cell_type": "code",
   "execution_count": 39,
   "id": "6d2553bb-58b2-466e-b7c1-889287251065",
   "metadata": {},
   "outputs": [
    {
     "data": {
      "text/plain": [
       "array([[1.],\n",
       "       [1.],\n",
       "       [1.],\n",
       "       [1.],\n",
       "       [1.]])"
      ]
     },
     "execution_count": 39,
     "metadata": {},
     "output_type": "execute_result"
    }
   ],
   "source": [
    "np.ones((5,1))"
   ]
  },
  {
   "cell_type": "code",
   "execution_count": 40,
   "id": "213806f8-c845-4b0e-9671-7a5a5d408f73",
   "metadata": {},
   "outputs": [],
   "source": [
    "ar2 = np.ones((2,3))"
   ]
  },
  {
   "cell_type": "code",
   "execution_count": 41,
   "id": "516d898a-0d87-4cfb-9513-92464196726f",
   "metadata": {},
   "outputs": [
    {
     "data": {
      "text/plain": [
       "array([[1., 1., 1.],\n",
       "       [1., 1., 1.]])"
      ]
     },
     "execution_count": 41,
     "metadata": {},
     "output_type": "execute_result"
    }
   ],
   "source": [
    "ar2"
   ]
  },
  {
   "cell_type": "code",
   "execution_count": 42,
   "id": "9dc463f5-6e2f-460c-9dcf-627943b3c005",
   "metadata": {},
   "outputs": [
    {
     "data": {
      "text/plain": [
       "array([[6., 6., 6.],\n",
       "       [6., 6., 6.]])"
      ]
     },
     "execution_count": 42,
     "metadata": {},
     "output_type": "execute_result"
    }
   ],
   "source": [
    "ar2+5"
   ]
  },
  {
   "cell_type": "code",
   "execution_count": 43,
   "id": "4b7d0d93-7f88-4117-a1f3-c3154dbf0785",
   "metadata": {},
   "outputs": [
    {
     "data": {
      "text/plain": [
       "array([[5., 5., 5.],\n",
       "       [5., 5., 5.]])"
      ]
     },
     "execution_count": 43,
     "metadata": {},
     "output_type": "execute_result"
    }
   ],
   "source": [
    "ar2*5"
   ]
  },
  {
   "cell_type": "code",
   "execution_count": 44,
   "id": "f0c9605d-36bd-4b11-9565-7d6e78d1598b",
   "metadata": {},
   "outputs": [
    {
     "data": {
      "text/plain": [
       "array([[0., 0., 0., 0., 0.],\n",
       "       [0., 0., 0., 0., 0.],\n",
       "       [0., 0., 0., 0., 0.]])"
      ]
     },
     "execution_count": 44,
     "metadata": {},
     "output_type": "execute_result"
    }
   ],
   "source": [
    "np.empty((3,5)) #it is used to create an empty array with negligible values in them"
   ]
  },
  {
   "cell_type": "code",
   "execution_count": 45,
   "id": "ae790a1a-1db1-4553-9da6-e0debdedd4e9",
   "metadata": {},
   "outputs": [
    {
     "data": {
      "text/plain": [
       "array([[1., 0., 0.],\n",
       "       [0., 1., 0.],\n",
       "       [0., 0., 1.]])"
      ]
     },
     "execution_count": 45,
     "metadata": {},
     "output_type": "execute_result"
    }
   ],
   "source": [
    "np.eye(3) #it is used to create identity matrix"
   ]
  },
  {
   "cell_type": "code",
   "execution_count": 46,
   "id": "791ab209-9463-4f49-af2c-997695ed787b",
   "metadata": {},
   "outputs": [
    {
     "data": {
      "text/plain": [
       "array([1. , 1.4, 1.8, 2.2, 2.6, 3. , 3.4, 3.8, 4.2, 4.6, 5. ])"
      ]
     },
     "execution_count": 46,
     "metadata": {},
     "output_type": "execute_result"
    }
   ],
   "source": [
    "np.linspace(1,5,11) #linspace is used to generate n equal fractions from a given interval"
   ]
  },
  {
   "cell_type": "code",
   "execution_count": 47,
   "id": "da1b1d3a-4ef1-4d8e-8c09-bc488bea9617",
   "metadata": {},
   "outputs": [
    {
     "data": {
      "text/plain": [
       "array([1.00000000e+01, 2.51188643e+01, 6.30957344e+01, 1.58489319e+02,\n",
       "       3.98107171e+02, 1.00000000e+03, 2.51188643e+03, 6.30957344e+03,\n",
       "       1.58489319e+04, 3.98107171e+04, 1.00000000e+05])"
      ]
     },
     "execution_count": 47,
     "metadata": {},
     "output_type": "execute_result"
    }
   ],
   "source": [
    "np.logspace(1,5,11) #logspace is used to generate log of n equal fractions from a given interval , by default the log's base is set to 10"
   ]
  },
  {
   "cell_type": "code",
   "execution_count": 48,
   "id": "b53c7e3c-30fc-40b2-8bce-ce3878eedae9",
   "metadata": {},
   "outputs": [
    {
     "data": {
      "text/plain": [
       "array([ 2.        ,  2.63901582,  3.48220225,  4.59479342,  6.06286627,\n",
       "        8.        , 10.55606329, 13.92880901, 18.37917368, 24.25146506,\n",
       "       32.        ])"
      ]
     },
     "execution_count": 48,
     "metadata": {},
     "output_type": "execute_result"
    }
   ],
   "source": [
    "np.logspace(1,5,11,base=2) #logspace is used to generate log of n equal fractions from a given interval"
   ]
  },
  {
   "cell_type": "code",
   "execution_count": 49,
   "id": "0adb07dd-3621-40f4-8564-f65fd38b2ea3",
   "metadata": {},
   "outputs": [
    {
     "data": {
      "text/plain": [
       "array([[ 0.06642741,  0.51808757,  0.57895519,  0.44130927],\n",
       "       [ 0.54283082, -1.01606642, -0.75049598,  0.091918  ],\n",
       "       [ 1.256488  ,  0.36740096, -0.78986975, -0.43243657]])"
      ]
     },
     "execution_count": 49,
     "metadata": {},
     "output_type": "execute_result"
    }
   ],
   "source": [
    "np.random.randn(3,4)  #it used to create matrix with randome values"
   ]
  },
  {
   "cell_type": "code",
   "execution_count": 52,
   "id": "a8e39c98-72c1-4017-bd3c-765e43516fcb",
   "metadata": {},
   "outputs": [
    {
     "data": {
      "text/plain": [
       "array([[26, 75, 86, 39, 32, 60, 39, 28, 74, 86],\n",
       "       [60, 30, 68, 20, 59, 56, 23, 22, 95, 95],\n",
       "       [86, 97, 32, 45, 61, 25, 63, 32,  9,  8],\n",
       "       [53, 91, 35, 70,  5, 48, 67, 56, 82, 54],\n",
       "       [60, 81, 70, 26, 38,  9, 61, 75, 99, 33],\n",
       "       [44, 47, 23, 92, 50, 55, 94, 22, 98, 53],\n",
       "       [29, 82, 56, 80, 30, 71, 13, 19, 72, 11],\n",
       "       [32, 51, 18, 32, 54, 17,  8, 25, 22, 62],\n",
       "       [22, 82, 73, 31, 94, 82, 29, 69, 34, 29],\n",
       "       [22, 66, 51, 67, 16, 97, 59, 79, 99, 54]])"
      ]
     },
     "execution_count": 52,
     "metadata": {},
     "output_type": "execute_result"
    }
   ],
   "source": [
    "np.random.randint(3,100,(10,10))"
   ]
  },
  {
   "cell_type": "code",
   "execution_count": 53,
   "id": "f7df0467-49e3-4eeb-9acc-6a3d3230c4ce",
   "metadata": {},
   "outputs": [],
   "source": [
    "import pandas as pd"
   ]
  },
  {
   "cell_type": "code",
   "execution_count": 55,
   "id": "85c2bb68-03d4-4805-bf75-989297544c81",
   "metadata": {},
   "outputs": [
    {
     "data": {
      "text/html": [
       "<div>\n",
       "<style scoped>\n",
       "    .dataframe tbody tr th:only-of-type {\n",
       "        vertical-align: middle;\n",
       "    }\n",
       "\n",
       "    .dataframe tbody tr th {\n",
       "        vertical-align: top;\n",
       "    }\n",
       "\n",
       "    .dataframe thead th {\n",
       "        text-align: right;\n",
       "    }\n",
       "</style>\n",
       "<table border=\"1\" class=\"dataframe\">\n",
       "  <thead>\n",
       "    <tr style=\"text-align: right;\">\n",
       "      <th></th>\n",
       "      <th>0</th>\n",
       "      <th>1</th>\n",
       "      <th>2</th>\n",
       "      <th>3</th>\n",
       "      <th>4</th>\n",
       "      <th>5</th>\n",
       "      <th>6</th>\n",
       "      <th>7</th>\n",
       "      <th>8</th>\n",
       "      <th>9</th>\n",
       "    </tr>\n",
       "  </thead>\n",
       "  <tbody>\n",
       "    <tr>\n",
       "      <th>0</th>\n",
       "      <td>73</td>\n",
       "      <td>70</td>\n",
       "      <td>99</td>\n",
       "      <td>59</td>\n",
       "      <td>25</td>\n",
       "      <td>61</td>\n",
       "      <td>9</td>\n",
       "      <td>95</td>\n",
       "      <td>49</td>\n",
       "      <td>78</td>\n",
       "    </tr>\n",
       "    <tr>\n",
       "      <th>1</th>\n",
       "      <td>74</td>\n",
       "      <td>13</td>\n",
       "      <td>92</td>\n",
       "      <td>21</td>\n",
       "      <td>34</td>\n",
       "      <td>21</td>\n",
       "      <td>44</td>\n",
       "      <td>60</td>\n",
       "      <td>65</td>\n",
       "      <td>69</td>\n",
       "    </tr>\n",
       "    <tr>\n",
       "      <th>2</th>\n",
       "      <td>26</td>\n",
       "      <td>33</td>\n",
       "      <td>12</td>\n",
       "      <td>85</td>\n",
       "      <td>32</td>\n",
       "      <td>55</td>\n",
       "      <td>17</td>\n",
       "      <td>43</td>\n",
       "      <td>7</td>\n",
       "      <td>93</td>\n",
       "    </tr>\n",
       "    <tr>\n",
       "      <th>3</th>\n",
       "      <td>77</td>\n",
       "      <td>36</td>\n",
       "      <td>56</td>\n",
       "      <td>64</td>\n",
       "      <td>79</td>\n",
       "      <td>83</td>\n",
       "      <td>82</td>\n",
       "      <td>32</td>\n",
       "      <td>36</td>\n",
       "      <td>22</td>\n",
       "    </tr>\n",
       "    <tr>\n",
       "      <th>4</th>\n",
       "      <td>94</td>\n",
       "      <td>81</td>\n",
       "      <td>85</td>\n",
       "      <td>45</td>\n",
       "      <td>93</td>\n",
       "      <td>72</td>\n",
       "      <td>9</td>\n",
       "      <td>86</td>\n",
       "      <td>12</td>\n",
       "      <td>17</td>\n",
       "    </tr>\n",
       "    <tr>\n",
       "      <th>5</th>\n",
       "      <td>81</td>\n",
       "      <td>57</td>\n",
       "      <td>97</td>\n",
       "      <td>64</td>\n",
       "      <td>82</td>\n",
       "      <td>48</td>\n",
       "      <td>20</td>\n",
       "      <td>70</td>\n",
       "      <td>7</td>\n",
       "      <td>43</td>\n",
       "    </tr>\n",
       "    <tr>\n",
       "      <th>6</th>\n",
       "      <td>67</td>\n",
       "      <td>93</td>\n",
       "      <td>77</td>\n",
       "      <td>94</td>\n",
       "      <td>39</td>\n",
       "      <td>66</td>\n",
       "      <td>75</td>\n",
       "      <td>28</td>\n",
       "      <td>17</td>\n",
       "      <td>39</td>\n",
       "    </tr>\n",
       "    <tr>\n",
       "      <th>7</th>\n",
       "      <td>36</td>\n",
       "      <td>95</td>\n",
       "      <td>11</td>\n",
       "      <td>71</td>\n",
       "      <td>38</td>\n",
       "      <td>21</td>\n",
       "      <td>14</td>\n",
       "      <td>77</td>\n",
       "      <td>31</td>\n",
       "      <td>70</td>\n",
       "    </tr>\n",
       "    <tr>\n",
       "      <th>8</th>\n",
       "      <td>95</td>\n",
       "      <td>6</td>\n",
       "      <td>26</td>\n",
       "      <td>17</td>\n",
       "      <td>64</td>\n",
       "      <td>86</td>\n",
       "      <td>56</td>\n",
       "      <td>66</td>\n",
       "      <td>51</td>\n",
       "      <td>85</td>\n",
       "    </tr>\n",
       "    <tr>\n",
       "      <th>9</th>\n",
       "      <td>21</td>\n",
       "      <td>42</td>\n",
       "      <td>63</td>\n",
       "      <td>24</td>\n",
       "      <td>71</td>\n",
       "      <td>39</td>\n",
       "      <td>54</td>\n",
       "      <td>86</td>\n",
       "      <td>47</td>\n",
       "      <td>87</td>\n",
       "    </tr>\n",
       "  </tbody>\n",
       "</table>\n",
       "</div>"
      ],
      "text/plain": [
       "    0   1   2   3   4   5   6   7   8   9\n",
       "0  73  70  99  59  25  61   9  95  49  78\n",
       "1  74  13  92  21  34  21  44  60  65  69\n",
       "2  26  33  12  85  32  55  17  43   7  93\n",
       "3  77  36  56  64  79  83  82  32  36  22\n",
       "4  94  81  85  45  93  72   9  86  12  17\n",
       "5  81  57  97  64  82  48  20  70   7  43\n",
       "6  67  93  77  94  39  66  75  28  17  39\n",
       "7  36  95  11  71  38  21  14  77  31  70\n",
       "8  95   6  26  17  64  86  56  66  51  85\n",
       "9  21  42  63  24  71  39  54  86  47  87"
      ]
     },
     "execution_count": 55,
     "metadata": {},
     "output_type": "execute_result"
    }
   ],
   "source": [
    "pd.DataFrame(np.random.randint(3,100,(10,10)))"
   ]
  },
  {
   "cell_type": "code",
   "execution_count": 56,
   "id": "0ae2bbde-f6b2-4bb0-a2ca-cd3670d98a6c",
   "metadata": {},
   "outputs": [],
   "source": [
    "pd.DataFrame(np.random.randint(3,100,(10,10))).to_csv('numpy_data.csv')"
   ]
  },
  {
   "cell_type": "code",
   "execution_count": 58,
   "id": "04aadf8c-1e1a-4f34-865c-2f98dd44a5a9",
   "metadata": {},
   "outputs": [
    {
     "data": {
      "text/plain": [
       "array([[0.20569041, 0.36265444, 0.59280424, 0.80927624],\n",
       "       [0.28411715, 0.14084629, 0.62095794, 0.10382635],\n",
       "       [0.83981448, 0.41679578, 0.25672228, 0.11593384]])"
      ]
     },
     "execution_count": 58,
     "metadata": {},
     "output_type": "execute_result"
    }
   ],
   "source": [
    "arr1=np.random.rand(3,4) \n",
    "arr1"
   ]
  },
  {
   "cell_type": "code",
   "execution_count": 60,
   "id": "fe165ec3-eed3-4f47-b27f-df7808fabefc",
   "metadata": {},
   "outputs": [
    {
     "data": {
      "text/plain": [
       "array([[0.20569041, 0.36265444],\n",
       "       [0.59280424, 0.80927624],\n",
       "       [0.28411715, 0.14084629],\n",
       "       [0.62095794, 0.10382635],\n",
       "       [0.83981448, 0.41679578],\n",
       "       [0.25672228, 0.11593384]])"
      ]
     },
     "execution_count": 60,
     "metadata": {},
     "output_type": "execute_result"
    }
   ],
   "source": [
    "arr1.reshape(6,2) #the array was 3x4 means total 12 data was there , now we can reshape it to other dim which is also equals to 12 such as 6x2"
   ]
  },
  {
   "cell_type": "code",
   "execution_count": 63,
   "id": "49964c69-c418-40aa-b624-0d6043568dc9",
   "metadata": {},
   "outputs": [
    {
     "data": {
      "text/plain": [
       "array([[0.20569041, 0.36265444],\n",
       "       [0.59280424, 0.80927624],\n",
       "       [0.28411715, 0.14084629],\n",
       "       [0.62095794, 0.10382635],\n",
       "       [0.83981448, 0.41679578],\n",
       "       [0.25672228, 0.11593384]])"
      ]
     },
     "execution_count": 63,
     "metadata": {},
     "output_type": "execute_result"
    }
   ],
   "source": [
    "arr1.reshape(6,-13244232) # any negative value means that it will be evaluated automatically "
   ]
  },
  {
   "cell_type": "code",
   "execution_count": 66,
   "id": "925f1567-0e9c-48d9-8bde-be09b6ca17b4",
   "metadata": {},
   "outputs": [
    {
     "data": {
      "text/plain": [
       "array([[0.20569041, 0.36265444, 0.59280424, 0.80927624],\n",
       "       [0.28411715, 0.14084629, 0.62095794, 0.10382635],\n",
       "       [0.83981448, 0.41679578, 0.25672228, 0.11593384]])"
      ]
     },
     "execution_count": 66,
     "metadata": {},
     "output_type": "execute_result"
    }
   ],
   "source": [
    "arr1"
   ]
  },
  {
   "cell_type": "code",
   "execution_count": 68,
   "id": "2b2c98e9-9780-4dac-b293-52166ed1fb90",
   "metadata": {},
   "outputs": [
    {
     "data": {
      "text/plain": [
       "0.6209579396272953"
      ]
     },
     "execution_count": 68,
     "metadata": {},
     "output_type": "execute_result"
    }
   ],
   "source": [
    "arr1[1,2]"
   ]
  },
  {
   "cell_type": "code",
   "execution_count": 71,
   "id": "cc96ab7c-fce9-4d5e-838c-65dc47572ad3",
   "metadata": {},
   "outputs": [
    {
     "data": {
      "text/plain": [
       "array([0.14084629, 0.62095794, 0.10382635])"
      ]
     },
     "execution_count": 71,
     "metadata": {},
     "output_type": "execute_result"
    }
   ],
   "source": [
    "arr1[1][1:]"
   ]
  },
  {
   "cell_type": "code",
   "execution_count": 79,
   "id": "c6640c42-7cf3-4cba-893e-8c9e4951d873",
   "metadata": {},
   "outputs": [],
   "source": [
    "arr2=np.random.randint(1,100,(4,4))"
   ]
  },
  {
   "cell_type": "code",
   "execution_count": 81,
   "id": "284e4773-05a5-4351-9bff-a68f4f9fc57d",
   "metadata": {},
   "outputs": [
    {
     "data": {
      "text/plain": [
       "array([93, 89, 63, 90, 89, 90, 65, 56, 84])"
      ]
     },
     "execution_count": 81,
     "metadata": {},
     "output_type": "execute_result"
    }
   ],
   "source": [
    "arr2[arr2>50]"
   ]
  },
  {
   "cell_type": "code",
   "execution_count": 82,
   "id": "6fba1b20-87d2-4460-8f76-bfededcb2f4b",
   "metadata": {},
   "outputs": [
    {
     "data": {
      "text/plain": [
       "array([[93, 44, 89, 28],\n",
       "       [63,  5, 90, 89],\n",
       "       [90,  3, 22, 65],\n",
       "       [45, 56, 84, 18]])"
      ]
     },
     "execution_count": 82,
     "metadata": {},
     "output_type": "execute_result"
    }
   ],
   "source": [
    "arr2"
   ]
  },
  {
   "cell_type": "code",
   "execution_count": 85,
   "id": "f00f4153-1e77-4eda-8d24-0bfa3acface7",
   "metadata": {},
   "outputs": [
    {
     "data": {
      "text/plain": [
       "array([[ 5, 90],\n",
       "       [ 3, 22]])"
      ]
     },
     "execution_count": 85,
     "metadata": {},
     "output_type": "execute_result"
    }
   ],
   "source": [
    "arr2[1:3,1:3]"
   ]
  },
  {
   "cell_type": "code",
   "execution_count": 86,
   "id": "aa80aebf-0506-4449-8703-a409ebd2f2f6",
   "metadata": {},
   "outputs": [
    {
     "data": {
      "text/plain": [
       "array([[ 5, 90],\n",
       "       [ 3, 22]])"
      ]
     },
     "execution_count": 86,
     "metadata": {},
     "output_type": "execute_result"
    }
   ],
   "source": [
    "arr2[1:3,[1,2]]"
   ]
  },
  {
   "cell_type": "code",
   "execution_count": 87,
   "id": "67acf8d0-3618-4ae3-9c23-b4f821fe352b",
   "metadata": {},
   "outputs": [],
   "source": [
    "a1 = np.random.randint(1,10,(3,3))\n",
    "a2 = np.random.randint(1,10,(3,3))"
   ]
  },
  {
   "cell_type": "code",
   "execution_count": 88,
   "id": "b28955af-9406-42ba-8b0b-06f62c23ce32",
   "metadata": {},
   "outputs": [
    {
     "data": {
      "text/plain": [
       "array([[3, 8, 1],\n",
       "       [6, 5, 1],\n",
       "       [5, 1, 2]])"
      ]
     },
     "execution_count": 88,
     "metadata": {},
     "output_type": "execute_result"
    }
   ],
   "source": [
    "a1"
   ]
  },
  {
   "cell_type": "code",
   "execution_count": 89,
   "id": "0c2042ff-ed14-4323-a194-9a7235396843",
   "metadata": {},
   "outputs": [
    {
     "data": {
      "text/plain": [
       "array([[9, 1, 2],\n",
       "       [5, 4, 5],\n",
       "       [5, 6, 2]])"
      ]
     },
     "execution_count": 89,
     "metadata": {},
     "output_type": "execute_result"
    }
   ],
   "source": [
    "a2"
   ]
  },
  {
   "cell_type": "code",
   "execution_count": 90,
   "id": "81a1c607-3f67-4ee4-9986-a9f01564622a",
   "metadata": {},
   "outputs": [
    {
     "data": {
      "text/plain": [
       "array([[27,  8,  2],\n",
       "       [30, 20,  5],\n",
       "       [25,  6,  4]])"
      ]
     },
     "execution_count": 90,
     "metadata": {},
     "output_type": "execute_result"
    }
   ],
   "source": [
    "a1*a2 #multiplication by index mapping"
   ]
  },
  {
   "cell_type": "code",
   "execution_count": 92,
   "id": "103c0319-9f66-4618-8dab-2a5d4e37dcce",
   "metadata": {},
   "outputs": [
    {
     "data": {
      "text/plain": [
       "array([[72, 41, 48],\n",
       "       [84, 32, 39],\n",
       "       [60, 21, 19]])"
      ]
     },
     "execution_count": 92,
     "metadata": {},
     "output_type": "execute_result"
    }
   ],
   "source": [
    "a1@a2 #actual matrix multiplication"
   ]
  },
  {
   "cell_type": "code",
   "execution_count": 94,
   "id": "3fb371fc-6e5a-4ac4-b097-ba45af3320cf",
   "metadata": {},
   "outputs": [
    {
     "name": "stderr",
     "output_type": "stream",
     "text": [
      "/tmp/ipykernel_105/1504525615.py:1: RuntimeWarning: divide by zero encountered in divide\n",
      "  a1/0\n"
     ]
    },
    {
     "data": {
      "text/plain": [
       "array([[inf, inf, inf],\n",
       "       [inf, inf, inf],\n",
       "       [inf, inf, inf]])"
      ]
     },
     "execution_count": 94,
     "metadata": {},
     "output_type": "execute_result"
    }
   ],
   "source": [
    "a1/0"
   ]
  },
  {
   "cell_type": "code",
   "execution_count": 95,
   "id": "949b364a-1be4-4895-9a18-b2357bce742b",
   "metadata": {},
   "outputs": [
    {
     "data": {
      "text/plain": [
       "array([[14, 19, 12],\n",
       "       [17, 16, 12],\n",
       "       [16, 12, 13]])"
      ]
     },
     "execution_count": 95,
     "metadata": {},
     "output_type": "execute_result"
    }
   ],
   "source": [
    "a1+11"
   ]
  },
  {
   "cell_type": "code",
   "execution_count": 96,
   "id": "6a950c0e-4624-42f0-80cb-80008eb92892",
   "metadata": {},
   "outputs": [
    {
     "data": {
      "text/plain": [
       "array([[ 9, 64,  1],\n",
       "       [36, 25,  1],\n",
       "       [25,  1,  4]])"
      ]
     },
     "execution_count": 96,
     "metadata": {},
     "output_type": "execute_result"
    }
   ],
   "source": [
    "a1**2"
   ]
  },
  {
   "cell_type": "code",
   "execution_count": 97,
   "id": "c8a60828-a9af-43bd-a088-6d7d2732ad4c",
   "metadata": {},
   "outputs": [],
   "source": [
    "#Numpy broadcasting"
   ]
  },
  {
   "cell_type": "code",
   "execution_count": 101,
   "id": "f224c95b-e126-49f0-ad08-898645872c82",
   "metadata": {},
   "outputs": [
    {
     "data": {
      "text/plain": [
       "array([[1, 1, 1],\n",
       "       [1, 1, 1],\n",
       "       [1, 1, 1]])"
      ]
     },
     "execution_count": 101,
     "metadata": {},
     "output_type": "execute_result"
    }
   ],
   "source": [
    "a1 = np.random.randint(1,2,(3,3))\n",
    "a1"
   ]
  },
  {
   "cell_type": "code",
   "execution_count": 102,
   "id": "15e88449-b388-4d95-b707-fc4ca72b6c98",
   "metadata": {},
   "outputs": [
    {
     "data": {
      "text/plain": [
       "array([1, 2, 3])"
      ]
     },
     "execution_count": 102,
     "metadata": {},
     "output_type": "execute_result"
    }
   ],
   "source": [
    "row =np.array([1,2,3])\n",
    "row"
   ]
  },
  {
   "cell_type": "code",
   "execution_count": 105,
   "id": "e2dad763-973d-479f-ae62-0fafb7183bbc",
   "metadata": {},
   "outputs": [
    {
     "data": {
      "text/plain": [
       "array([[2, 3, 4],\n",
       "       [2, 3, 4],\n",
       "       [2, 3, 4]])"
      ]
     },
     "execution_count": 105,
     "metadata": {},
     "output_type": "execute_result"
    }
   ],
   "source": [
    "a1 + row #it adds row wise ,broadcasting"
   ]
  },
  {
   "cell_type": "code",
   "execution_count": 108,
   "id": "9b720645-f4f4-429b-819f-f5c676511adc",
   "metadata": {},
   "outputs": [
    {
     "data": {
      "text/plain": [
       "array([[2, 3, 4],\n",
       "       [2, 3, 4],\n",
       "       [2, 3, 4]])"
      ]
     },
     "execution_count": 108,
     "metadata": {},
     "output_type": "execute_result"
    }
   ],
   "source": [
    "a1 +row.T "
   ]
  },
  {
   "cell_type": "code",
   "execution_count": 110,
   "id": "36e1f9a4-a912-4e5b-83f9-12a9c10dfc26",
   "metadata": {},
   "outputs": [
    {
     "data": {
      "text/plain": [
       "array([1, 2, 3])"
      ]
     },
     "execution_count": 110,
     "metadata": {},
     "output_type": "execute_result"
    }
   ],
   "source": [
    "row.T #1d array is same as their transpose"
   ]
  },
  {
   "cell_type": "code",
   "execution_count": 111,
   "id": "df787d85-6ec5-4492-a04e-a5fd6d31673f",
   "metadata": {},
   "outputs": [],
   "source": [
    "col = np.array([[1,2,3]])"
   ]
  },
  {
   "cell_type": "code",
   "execution_count": 112,
   "id": "da55608e-c62b-4c72-9c0b-4bac497892ee",
   "metadata": {},
   "outputs": [
    {
     "data": {
      "text/plain": [
       "array([[1, 2, 3]])"
      ]
     },
     "execution_count": 112,
     "metadata": {},
     "output_type": "execute_result"
    }
   ],
   "source": [
    "col"
   ]
  },
  {
   "cell_type": "code",
   "execution_count": 114,
   "id": "5e0e8c2a-7255-4d07-9629-ca15a954b5ba",
   "metadata": {},
   "outputs": [
    {
     "data": {
      "text/plain": [
       "array([[1],\n",
       "       [2],\n",
       "       [3]])"
      ]
     },
     "execution_count": 114,
     "metadata": {},
     "output_type": "execute_result"
    }
   ],
   "source": [
    "col.T #col is 2d array , it has different transpose array than the original one"
   ]
  },
  {
   "cell_type": "code",
   "execution_count": 116,
   "id": "697dcf84-72ce-4873-aca2-07dbc2533ab3",
   "metadata": {},
   "outputs": [
    {
     "data": {
      "text/plain": [
       "array([[2, 2, 2],\n",
       "       [3, 3, 3],\n",
       "       [4, 4, 4]])"
      ]
     },
     "execution_count": 116,
     "metadata": {},
     "output_type": "execute_result"
    }
   ],
   "source": [
    "a1 +col.T #it adds column wise"
   ]
  },
  {
   "cell_type": "code",
   "execution_count": 118,
   "id": "615edd7b-e0fa-4f93-85e5-f3135d4aadf4",
   "metadata": {},
   "outputs": [
    {
     "data": {
      "text/plain": [
       "array([[1., 1., 1.],\n",
       "       [1., 1., 1.],\n",
       "       [1., 1., 1.]])"
      ]
     },
     "execution_count": 118,
     "metadata": {},
     "output_type": "execute_result"
    }
   ],
   "source": [
    "np.sqrt(a1)"
   ]
  },
  {
   "cell_type": "code",
   "execution_count": 119,
   "id": "e93fdd6e-feb1-4b74-8ba2-f3c59672902e",
   "metadata": {},
   "outputs": [
    {
     "data": {
      "text/plain": [
       "array([[2.71828183, 2.71828183, 2.71828183],\n",
       "       [2.71828183, 2.71828183, 2.71828183],\n",
       "       [2.71828183, 2.71828183, 2.71828183]])"
      ]
     },
     "execution_count": 119,
     "metadata": {},
     "output_type": "execute_result"
    }
   ],
   "source": [
    "np.exp(a1)"
   ]
  },
  {
   "cell_type": "code",
   "execution_count": 120,
   "id": "ae2238b2-9ad6-4419-bff5-4c687aa41843",
   "metadata": {},
   "outputs": [
    {
     "data": {
      "text/plain": [
       "array([[0., 0., 0.],\n",
       "       [0., 0., 0.],\n",
       "       [0., 0., 0.]])"
      ]
     },
     "execution_count": 120,
     "metadata": {},
     "output_type": "execute_result"
    }
   ],
   "source": [
    "np.log2(a1) #the value 2 can be any number"
   ]
  },
  {
   "cell_type": "code",
   "execution_count": 123,
   "id": "e4676212-6d75-4ebe-9afe-9d1758b24a1a",
   "metadata": {},
   "outputs": [
    {
     "data": {
      "text/plain": [
       "array([1, 1, 1, 1, 1, 1, 1, 1, 1])"
      ]
     },
     "execution_count": 123,
     "metadata": {},
     "output_type": "execute_result"
    }
   ],
   "source": [
    "a2= a1.flatten() #it converts ndim to 1 dim\n",
    "a1.flatten()"
   ]
  },
  {
   "cell_type": "code",
   "execution_count": 125,
   "id": "0debe5b0-56d3-4f22-9774-ba5cd5735a5b",
   "metadata": {},
   "outputs": [
    {
     "data": {
      "text/plain": [
       "array([[1],\n",
       "       [1],\n",
       "       [1],\n",
       "       [1],\n",
       "       [1],\n",
       "       [1],\n",
       "       [1],\n",
       "       [1],\n",
       "       [1]])"
      ]
     },
     "execution_count": 125,
     "metadata": {},
     "output_type": "execute_result"
    }
   ],
   "source": [
    "np.expand_dims(a2,axis=1) #convert 1 d to 2 d vice versa"
   ]
  },
  {
   "cell_type": "code",
   "execution_count": 127,
   "id": "00eafaec-6870-490e-a157-104b4902666d",
   "metadata": {},
   "outputs": [
    {
     "data": {
      "text/plain": [
       "array([[1, 1, 1, 1, 1, 1, 1, 1, 1]])"
      ]
     },
     "execution_count": 127,
     "metadata": {},
     "output_type": "execute_result"
    }
   ],
   "source": [
    "np.expand_dims(a2,axis=0) #convert 1 d to 2 d vice versa"
   ]
  },
  {
   "cell_type": "code",
   "execution_count": 128,
   "id": "053be722-893a-4d5a-a86f-e62aa9f815bb",
   "metadata": {},
   "outputs": [
    {
     "data": {
      "text/plain": [
       "array([[1, 1, 1],\n",
       "       [1, 1, 1],\n",
       "       [1, 1, 1]])"
      ]
     },
     "execution_count": 128,
     "metadata": {},
     "output_type": "execute_result"
    }
   ],
   "source": [
    "a1"
   ]
  },
  {
   "cell_type": "code",
   "execution_count": 129,
   "id": "f639be08-9567-46c1-ac3e-b970ab8e19d4",
   "metadata": {},
   "outputs": [
    {
     "data": {
      "text/plain": [
       "array([[1, 1, 1],\n",
       "       [1, 1, 1],\n",
       "       [1, 1, 1]])"
      ]
     },
     "execution_count": 129,
     "metadata": {},
     "output_type": "execute_result"
    }
   ],
   "source": [
    "np.squeeze(a1) "
   ]
  },
  {
   "cell_type": "code",
   "execution_count": 130,
   "id": "a7654b1b-33dd-437c-80d0-653b4620176f",
   "metadata": {},
   "outputs": [],
   "source": [
    "a2 =np.array([[1],[2],[3]])"
   ]
  },
  {
   "cell_type": "code",
   "execution_count": 131,
   "id": "737cbb30-a18a-4953-9b3a-601031af5eb5",
   "metadata": {},
   "outputs": [
    {
     "data": {
      "text/plain": [
       "array([[1],\n",
       "       [2],\n",
       "       [3]])"
      ]
     },
     "execution_count": 131,
     "metadata": {},
     "output_type": "execute_result"
    }
   ],
   "source": [
    "a2"
   ]
  },
  {
   "cell_type": "code",
   "execution_count": 133,
   "id": "6fbb2f94-ace7-4b82-b1e0-71de119a0757",
   "metadata": {},
   "outputs": [
    {
     "data": {
      "text/plain": [
       "array([1, 2, 3])"
      ]
     },
     "execution_count": 133,
     "metadata": {},
     "output_type": "execute_result"
    }
   ],
   "source": [
    "np.squeeze(a2) "
   ]
  },
  {
   "cell_type": "code",
   "execution_count": 134,
   "id": "57805b42-3ce7-4a85-99f9-9b9e1cc79adc",
   "metadata": {},
   "outputs": [
    {
     "data": {
      "text/plain": [
       "array([1, 1, 1, 1, 2, 2, 2, 2, 3, 3, 3, 3])"
      ]
     },
     "execution_count": 134,
     "metadata": {},
     "output_type": "execute_result"
    }
   ],
   "source": [
    "np.repeat(a2,4) #repeats elements of a2 4 times"
   ]
  },
  {
   "cell_type": "code",
   "execution_count": 136,
   "id": "517041f2-2c20-40f1-84bb-fa5100dd5d2c",
   "metadata": {},
   "outputs": [
    {
     "data": {
      "text/plain": [
       "array([[1],\n",
       "       [2],\n",
       "       [3]])"
      ]
     },
     "execution_count": 136,
     "metadata": {},
     "output_type": "execute_result"
    }
   ],
   "source": [
    "a2"
   ]
  },
  {
   "cell_type": "code",
   "execution_count": 139,
   "id": "32118204-a52f-4538-9462-8d9990233996",
   "metadata": {},
   "outputs": [
    {
     "data": {
      "text/plain": [
       "array([[2],\n",
       "       [3],\n",
       "       [1]])"
      ]
     },
     "execution_count": 139,
     "metadata": {},
     "output_type": "execute_result"
    }
   ],
   "source": [
    "np.roll(a2,2) #swap elements with given shift parameter like here is 2"
   ]
  },
  {
   "cell_type": "code",
   "execution_count": 140,
   "id": "bf6f4f55-02f9-4f65-b743-51d022738830",
   "metadata": {},
   "outputs": [
    {
     "data": {
      "text/plain": [
       "array([[0.84147098],\n",
       "       [0.90929743],\n",
       "       [0.14112001]])"
      ]
     },
     "execution_count": 140,
     "metadata": {},
     "output_type": "execute_result"
    }
   ],
   "source": [
    "np.sin(a2)"
   ]
  },
  {
   "cell_type": "code",
   "execution_count": 142,
   "id": "b4ee3ac9-37e7-406a-9877-995058e6806c",
   "metadata": {},
   "outputs": [
    {
     "data": {
      "text/plain": [
       "array([[ 0.54030231],\n",
       "       [-0.41614684],\n",
       "       [-0.9899925 ]])"
      ]
     },
     "execution_count": 142,
     "metadata": {},
     "output_type": "execute_result"
    }
   ],
   "source": [
    "np.cos(a2)"
   ]
  },
  {
   "cell_type": "code",
   "execution_count": 143,
   "id": "6558a018-9ad5-429c-aaa3-10af8a2a88c8",
   "metadata": {},
   "outputs": [
    {
     "data": {
      "text/plain": [
       "array([[ 1.55740772],\n",
       "       [-2.18503986],\n",
       "       [-0.14254654]])"
      ]
     },
     "execution_count": 143,
     "metadata": {},
     "output_type": "execute_result"
    }
   ],
   "source": [
    "np.tan(a2)"
   ]
  },
  {
   "cell_type": "code",
   "execution_count": 144,
   "id": "8d0c1179-ba6c-4221-bfec-effe2225d65b",
   "metadata": {},
   "outputs": [
    {
     "data": {
      "text/plain": [
       "array([[1],\n",
       "       [2],\n",
       "       [3]])"
      ]
     },
     "execution_count": 144,
     "metadata": {},
     "output_type": "execute_result"
    }
   ],
   "source": [
    "np.sort(a2)"
   ]
  },
  {
   "cell_type": "code",
   "execution_count": 145,
   "id": "8d2500c7-e4d9-45f2-a372-de1e3a93bc2e",
   "metadata": {},
   "outputs": [
    {
     "data": {
      "text/plain": [
       "9"
      ]
     },
     "execution_count": 145,
     "metadata": {},
     "output_type": "execute_result"
    }
   ],
   "source": [
    "np.count_nonzero(a1)"
   ]
  },
  {
   "cell_type": "code",
   "execution_count": 146,
   "id": "c3ff6a36-22d5-45cd-ad2f-1a8b7ea1dd91",
   "metadata": {},
   "outputs": [
    {
     "data": {
      "text/plain": [
       "(array([], dtype=int64), array([], dtype=int64))"
      ]
     },
     "execution_count": 146,
     "metadata": {},
     "output_type": "execute_result"
    }
   ],
   "source": [
    "np.where(a1>5)"
   ]
  },
  {
   "cell_type": "code",
   "execution_count": 148,
   "id": "37f39b1f-ebca-4059-ae39-5422dc084029",
   "metadata": {},
   "outputs": [
    {
     "data": {
      "text/plain": [
       "array([1, 1, 1, 1, 1, 1, 1, 1, 1])"
      ]
     },
     "execution_count": 148,
     "metadata": {},
     "output_type": "execute_result"
    }
   ],
   "source": [
    "np.extract(a1<5,a1)"
   ]
  },
  {
   "cell_type": "code",
   "execution_count": null,
   "id": "d3a64f56-8261-438f-940e-5e398a198007",
   "metadata": {},
   "outputs": [],
   "source": []
  }
 ],
 "metadata": {
  "kernelspec": {
   "display_name": "Python 3 (ipykernel)",
   "language": "python",
   "name": "python3"
  },
  "language_info": {
   "codemirror_mode": {
    "name": "ipython",
    "version": 3
   },
   "file_extension": ".py",
   "mimetype": "text/x-python",
   "name": "python",
   "nbconvert_exporter": "python",
   "pygments_lexer": "ipython3",
   "version": "3.10.8"
  }
 },
 "nbformat": 4,
 "nbformat_minor": 5
}
