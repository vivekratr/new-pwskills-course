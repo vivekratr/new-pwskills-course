{
 "cells": [
  {
   "cell_type": "code",
   "execution_count": 3,
   "id": "c7a7016c-7c89-44f5-bc10-117c39579f52",
   "metadata": {},
   "outputs": [
    {
     "data": {
      "text/plain": [
       "8208772095"
      ]
     },
     "execution_count": 3,
     "metadata": {},
     "output_type": "execute_result"
    }
   ],
   "source": [
    "# Q1. Explain Class and Object with respect to Object-Oriented Programming. Give a suitable example.\n",
    "# Ans->\n",
    "# 1)A class is a blueprint or a template for creating objects. It defines a set of attributes\n",
    "# and methods that are common to all objects of that class. A class defines the behavior and properties \n",
    "# of a certain type of object.\n",
    "# 2) An object is an instance of a class. Objects are created based on the class definition and each object\n",
    "# created from a class has its own unique attributes and behavior. An object represents a real-world entity,\n",
    "# such as a person, a car, or a bank account.\n",
    "#example:\n",
    "class college:\n",
    "    def __init__(mein,name,phone_no,email_id): # mein = self\n",
    "        mein.name = name\n",
    "        mein.phone = phone_no\n",
    "        mein.email_id = email_id\n",
    "    def returnfunc(mein):\n",
    "        return mein.name,mein.phone,mein.email_id\n",
    "vk = college('Vivek',8208772095,'vivekratr@gmail.com')\n",
    "vk.phone"
   ]
  },
  {
   "cell_type": "code",
   "execution_count": 4,
   "id": "48dddb0d-6fbb-455a-96b0-9b4c44344e15",
   "metadata": {},
   "outputs": [],
   "source": [
    "# Q2. Name the four pillars of OOPs.\n",
    "# Ans-> Encapsulation, Abstraction, Polymorphism, Inheritance"
   ]
  },
  {
   "cell_type": "code",
   "execution_count": 6,
   "id": "9904242c-931d-456a-b4d1-20b31cda6372",
   "metadata": {},
   "outputs": [
    {
     "data": {
      "text/plain": [
       "10"
      ]
     },
     "execution_count": 6,
     "metadata": {},
     "output_type": "execute_result"
    }
   ],
   "source": [
    "# Q3. Explain why the __init__() function is used. Give a suitable example.\n",
    "# Ans-> \n",
    "# The __init__ function is a special method in Python that is automatically called when an object is created from a class.\n",
    "# This function is also known as the constructor method. The purpose of the __init__ function is to initialize the\n",
    "# attributes of the object and set them to default values or to the values passed as arguments when the object is created.\n",
    "class Rectangle:\n",
    "    def __init__(self, width, height):\n",
    "        self.width = width\n",
    "        self.height = height\n",
    "r = Rectangle(10,20)\n",
    "r.width"
   ]
  },
  {
   "cell_type": "code",
   "execution_count": 7,
   "id": "19b148c3-6067-4b07-abd3-d99a03625c1a",
   "metadata": {},
   "outputs": [],
   "source": [
    "# Why self is used in OOPs?\n",
    "# Ans->1) In Python, self is a convention used in class methods to refer to the instance of the object \n",
    "# on which the method is being called.\n",
    "# 2)The self parameter acts as a placeholder for the current object and allows you to access its attributes \n",
    "# and methods within the method.\n",
    "# 3) We can use any string instead of 'self'"
   ]
  },
  {
   "cell_type": "code",
   "execution_count": 9,
   "id": "2b0666d0-e1b0-4e05-a4aa-f796b908fe52",
   "metadata": {},
   "outputs": [
    {
     "name": "stdout",
     "output_type": "stream",
     "text": [
      "Moving\n",
      "Barking\n"
     ]
    }
   ],
   "source": [
    "# What is inheritance? Give an example for each type of inheritance.\n",
    "# Ans->1)Inheritance is a mechanism in Object-Oriented Programming (OOP) that allows you to define a \n",
    "# new class based on an existing class. The new class is called the derived class or child class,\n",
    "# and the existing class is called the base class or parent class. The derived class inherits the attributes \n",
    "# and behaviors of the base class, and can also have its own attributes and behaviors.\n",
    "# 2) Types:\n",
    "# a) Single Inheritance: In this type of inheritance, a single derived class inherits from a single \n",
    "# base class. This is the simplest form of inheritance.\n",
    "# example:\n",
    "class Animal:\n",
    "    def __init__(self, name):\n",
    "        self.name = name\n",
    "\n",
    "    def move(self):\n",
    "        print(\"Moving\")\n",
    "\n",
    "class Dog(Animal):\n",
    "    def bark(self):\n",
    "        print(\"Barking\")\n",
    "\n",
    "dog = Dog(\"Rocky\")\n",
    "dog.move() \n",
    "dog.bark()\n",
    "\n",
    "    "
   ]
  },
  {
   "cell_type": "code",
   "execution_count": 13,
   "id": "136762b2-6d5a-4ce7-bd06-5229bf1df7b8",
   "metadata": {},
   "outputs": [
    {
     "name": "stdout",
     "output_type": "stream",
     "text": [
      "Parent1 :Mother\n",
      "Parent2 : Father\n"
     ]
    }
   ],
   "source": [
    "# b)Multiple Inheritance: In this type of inheritance, a single derived class inherits from multiple base classes.\n",
    "# example:\n",
    "class Parent1:\n",
    "    def parent1(self):\n",
    "        print(\"Parent1 :Mother\")\n",
    "\n",
    "class Parent2:\n",
    "    def parent2(self):\n",
    "        print(\"Parent2 : Father\")\n",
    "\n",
    "class Child(Parent1, Parent2):\n",
    "    pass\n",
    "\n",
    "child = Child()\n",
    "child.parent1()\n",
    "child.parent2() \n"
   ]
  },
  {
   "cell_type": "code",
   "execution_count": 16,
   "id": "3e9f219c-77de-4f75-b482-e65f04e3f01e",
   "metadata": {},
   "outputs": [
    {
     "name": "stdout",
     "output_type": "stream",
     "text": [
      "GrandParent method\n",
      "Parent method\n",
      "Child method\n"
     ]
    }
   ],
   "source": [
    "#c) Multi-level Inheritance: In this type of inheritance, a derived class inherits from a base class, \n",
    "# and the base class inherits from another base class.\n",
    "# Example:\n",
    "class GrandParent:\n",
    "    def grand_method(self):\n",
    "        print(\"GrandParent method\")\n",
    "\n",
    "class Parent(GrandParent):\n",
    "    def parent_method(self):\n",
    "        print(\"Parent method\")\n",
    "\n",
    "class Child(Parent):\n",
    "    def child_method(self):\n",
    "        print(\"Child method\")\n",
    "\n",
    "vivek = Child()\n",
    "vivek.grand_method() \n",
    "vivek.parent_method() \n",
    "vivek.child_method() \n"
   ]
  },
  {
   "cell_type": "code",
   "execution_count": 18,
   "id": "838d81ed-92fb-4b16-9d2f-7e94b4089606",
   "metadata": {},
   "outputs": [
    {
     "name": "stdout",
     "output_type": "stream",
     "text": [
      "Parent method\n",
      "Child1 method\n",
      "Parent method\n",
      "Child2 method\n"
     ]
    }
   ],
   "source": [
    "# d) Hierarchical Inheritance: In this type of inheritance, multiple derived classes inherit from a single base class.\n",
    "class Parent:\n",
    "    def parent_method(self):\n",
    "        print(\"Parent method\")\n",
    "\n",
    "class Child1(Parent):\n",
    "    def child1_method(self):\n",
    "        print(\"Child1 method\")\n",
    "\n",
    "class Child2(Parent):\n",
    "    def child2_method(self):\n",
    "        print(\"Child2 method\")\n",
    "\n",
    "child1 = Child1()\n",
    "child1.parent_method()\n",
    "child1.child1_method()\n",
    "\n",
    "child2 = Child2()\n",
    "child2.parent_method() \n",
    "child2.child2_method() \n"
   ]
  }
 ],
 "metadata": {
  "kernelspec": {
   "display_name": "Python 3 (ipykernel)",
   "language": "python",
   "name": "python3"
  },
  "language_info": {
   "codemirror_mode": {
    "name": "ipython",
    "version": 3
   },
   "file_extension": ".py",
   "mimetype": "text/x-python",
   "name": "python",
   "nbconvert_exporter": "python",
   "pygments_lexer": "ipython3",
   "version": "3.10.8"
  }
 },
 "nbformat": 4,
 "nbformat_minor": 5
}
