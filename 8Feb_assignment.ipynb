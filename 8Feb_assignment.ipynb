{
 "cells": [
  {
   "cell_type": "code",
   "execution_count": null,
   "id": "867598c3-7aa3-4dd6-bbc2-928175011e88",
   "metadata": {},
   "outputs": [],
   "source": [
    "# Q1. What is Abstraction in OOps? Explain with an example.\n",
    "Ans->1) Abstraction refers to the process of hiding the implementation details of a class and exposing only the necessary information to the outside world.\n",
    "2) The idea is to provide a simplified and high-level view of the objects and classes, allowing developers to interact with the objects\n",
    "without having to worry about how they work internally.\n",
    "\n",
    "For example, consider a car. When you drive a car, you don't need to know how the engine works. You just need to know how to operate the car\n",
    "(e.g., turn the key, shift gears, press the accelerator, etc.). Similarly, in OOP, abstraction allows you to work with an object without worrying\n",
    "about the details of how it's implemented."
   ]
  },
  {
   "cell_type": "code",
   "execution_count": 8,
   "id": "b45b47c7-10c5-4b8f-82a9-e3fc0d52a618",
   "metadata": {},
   "outputs": [
    {
     "name": "stdout",
     "output_type": "stream",
     "text": [
      "100\n",
      "True\n",
      "True\n",
      "110\n"
     ]
    }
   ],
   "source": [
    "class Axis_Bank():\n",
    "    def __init__(self,name,mobile_no,balance) :\n",
    "        self.name = name\n",
    "        self.mobile_no = mobile_no\n",
    "        self.__balance = balance\n",
    "    # def balance(self):\n",
    "    #     self.__balance = 0\n",
    "    def deposit(self,amt):\n",
    "        self.__balance += amt\n",
    "        return True\n",
    "    def show_bal(self):\n",
    "        return self.__balance\n",
    "    def withdraw(self,amtt):\n",
    "        if amtt<=self.__balance:\n",
    "            self.__balance -= amtt\n",
    "            return True\n",
    "        else:\n",
    "            return False\n",
    "# The user can interact with the bank account through the provided methods (e.g., deposit, withdraw, etc.), without having to worry about\n",
    "# how the balance is maintained internally. The implementation details are hidden using the concept of encapsulation\n",
    "vk = Axis_Bank(\"Vivek\",9228828292,100)\n",
    "print(vk.show_bal())\n",
    "print(vk.withdraw(10))\n",
    "print(vk.deposit(20))\n",
    "print(vk.show_bal()) \n"
   ]
  },
  {
   "cell_type": "code",
   "execution_count": null,
   "id": "161e28c2-c4cb-4cc4-9d34-a75fd38a40d5",
   "metadata": {},
   "outputs": [],
   "source": [
    "# Q2. Differentiate between Abstraction and Encapsulation. Explain with an example.\n",
    "Ans->1)Abstraction:\n",
    "a) Abstraction refers to the process of hiding the implementation details of a class and exposing only the necessary information to the outside world. \n",
    "b) The goal of abstraction is to provide a simplified and high-level view of the objects and classes, allowing developers to interact with the objects without \n",
    "having to worry about how they work internally.\n",
    "\n",
    "2) Encapsulation\n",
    "a) Encapsulation, on the other hand, refers to the idea of wrapping data and methods inside an object to provide a secure way of accessing it.\n",
    "b) Encapsulation provides a way to protect the internal state of an object from being directly manipulated by external code, \n",
    "making the code more secure and less prone to bugs.\n"
   ]
  },
  {
   "cell_type": "code",
   "execution_count": 12,
   "id": "c9776043-cfa5-4929-8e9e-51c2da14a283",
   "metadata": {},
   "outputs": [
    {
     "name": "stdout",
     "output_type": "stream",
     "text": [
      "Area: 78.5\n",
      "Radius: 5\n"
     ]
    }
   ],
   "source": [
    "# example\n",
    "\n",
    "class Circle():\n",
    "    def __init__(self, radius):\n",
    "        self.__radius = radius\n",
    "\n",
    "    def area(self):\n",
    "        return 3.14 * self.__radius * self.__radius\n",
    "\n",
    "    def get_radius(self):\n",
    "        return self.__radius\n",
    "circle = Circle(5)\n",
    "# abstraction: the user can calculate the area of the circle without worrying about the implementation details\n",
    "print(f\"Area: {circle.area()}\")\n",
    "\n",
    "# encapsulation: the user can only access the radius through the provided method\n",
    "print(f\"Radius: {circle.get_radius()}\")\n",
    "# trying to directly access the private variable will result in an error\n",
    "# print(\"Radius:\", circle.__radius)  # attributeerror: 'Circle' object has no attribute '__radius'\n"
   ]
  },
  {
   "cell_type": "code",
   "execution_count": null,
   "id": "f65feec4-4138-49cc-8014-4d14929380c5",
   "metadata": {},
   "outputs": [],
   "source": [
    "# Q3. What is abc module in python? Why is it used?\n",
    "Ans->1)t is method of forcing subclass to include the particular function in them which is define in the parent class using abc decorator\n",
    "\n",
    "2)  abc module (Abstract Base Classes) in Python is a module that provides a way to define abstract base classes in Python.  \n",
    "3) An abstract base class is a class that cannot be instantiated, but can be subclassed.\n",
    "4)It is used as a base class for defining a common interface for a set of related classes, \n",
    "and provides a way to check if a class is a subclass of the abstract base class.\n",
    "5)The use of abstract base classes provides a way to define a common interface for a set of related classes,\n",
    "which can be useful in enforcing a particular design pattern or structure in your code.\n",
    "6) It also provides a way to check if a class is a subclass of the abstract base class, which can be useful in runtime type checking and type introspection.\n"
   ]
  },
  {
   "cell_type": "code",
   "execution_count": null,
   "id": "8f89eb19-67b0-48ac-af63-ed42e6e2f5fc",
   "metadata": {},
   "outputs": [],
   "source": [
    "# Q4. How can we achieve data abstraction?\n",
    "Ans->1) Data abstraction can be achieved by using object-oriented programming (OOP) concepts like encapsulation and inheritance. \n",
    "2) Encapsulation refers to the practice of keeping the internal state of an object hidden from the outside world and\n",
    "providing methods for accessing and manipulating that state.\n",
    "3) Inheritance allows you to define a new class that is a modified version of an existing class,\n",
    "inheriting the attributes and behaviors of the parent class."
   ]
  },
  {
   "cell_type": "code",
   "execution_count": null,
   "id": "07039bc1-17fc-453c-8e24-a27129c3d2ff",
   "metadata": {},
   "outputs": [],
   "source": [
    "# Q5. Can we create an instance of an abstract class? Explain your answer.\n",
    "Ans->No, we cannot create an instance of an abstract class directly in Python. An abstract class is a class\n",
    "that defines the common interface for a set of related classes, but it cannot be instantiated on its own.\n",
    "Instead, you have to create a concrete subclass that implements the abstract methods defined in the abstract class,\n",
    "and then you can create instances of the concrete subclass.\n",
    "The purpose of an abstract class is to provide a blueprint for a set of related classes, to enforce a common interface for these classes,\n",
    "and to provide a way to share code among them. By using abstract classes, you can ensure that all subclasses have a consistent structure and\n",
    "behavior, and you can avoid having to repeat the same code in multiple subclasses."
   ]
  }
 ],
 "metadata": {
  "kernelspec": {
   "display_name": "Python 3 (ipykernel)",
   "language": "python",
   "name": "python3"
  },
  "language_info": {
   "codemirror_mode": {
    "name": "ipython",
    "version": 3
   },
   "file_extension": ".py",
   "mimetype": "text/x-python",
   "name": "python",
   "nbconvert_exporter": "python",
   "pygments_lexer": "ipython3",
   "version": "3.10.8"
  }
 },
 "nbformat": 4,
 "nbformat_minor": 5
}
