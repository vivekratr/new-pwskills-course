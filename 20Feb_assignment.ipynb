{
 "cells": [
  {
   "cell_type": "code",
   "execution_count": null,
   "id": "1346cd29-9bd2-46dc-b0a0-7f1d8ec35e63",
   "metadata": {},
   "outputs": [],
   "source": [
    "Q1. Explain GET and POST methods.\n",
    "Ans->\n",
    "1) In web development, GET and POST are two HTTP methods used for sending data between the client (browser) and the server.\n",
    "2) GET:\n",
    "    a) The GET method is used to request a resource from the server, such as a webpage or an image.\n",
    "    b) When you type a URL into your browser, the browser sends a GET request to the server for that resource.\n",
    "    c) GET requests are usually used for retrieving data, and they can be bookmarked or cached by the browser.\n",
    "    d) The GET method sends data as part of the URL, in the query string. \n",
    "3) Post:\n",
    "    a) The POST method is used to send data to the server, such as form data or file uploads.\n",
    "    b) When you submit a form on a website, the browser sends a POST request to the server with the form data.\n",
    "    c) POST requests are usually used for modifying data on the server, such as updating a database.\n",
    "    d) The POST method sends data as part of the HTTP request body, which is not visible in the URL. This makes it more secure than GET, since sensitive data\n",
    "       like passwords or credit card numbers are not exposed in the URL."
   ]
  },
  {
   "cell_type": "code",
   "execution_count": null,
   "id": "4e80195c-f15c-401d-b3dd-cd9a1540f6c3",
   "metadata": {},
   "outputs": [],
   "source": [
    "Q2. Why is request used in Flask?\n",
    "Ans->\n",
    "1) The request object is an important part of Flask's functionality. It allows you to access incoming data from a client,\n",
    "such as HTML form data or JSON data.\n",
    "2) The request object is used in Flask to handle incoming requests from clients and to retrieve data from those requests.\n",
    "3) For example, we can use the request object to access form data submitted through an HTML form"
   ]
  },
  {
   "cell_type": "code",
   "execution_count": null,
   "id": "4ebd1812-48f2-4ef5-abb3-c86a9bbefab4",
   "metadata": {},
   "outputs": [],
   "source": [
    "Q3. Why is redirect() used in Flask?\n",
    "Ans->\n",
    "1) In Flask, the redirect() function is used to redirect a client to a different URL.\n",
    "2) It can be used to handle situations where you want to send a client to a different URL after a particular action has been completed,\n",
    "such as after a form has been submitted or after a user has logged in.\n",
    "3) The redirect() function works by returning a special response to the client with the Location header set to the URL that the client should be redirected to.\n",
    "4) When the client receives this response, it automatically sends a new request to the specified URL or endpoint.\n",
    "5) One common use case for redirect() is to handle form submissions. After a user submits a form, we might want to redirect them to a new page\n",
    "rather than showing them a static message. In this case, you can use the redirect() function to send the user to a new URL where the\n",
    "results of the form submission can be displayed."
   ]
  },
  {
   "cell_type": "code",
   "execution_count": null,
   "id": "f02c4e75-cd98-4b98-bea8-457c0d83d996",
   "metadata": {},
   "outputs": [],
   "source": [
    "Q4. What are templates in Flask? Why is the render_template() function used?\n",
    "Ans->\n",
    "1) In Flask, templates are files that contain HTML code with placeholders for dynamic content.\n",
    "2) These templates are used to create the visual part of a web application.\n",
    "3) By using templates, you can separate the presentation layer from the logic layer of your application. This makes it easier to maintain and update the code.\n",
    "4) The render_template() function is used to render a template with dynamic content.\n",
    "5) This function takes the name of the template file as an argument, along with any variables that need to be passed to the template.\n",
    "6) It then generates the final HTML code by replacing the placeholders in the template with the actual values of the variables."
   ]
  },
  {
   "cell_type": "code",
   "execution_count": null,
   "id": "43245ffe-5611-4cb4-bf14-c1b0878b9174",
   "metadata": {},
   "outputs": [],
   "source": [
    "Q5. Create a simple API. Use Postman to test it. Attach the screenshot of the output in the Jupyter Notebook.\n",
    "Ans->\n",
    "1) Code for calculating square:\n",
    "from flask import Flask,render_template,jsonify\n",
    "from flask import request\n",
    "\n",
    "app = Flask(__name__)\n",
    "\n",
    "@app.route(\"/sqr\", methods = ['POST'])\n",
    "def square():\n",
    "    num = request.json['num']\n",
    "    r = int(num)**2\n",
    "    res = f'The square of {num} is {r}'\n",
    "    return jsonify(res)\n",
    "\n",
    "if __name__ == \"__main__\":\n",
    "    app.run(host=\"0.0.0.0\")"
   ]
  }
 ],
 "metadata": {
  "kernelspec": {
   "display_name": "Python 3 (ipykernel)",
   "language": "python",
   "name": "python3"
  },
  "language_info": {
   "codemirror_mode": {
    "name": "ipython",
    "version": 3
   },
   "file_extension": ".py",
   "mimetype": "text/x-python",
   "name": "python",
   "nbconvert_exporter": "python",
   "pygments_lexer": "ipython3",
   "version": "3.10.8"
  }
 },
 "nbformat": 4,
 "nbformat_minor": 5
}
