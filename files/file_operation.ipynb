{
 "cells": [
  {
   "cell_type": "code",
   "execution_count": 64,
   "id": "f9246d47-2af2-48aa-9280-0449edb124fe",
   "metadata": {},
   "outputs": [],
   "source": [
    "f = open('vivek.txt','w')\n"
   ]
  },
  {
   "cell_type": "code",
   "execution_count": 65,
   "id": "b55f787b-a31a-4425-84b7-38972f21d6d6",
   "metadata": {},
   "outputs": [
    {
     "data": {
      "text/plain": [
       "'/home/jovyan/work/files'"
      ]
     },
     "execution_count": 65,
     "metadata": {},
     "output_type": "execute_result"
    }
   ],
   "source": [
    "pwd\n"
   ]
  },
  {
   "cell_type": "code",
   "execution_count": 66,
   "id": "6e13cb26-faa5-43fe-b47f-7fb70c36e5c8",
   "metadata": {},
   "outputs": [
    {
     "name": "stdout",
     "output_type": "stream",
     "text": [
      "file_operation.ipynb  vivek.txt\n"
     ]
    }
   ],
   "source": [
    "ls\n"
   ]
  },
  {
   "cell_type": "code",
   "execution_count": 67,
   "id": "3827064d-1750-4594-b50a-43e2cff7dbff",
   "metadata": {},
   "outputs": [
    {
     "data": {
      "text/plain": [
       "45"
      ]
     },
     "execution_count": 67,
     "metadata": {},
     "output_type": "execute_result"
    }
   ],
   "source": [
    "f.write('This is the text written through \"w\" command.') #file will not get updated until the file object is closed"
   ]
  },
  {
   "cell_type": "code",
   "execution_count": 68,
   "id": "a41403da-51b3-4a70-818e-b851424ce7c9",
   "metadata": {},
   "outputs": [
    {
     "data": {
      "text/plain": [
       "90"
      ]
     },
     "execution_count": 68,
     "metadata": {},
     "output_type": "execute_result"
    }
   ],
   "source": [
    "f.write(\"This is the new text , previous text were replaced by this one because file is in 'w' mode\")"
   ]
  },
  {
   "cell_type": "code",
   "execution_count": 69,
   "id": "cda45d76-f3b2-4a25-b4c6-1826d8fc21f7",
   "metadata": {},
   "outputs": [],
   "source": [
    "f.close()"
   ]
  },
  {
   "cell_type": "code",
   "execution_count": 70,
   "id": "68d5efde-4ecb-425b-88dd-b0f1592a7d47",
   "metadata": {},
   "outputs": [],
   "source": [
    "f = open('vivek.txt','w')\n"
   ]
  },
  {
   "cell_type": "code",
   "execution_count": 71,
   "id": "9044e991-a184-4c09-a735-b8266900b21b",
   "metadata": {},
   "outputs": [
    {
     "data": {
      "text/plain": [
       "90"
      ]
     },
     "execution_count": 71,
     "metadata": {},
     "output_type": "execute_result"
    }
   ],
   "source": [
    "f.write(\"This is the new text , previous text were replaced by this one because file is in 'w' mode\")"
   ]
  },
  {
   "cell_type": "code",
   "execution_count": 72,
   "id": "f974c902-49ab-41ce-9cf7-d9d1cf655290",
   "metadata": {},
   "outputs": [],
   "source": [
    "f.close()"
   ]
  },
  {
   "cell_type": "code",
   "execution_count": 73,
   "id": "e717675c-5104-4589-9d9f-c4dc967f5dae",
   "metadata": {},
   "outputs": [],
   "source": [
    "f = open('vivek.txt','a')"
   ]
  },
  {
   "cell_type": "code",
   "execution_count": 74,
   "id": "89693667-4ed4-439b-a056-7b8eca970ed4",
   "metadata": {},
   "outputs": [
    {
     "data": {
      "text/plain": [
       "46"
      ]
     },
     "execution_count": 74,
     "metadata": {},
     "output_type": "execute_result"
    }
   ],
   "source": [
    "f.write(\".\\nThis will get appended to the previous text.\")"
   ]
  },
  {
   "cell_type": "code",
   "execution_count": 76,
   "id": "a28adaf8-24a7-4545-9ef8-e16f495f9bf0",
   "metadata": {},
   "outputs": [],
   "source": [
    "f.close()\n"
   ]
  },
  {
   "cell_type": "code",
   "execution_count": 81,
   "id": "af4c91a9-72e8-43b0-95ee-286ad02639b6",
   "metadata": {},
   "outputs": [],
   "source": [
    "f = open('vivek.txt','r')"
   ]
  },
  {
   "cell_type": "code",
   "execution_count": 82,
   "id": "06325494-5194-4b24-a153-9c67363a9e93",
   "metadata": {},
   "outputs": [
    {
     "data": {
      "text/plain": [
       "\"This is the new text , previous text were replaced by this one because file is in 'w' mode.\\nThis will get appended to the previous text.\""
      ]
     },
     "execution_count": 82,
     "metadata": {},
     "output_type": "execute_result"
    }
   ],
   "source": [
    "f.read()"
   ]
  },
  {
   "cell_type": "code",
   "execution_count": 84,
   "id": "1ddfaf57-4089-495c-9b50-74ed4e34f06f",
   "metadata": {},
   "outputs": [
    {
     "data": {
      "text/plain": [
       "''"
      ]
     },
     "execution_count": 84,
     "metadata": {},
     "output_type": "execute_result"
    }
   ],
   "source": [
    "f.readline()"
   ]
  },
  {
   "cell_type": "code",
   "execution_count": 107,
   "id": "7166c5de-a97b-4308-b52a-55ac5a46d89d",
   "metadata": {},
   "outputs": [
    {
     "data": {
      "text/plain": [
       "0"
      ]
     },
     "execution_count": 107,
     "metadata": {},
     "output_type": "execute_result"
    }
   ],
   "source": [
    "f.seek(0) #it change the position of the cursor to the define position i.e 0"
   ]
  },
  {
   "cell_type": "code",
   "execution_count": 91,
   "id": "f62334c2-656b-4f37-a9a5-58a65c2e60a1",
   "metadata": {},
   "outputs": [
    {
     "data": {
      "text/plain": [
       "\"This is the new text , previous text were replaced by this one because file is in 'w' mode.\\n\""
      ]
     },
     "execution_count": 91,
     "metadata": {},
     "output_type": "execute_result"
    }
   ],
   "source": [
    "f.readline()"
   ]
  },
  {
   "cell_type": "code",
   "execution_count": 92,
   "id": "ba8dd614-b12a-444d-9661-7dd2b826a373",
   "metadata": {},
   "outputs": [
    {
     "data": {
      "text/plain": [
       "'This will get appended to the previous text.'"
      ]
     },
     "execution_count": 92,
     "metadata": {},
     "output_type": "execute_result"
    }
   ],
   "source": [
    "f.readline()"
   ]
  },
  {
   "cell_type": "code",
   "execution_count": 93,
   "id": "c147ab07-83a8-40a5-af5c-4d540bc79b42",
   "metadata": {},
   "outputs": [],
   "source": [
    "f.close()"
   ]
  },
  {
   "cell_type": "code",
   "execution_count": 98,
   "id": "f769b683-1837-447d-ad11-2d58b03a442b",
   "metadata": {},
   "outputs": [],
   "source": [
    "f = open('vivek.txt','r')"
   ]
  },
  {
   "cell_type": "code",
   "execution_count": 99,
   "id": "d25f0736-cdab-44fb-aadf-c80bee504029",
   "metadata": {},
   "outputs": [
    {
     "name": "stdout",
     "output_type": "stream",
     "text": [
      "This is the new text , previous text were replaced by this one because file is in 'w' mode.\n",
      "\n",
      "This will get appended to the previous text.\n"
     ]
    }
   ],
   "source": [
    "for i in f:\n",
    "    print(i)"
   ]
  },
  {
   "cell_type": "code",
   "execution_count": 100,
   "id": "ae965622-1c88-41ba-838d-eac723392122",
   "metadata": {},
   "outputs": [],
   "source": [
    "import os"
   ]
  },
  {
   "cell_type": "code",
   "execution_count": 108,
   "id": "f5f74d49-fcba-489d-ac86-f5e674da0e3d",
   "metadata": {},
   "outputs": [
    {
     "data": {
      "text/plain": [
       "136"
      ]
     },
     "execution_count": 108,
     "metadata": {},
     "output_type": "execute_result"
    }
   ],
   "source": [
    "os.path.getsize('vivek.txt') #calculate actual size on memory"
   ]
  },
  {
   "cell_type": "code",
   "execution_count": 105,
   "id": "fe7b41a7-4fb4-4296-b495-dea21309e5ba",
   "metadata": {},
   "outputs": [],
   "source": [
    "ff = open('test.txt','w')\n",
    "ff.close()"
   ]
  },
  {
   "cell_type": "code",
   "execution_count": 106,
   "id": "97549807-0f2a-4cdd-a6de-daf0a0e2bcc2",
   "metadata": {},
   "outputs": [],
   "source": [
    "os.remove('test.txt') #delete file from directory"
   ]
  },
  {
   "cell_type": "code",
   "execution_count": 109,
   "id": "4f810d65-1285-44f8-9864-81709a9a83bf",
   "metadata": {},
   "outputs": [],
   "source": [
    "v = open('test1','w')"
   ]
  },
  {
   "cell_type": "code",
   "execution_count": 111,
   "id": "c4da5808-121a-4ef9-bac2-6c61f5aaad3d",
   "metadata": {},
   "outputs": [
    {
     "data": {
      "text/plain": [
       "720"
      ]
     },
     "execution_count": 111,
     "metadata": {},
     "output_type": "execute_result"
    }
   ],
   "source": [
    "v.write('''In this program, we first define the list of tuples l. Then we use the map function to iterate over the list of integer values [34357, 25534] and apply a lambda function to each value. The lambda function takes an integer value a as input and returns a tuple that contains all the tuples from the original list l that have a second element equal to a.\n",
    "\n",
    "We use the filter function inside the lambda function to select only the tuples that satisfy the given condition. The filter function takes a lambda function as its first argument that checks whether a given tuple has a second element equal to the input integer value a. The filter function returns an iterator that contains all the tuples that satisfy the condition.''')"
   ]
  },
  {
   "cell_type": "code",
   "execution_count": 114,
   "id": "d629275f-da57-43a8-b0da-1261ab888447",
   "metadata": {},
   "outputs": [],
   "source": [
    "v.close()"
   ]
  },
  {
   "cell_type": "code",
   "execution_count": 115,
   "id": "87f91c4a-a5c0-4b94-978f-b470730cd745",
   "metadata": {},
   "outputs": [],
   "source": [
    "os.rename('test1','taste1')"
   ]
  },
  {
   "cell_type": "code",
   "execution_count": 116,
   "id": "7a020e3f-81ac-4857-a339-4470fcf01499",
   "metadata": {},
   "outputs": [],
   "source": [
    "import shutil #this will be used for making copies of files"
   ]
  },
  {
   "cell_type": "code",
   "execution_count": 118,
   "id": "84fa42a3-b745-4f1f-88e0-25c9d412ef6f",
   "metadata": {},
   "outputs": [
    {
     "data": {
      "text/plain": [
       "'new_taste1.txt'"
      ]
     },
     "execution_count": 118,
     "metadata": {},
     "output_type": "execute_result"
    }
   ],
   "source": [
    "shutil.copy('taste1','new_taste1.txt') "
   ]
  },
  {
   "cell_type": "code",
   "execution_count": 119,
   "id": "ff88281c-211b-4d60-ae4b-9bd737ef766f",
   "metadata": {},
   "outputs": [
    {
     "name": "stdout",
     "output_type": "stream",
     "text": [
      "This is the new text , previous text were replaced by this one because file is in 'w' mode.\n",
      "This will get appended to the previous text.\n"
     ]
    }
   ],
   "source": [
    "with open('vivek.txt','r') as f:\n",
    "    print(f.read())"
   ]
  },
  {
   "cell_type": "code",
   "execution_count": null,
   "id": "4ff6d985-b8fa-4a7c-a133-ed66e7cda08c",
   "metadata": {},
   "outputs": [],
   "source": []
  }
 ],
 "metadata": {
  "kernelspec": {
   "display_name": "Python 3 (ipykernel)",
   "language": "python",
   "name": "python3"
  },
  "language_info": {
   "codemirror_mode": {
    "name": "ipython",
    "version": 3
   },
   "file_extension": ".py",
   "mimetype": "text/x-python",
   "name": "python",
   "nbconvert_exporter": "python",
   "pygments_lexer": "ipython3",
   "version": "3.10.8"
  }
 },
 "nbformat": 4,
 "nbformat_minor": 5
}
