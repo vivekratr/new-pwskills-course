{
 "cells": [
  {
   "cell_type": "code",
   "execution_count": null,
   "id": "dece1507-2412-4760-b504-d1ace07a8fd0",
   "metadata": {},
   "outputs": [],
   "source": [
    "n Python, a class method is a method that is bound to the class and not the instance of the class. Unlike regular methods, which are bound to instances of the class, \n",
    "class methods take the class itself as their first argument, instead of an instance.\n",
    "\n",
    "Class methods are declared using the @classmethod decorator and the cls parameter, which refers to the class itself.\n",
    "\n",
    "Function overloading is a feature in some programming languages (such as Python) where multiple functions can have the same name but with different parameters.\n",
    "This allows you to write multiple functions that perform similar tasks but with different inputs, and the correct function will be called based on the arguments \n",
    "passed to it."
   ]
  },
  {
   "cell_type": "code",
   "execution_count": 17,
   "id": "700a8c0f-5200-4b7e-a93c-d54fe6bde610",
   "metadata": {},
   "outputs": [],
   "source": [
    "class Date:\n",
    "    def __init__(self, day, month, year):\n",
    "        self.day = day\n",
    "        self.month = month\n",
    "        self.year = year\n",
    "\n",
    "    @classmethod\n",
    "    def from_string(cls, date_string):\n",
    "        # p = date_string.split('-')\n",
    "        # day, month, year = map(int, date_string.split('-'))\n",
    "        # return cls(day, month, year)\n",
    "        # return cls(p[0],p[1],p[2]) # here cls() is taking 3 args same as that of init func , it will automatically map the cls args into init params\n",
    "        return cls(*date_string.split('-')) #the one liner\n"
   ]
  },
  {
   "cell_type": "code",
   "execution_count": 18,
   "id": "fd86d8aa-5dbc-4e30-a9e4-07518bb77b56",
   "metadata": {},
   "outputs": [
    {
     "name": "stdout",
     "output_type": "stream",
     "text": [
      "12\n",
      "02\n",
      "2023\n"
     ]
    }
   ],
   "source": [
    "date = Date.from_string('12-02-2023')\n",
    "print(date.day)\n",
    "print(date.month)\n",
    "print(date.year)\n"
   ]
  },
  {
   "cell_type": "code",
   "execution_count": 48,
   "id": "69116ed2-130d-410f-a9ff-436e8758ab6c",
   "metadata": {},
   "outputs": [
    {
     "name": "stdout",
     "output_type": "stream",
     "text": [
      "Vivek vivekratr@gmail India\n"
     ]
    }
   ],
   "source": [
    "class details:\n",
    "    country = \"India\"\n",
    "    def __init__(self, name, email ):\n",
    "        self.name = name\n",
    "        self.email = email\n",
    "    \n",
    "    @classmethod\n",
    "    def instant_detail(cls,name,email):\n",
    "        return cls(name,email)\n",
    "    @classmethod\n",
    "    def chng_country(cls,country):\n",
    "        details.country  = country\n",
    "    def prtdet(self):\n",
    "         print(self.name,self.email,details.country)\n",
    "vk = details.instant_detail('Vivek','vivekratr@gmail')\n",
    "vk.prtdet()"
   ]
  },
  {
   "cell_type": "code",
   "execution_count": 49,
   "id": "2c739e77-1ee4-4753-86f9-117de222f534",
   "metadata": {},
   "outputs": [
    {
     "name": "stdout",
     "output_type": "stream",
     "text": [
      "Vivek vivekratr@gmail Bharat\n"
     ]
    }
   ],
   "source": [
    "details.chng_country('Bharat')\n",
    "vk.prtdet()\n"
   ]
  },
  {
   "cell_type": "code",
   "execution_count": 50,
   "id": "46bdc9e7-5e15-49ec-93ca-d0a5c2a45019",
   "metadata": {},
   "outputs": [],
   "source": [
    "# a method to add external function as a part of class\n",
    "def gender(cls,g):\n",
    "    print(f\"Your gender is {g}\")"
   ]
  },
  {
   "cell_type": "code",
   "execution_count": 51,
   "id": "197f7e5d-6cd5-453c-a431-2876313ec1b0",
   "metadata": {},
   "outputs": [
    {
     "ename": "AttributeError",
     "evalue": "'details' object has no attribute 'gender'",
     "output_type": "error",
     "traceback": [
      "\u001b[0;31m---------------------------------------------------------------------------\u001b[0m",
      "\u001b[0;31mAttributeError\u001b[0m                            Traceback (most recent call last)",
      "Cell \u001b[0;32mIn[51], line 1\u001b[0m\n\u001b[0;32m----> 1\u001b[0m \u001b[43mvk\u001b[49m\u001b[38;5;241;43m.\u001b[39;49m\u001b[43mgender\u001b[49m(\u001b[38;5;124m'\u001b[39m\u001b[38;5;124mMale\u001b[39m\u001b[38;5;124m'\u001b[39m)\n",
      "\u001b[0;31mAttributeError\u001b[0m: 'details' object has no attribute 'gender'"
     ]
    }
   ],
   "source": [
    "vk.gender('Male')"
   ]
  },
  {
   "cell_type": "code",
   "execution_count": 52,
   "id": "9198ebe8-b44f-4ae4-a63d-8ae7860ab54a",
   "metadata": {},
   "outputs": [],
   "source": [
    "details.gender = classmethod(gender)"
   ]
  },
  {
   "cell_type": "code",
   "execution_count": 54,
   "id": "4c22b694-17d0-4664-a732-7b420d4e381a",
   "metadata": {},
   "outputs": [
    {
     "name": "stdout",
     "output_type": "stream",
     "text": [
      "Your gender is Male\n"
     ]
    }
   ],
   "source": [
    "vk.gender('Male')"
   ]
  },
  {
   "cell_type": "code",
   "execution_count": 101,
   "id": "9d989179-ba61-4900-9d69-530854a1921a",
   "metadata": {},
   "outputs": [],
   "source": [
    "class details1:\n",
    "    country = \"India\"\n",
    "    def __init__(self, name, email ):\n",
    "        self.name = name\n",
    "        self.email = email\n",
    "    \n",
    "    @classmethod\n",
    "    def instant_detail(cls,name,email):\n",
    "        return cls(name,email)\n",
    "    @classmethod\n",
    "    def chng_country(cls,country):\n",
    "        details1.country  = country\n",
    "    def prtdet(self):\n",
    "         print(self.name,self.email,details1.country)\n"
   ]
  },
  {
   "cell_type": "code",
   "execution_count": 102,
   "id": "71f65556-a1b2-4e1b-910d-e2c2f820ae06",
   "metadata": {},
   "outputs": [
    {
     "name": "stdout",
     "output_type": "stream",
     "text": [
      "India\n",
      "v\n",
      "Vivek v India\n"
     ]
    }
   ],
   "source": [
    "print(details1.country)\n",
    "v = details1.instant_detail('Vivek','v')\n",
    "print( v.email)\n",
    "v.prtdet()"
   ]
  },
  {
   "cell_type": "code",
   "execution_count": 103,
   "id": "23eebb3d-1731-4b36-abb4-402bf80127ec",
   "metadata": {},
   "outputs": [],
   "source": [
    "# to delete method,classmethod and variable from class\n",
    "del details1.instant_detail"
   ]
  },
  {
   "cell_type": "code",
   "execution_count": 104,
   "id": "f3ef8a14-ef9d-466c-87e1-ec6fb51ce4cf",
   "metadata": {},
   "outputs": [
    {
     "name": "stdout",
     "output_type": "stream",
     "text": [
      "India\n"
     ]
    },
    {
     "ename": "AttributeError",
     "evalue": "type object 'details1' has no attribute 'instant_detail'",
     "output_type": "error",
     "traceback": [
      "\u001b[0;31m---------------------------------------------------------------------------\u001b[0m",
      "\u001b[0;31mAttributeError\u001b[0m                            Traceback (most recent call last)",
      "Cell \u001b[0;32mIn[104], line 2\u001b[0m\n\u001b[1;32m      1\u001b[0m \u001b[38;5;28mprint\u001b[39m(details1\u001b[38;5;241m.\u001b[39mcountry)\n\u001b[0;32m----> 2\u001b[0m v \u001b[38;5;241m=\u001b[39m \u001b[43mdetails1\u001b[49m\u001b[38;5;241;43m.\u001b[39;49m\u001b[43minstant_detail\u001b[49m(\u001b[38;5;124m'\u001b[39m\u001b[38;5;124mVivek\u001b[39m\u001b[38;5;124m'\u001b[39m,\u001b[38;5;124m'\u001b[39m\u001b[38;5;124mv\u001b[39m\u001b[38;5;124m'\u001b[39m)\n\u001b[1;32m      3\u001b[0m \u001b[38;5;28mprint\u001b[39m( v\u001b[38;5;241m.\u001b[39memail)\n\u001b[1;32m      4\u001b[0m v\u001b[38;5;241m.\u001b[39mprtdet()\n",
      "\u001b[0;31mAttributeError\u001b[0m: type object 'details1' has no attribute 'instant_detail'"
     ]
    }
   ],
   "source": [
    "print(details1.country)\n",
    "v = details1.instant_detail('Vivek','v')\n",
    "print( v.email)\n",
    "v.prtdet()"
   ]
  },
  {
   "cell_type": "code",
   "execution_count": 105,
   "id": "23984fef-69c5-4bc9-8f88-36e1277b05b9",
   "metadata": {},
   "outputs": [],
   "source": [
    "delattr(details1,'prtdet')"
   ]
  },
  {
   "cell_type": "code",
   "execution_count": 106,
   "id": "6cd693f1-e074-48b1-a543-99973d1cd6ed",
   "metadata": {},
   "outputs": [
    {
     "name": "stdout",
     "output_type": "stream",
     "text": [
      "India\n"
     ]
    },
    {
     "ename": "AttributeError",
     "evalue": "'details1' object has no attribute 'prtdet'",
     "output_type": "error",
     "traceback": [
      "\u001b[0;31m---------------------------------------------------------------------------\u001b[0m",
      "\u001b[0;31mAttributeError\u001b[0m                            Traceback (most recent call last)",
      "Cell \u001b[0;32mIn[106], line 4\u001b[0m\n\u001b[1;32m      1\u001b[0m \u001b[38;5;28mprint\u001b[39m(details1\u001b[38;5;241m.\u001b[39mcountry)\n\u001b[1;32m      2\u001b[0m \u001b[38;5;66;03m# v = details1.instant_detail('Vivek','v')\u001b[39;00m\n\u001b[1;32m      3\u001b[0m \u001b[38;5;66;03m# print( v.email)\u001b[39;00m\n\u001b[0;32m----> 4\u001b[0m \u001b[43mv\u001b[49m\u001b[38;5;241;43m.\u001b[39;49m\u001b[43mprtdet\u001b[49m()\n",
      "\u001b[0;31mAttributeError\u001b[0m: 'details1' object has no attribute 'prtdet'"
     ]
    }
   ],
   "source": [
    "print(details1.country)\n",
    "# v = details1.instant_detail('Vivek','v')\n",
    "# print( v.email)\n",
    "v.prtdet()"
   ]
  },
  {
   "cell_type": "code",
   "execution_count": 107,
   "id": "a3143caf-f989-4a0a-b201-c38d4694b4b7",
   "metadata": {},
   "outputs": [],
   "source": [
    "delattr(details1,'country')"
   ]
  },
  {
   "cell_type": "code",
   "execution_count": 108,
   "id": "722f3bd9-53d2-4b0b-a1fc-1011340cc316",
   "metadata": {},
   "outputs": [
    {
     "ename": "AttributeError",
     "evalue": "type object 'details1' has no attribute 'country'",
     "output_type": "error",
     "traceback": [
      "\u001b[0;31m---------------------------------------------------------------------------\u001b[0m",
      "\u001b[0;31mAttributeError\u001b[0m                            Traceback (most recent call last)",
      "Cell \u001b[0;32mIn[108], line 1\u001b[0m\n\u001b[0;32m----> 1\u001b[0m \u001b[38;5;28mprint\u001b[39m(\u001b[43mdetails1\u001b[49m\u001b[38;5;241;43m.\u001b[39;49m\u001b[43mcountry\u001b[49m)\n\u001b[1;32m      2\u001b[0m \u001b[38;5;66;03m# v = details1.instant_detail('Vivek','v')\u001b[39;00m\n\u001b[1;32m      3\u001b[0m \u001b[38;5;66;03m# print( v.email)\u001b[39;00m\n\u001b[1;32m      4\u001b[0m \u001b[38;5;66;03m# v.prtdet()\u001b[39;00m\n",
      "\u001b[0;31mAttributeError\u001b[0m: type object 'details1' has no attribute 'country'"
     ]
    }
   ],
   "source": [
    "print(details1.country)\n",
    "# v = details1.instant_detail('Vivek','v')\n",
    "# print( v.email)\n",
    "# v.prtdet()"
   ]
  },
  {
   "cell_type": "code",
   "execution_count": null,
   "id": "c25eff09-e2fa-419b-ba4d-a1441acd3a42",
   "metadata": {},
   "outputs": [],
   "source": []
  }
 ],
 "metadata": {
  "kernelspec": {
   "display_name": "Python 3 (ipykernel)",
   "language": "python",
   "name": "python3"
  },
  "language_info": {
   "codemirror_mode": {
    "name": "ipython",
    "version": 3
   },
   "file_extension": ".py",
   "mimetype": "text/x-python",
   "name": "python",
   "nbconvert_exporter": "python",
   "pygments_lexer": "ipython3",
   "version": "3.10.8"
  }
 },
 "nbformat": 4,
 "nbformat_minor": 5
}
