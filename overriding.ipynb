{
 "cells": [
  {
   "cell_type": "code",
   "execution_count": null,
   "id": "9660a830-5d56-4f28-b069-40fb1bc2c1ba",
   "metadata": {},
   "outputs": [],
   "source": [
    "overriding is a concept where program prefer instance variable > class variable if there is a choice in between them\n",
    "Overriding is an essential part of object-oriented programming since it makes the inheritance utilize its full power.\n",
    "Overriding avoids duplication of code, and at the same time, enhances or customizes the part of it. It is a part of the inheritance mechanism.\n"
   ]
  },
  {
   "cell_type": "code",
   "execution_count": 26,
   "id": "80c5482e-b500-45aa-b438-f2972e4f77e8",
   "metadata": {},
   "outputs": [
    {
     "name": "stdout",
     "output_type": "stream",
     "text": [
      "I am inside class A's constructor Instance var in class A\n"
     ]
    }
   ],
   "source": [
    "class A:\n",
    "    classvar1 = \"I am a class variable in class A\"\n",
    "    def __init__(self):\n",
    "        self.var1 = \"I am inside class A's constructor\"\n",
    "        self.classvar1 = \"Instance var in class A\" #this will get printed as it is instance variable.\n",
    "   \n",
    "\n",
    "class B(A):\n",
    "    classvar1 = \"I am in class B\" #this will not get printed as it is class variable and not instance variable\n",
    "b = B()\n",
    "print( b.var1, b.classvar1)"
   ]
  },
  {
   "cell_type": "code",
   "execution_count": 6,
   "id": "68aa43e6-739b-41f5-a65a-a9f0e9523ac7",
   "metadata": {},
   "outputs": [
    {
     "name": "stdout",
     "output_type": "stream",
     "text": [
      "I am in class B\n"
     ]
    }
   ],
   "source": [
    "class A:\n",
    "    classvar1 = \"I am a class variable in class A\" #this will not get printed as it outside the current class\n",
    "    def __init__(self):\n",
    "        self.var1 = \"I am inside class A's constructor\"\n",
    "        # self.classvar1 = \"Instance var in class A\"\n",
    "   \n",
    "\n",
    "class B(A):\n",
    "    classvar1 = \"I am in class B\" #this will get printed as there are no instance variable and also because it comes in the current class\n",
    "\n",
    "\n",
    "\n",
    "a = A()\n",
    "b = B()\n",
    "\n",
    "print( b.classvar1)"
   ]
  },
  {
   "cell_type": "code",
   "execution_count": 11,
   "id": "bbb2e240-30ee-4ff6-82e2-29bcf772cb29",
   "metadata": {},
   "outputs": [
    {
     "name": "stdout",
     "output_type": "stream",
     "text": [
      "I am a class variable in class A\n"
     ]
    }
   ],
   "source": [
    "class A:\n",
    "    classvar1 = \"I am a class variable in class A\" #this will get printed as there is no choice\n",
    "    def __init__(self):\n",
    "        self.var1 = \"I am inside class A's constructor\"\n",
    "        # self.classvar1 = \"Instance var in class A\"\n",
    "   \n",
    "\n",
    "class B(A):\n",
    "    pass\n",
    "    # classvar1 = \"I am in class B\" \n",
    "#priority instance variable(current>parent)>class variable(current>parent)\n",
    "\n",
    "a = A()\n",
    "b = B()\n",
    "\n",
    "print( b.classvar1)"
   ]
  },
  {
   "cell_type": "code",
   "execution_count": 15,
   "id": "5eb4cd1e-9bf2-4564-892a-83409cb0ddff",
   "metadata": {},
   "outputs": [
    {
     "name": "stdout",
     "output_type": "stream",
     "text": [
      "Instance var in class B\n"
     ]
    }
   ],
   "source": [
    "class A:\n",
    "    classvar1 = \"I am a class variable in class A\"\n",
    "    def __init__(self):\n",
    "        self.var1 = \"I am inside class A's constructor\"\n",
    "        self.classvar1 = \"Instance var in class A\"\n",
    "        self.special = \"Special\"\n",
    "\n",
    "class B(A):\n",
    "    classvar1 = \"I am in class B\"\n",
    "\n",
    "    def __init__(self):\n",
    "        self.var1 = \"I am inside class B's constructor\"\n",
    "        self.classvar1 = \"Instance var in class B\" #printed as it is instance variable in current class\n",
    "        \n",
    "\n",
    "\n",
    "a = A()\n",
    "b = B()\n",
    "\n",
    "print(b.classvar1)"
   ]
  },
  {
   "cell_type": "code",
   "execution_count": 18,
   "id": "b457c125-a113-4485-a94b-ad04db1c68ae",
   "metadata": {},
   "outputs": [
    {
     "ename": "AttributeError",
     "evalue": "'B' object has no attribute 'special'",
     "output_type": "error",
     "traceback": [
      "\u001b[0;31m---------------------------------------------------------------------------\u001b[0m",
      "\u001b[0;31mAttributeError\u001b[0m                            Traceback (most recent call last)",
      "Cell \u001b[0;32mIn[18], line 21\u001b[0m\n\u001b[1;32m     18\u001b[0m a \u001b[38;5;241m=\u001b[39m A()\n\u001b[1;32m     19\u001b[0m b \u001b[38;5;241m=\u001b[39m B()\n\u001b[0;32m---> 21\u001b[0m \u001b[38;5;28mprint\u001b[39m(\u001b[43mb\u001b[49m\u001b[38;5;241;43m.\u001b[39;49m\u001b[43mspecial\u001b[49m)\n",
      "\u001b[0;31mAttributeError\u001b[0m: 'B' object has no attribute 'special'"
     ]
    }
   ],
   "source": [
    "class A:\n",
    "    classvar1 = \"I am a class variable in class A\"\n",
    "    def __init__(self):\n",
    "        self.var1 = \"I am inside class A's constructor\"\n",
    "        self.classvar1 = \"Instance var in class A\"\n",
    "        self.special = \"Special\" # this is not got printed as the B class has an instance\n",
    "\n",
    "class B(A):\n",
    "    classvar1 = \"I am in class B\"\n",
    "\n",
    "    def __init__(self):\n",
    "        self.var1 = \"I am inside class B's constructor\"\n",
    "        self.classvar1 = \"Instance var in class B\"\n",
    "        # super().__init__()\n",
    "        # print(super().classvar1)\n",
    "\n",
    "\n",
    "a = A()\n",
    "b = B()\n",
    "\n",
    "print(b.special)"
   ]
  },
  {
   "cell_type": "code",
   "execution_count": 20,
   "id": "fabca432-8883-42e2-92c3-18d16a158ed6",
   "metadata": {},
   "outputs": [
    {
     "name": "stdout",
     "output_type": "stream",
     "text": [
      "Special\n"
     ]
    }
   ],
   "source": [
    "class A:\n",
    "    classvar1 = \"I am a class variable in class A\"\n",
    "    def __init__(self):\n",
    "        self.var1 = \"I am inside class A's constructor\"\n",
    "        self.classvar1 = \"Instance var in class A\"\n",
    "        self.special = \"Special\" # this is  get printed as we have used super()\n",
    "\n",
    "class B(A):\n",
    "    classvar1 = \"I am in class B\"\n",
    "\n",
    "    def __init__(self):\n",
    "        self.var1 = \"I am inside class B's constructor\"\n",
    "        self.classvar1 = \"Instance var in class B\"\n",
    "        super().__init__()\n",
    "        # print(super().classvar1)\n",
    "\n",
    "\n",
    "a = A()\n",
    "b = B()\n",
    "\n",
    "print(b.special)"
   ]
  },
  {
   "cell_type": "code",
   "execution_count": 21,
   "id": "17a10450-0099-4a73-a1f1-00efcfa901f5",
   "metadata": {},
   "outputs": [
    {
     "name": "stdout",
     "output_type": "stream",
     "text": [
      "Special I am inside class B's constructor Instance var in class B\n"
     ]
    }
   ],
   "source": [
    "class A:\n",
    "    classvar1 = \"I am a class variable in class A\"\n",
    "    def __init__(self):\n",
    "        self.var1 = \"I am inside class A's constructor\"\n",
    "        self.classvar1 = \"Instance var in class A\"\n",
    "        self.special = \"Special\" #printed because of super()\n",
    "\n",
    "class B(A):\n",
    "    classvar1 = \"I am in class B\"\n",
    "\n",
    "    def __init__(self):\n",
    "        super().__init__()\n",
    "        self.var1 = \"I am inside class B's constructor\" #printed because after running super() this get run\n",
    "        self.classvar1 = \"Instance var in class B\"#printed because after running super() this get run\n",
    "        \n",
    "        # print(super().classvar1)\n",
    "\n",
    "\n",
    "a = A()\n",
    "b = B()\n",
    "\n",
    "print(b.special, b.var1, b.classvar1)"
   ]
  },
  {
   "cell_type": "code",
   "execution_count": 22,
   "id": "adc3b582-59d3-4d46-97f7-2288cfda7ce3",
   "metadata": {},
   "outputs": [
    {
     "name": "stdout",
     "output_type": "stream",
     "text": [
      "Special I am inside class A's constructor Instance var in class A\n"
     ]
    }
   ],
   "source": [
    "class A:\n",
    "    classvar1 = \"I am a class variable in class A\"\n",
    "    def __init__(self):\n",
    "        self.var1 = \"I am inside class A's constructor\" #printed because after running super() the compiler is here and get this run\n",
    "        self.classvar1 = \"Instance var in class A\"#printed because after running super() the compiler is here and get this run\n",
    "        self.special = \"Special\" #printed because of super()\n",
    "\n",
    "class B(A):\n",
    "    classvar1 = \"I am in class B\"\n",
    "\n",
    "    def __init__(self):\n",
    "        \n",
    "        self.var1 = \"I am inside class B's constructor\" \n",
    "        self.classvar1 = \"Instance var in class B\"\n",
    "        super().__init__()\n",
    "        # print(super().classvar1)\n",
    "\n",
    "\n",
    "a = A()\n",
    "b = B()\n",
    "\n",
    "print(b.special, b.var1, b.classvar1)"
   ]
  },
  {
   "cell_type": "code",
   "execution_count": 24,
   "id": "2b27e72e-82bc-4d78-b213-441c34c48c77",
   "metadata": {},
   "outputs": [
    {
     "name": "stdout",
     "output_type": "stream",
     "text": [
      "I am a class variable in class A\n"
     ]
    }
   ],
   "source": [
    "class A:\n",
    "    classvar1 = \"I am a class variable in class A\"\n",
    "    def __init__(self):\n",
    "        self.var1 = \"I am inside class A's constructor\" #printed because after running super() the compiler is here and get this run\n",
    "        self.classvar1 = \"Instance var in class A\"#printed because after running super() the compiler is here and get this run\n",
    "        self.special = \"Special\" #printed because of super()\n",
    "\n",
    "class B(A):\n",
    "    classvar1 = \"I am in class B\"\n",
    "\n",
    "    def __init__(self):\n",
    "        \n",
    "        self.var1 = \"I am inside class B's constructor\" \n",
    "        self.classvar1 = \"Instance var in class B\"\n",
    "        super().__init__()\n",
    "        print(super().classvar1)\n",
    "\n",
    "\n",
    "a = A()\n",
    "b = B()\n",
    "\n",
    "# print(b.special, b.var1, b.classvar1)"
   ]
  },
  {
   "cell_type": "code",
   "execution_count": null,
   "id": "1e6b3a1d-086f-43b6-a7bf-dc70a9c29479",
   "metadata": {},
   "outputs": [],
   "source": []
  }
 ],
 "metadata": {
  "kernelspec": {
   "display_name": "Python 3 (ipykernel)",
   "language": "python",
   "name": "python3"
  },
  "language_info": {
   "codemirror_mode": {
    "name": "ipython",
    "version": 3
   },
   "file_extension": ".py",
   "mimetype": "text/x-python",
   "name": "python",
   "nbconvert_exporter": "python",
   "pygments_lexer": "ipython3",
   "version": "3.10.8"
  }
 },
 "nbformat": 4,
 "nbformat_minor": 5
}
