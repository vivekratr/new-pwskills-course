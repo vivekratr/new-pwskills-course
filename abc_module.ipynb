{
 "cells": [
  {
   "cell_type": "code",
   "execution_count": null,
   "id": "c88f8e88-8230-4cca-90dd-7a98b3283c77",
   "metadata": {},
   "outputs": [],
   "source": [
    "1)t is method of forcing subclass to include the particular function in them which is define in the parent class using abc decorator\n",
    "\n",
    "2)  abc module (Abstract Base Classes) in Python is a module that provides a way to define abstract base classes in Python.  \n",
    "3) An abstract base class is a class that cannot be instantiated, but can be subclassed.\n",
    "4)It is used as a base class for defining a common interface for a set of related classes, \n",
    "and provides a way to check if a class is a subclass of the abstract base class.\n",
    "5)The use of abstract base classes provides a way to define a common interface for a set of related classes,\n",
    "which can be useful in enforcing a particular design pattern or structure in your code.\n",
    "6) It also provides a way to check if a class is a subclass of the abstract base class, which can be useful in runtime type checking and type introspection."
   ]
  },
  {
   "cell_type": "code",
   "execution_count": 4,
   "id": "65d2a4c9-a012-4e72-bd69-4a73980ccbf1",
   "metadata": {},
   "outputs": [
    {
     "name": "stdout",
     "output_type": "stream",
     "text": [
      "Area: 78.5\n",
      "True\n"
     ]
    }
   ],
   "source": [
    "from abc import ABC,abstractmethod\n",
    "\n",
    "class Shape(ABC):\n",
    "    @abstractmethod #this is enforcing its subclasses to have this 'area' function itself\n",
    "    def area(self):\n",
    "        pass\n",
    "\n",
    "class Circle(Shape):\n",
    "    def __init__(self, radius):\n",
    "        self.radius = radius\n",
    "\n",
    "    def area(self):\n",
    "        return 3.14 * self.radius * self.radius\n",
    "circle = Circle(5)\n",
    "print(\"Area:\", circle.area())\n",
    "\n",
    "# trying to create an instance of the Shape class will result in an error\n",
    "# shape = Shape()  # TypeError: Can't instantiate abstract class Shape with abstract methods area\n",
    "\n",
    "# check if Circle is a subclass of Shape\n",
    "print(issubclass(Circle, Shape))  # True\n"
   ]
  },
  {
   "cell_type": "code",
   "execution_count": null,
   "id": "f4fb2c80-4224-4105-b6b6-c206eca71df5",
   "metadata": {},
   "outputs": [],
   "source": []
  },
  {
   "cell_type": "code",
   "execution_count": 6,
   "id": "6bed622e-6831-49fa-971e-d7b99fdb6d31",
   "metadata": {},
   "outputs": [
    {
     "name": "stdout",
     "output_type": "stream",
     "text": [
      "Sides: 3\n",
      "Height: 5\n"
     ]
    }
   ],
   "source": []
  }
 ],
 "metadata": {
  "kernelspec": {
   "display_name": "Python 3 (ipykernel)",
   "language": "python",
   "name": "python3"
  },
  "language_info": {
   "codemirror_mode": {
    "name": "ipython",
    "version": 3
   },
   "file_extension": ".py",
   "mimetype": "text/x-python",
   "name": "python",
   "nbconvert_exporter": "python",
   "pygments_lexer": "ipython3",
   "version": "3.10.8"
  }
 },
 "nbformat": 4,
 "nbformat_minor": 5
}
