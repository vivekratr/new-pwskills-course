{
 "cells": [
  {
   "cell_type": "code",
   "execution_count": 12,
   "id": "8b62279a-e326-4b97-b553-4d9546751f3c",
   "metadata": {},
   "outputs": [
    {
     "name": "stdin",
     "output_type": "stream",
     "text": [
      "Enter the number of fibonacci number: 10\n"
     ]
    },
    {
     "name": "stdout",
     "output_type": "stream",
     "text": [
      "0 ,1  ,1  ,2  ,3  ,5  ,8  ,13  ,21  ,34  ,55  ,"
     ]
    }
   ],
   "source": [
    "n = int(input(\"Enter the number of fibonacci number:\"))\n",
    "i = 1\n",
    "j= 0\n",
    "ii=1\n",
    "print(j,\",\",end=\"\")\n",
    "while(ii<=n):\n",
    "    k=j\n",
    "    j=i\n",
    "    \n",
    "    i += k\n",
    "    print(j,\" ,\",end=\"\")\n",
    "    ii+=1\n",
    "\n",
    "    \n"
   ]
  },
  {
   "cell_type": "code",
   "execution_count": 14,
   "id": "f7301e46-b69f-45f6-a7ea-5d47cb871ce6",
   "metadata": {},
   "outputs": [
    {
     "name": "stdin",
     "output_type": "stream",
     "text": [
      "Enter the number: 20\n"
     ]
    },
    {
     "name": "stdout",
     "output_type": "stream",
     "text": [
      "20 x 1 = 20 \n",
      "20 x 2 = 40 \n",
      "20 x 3 = 60 \n",
      "20 x 4 = 80 \n",
      "20 x 5 = 100 \n",
      "20 x 6 = 120 \n",
      "20 x 7 = 140 \n",
      "20 x 8 = 160 \n",
      "20 x 9 = 180 \n",
      "20 x 10 = 200 \n"
     ]
    }
   ],
   "source": [
    "n = int(input(\"Enter the number:\"))\n",
    "for i in range(1,11):\n",
    "    print(f\"{n} x {i} = {n*i} \")\n"
   ]
  }
 ],
 "metadata": {
  "kernelspec": {
   "display_name": "Python 3 (ipykernel)",
   "language": "python",
   "name": "python3"
  },
  "language_info": {
   "codemirror_mode": {
    "name": "ipython",
    "version": 3
   },
   "file_extension": ".py",
   "mimetype": "text/x-python",
   "name": "python",
   "nbconvert_exporter": "python",
   "pygments_lexer": "ipython3",
   "version": "3.10.8"
  }
 },
 "nbformat": 4,
 "nbformat_minor": 5
}
