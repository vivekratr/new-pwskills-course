{
 "cells": [
  {
   "cell_type": "code",
   "execution_count": null,
   "id": "513a7dcf-b4ac-42dc-bf1e-63d852b20112",
   "metadata": {},
   "outputs": [],
   "source": [
    "Decorators in Python are a way to modify or extend the behavior of a function or class without changing its source code.\n",
    "They allow you to add additional functionality to a function or class in a clean and reusable way. Decorators are \n",
    "defined using the @ symbol followed by the name of the decorator function."
   ]
  },
  {
   "cell_type": "code",
   "execution_count": 2,
   "id": "6a6cadfd-42aa-4883-9044-074669a12fcf",
   "metadata": {},
   "outputs": [
    {
     "name": "stdout",
     "output_type": "stream",
     "text": [
      "Something is happening before the function is called.\n",
      "Hello, John!\n",
      "Something is happening after the function is called.\n"
     ]
    }
   ],
   "source": [
    "def my_decorator(func):\n",
    "    def wrapper(*args, **kwargs):\n",
    "        print(\"Something is happening before the function is called.\")\n",
    "        result = func(*args, **kwargs)\n",
    "        print(\"Something is happening after the function is called.\")\n",
    "        return result\n",
    "    return wrapper\n",
    "\n",
    "@my_decorator\n",
    "def say_hello(name):\n",
    "    print(f\"Hello, {name}!\")\n",
    "\n",
    "say_hello(\"John\")\n"
   ]
  },
  {
   "cell_type": "code",
   "execution_count": 5,
   "id": "a73254eb-f3d8-41fd-9cc2-fcd208c5593a",
   "metadata": {},
   "outputs": [
    {
     "name": "stdout",
     "output_type": "stream",
     "text": [
      "long_computation took 21.52 seconds to run.\n"
     ]
    }
   ],
   "source": [
    "import time\n",
    "\n",
    "def timer(func):\n",
    "    def wrapper(*args, **kwargs):\n",
    "        start_time = time.time()\n",
    "        result = func(*args, **kwargs)\n",
    "        end_time = time.time()\n",
    "        print(f\"{func.__name__} took {end_time - start_time:.2f} seconds to run.\")\n",
    "        return result\n",
    "    return wrapper\n",
    "\n",
    "@timer\n",
    "def long_computation():\n",
    "    for i in range(1000000000):\n",
    "        pass\n",
    "\n",
    "long_computation()\n"
   ]
  }
 ],
 "metadata": {
  "kernelspec": {
   "display_name": "Python 3 (ipykernel)",
   "language": "python",
   "name": "python3"
  },
  "language_info": {
   "codemirror_mode": {
    "name": "ipython",
    "version": 3
   },
   "file_extension": ".py",
   "mimetype": "text/x-python",
   "name": "python",
   "nbconvert_exporter": "python",
   "pygments_lexer": "ipython3",
   "version": "3.10.8"
  }
 },
 "nbformat": 4,
 "nbformat_minor": 5
}
