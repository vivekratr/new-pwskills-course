{
 "cells": [
  {
   "cell_type": "code",
   "execution_count": 36,
   "id": "44f18833-e898-4486-9f97-6ef19f850034",
   "metadata": {},
   "outputs": [
    {
     "ename": "SyntaxError",
     "evalue": "invalid syntax (2227723426.py, line 9)",
     "output_type": "error",
     "traceback": [
      "\u001b[0;36m  Cell \u001b[0;32mIn[36], line 9\u001b[0;36m\u001b[0m\n\u001b[0;31m    l2 = list(map((lambda a:i if a == i[1] else continue for i in l),l1 ))\u001b[0m\n\u001b[0m                                                ^\u001b[0m\n\u001b[0;31mSyntaxError\u001b[0m\u001b[0;31m:\u001b[0m invalid syntax\n"
     ]
    }
   ],
   "source": [
    "# Q1. Create a python program to sort the given list of tuples based on integer value using a\n",
    "# lambda function.\n",
    "l = [('Sachin Tendulkar', 34357), ('Ricky Ponting', 27483), ('Jack Kallis', 25534), ('Virat Kohli', 24936)]\n",
    "l1 = list(map(lambda a:a[1],l))\n",
    "l1.sort()\n",
    "print(l1)\n",
    "# l1.iter()\n",
    "l2 = []\n",
    "l2 = list(map((lambda a:i if a == i[1] else continue for i in l),l1 ))\n",
    "n = 0\n",
    "# for i in l1:\n",
    "#     for j in l:\n",
    "#         if i == j[1]:\n",
    "#             l2.append(j)\n",
    "#             n = n+1\n",
    "print(l2)"
   ]
  },
  {
   "cell_type": "code",
   "execution_count": 18,
   "id": "b01ea893-8edd-4db3-bda1-0f90a178d076",
   "metadata": {},
   "outputs": [
    {
     "data": {
      "text/plain": [
       "[1, 4, 9, 16, 25, 36, 49, 64, 81, 100]"
      ]
     },
     "execution_count": 18,
     "metadata": {},
     "output_type": "execute_result"
    }
   ],
   "source": [
    "# Q2. Write a Python Program to find the squares of all the numbers in the given list of integers using\n",
    "# lambda and map functions.\n",
    "l2 = [1, 2, 3, 4, 5, 6, 7, 8, 9, 10]\n",
    "l3 = list(map(lambda a:a**2,l2))\n",
    "l3"
   ]
  },
  {
   "cell_type": "code",
   "execution_count": 10,
   "id": "0d39d712-512f-4a79-8032-69fc7593b5bc",
   "metadata": {},
   "outputs": [
    {
     "data": {
      "text/plain": [
       "['1', '2', '3', '4', '5', '6', '7', '8', '9', '10']"
      ]
     },
     "execution_count": 10,
     "metadata": {},
     "output_type": "execute_result"
    }
   ],
   "source": [
    "# Q3. Write a python program to convert the given list of integers into a tuple of strings. Use map and\n",
    "# lambda functions\n",
    "l4= [1, 2, 3, 4, 5, 6, 7, 8, 9, 10]\n",
    "l6 = []\n",
    "list(map(lambda a: l6.append(str(a)),l4))\n",
    "l6"
   ]
  },
  {
   "cell_type": "code",
   "execution_count": 3,
   "id": "4edfaf92-6258-43ec-a787-570ebae7ae36",
   "metadata": {},
   "outputs": [
    {
     "data": {
      "text/plain": [
       "15511210043330985984000000"
      ]
     },
     "execution_count": 3,
     "metadata": {},
     "output_type": "execute_result"
    }
   ],
   "source": [
    "# Q4. Write a python program using reduce function to compute the product of a list containing numbers\n",
    "# from 1 to 25.\n",
    "from functools import reduce\n",
    "l6 = [i for i in range(1,26)]\n",
    "prod = reduce(lambda a,b: a*b,l6)\n",
    "prod"
   ]
  },
  {
   "cell_type": "code",
   "execution_count": 28,
   "id": "d6e57a25-6c50-41ac-8d0b-797e9c7821b5",
   "metadata": {},
   "outputs": [
    {
     "data": {
      "text/plain": [
       "[6, 60, 90, 120]"
      ]
     },
     "execution_count": 28,
     "metadata": {},
     "output_type": "execute_result"
    }
   ],
   "source": [
    "# Q5. Write a python program to filter the numbers in a given list that are divisible by 2 and 3 using the\n",
    "# filter function.\n",
    "l7 = [2, 3, 6, 9, 27, 60, 90, 120, 55, 46]\n",
    "l8 = list(filter(lambda a: a%2==0 and a%3 == 0,l7))\n",
    "l8"
   ]
  },
  {
   "cell_type": "code",
   "execution_count": 32,
   "id": "daf85c75-f9dc-4da0-9bdc-46cea73fb912",
   "metadata": {},
   "outputs": [
    {
     "data": {
      "text/plain": [
       "['php', 'aba', 'radar', 'level']"
      ]
     },
     "execution_count": 32,
     "metadata": {},
     "output_type": "execute_result"
    }
   ],
   "source": [
    "# Q6. Write a python program to find palindromes in the given list of strings using lambda and filter\n",
    "# function.\n",
    "str1 = ['python', 'php', 'aba', 'radar', 'level']\n",
    "f1 = list(filter(lambda a: a== a[::-1],str1))\n",
    "f1"
   ]
  },
  {
   "cell_type": "code",
   "execution_count": null,
   "id": "ff77efb8-36d4-41fd-a9b9-70e1acfa76b0",
   "metadata": {},
   "outputs": [],
   "source": []
  }
 ],
 "metadata": {
  "kernelspec": {
   "display_name": "Python 3 (ipykernel)",
   "language": "python",
   "name": "python3"
  },
  "language_info": {
   "codemirror_mode": {
    "name": "ipython",
    "version": 3
   },
   "file_extension": ".py",
   "mimetype": "text/x-python",
   "name": "python",
   "nbconvert_exporter": "python",
   "pygments_lexer": "ipython3",
   "version": "3.10.8"
  }
 },
 "nbformat": 4,
 "nbformat_minor": 5
}
