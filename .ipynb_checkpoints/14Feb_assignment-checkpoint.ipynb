{
 "cells": [
  {
   "cell_type": "code",
   "execution_count": null,
   "id": "7e331165-61a5-440c-a466-119cbc37213d",
   "metadata": {},
   "outputs": [],
   "source": [
    "Q.1). What is multithreading in python? Why is it used? Name the module used to handle threads in python\n",
    "Ans->1) Multithreading in Python refers to the concurrent execution of multiple threads within a single process.\n",
    "2) Each thread runs independently and can perform different tasks simultaneously, making it possible to improve the performance\n",
    "and efficiency of a program by utilizing the available resources more effectively.\n",
    "3) Multithreading is used in Python to execute time-consuming tasks in the background while keeping the user interface responsive,\n",
    "or to perform multiple I/O-bound tasks simultaneously.\n",
    "4) Threading module is used to handle threads in Python."
   ]
  },
  {
   "cell_type": "code",
   "execution_count": null,
   "id": "89ece82f-3c33-44dc-ad79-a99b8710e66f",
   "metadata": {},
   "outputs": [],
   "source": [
    "Q.2) Why threading module used? Write the use of the following functions\n",
    " activeCount()\n",
    " currentThread()\n",
    " enumerate()\n",
    "Ans->1) The threading module is used in Python to create and manage threads within a single program. \n",
    "2)activeCount(): This function returns the number of currently active threads in the program. \n",
    "3) currentThread(): This function returns a reference to the current thread object.\n",
    "It can be used to get information about the current thread, such as its name, ID, and status.\n",
    "4) enumerate(): This function returns a list of all currently active thread objects in the program. \n",
    "It can be useful to get an overview of all the active threads and their statuses."
   ]
  },
  {
   "cell_type": "code",
   "execution_count": null,
   "id": "29a6c94a-f4bb-4d51-9880-31fcb31e28a0",
   "metadata": {},
   "outputs": [],
   "source": [
    "Q.3. Explain the following functions\n",
    "( run\n",
    " start\n",
    " join\n",
    " isAlive)\n",
    "Ans->1) run(): This method is called when a new thread is started, and it contains the code that the thread will execute. \n",
    "2) start(): This method starts a new thread and calls the run() method. The thread will execute independently, \n",
    "running the code defined in the run() method.\n",
    "3) join(): This method blocks the calling thread until the thread being joined is completed. \n",
    "4) isAlive(): This method returns a boolean value indicating whether the thread is currently running."
   ]
  },
  {
   "cell_type": "code",
   "execution_count": 31,
   "id": "c7b387a9-6b53-4d12-9237-5433d447f10b",
   "metadata": {},
   "outputs": [
    {
     "name": "stdout",
     "output_type": "stream",
     "text": [
      "[1, 4, 9, 16, 25, 36, 49, 64, 81]\n",
      "[1, 8, 27, 64, 125, 216, 343, 512, 729]\n"
     ]
    }
   ],
   "source": [
    "# Q.4 Write a python program to create two threads. Thread one must print the list of squares and thread\n",
    "# two must print the list of cubes\n",
    "# Ans->\n",
    "import threading\n",
    "import logging\n",
    "logging.basicConfig(filename='14Feb4.log',level=logging.DEBUG)\n",
    "def sqr(i):\n",
    "    l =[]\n",
    "    for ii in i:\n",
    "        l.append(ii**2)\n",
    "    print(l)\n",
    "    logging.info('List of square numbers been printed using multithreading concept.')\n",
    "def cubr(i):\n",
    "    l =[]\n",
    "    for ii in i:\n",
    "        l.append(ii**3)\n",
    "    print(l)\n",
    "    logging.info('List of cube numbers been printed using multithreading concept.')\n",
    "    \n",
    "l1 = [1,2,3,4,5,6,7,8,9]\n",
    "th = [threading.Thread(target=sqr,args=(l1,)) ]\n",
    "th1 = [threading.Thread(target=cubr,args=(l1,))]\n",
    "h = [th,th1]\n",
    "for i in h:\n",
    "    for j in i:\n",
    "        j.start()\n"
   ]
  },
  {
   "cell_type": "code",
   "execution_count": null,
   "id": "d51f8070-90fd-4962-9d52-259b82c4b097",
   "metadata": {},
   "outputs": [],
   "source": [
    "Q.5 State advantages and disadvantages of multithreading\n",
    "Ans->Advantages:\n",
    "a) Improved performance: Multithreading can improve the performance of a program by allowing multiple tasks to be executed simultaneously,\n",
    "making use of available CPU resources.\n",
    "b) Responsiveness: Multithreading can help keep a program responsive by allowing long-running tasks to be executed in the background,\n",
    "while the main thread continues to process user input.\n",
    "c) Resource sharing: Multithreading allows multiple threads to share resources such as memory and files,\n",
    "which can reduce memory usage and increase efficiency.\n",
    "d) Modularity: Multithreading can make it easier to write modular code by separating different parts of the program into separate threads.\n",
    "\n",
    "Disadvantages:\n",
    "\n",
    "a) Complexity: Multithreading adds complexity to a program, which can make it harder to debug and maintain.\n",
    "It can also introduce race conditions and synchronization issues.\n",
    "b) Scalability: Multithreading can have diminishing returns as the number of threads increases.\n",
    "Adding more threads can increase overhead and contention, which can reduce performance.\n",
    "c) Deadlocks: Multithreading can lead to deadlocks, where two or more threads are blocked waiting for each other to release resources.\n",
    "This can cause the program to hang or crash."
   ]
  },
  {
   "cell_type": "code",
   "execution_count": null,
   "id": "18fdaa18-4ff4-42ee-992b-de6e0f717ad6",
   "metadata": {},
   "outputs": [],
   "source": [
    "Q.6 Explain deadlocks and race conditions.\n",
    "Ans->1) Deadlocks:\n",
    "    a) A deadlock occurs when two or more threads are blocked waiting for each other to release resources. \n",
    "    b) In other words, each thread is holding a resource that the other thread needs, and neither can proceed until the other releases the resource.\n",
    "    c) This can result in a situation where both threads are stuck and the program becomes unresponsive.\n",
    "2) Race conditions:\n",
    "    a) A race condition occurs when the behavior of a program depends on the timing of events, which can lead to unpredictable results.\n",
    "    b) Race conditions can occur when multiple threads access shared resources, such as variables or files, without proper synchronization.\n",
    "    "
   ]
  }
 ],
 "metadata": {
  "kernelspec": {
   "display_name": "Python 3 (ipykernel)",
   "language": "python",
   "name": "python3"
  },
  "language_info": {
   "codemirror_mode": {
    "name": "ipython",
    "version": 3
   },
   "file_extension": ".py",
   "mimetype": "text/x-python",
   "name": "python",
   "nbconvert_exporter": "python",
   "pygments_lexer": "ipython3",
   "version": "3.10.8"
  }
 },
 "nbformat": 4,
 "nbformat_minor": 5
}
