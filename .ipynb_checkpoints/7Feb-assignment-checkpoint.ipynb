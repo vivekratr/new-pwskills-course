{
 "cells": [
  {
   "cell_type": "code",
   "execution_count": 1,
   "id": "6e8f2800-b4fe-4004-8062-eeb4a46026bf",
   "metadata": {},
   "outputs": [
    {
     "name": "stdout",
     "output_type": "stream",
     "text": [
      "Invalid Password\n",
      "0\n"
     ]
    }
   ],
   "source": [
    "# Q1. You are writing code for a company. The requirement of the company is that you create a python\n",
    "# function that will check whether the password entered by the user is correct or not. The function should\n",
    "# take the password as input and return the string “Valid Password” if the entered password follows the\n",
    "# below-given password guidelines else it should return “Invalid Password”.\n",
    "# Note: 1. The Password should contain at least two uppercase letters and at least two lowercase letters.\n",
    "# 2. The Password should contain at least a number and three special characters.\n",
    "# 3. The length of the password should be 10 characters long.\n",
    "from functools import reduce\n",
    "def valPass(s):\n",
    "    # upperc =[lambda a:1 if a.isupper() == True else 0,s[::1]]\n",
    "    length = len(s)\n",
    "    if length != 10: #in the question it is given that password should be 10 characters long\n",
    "        print(\"Invalid Password\")\n",
    "        exit()\n",
    "    upper = len(list(filter(lambda a: a.isupper()==True,s)))\n",
    "    lower = len(list(filter(lambda a: a.islower()==True,s)))\n",
    "    num = len(list(filter(lambda a: a.isdigit()==True,s)))\n",
    "    \n",
    "    \n",
    "    \n",
    "    print(num)\n",
    "ss = 'fnaisNNK#'\n",
    "valPass(list(ss))"
   ]
  }
 ],
 "metadata": {
  "kernelspec": {
   "display_name": "Python 3 (ipykernel)",
   "language": "python",
   "name": "python3"
  },
  "language_info": {
   "codemirror_mode": {
    "name": "ipython",
    "version": 3
   },
   "file_extension": ".py",
   "mimetype": "text/x-python",
   "name": "python",
   "nbconvert_exporter": "python",
   "pygments_lexer": "ipython3",
   "version": "3.10.8"
  }
 },
 "nbformat": 4,
 "nbformat_minor": 5
}
