{
 "cells": [
  {
   "cell_type": "code",
   "execution_count": null,
   "id": "9efe53b0-f282-4cb2-9c06-752584570d81",
   "metadata": {},
   "outputs": [],
   "source": [
    "Q.1 What is a database? Differentiate between SQL and NoSQL databases.\n",
    "Ans->\n",
    "1) A database is a collection of data that is organized and stored in a way that allows easy access, retrieval, and management of the data.\n",
    "2) SQL:\n",
    "    a) SQL databases are traditional databases that use tables with predefined columns and data types to store data. \n",
    "    b) They are based on the relational data model, which means that data is organized in tables and linked by relationships. \n",
    "    c) THis databases use SQL to manipulate and query data.\n",
    "3) NoSQL:\n",
    "    a) NoSQL (Not Only SQL) databases are non-relational databases that use flexible and dynamic data models. \n",
    "    b) NoSQL databases do not use tables or predefined schemas, which allows for more flexible data modeling. \n",
    "    c) NoSQL databases use various data models, such as document, key-value, column-family, and graph models. "
   ]
  },
  {
   "cell_type": "code",
   "execution_count": null,
   "id": "3b726892-e35c-44ad-841c-56b9e78adb22",
   "metadata": {},
   "outputs": [],
   "source": [
    "Q2. What is DDL? Explain why CREATE, DROP, ALTER, and TRUNCATE are used with an example.\n",
    "Ans->\n",
    "1) DDL stands for Data Definition Language, which is used to create, modify, and delete database objects such as tables.\n",
    "2) DDL statements are used to define the structure and organization of the data in a database.\n",
    "a) CREATE: This statement is used to create a new database object, such as a table or view, in the database.\n",
    "e.g:\n",
    "    create table emp (\n",
    "  id INT ,\n",
    "  name VARCHAR(50),\n",
    "  salary DECIMAL(10,2));\n",
    "\n",
    "b) DROP: This statement is used to delete an existing database object from the database.\n",
    "e.g: drop table emp;\n",
    "\n",
    "c) ALTER: This statement is used to modify an existing database object, such as a table or column.\n",
    "e.g: alter table emp\n",
    "add date_of_join INT;\n",
    "\n",
    "d) Truncate: This statement is used to remove all data from an existing table without deleting the table itself.\n",
    "e.g Truncate table emp;\n",
    "\n"
   ]
  },
  {
   "cell_type": "code",
   "execution_count": null,
   "id": "e602983f-b3db-466f-ab74-7a551645cc0a",
   "metadata": {},
   "outputs": [],
   "source": [
    "Q3. What is DML? Explain INSERT, UPDATE, and DELETE with an example.\n",
    "Ans->\n",
    "1) DML stands for Data Manipulation Language, which is used to manipulate data within a database. \n",
    "2) DML statements are used to insert, update, and delete data in database tables.\n",
    "a) INSERT: This statement is used to insert new data into a table.\n",
    "e.g: insert into emp\n",
    "values\n",
    "(1,'sudh',100000000);\n",
    "\n",
    "b) UPDATE: This statement is used to modify existing data in a table.\n",
    "e.g:UPDATE employees\n",
    "SET salary = 55000\n",
    "WHERE id = 1;\n",
    "\n",
    "c) DELETE: This statement is used to delete data from a table. \n",
    "e.g: delete from table emp\n",
    "where id = 1;\n"
   ]
  },
  {
   "cell_type": "code",
   "execution_count": null,
   "id": "11ad89d4-75c9-4e40-bdd3-fa3cd6f83411",
   "metadata": {},
   "outputs": [],
   "source": [
    "Q4. What is DQL? Explain SELECT with an example.\n",
    "Ans->\n",
    "1) DQL stands for Data Query Language, which is used to retrieve data from a database. \n",
    "2) DQL statements are used to perform queries on database tables and views.\n",
    "a) SELECT: This statement is used to retrieve data from a table or view.\n",
    "e.g: \n",
    "    select * from emp"
   ]
  },
  {
   "cell_type": "code",
   "execution_count": null,
   "id": "2f1365a5-92a7-4b7b-802b-be92ab725031",
   "metadata": {},
   "outputs": [],
   "source": [
    "Q5. Explain Primary Key and Foreign Key.\n",
    "Ans->\n",
    "1) Primary Key:\n",
    "    a) A primary key is a unique identifier for a row in a database table. \n",
    "    b) It is a column that uniquely identifies each record in the table. \n",
    "    c) The primary key must be unique, not null, and it should not change over time. \n",
    "    d) Every table should have a primary key defined, as it is used to establish relationships with other tables.\n",
    "2) Foreign Key: \n",
    "    a) A foreign key is a column or a set of columns in one table that refers to the primary key of another table. \n",
    "    b) It is used to establish a relationship between two tables. \n",
    "    c) The foreign key constraint ensures that the values in the foreign key column of one table match the values in the primary key column of another table."
   ]
  },
  {
   "cell_type": "code",
   "execution_count": null,
   "id": "575e4890-68fc-49c1-96c9-cb73fe568771",
   "metadata": {},
   "outputs": [],
   "source": [
    "Q6. Write a python code to connect MySQL to python. Explain the cursor() and execute() method.\n",
    "Ans-> \n",
    "1)import mysql.connector\n",
    "\n",
    "udb = mysql.connector.connect(\n",
    "host = \"localhost\",\n",
    "user =\"abc\",\n",
    "password =\"password\"\n",
    ")\n",
    "\n",
    "2) cursor(): \n",
    "    a) THis method creates a new cursor object.\n",
    "    b) This cursor object can be used to execute SQL queries and retrieve results. \n",
    "    c) The cursor object is a temporary work area that is used to interact with the database.\n",
    "3) execute():\n",
    "    a) The execute() method is used to execute SQL queries on the database using the cursor object.\n",
    "    b) The SQL query is passed as an argument to the execute() method.\n",
    "    c) The execute() method returns the number of rows affected by the query, or None if no rows were affected."
   ]
  },
  {
   "cell_type": "code",
   "execution_count": null,
   "id": "a593d5f1-b642-48de-ab4d-99ab617297fb",
   "metadata": {},
   "outputs": [],
   "source": [
    "Q7. Give the order of execution of SQL clauses in an SQL query.\n",
    "Ans->\n",
    "1) FROM clause: This clause specifies the table or tables from which data will be selected.\n",
    "2) WHERE clause: This clause is used to filter data based on specific conditions.\n",
    "3) GROUP BY clause: This clause is used to group the results based on one or more columns.\n",
    "4) HAVING clause: This clause is used to filter the results of the GROUP BY clause based on specific conditions.\n",
    "5) SELECT clause: This clause is used to select the columns that should be returned in the result set.\n",
    "6) ORDER BY clause: This clause is used to sort the results based on one or more columns.\n",
    "7) LIMIT clause: This clause is used to limit the number of rows returned in the result set"
   ]
  }
 ],
 "metadata": {
  "kernelspec": {
   "display_name": "Python 3 (ipykernel)",
   "language": "python",
   "name": "python3"
  },
  "language_info": {
   "codemirror_mode": {
    "name": "ipython",
    "version": 3
   },
   "file_extension": ".py",
   "mimetype": "text/x-python",
   "name": "python",
   "nbconvert_exporter": "python",
   "pygments_lexer": "ipython3",
   "version": "3.10.8"
  }
 },
 "nbformat": 4,
 "nbformat_minor": 5
}
