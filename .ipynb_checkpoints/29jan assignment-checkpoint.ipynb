{
 "cells": [
  {
   "cell_type": "code",
   "execution_count": 2,
   "id": "f208b870-b766-40d4-a502-455511d244d7",
   "metadata": {},
   "outputs": [],
   "source": [
    "Q.NO1 Who developed Python Programming Language?\n",
    "Ans->  Guido van Rossum developed Python"
   ]
  },
  {
   "cell_type": "code",
   "execution_count": null,
   "id": "2820cf13-b242-4b71-b39c-26b1ea8eaae6",
   "metadata": {},
   "outputs": [],
   "source": [
    "Q.NO2 Which type of Programming does Python support?\n",
    "Ans-> Python supports multiple programming paradigms including procedural, object-oriented, functional and aspect-oriented programming."
   ]
  },
  {
   "cell_type": "code",
   "execution_count": null,
   "id": "80c38a3f-8105-46e1-98ab-2c1f94df5f92",
   "metadata": {},
   "outputs": [],
   "source": [
    "Q.NO3 Is Python case sensitive when dealing with identifiers?\n",
    "Ans-> Yes, Python is case sensitive when dealing with identifiers."
   ]
  },
  {
   "cell_type": "code",
   "execution_count": null,
   "id": "2ff2df79-e87a-4c83-82fa-21f5fdc9e53a",
   "metadata": {},
   "outputs": [],
   "source": [
    "Q.NO4 What is the correct extension of the Python file?\n",
    "Ands-> '.py' is the correct extension for Python files."
   ]
  },
  {
   "cell_type": "code",
   "execution_count": null,
   "id": "4d43b13c-bef5-4c58-b2b7-8626671abe79",
   "metadata": {},
   "outputs": [],
   "source": [
    "Q.NO5 Is Python code compiled or interpreted?\n",
    "Ans-> Python is an interpreted language, not a compiled language. So, Python codes are interpreted."
   ]
  },
  {
   "cell_type": "code",
   "execution_count": null,
   "id": "14fa6380-a409-4128-a789-70313bc29f87",
   "metadata": {},
   "outputs": [],
   "source": [
    "Q.NO6 Name a few blocks of code used to define in Python language?\n",
    "Ans-> Function\n",
    "Class\n",
    "Loops\n",
    "Conditional Statements."
   ]
  },
  {
   "cell_type": "code",
   "execution_count": null,
   "id": "47b48fe0-2cac-4036-b0bf-bf7add101426",
   "metadata": {},
   "outputs": [],
   "source": [
    "Q.NO7 State a character used to give single-line comments in Python?\n",
    "Ans-> '#' is a character which is used to give single-line comments in Python."
   ]
  },
  {
   "cell_type": "code",
   "execution_count": null,
   "id": "35fca5d1-60b3-445d-9427-4afb62d55a2a",
   "metadata": {},
   "outputs": [],
   "source": [
    "Q.NO8  Mention functions which can help us to find the version of python that we are currently working on?\n",
    "Ans->sys.version: This returns a string that gives information about the Python version, including the version number and build date."
   ]
  },
  {
   "cell_type": "code",
   "execution_count": null,
   "id": "3de5f93e-0ddb-4431-85e9-f53d559ab32f",
   "metadata": {},
   "outputs": [],
   "source": [
    "Q.NO9 Python supports the creation of anonymous functions at runtime, using a construct called\n",
    "Ans->  Lambda"
   ]
  },
  {
   "cell_type": "code",
   "execution_count": null,
   "id": "4d27b5db-ccd4-4a31-8e4f-7f9525eaee89",
   "metadata": {},
   "outputs": [],
   "source": [
    "Q.NO10 What does pip stand for python? \n",
    "Ans->PIP stands for \"Python Package Index\""
   ]
  },
  {
   "cell_type": "code",
   "execution_count": null,
   "id": "c701c9a6-4bcd-4972-82ea-e757c54c88fe",
   "metadata": {},
   "outputs": [],
   "source": [
    "Q.NO11 Mention a few built-in functions in python?\n",
    "Ans-> print(): prints output to the console.\n",
    "len(): returns the length of an object (e.g., the number of items in a list).\n",
    "int(): converts a value to an integer.\n",
    "float(): converts a value to a floating-point number.\n",
    "str(): converts a value to a string.\n",
    "min(): returns the minimum of a list of values.\n",
    "max(): returns the maximum of a list of values.\n",
    "sum(): returns the sum of a list of numbers.\n",
    "sorted(): returns a sorted list of values.\n",
    "abs(): returns the absolute value of a number."
   ]
  },
  {
   "cell_type": "code",
   "execution_count": null,
   "id": "fdb6dcf6-6a67-4f25-8ba0-b665a86fdd12",
   "metadata": {},
   "outputs": [],
   "source": [
    "Q.NO12 What is the maximum possible length of an identifier in Python? \n",
    "Ans-> AROUND 255 CHARACTERS."
   ]
  },
  {
   "cell_type": "code",
   "execution_count": null,
   "id": "001c9943-2ebe-4052-933a-97ea864d53fe",
   "metadata": {},
   "outputs": [],
   "source": [
    "Q.NO13 What are the benefits of using Python?\n",
    "Ans-> It is very easy to learn and execute any type of logic in Python. Almost anything we can do with Python like Data analytics,etc"
   ]
  },
  {
   "cell_type": "code",
   "execution_count": null,
   "id": "26c96a88-8497-455d-afbf-e1be9aa2b3bd",
   "metadata": {},
   "outputs": [],
   "source": [
    "Q.NO14 How Is memory managed in Python? \n",
    "Ans-> In Python, memory management is handled automatically by the Python memory manager, which is a component of the Python interpreter.\n",
    "The memory manager keeps track of all the objects that are created during the execution of a program and manages their allocation and \n",
    "deallocation in the memory."
   ]
  },
  {
   "cell_type": "code",
   "execution_count": null,
   "id": "4fa2928b-3afb-471e-93c9-711898689ec3",
   "metadata": {},
   "outputs": [],
   "source": [
    "Q.NO15 How to install Python on Windows and set path variables?\n",
    "Ans-> STEP 1: Download the latest Python Package from the official website of Python.\n",
    "Step 2: Open the package and install it in  your system.\n",
    "Step 3 : While proceeding with installation it will ask if you want to add it to the Path Environment, simply click on it and proceed.\n",
    "Step 4 : There is another way :\n",
    "Open the Start menu and search for \"Environment Variables\".\n",
    "\n",
    "Click on \"Edit the system environment variables\".\n",
    "\n",
    "Click on the \"Environment Variables\" button.\n",
    "\n",
    "Scroll down to the \"System Variables\" section, and find the \"Path\" variable.\n",
    "\n",
    "Click on \"Edit\".\n",
    "\n",
    "Add the location of your Python installation to the Path variable. This location should be C:\\PythonXX\\, where XX is the version number of Python you have installed.\n",
    "\n",
    "Click on \"OK\" to close the Environment Variables window.\n",
    "\n",
    "Close and re-open the Command Prompt to apply the changes."
   ]
  },
  {
   "cell_type": "code",
   "execution_count": null,
   "id": "24c755af-ef86-4d22-822d-9f857d293260",
   "metadata": {},
   "outputs": [],
   "source": [
    "Q.NO16 Is indentation required in python?\n",
    "Ans-> Yes, indentation is required in Python. Indentation is used to define blocks of code, such as loops, function definitions,\n",
    "and conditional statements. In Python, blocks of code are defined by their indentation level, rather than by curly braces or other syntax."
   ]
  }
 ],
 "metadata": {
  "kernelspec": {
   "display_name": "Python 3 (ipykernel)",
   "language": "python",
   "name": "python3"
  },
  "language_info": {
   "codemirror_mode": {
    "name": "ipython",
    "version": 3
   },
   "file_extension": ".py",
   "mimetype": "text/x-python",
   "name": "python",
   "nbconvert_exporter": "python",
   "pygments_lexer": "ipython3",
   "version": "3.10.8"
  }
 },
 "nbformat": 4,
 "nbformat_minor": 5
}
