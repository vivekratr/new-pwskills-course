{
 "cells": [
  {
   "cell_type": "code",
   "execution_count": null,
   "id": "aa1dae9f-f83d-4cfa-a546-3e401e607283",
   "metadata": {},
   "outputs": [],
   "source": [
    "# Q.NO 1\n",
    "# Ans-> We use for loop when we know how many times we need to repeat the particular statements.\n",
    "#       for example:\n",
    "#       program to print the first n natural numbers\n",
    "n = int(input(\"Enter the number:\"))\n",
    "for i in range(1,n+1):\n",
    "    \n",
    "        print(i,\",\",end=\" \")\n",
    "#         here we know that for loop will iterate for n times\n",
    "\n",
    "# We use while loop where we do not know how many times the loop will iterate\n",
    "# for example:\n",
    "# program to identify the number of digits in a number without len()\n",
    "\n",
    "n1 = int(input(\"Enter the number:\"))\n",
    "n2 = n1\n",
    "dig =0\n",
    "while(n2 >= 0):\n",
    "    dig +=1\n",
    "    n2 /=10\n",
    "print(f\"{n1} has {dig} digits\")\n",
    "    "
   ]
  },
  {
   "cell_type": "code",
   "execution_count": null,
   "id": "b9e5d1bc-c51b-41cf-b1f3-3b000e033538",
   "metadata": {},
   "outputs": [],
   "source": []
  },
  {
   "cell_type": "code",
   "execution_count": null,
   "id": "267249ec-23ee-4721-ab78-240931587111",
   "metadata": {},
   "outputs": [],
   "source": []
  }
 ],
 "metadata": {
  "kernelspec": {
   "display_name": "Python 3 (ipykernel)",
   "language": "python",
   "name": "python3"
  },
  "language_info": {
   "codemirror_mode": {
    "name": "ipython",
    "version": 3
   },
   "file_extension": ".py",
   "mimetype": "text/x-python",
   "name": "python",
   "nbconvert_exporter": "python",
   "pygments_lexer": "ipython3",
   "version": "3.10.8"
  }
 },
 "nbformat": 4,
 "nbformat_minor": 5
}
