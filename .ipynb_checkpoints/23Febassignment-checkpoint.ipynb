{
 "cells": [
  {
   "cell_type": "code",
   "execution_count": 5,
   "id": "b0b27fe2-1465-4ca4-9387-e4a0a42f5982",
   "metadata": {},
   "outputs": [
    {
     "name": "stdout",
     "output_type": "stream",
     "text": [
      "<class 'pandas.core.series.Series'>\n",
      "0     4\n",
      "1     8\n",
      "2    15\n",
      "3    16\n",
      "4    23\n",
      "5    42\n",
      "dtype: int64\n"
     ]
    }
   ],
   "source": [
    "# Q1. Create a Pandas Series that contains the following data: 4, 8, 15, 16, 23, and 42. Then, print the series.\n",
    "import pandas as pd\n",
    "a1 = pd.Series([4, 8, 15, 16, 23,42])\n",
    "print(type(a1))\n",
    "print(a1)"
   ]
  },
  {
   "cell_type": "code",
   "execution_count": 7,
   "id": "827efb74-6b3b-4f7c-b8b3-ddd5ff11756e",
   "metadata": {},
   "outputs": [
    {
     "name": "stdout",
     "output_type": "stream",
     "text": [
      "0    1\n",
      "1    2\n",
      "2    3\n",
      "3    4\n",
      "4    5\n",
      "5    6\n",
      "6    7\n",
      "7    8\n",
      "8    9\n",
      "9    0\n",
      "dtype: int64\n"
     ]
    }
   ],
   "source": [
    "# Q2. Create a variable of list type containing 10 elements in it, and apply pandas.Series function on the\n",
    "# variable print it.\n",
    "a2 = [1,2,3,4,5,6,7,8,9,0]\n",
    "print(pd.Series(a2))"
   ]
  },
  {
   "cell_type": "code",
   "execution_count": 10,
   "id": "27bd44e1-496c-45e1-8f04-398448121bd3",
   "metadata": {},
   "outputs": [
    {
     "data": {
      "text/html": [
       "<div>\n",
       "<style scoped>\n",
       "    .dataframe tbody tr th:only-of-type {\n",
       "        vertical-align: middle;\n",
       "    }\n",
       "\n",
       "    .dataframe tbody tr th {\n",
       "        vertical-align: top;\n",
       "    }\n",
       "\n",
       "    .dataframe thead th {\n",
       "        text-align: right;\n",
       "    }\n",
       "</style>\n",
       "<table border=\"1\" class=\"dataframe\">\n",
       "  <thead>\n",
       "    <tr style=\"text-align: right;\">\n",
       "      <th></th>\n",
       "      <th>Name</th>\n",
       "      <th>Age</th>\n",
       "      <th>Gender</th>\n",
       "    </tr>\n",
       "  </thead>\n",
       "  <tbody>\n",
       "    <tr>\n",
       "      <th>0</th>\n",
       "      <td>Alice</td>\n",
       "      <td>25</td>\n",
       "      <td>Male</td>\n",
       "    </tr>\n",
       "    <tr>\n",
       "      <th>1</th>\n",
       "      <td>Bob</td>\n",
       "      <td>30</td>\n",
       "      <td>Male</td>\n",
       "    </tr>\n",
       "    <tr>\n",
       "      <th>2</th>\n",
       "      <td>Claire</td>\n",
       "      <td>27</td>\n",
       "      <td>Female</td>\n",
       "    </tr>\n",
       "  </tbody>\n",
       "</table>\n",
       "</div>"
      ],
      "text/plain": [
       "     Name  Age  Gender\n",
       "0   Alice   25    Male\n",
       "1     Bob   30    Male\n",
       "2  Claire   27  Female"
      ]
     },
     "execution_count": 10,
     "metadata": {},
     "output_type": "execute_result"
    }
   ],
   "source": [
    "# Q3. Create a Pandas DataFrame that contains the following data:\n",
    "a3 = {'Name':['Alice','Bob','Claire'],'Age':[25,30,27],'Gender':['Male','Male','Female']}\n",
    "b3 = pd.DataFrame(a3)\n",
    "b3"
   ]
  },
  {
   "cell_type": "code",
   "execution_count": 12,
   "id": "b012a058-5300-4826-bc2c-fb49266c934c",
   "metadata": {},
   "outputs": [
    {
     "name": "stdout",
     "output_type": "stream",
     "text": [
      "Dataframe:\n",
      "    Name  Age  Gender\n",
      "0   John   25    Male\n",
      "1   Jane   32  Female\n",
      "2   Mike   18    Male\n",
      "3  Sarah   41  Female\n",
      "Series:\n",
      "0    25\n",
      "1    32\n",
      "2    18\n",
      "3    41\n",
      "dtype: int64\n"
     ]
    }
   ],
   "source": [
    "# Q4. What is ‘DataFrame’ in pandas and how is it different from pandas.series? Explain with an example.\n",
    "# Ans-> 1) In pandas, a DataFrame is a two-dimensional, size-mutable, tabular data structure with labeled axes (rows and columns). It can be thought of as a spreadsheet or a SQL table. \n",
    "# 2) Each column in a DataFrame can have a different data type (numeric, string, boolean, etc.), making it a versatile data structure for analyzing and manipulating data.\n",
    "# 3) On the other hand, a Pandas Series is a one-dimensional labeled array capable of holding any data type, such as integers, strings, floating-point numbers, Python objects, etc.\n",
    "# 4) The axis labels are collectively called index.\n",
    "#example\n",
    "import pandas as pd\n",
    "data = {'Name': ['John', 'Jane', 'Mike', 'Sarah'],\n",
    "        'Age': [25, 32, 18, 41],\n",
    "        'Gender': ['Male', 'Female', 'Male', 'Female']}\n",
    "df = pd.DataFrame(data)\n",
    "s = pd.Series(data['Age'])\n",
    "print(\"Dataframe:\")\n",
    "print(df)\n",
    "print(\"Series:\")\n",
    "print(s)\n"
   ]
  },
  {
   "cell_type": "code",
   "execution_count": 13,
   "id": "49052f08-440f-48f3-bc62-3d826e863a17",
   "metadata": {},
   "outputs": [
    {
     "name": "stdout",
     "output_type": "stream",
     "text": [
      "Gender\n",
      "Female    36.5\n",
      "Male      21.5\n",
      "Name: Age, dtype: float64\n"
     ]
    }
   ],
   "source": [
    "# Q5. What are some common functions you can use to manipulate data in a Pandas DataFrame? Can\n",
    "# you give an example of when you might use one of these functions?\n",
    "# Ans-> 1) Common Functions of Pandas:\n",
    "#     a) head() and tail(): To get a quick glimpse of the first few rows or last few rows of the DataFrame.\n",
    "#     b) describe(): To get a statistical summary of the DataFrame.\n",
    "#     c) groupby(): To group the data based on one or more columns.\n",
    "#example: if we have a DataFrame of student information and we want to group the data by gender and calculate the average age for each group, we can use the groupby() function like this:\n",
    "import pandas as pd\n",
    "data = {'Name': ['John', 'Jane', 'Mike', 'Sarah'],\n",
    "        'Age': [25, 32, 18, 41],\n",
    "        'Gender': ['Male', 'Female', 'Male', 'Female']}\n",
    "df = pd.DataFrame(data)\n",
    "gender_mean_age = df.groupby('Gender')['Age'].mean()\n",
    "print(gender_mean_age)\n",
    "\n",
    "\n"
   ]
  },
  {
   "cell_type": "code",
   "execution_count": null,
   "id": "9bae3282-ac5b-4980-b234-0ad5dd629e93",
   "metadata": {},
   "outputs": [],
   "source": [
    "Q6. Which of the following is mutable in nature Series, DataFrame, Panel?\n",
    "Ans->\n",
    "1) In Pandas, Series and DataFrame are mutable objects, which means their values can be changed after they have been created.\n",
    "2) On the other hand, Panel is a three-dimensional data structure and has been deprecated in favor of multi-dimensional indexing with the MultiIndex class.\n",
    "Nonetheless, Panels are also mutable in nature."
   ]
  },
  {
   "cell_type": "code",
   "execution_count": 14,
   "id": "ef5b5dc5-2b11-4fbc-aebb-68993d6e85df",
   "metadata": {},
   "outputs": [
    {
     "name": "stdout",
     "output_type": "stream",
     "text": [
      "    Name  Age  Gender\n",
      "0   John   25    Male\n",
      "1   Jane   32  Female\n",
      "2   Mike   18    Male\n",
      "3  Sarah   41  Female\n"
     ]
    }
   ],
   "source": [
    "# Q7. Create a DataFrame using multiple Series. Explain with an example.\n",
    "# Ans->\n",
    "# 1) To create a DataFrame using multiple Series, we can combine the Series into a dictionary and then pass the dictionary to the DataFrame constructor.\n",
    "# 2) Each Series will become a column in the resulting DataFrame, and the index of each Series will become the index of the DataFrame.\n",
    "#example:\n",
    "# In this example, we created three Series (names, ages, and genders) and combined them into a dictionary called data. \n",
    "# We then passed this dictionary to the pd.DataFrame() constructor to create a DataFrame called df with three columns (Name, Age, and Gender).\n",
    "# The index of the DataFrame is automatically created as a range from 0 to 3.\n",
    "import pandas as pd\n",
    "names = pd.Series(['John', 'Jane', 'Mike', 'Sarah'])\n",
    "ages = pd.Series([25, 32, 18, 41])\n",
    "genders = pd.Series(['Male', 'Female', 'Male', 'Female'])\n",
    "data = {'Name': names, 'Age': ages, 'Gender': genders}\n",
    "df = pd.DataFrame(data)\n",
    "print(df)\n"
   ]
  },
  {
   "cell_type": "code",
   "execution_count": null,
   "id": "2028d0b3-2f39-421e-908c-7c75daab6b00",
   "metadata": {},
   "outputs": [],
   "source": []
  }
 ],
 "metadata": {
  "kernelspec": {
   "display_name": "Python 3 (ipykernel)",
   "language": "python",
   "name": "python3"
  },
  "language_info": {
   "codemirror_mode": {
    "name": "ipython",
    "version": 3
   },
   "file_extension": ".py",
   "mimetype": "text/x-python",
   "name": "python",
   "nbconvert_exporter": "python",
   "pygments_lexer": "ipython3",
   "version": "3.10.8"
  }
 },
 "nbformat": 4,
 "nbformat_minor": 5
}
