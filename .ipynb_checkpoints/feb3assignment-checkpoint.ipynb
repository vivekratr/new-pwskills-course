{
 "cells": [
  {
   "cell_type": "code",
   "execution_count": 2,
   "id": "ce673ef5-cba5-4b6d-bad7-06761e568749",
   "metadata": {},
   "outputs": [
    {
     "data": {
      "text/plain": [
       "[1, 3, 5, 7, 9, 11, 13, 15, 17, 19, 21, 23, 25]"
      ]
     },
     "execution_count": 2,
     "metadata": {},
     "output_type": "execute_result"
    }
   ],
   "source": [
    "# Q1. Which keyword is used to create a function? Create a function to return a list of odd numbers in the\n",
    "# range of 1 to 25.\n",
    "# Ans-> 'def' keyword is used to create a function.\n",
    "def oddNum(n):\n",
    "    oddN = []\n",
    "    for i in range(1,n+1):\n",
    "        if i%2 != 0:\n",
    "            oddN.append(i)\n",
    "    return oddN\n",
    "oddNum(25)"
   ]
  },
  {
   "cell_type": "code",
   "execution_count": 3,
   "id": "8c0663a9-f146-45cc-aa28-a6b757e6e6a6",
   "metadata": {},
   "outputs": [
    {
     "name": "stdout",
     "output_type": "stream",
     "text": [
      "Demonstration of the uses of '*args'\n",
      "28\n",
      "Demonstration of the uses of '**kwargs'\n",
      "a: 1\n",
      "b: 2\n",
      "c: 3\n"
     ]
    }
   ],
   "source": [
    "# Q2. Why *args and **kwargs is used in some functions? Create a function each for *args and **kwargs\n",
    "# to demonstrate their use.\n",
    "# Ans->a) '*args' is used to take multiple inputs inside the function, it is used when we want to give dynamic inputs to the function.\n",
    "# '*args' values are stored inside a tuple.\n",
    "# b) '**kwargs' allows you to pass keyworded, variable-length argument list to a function. In other words, you can pass an arbitrary\n",
    "# number of named arguments to a function. These arguments are then stored in a dictionary.\n",
    "\n",
    "def sumNum(*numbers):\n",
    "    print(\"Demonstration of the uses of '*args'\")\n",
    "    \n",
    "    sum = 0\n",
    "    for i in numbers:\n",
    "        sum +=i\n",
    "    return sum\n",
    "def printKeyword(**kwargs):\n",
    "    print(\"Demonstration of the uses of '**kwargs'\")\n",
    "    \n",
    "    for key, value in kwargs.items():\n",
    "        print(f\"{key}: {value}\")\n",
    "print(sumNum(1,2,3,4,5,6,7))\n",
    "printKeyword(a=1, b=2, c=3)\n"
   ]
  },
  {
   "cell_type": "code",
   "execution_count": 6,
   "id": "28ece182-f387-49f0-959a-7c6cd07f63c3",
   "metadata": {},
   "outputs": [
    {
     "name": "stdout",
     "output_type": "stream",
     "text": [
      "2\n",
      "4\n",
      "6\n",
      "8\n",
      "10\n"
     ]
    }
   ],
   "source": [
    "# Q3. What is an iterator in python? Name the method used to initialise the iterator object and the method\n",
    "# used for iteration. Use these methods to print the first five elements of the given list [2, 4, 6, 8, 10, 12, 14,\n",
    "# 16, 18, 20].\n",
    "# Ans-> An iterator in Python is an object that implements the iterator protocol, which consists of the methods __iter__() and __next__().\n",
    "# The method iter() is used to initialize the iterator object, and the method next() is used for iteration.\n",
    "my_list = [2, 4, 6, 8, 10, 12, 14, 16, 18, 20]\n",
    "\n",
    "# Create an iterator object from the list\n",
    "my_iter = iter(my_list)\n",
    "\n",
    "# Use the iterator object to print the first five elements\n",
    "for i in range(5):\n",
    "    print(next(my_iter))\n"
   ]
  },
  {
   "cell_type": "code",
   "execution_count": null,
   "id": "37cc627b-22c1-4ccc-ad58-fd6088de4ef1",
   "metadata": {},
   "outputs": [],
   "source": []
  }
 ],
 "metadata": {
  "kernelspec": {
   "display_name": "Python 3 (ipykernel)",
   "language": "python",
   "name": "python3"
  },
  "language_info": {
   "codemirror_mode": {
    "name": "ipython",
    "version": 3
   },
   "file_extension": ".py",
   "mimetype": "text/x-python",
   "name": "python",
   "nbconvert_exporter": "python",
   "pygments_lexer": "ipython3",
   "version": "3.10.8"
  }
 },
 "nbformat": 4,
 "nbformat_minor": 5
}
