{
 "cells": [
  {
   "cell_type": "code",
   "execution_count": null,
   "id": "57f847af-3591-419a-91cf-36f37c5d32d1",
   "metadata": {},
   "outputs": [],
   "source": [
    "Q1. What is Flask Framework? What are the advantages of Flask Framework?\n",
    "Ans->\n",
    "1) Flask is a web framework that provides libraries to build lightweight web applications in Python.\n",
    "2) It is a lightweight and modular framework that provides the essential features for building web applications, without imposing any particular tool or library on the developer. \n",
    "3) Flask is designed to be easy to learn and use, and it can be used to build a wide range of web applications, from simple static websites to complex dynamic applications.\n",
    "4) Advantages of Flask:\n",
    "- It is easy to install and use, with sensible defaults and minimal configuration.\n",
    "- It supports RESTful design principles and flexible URL routing.\n",
    "- It has a built-in development server and debugger for testing and debugging purposes.\n",
    "- It has a modular and extensible architecture that allows adding extensions for various features such as database integration, authentication, caching, etc.\n",
    "- It has a large and active community that provides support, documentation, tutorials, and examples."
   ]
  },
  {
   "cell_type": "code",
   "execution_count": null,
   "id": "538e7db3-c406-4427-b29f-bfe44659a9f1",
   "metadata": {},
   "outputs": [],
   "source": [
    "Q2. Create a simple Flask application to display ‘Hello World!!’. Attach the screenshot of the output in\n",
    "Jupyter Notebook.\n",
    "Ans->\n",
    "1) Code:\n",
    "from flask import Flask\n",
    "from flask import request\n",
    "app = Flask(__name__)\n",
    "@app.route(\"/\")\n",
    "def print():\n",
    "    return \"<h2>Hello World</h2>\"\n",
    "\n",
    "if __name__ ==\"__main__\":\n",
    "    app.run(host=\"0.0.0.0\")\n",
    "    \n",
    "2) Screenshot:\n"
   ]
  },
  {
   "cell_type": "markdown",
   "id": "f6d74470-4562-4fc7-96a6-123bd924534f",
   "metadata": {},
   "source": [
    "Screenshot\n",
    "![alt text](https://red-chef-gabcn.pwskills.app/files/work/19Feb2.png?_xsrf=2%7C811d8b92%7C971931a070991f00498da322416a3e7b%7C1677850424)\n",
    "\n"
   ]
  },
  {
   "cell_type": "code",
   "execution_count": null,
   "id": "2625661d-7ea4-49f3-91a6-b3cbe5ed5016",
   "metadata": {},
   "outputs": [],
   "source": [
    "Q3. What is App routing in Flask? Why do we use app routes?\n",
    "Ans->\n",
    "1) In Flask, an app route is a URL pattern that is associated with a specific function or view in your application. \n",
    "2) App routes are defined using the @app.route decorator in your Flask application.\n",
    "3) By defining app routes, you can create a URL structure for your application that is easy to navigate and understand.\n",
    "4) For example:\n",
    "from flask import Flask\n",
    "\n",
    "app = Flask(__name__)\n",
    "\n",
    "@app.route('/')\n",
    "def index():\n",
    "    return 'Hello, World!'\n",
    "We have defined an app route that matches the root URL /. \n",
    "When a user visits the root URL of our application, Flask will call the index function and return the string \"Hello, World!\" as a response.\n",
    "5) Here are some reasons why app routes are important in Flask:\n",
    "a) URL mapping: App routes allow you to map URLs to specific functions or views in your application. This makes it easy for users to navigate your application and for search engines to\n",
    "index your content.\n",
    "b) Modularization: App routes allow you to modularize your application by breaking it down into smaller, more manageable components. Each app route can be associated with a specific function\n",
    "or view, making it easier to maintain and debug your code.\n",
    "c) RESTful APIs: App routes are often used to create RESTful APIs in Flask. By defining app routes that map to different HTTP methods (e.g., GET, POST, PUT, DELETE), you\n",
    "can create a web API that exposes data and functionality to other applications."
   ]
  },
  {
   "cell_type": "code",
   "execution_count": null,
   "id": "7d8ce6f7-98db-4440-bc2c-6a94599af45c",
   "metadata": {},
   "outputs": [],
   "source": [
    "Q4. Create a “/welcome” route to display the welcome message “Welcome to ABC Corporation” and a “/”\n",
    "route to show the following details:\n",
    "Company Name: ABC Corporation\n",
    "Location: India\n",
    "Contact Detail: 999-999-9999\n",
    "Attach the screenshot of the output in Jupyter Notebook.\n",
    "Ans->\n",
    "1) Code:\n",
    "from flask import Flask\n",
    "from flask import request\n",
    "app = Flask(__name__)\n",
    "@app.route(\"/\")\n",
    "def info():\n",
    "    return '''<h2>Company Name: ABC Corporation<br>\n",
    "Location: India<br>\n",
    "Contact Detail: 999-999-9999</h2>'''\n",
    "\n",
    "@app.route(\"/welcome\")\n",
    "def wel():\n",
    "    return \"Welcome to ABC Corporation\"\n",
    "\n",
    "if __name__ ==\"__main__\":\n",
    "    app.run(host=\"0.0.0.0\")\n",
    "2) Screenshot:"
   ]
  },
  {
   "cell_type": "markdown",
   "id": "e236fccb-ef0a-46d1-99b2-830e81eb38b8",
   "metadata": {},
   "source": [
    "screenshot 1:\n",
    "![alter text](https://red-chef-gabcn.pwskills.app/files/work/19Feb4.1.png?_xsrf=2%7C811d8b92%7C971931a070991f00498da322416a3e7b%7C1677850424)\n",
    "\n",
    "\n",
    "\n",
    "screenshot 2:\n",
    "![alter text2](https://red-chef-gabcn.pwskills.app/files/work/19Feb4.2.png?_xsrf=2%7C811d8b92%7C971931a070991f00498da322416a3e7b%7C1677850424)"
   ]
  },
  {
   "cell_type": "markdown",
   "id": "b974ee33-b635-4178-a056-5673f1c9f505",
   "metadata": {},
   "source": [
    "Q5. What function is used in Flask for URL Building? Write a Python code to demonstrate the working of the\n",
    "url_for() function.\n",
    "Ans->\n",
    "1) In Flask, the url_for() function is used for URL building.\n",
    "2) This function generates a URL for the specified endpoint with the given arguments.\n",
    "3) The advantage of using url_for() is that it can handle dynamic URLs and allows you to change the URL structure of your application without having to update every URL manually.\n",
    "4) Example:\n",
    "\n",
    "from flask import Flask\n",
    "\n",
    "from flask import url_for\n",
    "\n",
    "app = Flask(__name__)\n",
    "\n",
    "@app.route('/')\n",
    "def index():\n",
    "    return 'Hello, World!'\n",
    "\n",
    "@app.route('/user/<username>')\n",
    "def show_user_profile(username):\n",
    "    return 'User %s' % username\n",
    "\n",
    "@app.route('/post/<int:post_id>')\n",
    "def show_post(post_id):\n",
    "    return 'Post %d' % post_id\n",
    "if __name__ == \"__main__\":\n",
    "    app.run(host=\"0.0.0.0\")\n",
    "\n",
    "Output:\n",
    "    \n",
    "1) Screenshot 1:\n",
    "![alter](https://red-chef-gabcn.pwskills.app/files/work/19Feb5.1.png?_xsrf=2%7C811d8b92%7C971931a070991f00498da322416a3e7b%7C1677850424)\n",
    "\n",
    "    \n",
    "    \n",
    "    \n",
    "    \n",
    "    \n",
    "2) Screenshot 2:\n",
    "![alter](https://red-chef-gabcn.pwskills.app/files/work/19Feb5.2.png?_xsrf=2%7C811d8b92%7C971931a070991f00498da322416a3e7b%7C1677850424)"
   ]
  },
  {
   "cell_type": "code",
   "execution_count": null,
   "id": "e1a95f3b-dfff-4c5a-a8fd-07f7a975eea3",
   "metadata": {},
   "outputs": [],
   "source": []
  }
 ],
 "metadata": {
  "kernelspec": {
   "display_name": "Python 3 (ipykernel)",
   "language": "python",
   "name": "python3"
  },
  "language_info": {
   "codemirror_mode": {
    "name": "ipython",
    "version": 3
   },
   "file_extension": ".py",
   "mimetype": "text/x-python",
   "name": "python",
   "nbconvert_exporter": "python",
   "pygments_lexer": "ipython3",
   "version": "3.10.8"
  }
 },
 "nbformat": 4,
 "nbformat_minor": 5
}
