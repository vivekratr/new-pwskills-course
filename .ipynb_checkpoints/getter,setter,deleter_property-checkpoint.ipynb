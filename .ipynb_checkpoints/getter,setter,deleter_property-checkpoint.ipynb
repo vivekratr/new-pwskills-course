{
 "cells": [
  {
   "cell_type": "code",
   "execution_count": null,
   "id": "6e2c47fe-ac2f-4fb2-b3e5-b24f99d73983",
   "metadata": {},
   "outputs": [],
   "source": [
    "class course:\n",
    "    def __init__(self,course_name,price):\n",
    "        self.course_name = course_name\n",
    "        self.__price = price\n",
    "    @property\n",
    "    def price_access(self):\n",
    "        return self.__price\n",
    "    @price_access.setter\n",
    "    def price_set(self, p):\n",
    "        self.__"
   ]
  }
 ],
 "metadata": {
  "kernelspec": {
   "display_name": "Python 3 (ipykernel)",
   "language": "python",
   "name": "python3"
  },
  "language_info": {
   "codemirror_mode": {
    "name": "ipython",
    "version": 3
   },
   "file_extension": ".py",
   "mimetype": "text/x-python",
   "name": "python",
   "nbconvert_exporter": "python",
   "pygments_lexer": "ipython3",
   "version": "3.10.8"
  }
 },
 "nbformat": 4,
 "nbformat_minor": 5
}
