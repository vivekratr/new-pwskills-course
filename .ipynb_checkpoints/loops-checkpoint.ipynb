{
 "cells": [
  {
   "cell_type": "code",
   "execution_count": 2,
   "id": "1558818d-5e15-4d75-b25c-018a560eab3c",
   "metadata": {},
   "outputs": [],
   "source": [
    "l1 = ['sudh','kumar','krish','naik']"
   ]
  },
  {
   "cell_type": "code",
   "execution_count": 4,
   "id": "fe16d73d-7f72-4698-a738-816a64750702",
   "metadata": {},
   "outputs": [
    {
     "name": "stdout",
     "output_type": "stream",
     "text": [
      "sudh\n",
      "krish\n",
      "naik\n"
     ]
    }
   ],
   "source": [
    "for i in l1:\n",
    "    if i == 'kumar':\n",
    "        continue\n",
    "    print(i)"
   ]
  },
  {
   "cell_type": "code",
   "execution_count": 5,
   "id": "eba4a35c-9de3-4a49-9973-e69f5ca52c5b",
   "metadata": {},
   "outputs": [
    {
     "data": {
      "text/plain": [
       "range(0, 5)"
      ]
     },
     "execution_count": 5,
     "metadata": {},
     "output_type": "execute_result"
    }
   ],
   "source": [
    "range(5)"
   ]
  },
  {
   "cell_type": "code",
   "execution_count": 6,
   "id": "c272657f-c738-463b-864b-286521a0e153",
   "metadata": {},
   "outputs": [
    {
     "data": {
      "text/plain": [
       "[0, 1, 2, 3, 4]"
      ]
     },
     "execution_count": 6,
     "metadata": {},
     "output_type": "execute_result"
    }
   ],
   "source": [
    "list(range(5))"
   ]
  },
  {
   "cell_type": "code",
   "execution_count": 7,
   "id": "48ab7547-d5cb-40ec-977f-0543750d9afc",
   "metadata": {},
   "outputs": [
    {
     "data": {
      "text/plain": [
       "[0,\n",
       " 2,\n",
       " 4,\n",
       " 6,\n",
       " 8,\n",
       " 10,\n",
       " 12,\n",
       " 14,\n",
       " 16,\n",
       " 18,\n",
       " 20,\n",
       " 22,\n",
       " 24,\n",
       " 26,\n",
       " 28,\n",
       " 30,\n",
       " 32,\n",
       " 34,\n",
       " 36,\n",
       " 38,\n",
       " 40,\n",
       " 42,\n",
       " 44,\n",
       " 46,\n",
       " 48,\n",
       " 50,\n",
       " 52,\n",
       " 54]"
      ]
     },
     "execution_count": 7,
     "metadata": {},
     "output_type": "execute_result"
    }
   ],
   "source": [
    "list(range(0,55,2))"
   ]
  },
  {
   "cell_type": "code",
   "execution_count": 9,
   "id": "52f5f54d-5739-43ef-8268-b32c2cffca1d",
   "metadata": {},
   "outputs": [
    {
     "data": {
      "text/plain": [
       "[10, 9, 8, 7, 6, 5, 4, 3, 2]"
      ]
     },
     "execution_count": 9,
     "metadata": {},
     "output_type": "execute_result"
    }
   ],
   "source": [
    "list(range(10,1,-1))"
   ]
  },
  {
   "cell_type": "code",
   "execution_count": 11,
   "id": "8806989c-e8bd-40fc-a0c6-3d089dc5c5e4",
   "metadata": {},
   "outputs": [],
   "source": [
    "l2 = [2,132,4,1,42,42,4,242,421,5,3,124,54,3,4,55,52,14,3,2]"
   ]
  },
  {
   "cell_type": "code",
   "execution_count": 12,
   "id": "6a82a4fa-7422-48c6-9c51-a0b13eb37355",
   "metadata": {},
   "outputs": [
    {
     "data": {
      "text/plain": [
       "[2, 132, 4, 1, 42, 42, 4, 242, 421, 5, 3, 124, 54, 3, 4, 55, 52, 14, 3, 2]"
      ]
     },
     "execution_count": 12,
     "metadata": {},
     "output_type": "execute_result"
    }
   ],
   "source": [
    "l2\n"
   ]
  },
  {
   "cell_type": "code",
   "execution_count": 14,
   "id": "5165df89-2743-44db-a7b3-e34f1c1fedce",
   "metadata": {},
   "outputs": [
    {
     "name": "stdout",
     "output_type": "stream",
     "text": [
      "2\n",
      "132\n",
      "4\n",
      "42\n",
      "42\n",
      "4\n",
      "242\n",
      "124\n",
      "54\n",
      "4\n",
      "52\n",
      "14\n",
      "2\n"
     ]
    }
   ],
   "source": [
    "for i in l2:\n",
    "    if i%2 == 0:\n",
    "        print(i)"
   ]
  },
  {
   "cell_type": "code",
   "execution_count": 16,
   "id": "4f0c6519-ef99-4c29-9b85-21ea991977fd",
   "metadata": {},
   "outputs": [
    {
     "name": "stdout",
     "output_type": "stream",
     "text": [
      "1209\n"
     ]
    }
   ],
   "source": [
    "sum = 0\n",
    "for i in l2:\n",
    "    sum+=i\n",
    "print(sum)"
   ]
  },
  {
   "cell_type": "code",
   "execution_count": 17,
   "id": "560ea730-be71-4c20-8320-7b0b9874d8f0",
   "metadata": {},
   "outputs": [],
   "source": [
    "t = (1,2,3,4,4,5)"
   ]
  },
  {
   "cell_type": "code",
   "execution_count": 19,
   "id": "56075cfa-599c-452a-975f-843d07af8ed3",
   "metadata": {},
   "outputs": [
    {
     "name": "stdout",
     "output_type": "stream",
     "text": [
      "2\n",
      "4\n",
      "4\n"
     ]
    }
   ],
   "source": [
    "for i in t:\n",
    "    if i%2 == 0:\n",
    "        print(i)"
   ]
  },
  {
   "cell_type": "code",
   "execution_count": 21,
   "id": "c502c769-4679-4bd2-86b9-fb39875bf27c",
   "metadata": {},
   "outputs": [
    {
     "name": "stdout",
     "output_type": "stream",
     "text": [
      "19\n"
     ]
    }
   ],
   "source": [
    "sum = 0\n",
    "for i in t:\n",
    "    sum+=i\n",
    "print(sum)"
   ]
  },
  {
   "cell_type": "code",
   "execution_count": 22,
   "id": "474b702a-d412-4335-a5a3-3e879016ff4c",
   "metadata": {},
   "outputs": [],
   "source": [
    "s1 = \"pwskills\""
   ]
  },
  {
   "cell_type": "code",
   "execution_count": 23,
   "id": "b26bb5f4-f28b-4997-9be3-a40c0306a47e",
   "metadata": {},
   "outputs": [
    {
     "name": "stdout",
     "output_type": "stream",
     "text": [
      "p\n",
      "w\n",
      "s\n",
      "k\n",
      "i\n",
      "l\n",
      "l\n",
      "s\n"
     ]
    }
   ],
   "source": [
    "for i in s1:\n",
    "    print(i)"
   ]
  },
  {
   "cell_type": "code",
   "execution_count": 24,
   "id": "33e04296-80bb-4a1e-81e5-4b8e566e8c62",
   "metadata": {},
   "outputs": [],
   "source": [
    "d = {\"name\" : \"sudh\" , \"class\" : \"Data science masters\" , \"topic\" : [\"python\",\"ds\" ] }"
   ]
  },
  {
   "cell_type": "code",
   "execution_count": 25,
   "id": "c4b2bde2-9f8d-48e0-8540-630fcf135a0f",
   "metadata": {},
   "outputs": [
    {
     "data": {
      "text/plain": [
       "dict_keys(['name', 'class', 'topic'])"
      ]
     },
     "execution_count": 25,
     "metadata": {},
     "output_type": "execute_result"
    }
   ],
   "source": [
    "d.keys()"
   ]
  },
  {
   "cell_type": "code",
   "execution_count": 26,
   "id": "ef1cede7-f729-4435-9971-4ce53f2c58d0",
   "metadata": {},
   "outputs": [
    {
     "name": "stdout",
     "output_type": "stream",
     "text": [
      "sudh\n",
      "Data science masters\n",
      "['python', 'ds']\n"
     ]
    }
   ],
   "source": [
    "for i in d.keys():\n",
    "    print(d[i])"
   ]
  },
  {
   "cell_type": "code",
   "execution_count": 27,
   "id": "f086d666-8bf6-467c-910e-78a6577d6e44",
   "metadata": {},
   "outputs": [
    {
     "data": {
      "text/plain": [
       "dict_items([('name', 'sudh'), ('class', 'Data science masters'), ('topic', ['python', 'ds'])])"
      ]
     },
     "execution_count": 27,
     "metadata": {},
     "output_type": "execute_result"
    }
   ],
   "source": [
    "d.items()\n"
   ]
  },
  {
   "cell_type": "code",
   "execution_count": 28,
   "id": "c8459738-9ea5-478c-bf56-2963682e5e0b",
   "metadata": {},
   "outputs": [
    {
     "name": "stdout",
     "output_type": "stream",
     "text": [
      "('name', 'sudh')\n",
      "('class', 'Data science masters')\n",
      "('topic', ['python', 'ds'])\n"
     ]
    }
   ],
   "source": [
    "for i in d.items():\n",
    "    print(i)"
   ]
  },
  {
   "cell_type": "code",
   "execution_count": null,
   "id": "e4670a08-b013-420b-a888-56d694c67620",
   "metadata": {},
   "outputs": [],
   "source": []
  }
 ],
 "metadata": {
  "kernelspec": {
   "display_name": "Python 3 (ipykernel)",
   "language": "python",
   "name": "python3"
  },
  "language_info": {
   "codemirror_mode": {
    "name": "ipython",
    "version": 3
   },
   "file_extension": ".py",
   "mimetype": "text/x-python",
   "name": "python",
   "nbconvert_exporter": "python",
   "pygments_lexer": "ipython3",
   "version": "3.10.8"
  }
 },
 "nbformat": 4,
 "nbformat_minor": 5
}
