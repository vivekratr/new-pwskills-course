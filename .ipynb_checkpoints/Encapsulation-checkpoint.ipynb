{
 "cells": [
  {
   "cell_type": "code",
   "execution_count": null,
   "id": "5e40189d-6ae3-46c2-aeb5-052b766f7f33",
   "metadata": {},
   "outputs": [],
   "source": [
    "Encapsulation is used to make private method so that the general user wont have any priviledge to make any changes in it.\n",
    "It describes the idea of wrapping data and the methods that work on data within one unit. This puts restrictions on accessing \n",
    "variables and methods directly and can prevent the accidental modification of data. To prevent accidental change, an object’s \n",
    "variable can only be changed by an object’s method. Those types of variables are known as private variables.\n"
   ]
  },
  {
   "cell_type": "code",
   "execution_count": null,
   "id": "6d0c5143-b8a6-4017-9c5a-c39de7aec0da",
   "metadata": {},
   "outputs": [],
   "source": [
    "class Axis Bank():\n",
    "    __init__(self,name,mobile_no):\n",
    "        self.name = name\n",
    "        self.mobile_no = mobile"
   ]
  }
 ],
 "metadata": {
  "kernelspec": {
   "display_name": "Python 3 (ipykernel)",
   "language": "python",
   "name": "python3"
  },
  "language_info": {
   "codemirror_mode": {
    "name": "ipython",
    "version": 3
   },
   "file_extension": ".py",
   "mimetype": "text/x-python",
   "name": "python",
   "nbconvert_exporter": "python",
   "pygments_lexer": "ipython3",
   "version": "3.10.8"
  }
 },
 "nbformat": 4,
 "nbformat_minor": 5
}
