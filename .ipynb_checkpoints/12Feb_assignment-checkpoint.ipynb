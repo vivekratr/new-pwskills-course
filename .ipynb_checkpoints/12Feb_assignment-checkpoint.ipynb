{
 "cells": [
  {
   "cell_type": "code",
   "execution_count": null,
   "id": "8de7a9ff-4cc1-4a69-9a1c-42b4bb26abdc",
   "metadata": {},
   "outputs": [],
   "source": [
    "Q1. What is an Exception in python? Write the difference between Exceptions and Syntax errors.\n",
    "Ans->1)Exception:\n",
    "a) An exception in Python is an error that occurs during the execution of a program, which interrupts the normal flow of the program.\n",
    "b) Exceptions can occur due to various reasons, such as invalid user input, file not found, network errors, and so on.\n",
    "c) When an exception occurs, Python creates an exception object that contains information about the error, such as the type of the exception\n",
    "and a message that describes what went wrong.\n",
    "2) Syntax Error:\n",
    "    a) A syntax error is an error that occurs when the Python interpreter encounters code that is not valid Python syntax.\n",
    "    b) Syntax errors occur before the code is executed and prevent the program from running at all.\n",
    "    c) The most common examples of syntax errors include missing colons or parentheses, incorrect indentation, and misspelled keywords."
   ]
  },
  {
   "cell_type": "code",
   "execution_count": null,
   "id": "982196a8-f45c-4a77-8914-152743325732",
   "metadata": {},
   "outputs": [],
   "source": [
    "# Q2. What happens when an exception is not handled? Explain with an example.\n",
    "# Ans->\n",
    "# 1) When an exception is not handled, it propagates up the call stack until it reaches the top-level of the program.\n",
    "# 2) If it still remains unhandled, the program will terminate with an error message\n",
    "# 3) Rest of the code after the error statement will not get a chance to execute if the exception is not handled.\n",
    "\n",
    "#example1\n",
    "import logging\n",
    "logging.basicConfig(filename='12Feb.log', level = logging.DEBUG, format = '%(asctime)s %(message)s')\n",
    "logging.info('This is the execution of example1 of 2nd questiong of 12th Feb assignment')\n",
    "a = 2\n",
    "b ='z'    \n",
    "logging.error('Error has been raised due to pow() function is been used on character')\n",
    "\n",
    "c = a**b # it will throw an error\n",
    "\n",
    "print('THis will not get printed this time')\n"
   ]
  },
  {
   "cell_type": "code",
   "execution_count": 11,
   "id": "0bcb98df-e43e-4c17-b1a6-4c64dc388143",
   "metadata": {},
   "outputs": [
    {
     "name": "stdout",
     "output_type": "stream",
     "text": [
      "Error has occured and the error is  unsupported operand type(s) for /: 'int' and 'str'\n",
      "THis will get printed this time\n"
     ]
    }
   ],
   "source": [
    "#example 2\n",
    "try:\n",
    "    logging.info('This is the 2nd example of 2nd Question ,  here error has been handled by using exception')\n",
    "    \n",
    "    a = 2\n",
    "    b ='z'\n",
    "    c = a/b\n",
    "except Exception as v:\n",
    "    print('Error has occured and the error is ',v)\n",
    "print('THis will get printed this time')"
   ]
  },
  {
   "cell_type": "code",
   "execution_count": 13,
   "id": "a6a39f60-7dca-4acf-b204-39fc99775a47",
   "metadata": {},
   "outputs": [
    {
     "name": "stdout",
     "output_type": "stream",
     "text": [
      "The result is: 5.0\n",
      "Done\n",
      "Error:  unsupported operand type(s) for /: 'str' and 'int'\n",
      "Done\n"
     ]
    }
   ],
   "source": [
    "# Q3. Which Python statements are used to catch and handle exceptions? Explain with an example.\n",
    "# Ans-> 1) There are 2 important statements and 2 optional statements to catch and handle the exceptions.\n",
    "#         a) Important statements:\n",
    "#          i) try :\n",
    "#                 This block contains the code that might raise an exception.\n",
    "#          ii) except : \n",
    "#                 This block contains the code that should be executed if the specified exception occurs. \n",
    "#         b) Optional statements:\n",
    "#             i) else : \n",
    "#                 This block is executed if there is no error is raised inside the 'try' block.\n",
    "#             ii) finally:\n",
    "#                 This block contains code that should always be executed, regardless of whether an exception occurred. \n",
    "# example\n",
    "logging.info('THis is the 3rd question code.Here the use of try,except,else and finally  keyword\"s uses are shown')\n",
    "def divide(a, b):\n",
    "    try:\n",
    "        result = a / b\n",
    "    except Exception as v:\n",
    "        print(\"Error: \", v)\n",
    "    else:\n",
    "        print(\"The result is:\", result)\n",
    "    finally:\n",
    "        print(\"Done\")\n",
    "\n",
    "divide(10, 2)  \n",
    "logging.error('Inside 3rd question, an attempt to divide the string and integer is done.')\n",
    "divide('x', 0)  \n"
   ]
  },
  {
   "cell_type": "code",
   "execution_count": 16,
   "id": "a97260e3-5661-4e97-8d0a-8302758468fc",
   "metadata": {},
   "outputs": [
    {
     "name": "stdout",
     "output_type": "stream",
     "text": [
      "You entered 2\n"
     ]
    }
   ],
   "source": [
    "# Q4. Explain with an example:\n",
    "# a. try and else\n",
    "# b. finally\n",
    "# c. raise\n",
    "# Ans->a) try and else:\n",
    "#     The try and else blocks are used to catch exceptions that might occur in the try block and handle them correctly.\n",
    "#     The else block is executed only if no exceptions occur in the try block.\n",
    "#     #example\n",
    "logging.info('This is 1st example of 4th question.')\n",
    "try:\n",
    "    a = 2\n",
    "    x = int(a)\n",
    "except Exception as d:\n",
    "    print(\"Invalid input\")\n",
    "else:\n",
    "    print(\"You entered\", x)\n"
   ]
  },
  {
   "cell_type": "code",
   "execution_count": 18,
   "id": "a65df3eb-922c-4380-aa74-1f17e1183892",
   "metadata": {},
   "outputs": [
    {
     "name": "stdout",
     "output_type": "stream",
     "text": [
      "Invalid input\n",
      "Done\n"
     ]
    }
   ],
   "source": [
    "# b) finally:\n",
    "#     The finally block is used to specify code that should be executed regardless of whether an exception occurred in the try block or not.\n",
    "#     example\n",
    "logging.info('THis is the 2nd example of 4th question')\n",
    "try:\n",
    "    a='x'\n",
    "    x = int(a)\n",
    "except Exception as d:\n",
    "    print(\"Invalid input\")\n",
    "else:\n",
    "    print(\"You entered\", x)\n",
    "finally:\n",
    "    print(\"Done\")\n"
   ]
  },
  {
   "cell_type": "code",
   "execution_count": 21,
   "id": "de35f842-3886-4863-a922-1899ac58f0fc",
   "metadata": {},
   "outputs": [
    {
     "name": "stdout",
     "output_type": "stream",
     "text": [
      "Please check your input values, we got value error with your input\n"
     ]
    }
   ],
   "source": [
    "# c) raise:\n",
    "#     The raise statement is used to raise an exception manually.\n",
    "#     This can be useful when we need to signal an error condition that cannot be handled  by the current function. \n",
    "#     example\n",
    "logging.info('This the 3rd example of 4th question and here the use of \"raise\" statement is performed.')\n",
    "def divide(a, b):\n",
    "    if b == 0:\n",
    "        raise ValueError(\"Please check your input values, we got value error with your input\")\n",
    "    return a / b\n",
    "\n",
    "try:\n",
    "    result = divide(10, 0)\n",
    "except ValueError as e:\n",
    "    print(e)\n",
    "else:\n",
    "    print(result)\n"
   ]
  },
  {
   "cell_type": "code",
   "execution_count": 29,
   "id": "eb550964-90ab-4c7a-97c7-8e91f804fcf5",
   "metadata": {},
   "outputs": [
    {
     "name": "stdout",
     "output_type": "stream",
     "text": [
      "You have inputted the wrong number.\n"
     ]
    }
   ],
   "source": [
    "# Q5. What are Custom Exceptions in python? Why do we need Custom Exceptions? Explain with an example.\n",
    "# Ans-> 1) Custom exceptions in Python are user-defined exceptions that inherit from the Exception class or one of its subclasses.\n",
    "# 2) They allow us to create more specific error messages and handle errors in a more customized way.\n",
    "# 3) We need custom exceptions when we encounter a situation that cannot be handled  by the built-in exceptions\n",
    "# and we want to provide a more specific error message or handle the error in a particular way.\n",
    "\n",
    "# example\n",
    "logging.info('This is the 5th question and here the use of custom Exception is performed.')\n",
    "class invalid_number(Exception):\n",
    "    def __init__(self,error):\n",
    "        self.error = error\n",
    "def checkNum(num):\n",
    "    if len(str(num)) != 10:\n",
    "        raise invalid_number('You have inputted the wrong number.')  \n",
    "    else:\n",
    "        print('Valid Number.')\n",
    "try :\n",
    "    a = 929292\n",
    "    checkNum(a)\n",
    "except invalid_number as e:\n",
    "    print(e)"
   ]
  },
  {
   "cell_type": "code",
   "execution_count": 31,
   "id": "b5288da0-fcbd-4a03-a731-9c3059323070",
   "metadata": {},
   "outputs": [
    {
     "name": "stdout",
     "output_type": "stream",
     "text": [
      "Authentication failed: Invalid password\n"
     ]
    }
   ],
   "source": [
    "# Q6. Create a custom exception class. Use this class to handle an exception.\n",
    "logging.info('This is 6th question , and here we are making a custom exception class.')\n",
    "class InvalidPasswordError(Exception):\n",
    "    pass\n",
    "\n",
    "def authenticate(username, password):\n",
    "    if password != \"password123\":\n",
    "        raise InvalidPasswordError(\"Invalid password\")\n",
    "    else:\n",
    "        print(\"Authentication successful\")\n",
    "\n",
    "try:\n",
    "    authenticate(\"john\", \"password\")\n",
    "except InvalidPasswordError as error:\n",
    "    print(f\"Authentication failed: {error}\")\n"
   ]
  }
 ],
 "metadata": {
  "kernelspec": {
   "display_name": "Python 3 (ipykernel)",
   "language": "python",
   "name": "python3"
  },
  "language_info": {
   "codemirror_mode": {
    "name": "ipython",
    "version": 3
   },
   "file_extension": ".py",
   "mimetype": "text/x-python",
   "name": "python",
   "nbconvert_exporter": "python",
   "pygments_lexer": "ipython3",
   "version": "3.10.8"
  }
 },
 "nbformat": 4,
 "nbformat_minor": 5
}
