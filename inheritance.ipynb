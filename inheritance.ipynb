{
 "cells": [
  {
   "cell_type": "code",
   "execution_count": 2,
   "id": "2e09daf0-8b66-476c-b662-7169092b71ad",
   "metadata": {},
   "outputs": [
    {
     "name": "stdout",
     "output_type": "stream",
     "text": [
      "Vivek False\n",
      "Paresh True\n"
     ]
    }
   ],
   "source": [
    "# SIngle inheritance\n",
    "\n",
    "\n",
    "class Person(object):\n",
    "\n",
    "\t# Constructor\n",
    "\tdef __init__(self, name):\n",
    "\t\tself.name = name\n",
    "\n",
    "\t# To get name\n",
    "\tdef getName(self):\n",
    "\t\treturn self.name\n",
    "\n",
    "\t# To check if this person is an employee\n",
    "\tdef isEmployee(self):\n",
    "\t\treturn False\n",
    "\n",
    "\n",
    "# Inherited or Subclass (Note Person in bracket)\n",
    "class Employee(Person):\n",
    "\n",
    "\t# Here we return true\n",
    "\tdef isEmployee(self):\n",
    "\t\treturn True\n",
    "\n",
    "\n",
    "# Driver code\n",
    "emp = Person(\"Vivek\") # An Object of Person\n",
    "print(emp.getName(), emp.isEmployee())\n",
    "\n",
    "emp = Employee(\"Paresh\") # An Object of Employee\n",
    "print(emp.getName(), emp.isEmployee())\n"
   ]
  },
  {
   "cell_type": "code",
   "execution_count": 5,
   "id": "1707d145-cfdc-49b3-9f7b-95c66d826aa7",
   "metadata": {},
   "outputs": [
    {
     "name": "stdout",
     "output_type": "stream",
     "text": [
      "Lal mani\n",
      "Grandfather name : Lal mani\n",
      "Father name : Rampal\n",
      "Son name : Prince\n"
     ]
    }
   ],
   "source": [
    "# Python program to demonstrate\n",
    "# multilevel inheritance\n",
    "\n",
    "# Base class\n",
    "\n",
    "\n",
    "class Grandfather:\n",
    "\n",
    "\tdef __init__(self, grandfathername):\n",
    "\t\tself.grandfathername = grandfathername\n",
    "\n",
    "# Intermediate class\n",
    "\n",
    "\n",
    "class Father(Grandfather):\n",
    "    def __init__(self, fathername, grandfathername):\n",
    "        self.fathername = fathername\n",
    "\n",
    "        # invoking constructor of Grandfather class\n",
    "        Grandfather.__init__(self, grandfathername)\n",
    "\n",
    "# Derived class\n",
    "\n",
    "\n",
    "class Son(Father):\n",
    "\tdef __init__(self, sonname, fathername, grandfathername):\n",
    "\t\tself.sonname = sonname\n",
    "\n",
    "\t\t# invoking constructor of Father class\n",
    "\t\tFather.__init__(self, fathername, grandfathername)\n",
    "\n",
    "\tdef print_name(self):\n",
    "\t\tprint('Grandfather name :', self.grandfathername)\n",
    "\t\tprint(\"Father name :\", self.fathername)\n",
    "\t\tprint(\"Son name :\", self.sonname)\n",
    "\n",
    "\n",
    "# Driver code\n",
    "s1 = Son('Prince', 'Rampal', 'Lal mani')\n",
    "print(s1.grandfathername)\n",
    "s1.print_name()\n"
   ]
  },
  {
   "cell_type": "code",
   "execution_count": 6,
   "id": "624a8bd5-f8d7-4003-970e-eb5afe30553a",
   "metadata": {},
   "outputs": [
    {
     "name": "stdout",
     "output_type": "stream",
     "text": [
      "This function is in parent class.\n",
      "This function is in child 1.\n",
      "This function is in parent class.\n",
      "This function is in child 2.\n"
     ]
    }
   ],
   "source": [
    "# Python program to demonstrate\n",
    "# Hierarchical inheritance\n",
    "\n",
    "\n",
    "# Base class\n",
    "class Parent:\n",
    "\tdef func1(self):\n",
    "\t\tprint(\"This function is in parent class.\")\n",
    "\n",
    "# Derived class1\n",
    "\n",
    "\n",
    "class Child1(Parent):\n",
    "\tdef func2(self):\n",
    "\t\tprint(\"This function is in child 1.\")\n",
    "\n",
    "# Derivied class2\n",
    "\n",
    "\n",
    "class Child2(Parent):\n",
    "\tdef func3(self):\n",
    "\t\tprint(\"This function is in child 2.\")\n",
    "\n",
    "\n",
    "# Driver's code\n",
    "object1 = Child1()\n",
    "object2 = Child2()\n",
    "object1.func1()\n",
    "object1.func2()\n",
    "object2.func1()\n",
    "object2.func3()\n"
   ]
  },
  {
   "cell_type": "code",
   "execution_count": 7,
   "id": "149f4300-02e7-4d50-9f38-731e0feaa132",
   "metadata": {},
   "outputs": [
    {
     "name": "stdout",
     "output_type": "stream",
     "text": [
      "Father : RAM\n",
      "Mother : SITA\n"
     ]
    }
   ],
   "source": [
    "# Python program to demonstrate\n",
    "# multiple inheritance\n",
    "\n",
    "# Base class1\n",
    "class Mother:\n",
    "\tmothername = \"\"\n",
    "\n",
    "\tdef mother(self):\n",
    "\t\tprint(self.mothername)\n",
    "\n",
    "# Base class2\n",
    "\n",
    "\n",
    "class Father:\n",
    "\tfathername = \"\"\n",
    "\n",
    "\tdef father(self):\n",
    "\t\tprint(self.fathername)\n",
    "\n",
    "# Derived class\n",
    "\n",
    "\n",
    "class Son(Mother, Father):\n",
    "\tdef parents(self):\n",
    "\t\tprint(\"Father :\", self.fathername)\n",
    "\t\tprint(\"Mother :\", self.mothername)\n",
    "\n",
    "\n",
    "# Driver's code\n",
    "s1 = Son()\n",
    "s1.fathername = \"RAM\"\n",
    "s1.mothername = \"SITA\"\n",
    "s1.parents()\n"
   ]
  },
  {
   "cell_type": "code",
   "execution_count": null,
   "id": "90bbfd25-d024-458c-aa79-c8b4542667dc",
   "metadata": {},
   "outputs": [],
   "source": []
  }
 ],
 "metadata": {
  "kernelspec": {
   "display_name": "Python 3 (ipykernel)",
   "language": "python",
   "name": "python3"
  },
  "language_info": {
   "codemirror_mode": {
    "name": "ipython",
    "version": 3
   },
   "file_extension": ".py",
   "mimetype": "text/x-python",
   "name": "python",
   "nbconvert_exporter": "python",
   "pygments_lexer": "ipython3",
   "version": "3.10.8"
  }
 },
 "nbformat": 4,
 "nbformat_minor": 5
}
