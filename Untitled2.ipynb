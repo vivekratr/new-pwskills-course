{
 "cells": [
  {
   "cell_type": "code",
   "execution_count": 2,
   "id": "84cd3aab-7fba-4f34-9f63-ad66139e2384",
   "metadata": {},
   "outputs": [],
   "source": [
    "class details1:\n",
    "    country = \"India\"\n",
    "    def __init__(self, name, email ):\n",
    "        self.name = name\n",
    "        self.email = email\n",
    "    \n",
    "    @classmethod\n",
    "    def instant_detail(cls,name,email):\n",
    "        return cls(name,email)\n",
    "    @classmethod\n",
    "    def chng_country(cls,country):\n",
    "        details.country  = country\n",
    "    def prtdet(self):\n",
    "         print(self.name,self.email,details.country)\n"
   ]
  },
  {
   "cell_type": "code",
   "execution_count": 3,
   "id": "f602e012-ce0f-456c-891a-7c63a077095c",
   "metadata": {},
   "outputs": [
    {
     "name": "stdout",
     "output_type": "stream",
     "text": [
      "India\n"
     ]
    },
    {
     "ename": "NameError",
     "evalue": "name 'details' is not defined",
     "output_type": "error",
     "traceback": [
      "\u001b[0;31m---------------------------------------------------------------------------\u001b[0m",
      "\u001b[0;31mNameError\u001b[0m                                 Traceback (most recent call last)",
      "Cell \u001b[0;32mIn[3], line 3\u001b[0m\n\u001b[1;32m      1\u001b[0m \u001b[38;5;28mprint\u001b[39m(details1\u001b[38;5;241m.\u001b[39mcountry)\n\u001b[1;32m      2\u001b[0m v \u001b[38;5;241m=\u001b[39m details1\u001b[38;5;241m.\u001b[39minstant_detail(\u001b[38;5;124m'\u001b[39m\u001b[38;5;124mVivek\u001b[39m\u001b[38;5;124m'\u001b[39m,\u001b[38;5;124m'\u001b[39m\u001b[38;5;124mv\u001b[39m\u001b[38;5;124m'\u001b[39m)\n\u001b[0;32m----> 3\u001b[0m \u001b[38;5;28mprint\u001b[39m( v\u001b[38;5;241m.\u001b[39memail,\u001b[38;5;124m'\u001b[39m\u001b[38;5;130;01m\\n\u001b[39;00m\u001b[38;5;124m'\u001b[39m,\u001b[43mdetails1\u001b[49m\u001b[38;5;241;43m.\u001b[39;49m\u001b[43mprtdet\u001b[49m\u001b[43m(\u001b[49m\u001b[43mv\u001b[49m\u001b[43m)\u001b[49m)\n",
      "Cell \u001b[0;32mIn[2], line 14\u001b[0m, in \u001b[0;36mdetails1.prtdet\u001b[0;34m(self)\u001b[0m\n\u001b[1;32m     13\u001b[0m \u001b[38;5;28;01mdef\u001b[39;00m \u001b[38;5;21mprtdet\u001b[39m(\u001b[38;5;28mself\u001b[39m):\n\u001b[0;32m---> 14\u001b[0m      \u001b[38;5;28mprint\u001b[39m(\u001b[38;5;28mself\u001b[39m\u001b[38;5;241m.\u001b[39mname,\u001b[38;5;28mself\u001b[39m\u001b[38;5;241m.\u001b[39memail,\u001b[43mdetails\u001b[49m\u001b[38;5;241m.\u001b[39mcountry)\n",
      "\u001b[0;31mNameError\u001b[0m: name 'details' is not defined"
     ]
    }
   ],
   "source": [
    "print(details1.country)\n",
    "v = details1.instant_detail('Vivek','v')\n",
    "print( v.email,'\\n',details1.prtdet(v))"
   ]
  }
 ],
 "metadata": {
  "kernelspec": {
   "display_name": "Python 3 (ipykernel)",
   "language": "python",
   "name": "python3"
  },
  "language_info": {
   "codemirror_mode": {
    "name": "ipython",
    "version": 3
   },
   "file_extension": ".py",
   "mimetype": "text/x-python",
   "name": "python",
   "nbconvert_exporter": "python",
   "pygments_lexer": "ipython3",
   "version": "3.10.8"
  }
 },
 "nbformat": 4,
 "nbformat_minor": 5
}
