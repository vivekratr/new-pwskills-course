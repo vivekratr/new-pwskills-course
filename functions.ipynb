{
 "cells": [
  {
   "cell_type": "code",
   "execution_count": 2,
   "id": "705244be-ad68-4218-a017-f9cde1b312dd",
   "metadata": {},
   "outputs": [],
   "source": [
    "def returrn():\n",
    "    return 1,'a',True,(1,'1',0),[1,2,3,4],{1:1,2:1}\n",
    "n,c,b,t,l,d = returrn()"
   ]
  },
  {
   "cell_type": "code",
   "execution_count": 4,
   "id": "ca796e92-e6c6-4e00-b504-0877d956e330",
   "metadata": {},
   "outputs": [
    {
     "data": {
      "text/plain": [
       "1"
      ]
     },
     "execution_count": 4,
     "metadata": {},
     "output_type": "execute_result"
    }
   ],
   "source": [
    "n\n"
   ]
  },
  {
   "cell_type": "code",
   "execution_count": 8,
   "id": "26ba8ea8-bb30-45ba-ba94-983257d0b6d1",
   "metadata": {},
   "outputs": [
    {
     "data": {
      "text/plain": [
       "'a'"
      ]
     },
     "execution_count": 8,
     "metadata": {},
     "output_type": "execute_result"
    }
   ],
   "source": [
    "c \n",
    "\n"
   ]
  },
  {
   "cell_type": "code",
   "execution_count": 10,
   "id": "b5d7d0b9-88f5-45ab-867b-b9087f46a699",
   "metadata": {},
   "outputs": [
    {
     "data": {
      "text/plain": [
       "True"
      ]
     },
     "execution_count": 10,
     "metadata": {},
     "output_type": "execute_result"
    }
   ],
   "source": [
    "b"
   ]
  },
  {
   "cell_type": "code",
   "execution_count": 11,
   "id": "ae1f4102-6f4a-49b8-a090-746c88c9acb0",
   "metadata": {},
   "outputs": [
    {
     "data": {
      "text/plain": [
       "(1, '1', 0)"
      ]
     },
     "execution_count": 11,
     "metadata": {},
     "output_type": "execute_result"
    }
   ],
   "source": [
    "t\n"
   ]
  },
  {
   "cell_type": "code",
   "execution_count": 12,
   "id": "5735ae4d-6a1e-4c51-9615-b90e9d7c8baf",
   "metadata": {},
   "outputs": [
    {
     "data": {
      "text/plain": [
       "[1, 2, 3, 4]"
      ]
     },
     "execution_count": 12,
     "metadata": {},
     "output_type": "execute_result"
    }
   ],
   "source": [
    "l"
   ]
  },
  {
   "cell_type": "code",
   "execution_count": 13,
   "id": "9054f864-40d3-4dac-8491-b68b53a062f7",
   "metadata": {},
   "outputs": [
    {
     "data": {
      "text/plain": [
       "{1: 1, 2: 1}"
      ]
     },
     "execution_count": 13,
     "metadata": {},
     "output_type": "execute_result"
    }
   ],
   "source": [
    "d"
   ]
  },
  {
   "cell_type": "code",
   "execution_count": 18,
   "id": "a94ba2fb-c247-496a-bd99-731ccddd078f",
   "metadata": {},
   "outputs": [
    {
     "data": {
      "text/plain": [
       "[1, 2, 3, 11, 22, 33]"
      ]
     },
     "execution_count": 18,
     "metadata": {},
     "output_type": "execute_result"
    }
   ],
   "source": [
    "def extNum(l):\n",
    "    '''function to extract data from nested list'''\n",
    "    l1 = []\n",
    "    \n",
    "    for i in l:\n",
    "        if type(i) is list:\n",
    "            for j in i:\n",
    "                if type(j) is int:\n",
    "                    l1.append(j)\n",
    "        if type(i) is int:\n",
    "            l1.append(i)\n",
    "    return l1\n",
    "\n",
    "l = [1,2,3,'c',2.2,[11,22,33,'cc','aa']]\n",
    "l2 = extNum(l)\n",
    "l2\n",
    "            \n",
    "    "
   ]
  },
  {
   "cell_type": "code",
   "execution_count": 23,
   "id": "de3035de-a60f-48f3-a911-7cd81b8ab69b",
   "metadata": {},
   "outputs": [
    {
     "data": {
      "text/plain": [
       "((1, 2, 3, 'c', [1, 2, 3, 3], 1), 'ayo')"
      ]
     },
     "execution_count": 23,
     "metadata": {},
     "output_type": "execute_result"
    }
   ],
   "source": [
    "def dynamicInput(*vk,last):\n",
    "    ''' this function can take dynamic inputs inside this function and stored in the form of tuple'''\n",
    "    return vk, last\n",
    "dynamicInput(1,2,3,'c',[1,2,3,3],1,last = 'ayo')"
   ]
  },
  {
   "cell_type": "code",
   "execution_count": 25,
   "id": "107d39db-c2bc-4076-a39a-419dc5587a1e",
   "metadata": {},
   "outputs": [
    {
     "data": {
      "text/plain": [
       "(1, 3, 13)"
      ]
     },
     "execution_count": 25,
     "metadata": {},
     "output_type": "execute_result"
    }
   ],
   "source": [
    "def a(a,v,c=13):\n",
    "    return a,v,c\n",
    "a(1,3)\n",
    "    "
   ]
  },
  {
   "cell_type": "code",
   "execution_count": 27,
   "id": "c363461a-e737-49db-ad33-65af033c093f",
   "metadata": {},
   "outputs": [
    {
     "data": {
      "text/plain": [
       "{'a': 1, 'b': 'a', 'c': [1, 2, 43, 4]}"
      ]
     },
     "execution_count": 27,
     "metadata": {},
     "output_type": "execute_result"
    }
   ],
   "source": [
    "def dictFunc(**vk):\n",
    "    return vk\n",
    "dictFunc(a=1,b='a',c = [1,2,43,4])"
   ]
  },
  {
   "cell_type": "code",
   "execution_count": null,
   "id": "ea505d87-076f-4502-aa59-76eaac3cdd96",
   "metadata": {},
   "outputs": [],
   "source": []
  }
 ],
 "metadata": {
  "kernelspec": {
   "display_name": "Python 3 (ipykernel)",
   "language": "python",
   "name": "python3"
  },
  "language_info": {
   "codemirror_mode": {
    "name": "ipython",
    "version": 3
   },
   "file_extension": ".py",
   "mimetype": "text/x-python",
   "name": "python",
   "nbconvert_exporter": "python",
   "pygments_lexer": "ipython3",
   "version": "3.10.8"
  }
 },
 "nbformat": 4,
 "nbformat_minor": 5
}
