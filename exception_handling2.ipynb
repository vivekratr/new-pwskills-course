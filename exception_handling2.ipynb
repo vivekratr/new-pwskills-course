{
 "cells": [
  {
   "cell_type": "code",
   "execution_count": 2,
   "id": "483b1b74-dfee-4613-88a6-0f6eba90931c",
   "metadata": {},
   "outputs": [
    {
     "name": "stdout",
     "output_type": "stream",
     "text": [
      "division by zero\n"
     ]
    }
   ],
   "source": [
    "try:\n",
    "    a = 10/0\n",
    "except ZeroDivisionError as e:\n",
    "    print(e)"
   ]
  },
  {
   "cell_type": "code",
   "execution_count": 4,
   "id": "928292b1-9cbc-4f77-b4b2-36351900e0e5",
   "metadata": {},
   "outputs": [
    {
     "name": "stdout",
     "output_type": "stream",
     "text": [
      "invalid literal for int() with base 10: 'vivek'\n"
     ]
    }
   ],
   "source": [
    "try:\n",
    "    int('vivek')\n",
    "except (ValueError,TypeError) as e:\n",
    "    print(e)"
   ]
  },
  {
   "cell_type": "code",
   "execution_count": 6,
   "id": "9c955870-ee3d-49aa-9e27-49abf12f06d7",
   "metadata": {},
   "outputs": [
    {
     "name": "stdout",
     "output_type": "stream",
     "text": [
      "Invalid Module error!\n"
     ]
    },
    {
     "data": {
      "text/plain": [
       "0.8333333333333334"
      ]
     },
     "execution_count": 6,
     "metadata": {},
     "output_type": "execute_result"
    }
   ],
   "source": [
    "try:\n",
    "    import vivek\n",
    "except:\n",
    "    print('Invalid Module error!')\n",
    "10/12"
   ]
  },
  {
   "cell_type": "code",
   "execution_count": 7,
   "id": "5d9ee502-e197-45fd-b6c4-1fa1c0cb67a7",
   "metadata": {},
   "outputs": [
    {
     "name": "stdout",
     "output_type": "stream",
     "text": [
      "'w'\n"
     ]
    }
   ],
   "source": [
    "try:\n",
    "    p = {'a':'b',1 :[1]}\n",
    "    print(p['w'])\n",
    "except KeyError as e:\n",
    "    print(e)"
   ]
  },
  {
   "cell_type": "code",
   "execution_count": 8,
   "id": "1f48ea09-20b3-4d4c-b07c-2b3a07d4d505",
   "metadata": {},
   "outputs": [
    {
     "name": "stdout",
     "output_type": "stream",
     "text": [
      "'str' object has no attribute 'top'\n"
     ]
    }
   ],
   "source": [
    "try:\n",
    "    'vivek'.top()\n",
    "except AttributeError as e:\n",
    "    print(e)"
   ]
  },
  {
   "cell_type": "code",
   "execution_count": 9,
   "id": "067212b6-1c12-4584-85fa-49d67ad51348",
   "metadata": {},
   "outputs": [
    {
     "name": "stdout",
     "output_type": "stream",
     "text": [
      "list index out of range\n"
     ]
    }
   ],
   "source": [
    "try:\n",
    "    l = [1,2,3,4,5]\n",
    "    print(l[10])\n",
    "except IndexError as e:\n",
    "    print(e)"
   ]
  },
  {
   "cell_type": "code",
   "execution_count": 10,
   "id": "ed79ca69-7ea8-4a02-b501-9cc9bab4b336",
   "metadata": {},
   "outputs": [
    {
     "name": "stdout",
     "output_type": "stream",
     "text": [
      "unsupported operand type(s) for +: 'int' and 'str'\n"
     ]
    }
   ],
   "source": [
    "try :\n",
    "    123+'vivek'\n",
    "except TypeError as e:\n",
    "    print(e)"
   ]
  },
  {
   "cell_type": "code",
   "execution_count": 11,
   "id": "88258536-2cf8-418d-b046-e000b1a50ab0",
   "metadata": {},
   "outputs": [
    {
     "name": "stdout",
     "output_type": "stream",
     "text": [
      "[Errno 2] No such file or directory: 'nofile.txt'\n"
     ]
    }
   ],
   "source": [
    "try:\n",
    "    with open('nofile.txt','r') as f:\n",
    "        print(f.read())\n",
    "except FileNotFoundError as e:\n",
    "    print(e)"
   ]
  },
  {
   "cell_type": "code",
   "execution_count": 13,
   "id": "5d36057c-7004-42b1-952f-949f5c10537e",
   "metadata": {},
   "outputs": [
    {
     "name": "stdout",
     "output_type": "stream",
     "text": [
      "2 [Errno 2] No such file or directory: 'nofile.txt'\n"
     ]
    }
   ],
   "source": [
    "try:\n",
    "    with open('nofile.txt','r') as f:\n",
    "        print(f.read())\n",
    "except TypeError as e:\n",
    "    print('1',e)\n",
    "except FileNotFoundError as e:\n",
    "    print('2',e)"
   ]
  },
  {
   "cell_type": "code",
   "execution_count": 14,
   "id": "b467ff1a-6abc-457b-b568-2b59ca8135a3",
   "metadata": {},
   "outputs": [
    {
     "name": "stdout",
     "output_type": "stream",
     "text": [
      "yoooooo\n"
     ]
    }
   ],
   "source": [
    "try:\n",
    "    with open('nofile.txt','r') as f:\n",
    "        print(f.read())\n",
    "except TypeError as e:\n",
    "    print('1',e)\n",
    "except Exception as e:\n",
    "    print('yoooooo')\n",
    "except FileNotFoundError as e:\n",
    "    print('2',e)"
   ]
  },
  {
   "cell_type": "code",
   "execution_count": null,
   "id": "72a80b86-3368-48fe-9ac8-e86cb6b4b576",
   "metadata": {},
   "outputs": [],
   "source": []
  }
 ],
 "metadata": {
  "kernelspec": {
   "display_name": "Python 3 (ipykernel)",
   "language": "python",
   "name": "python3"
  },
  "language_info": {
   "codemirror_mode": {
    "name": "ipython",
    "version": 3
   },
   "file_extension": ".py",
   "mimetype": "text/x-python",
   "name": "python",
   "nbconvert_exporter": "python",
   "pygments_lexer": "ipython3",
   "version": "3.10.8"
  }
 },
 "nbformat": 4,
 "nbformat_minor": 5
}
