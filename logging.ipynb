{
 "cells": [
  {
   "cell_type": "code",
   "execution_count": 13,
   "id": "b466c9fd-5b6d-4ef2-817f-460c79e1a3f7",
   "metadata": {},
   "outputs": [
    {
     "name": "stdout",
     "output_type": "stream",
     "text": [
      "THis is print function\n"
     ]
    }
   ],
   "source": [
    "print('THis is print function')"
   ]
  },
  {
   "cell_type": "code",
   "execution_count": 14,
   "id": "3171a1e6-1c9d-4857-bf71-c9acbd2d0337",
   "metadata": {},
   "outputs": [],
   "source": [
    "import logging"
   ]
  },
  {
   "cell_type": "code",
   "execution_count": 15,
   "id": "87683bd3-73d5-4d3c-9622-d68fde0d3b4f",
   "metadata": {},
   "outputs": [],
   "source": [
    "logging.basicConfig(filename = 'test.log',level =logging.INFO)"
   ]
  },
  {
   "cell_type": "code",
   "execution_count": 16,
   "id": "9e361dc6-21d7-4c75-a883-2b37fdbe7423",
   "metadata": {},
   "outputs": [],
   "source": [
    "logging.info('THis is through logging')"
   ]
  },
  {
   "cell_type": "code",
   "execution_count": 17,
   "id": "2e0a0423-e79f-4450-9d08-67a590f3d9f8",
   "metadata": {},
   "outputs": [],
   "source": [
    "# Labels:\n",
    "#     NOTSET #cannot be logged # if you select this as label then you can use the labels below it\n",
    "#     DEBUG  #cannot be logged\n",
    "#     INFO\n",
    "#     WARNING\n",
    "#     ERROR\n",
    "#     CRITICAL  #if you use this label then you can only use critical and no other labels"
   ]
  },
  {
   "cell_type": "code",
   "execution_count": 18,
   "id": "3e8eea65-d7f2-4edd-bc3d-9a1045772757",
   "metadata": {},
   "outputs": [],
   "source": [
    "logging.info('THis is through logging')"
   ]
  },
  {
   "cell_type": "code",
   "execution_count": 19,
   "id": "b46b3400-1f9c-456e-b4df-4be1a5455411",
   "metadata": {},
   "outputs": [],
   "source": [
    "logging.error('Error 303')"
   ]
  },
  {
   "cell_type": "code",
   "execution_count": 20,
   "id": "983c2309-8743-4606-9bd4-c347b5a3c25e",
   "metadata": {},
   "outputs": [],
   "source": [
    "logging.critical(\"Situation is critical!\")"
   ]
  },
  {
   "cell_type": "code",
   "execution_count": 21,
   "id": "bb8a6ecd-7d91-4300-87b3-b1feebfae841",
   "metadata": {},
   "outputs": [],
   "source": [
    "logging.debug('This will not get logged!!')"
   ]
  },
  {
   "cell_type": "code",
   "execution_count": 22,
   "id": "e7243059-2078-4826-9fbd-c012aef450e2",
   "metadata": {},
   "outputs": [],
   "source": [
    "logging.shutdown()"
   ]
  },
  {
   "cell_type": "code",
   "execution_count": 2,
   "id": "ea0adc2a-b3a9-4eb5-893d-aad9f2ded44f",
   "metadata": {},
   "outputs": [],
   "source": [
    "import logging\n",
    "logging.basicConfig(filename = 'test1.log',level =logging.DEBUG, format = '%(asctime)s %(message)s')\n",
    "#actime - will store the time when the user input is recieved somewhere\n",
    "#%()s - it means that time and message will be stored in the form of string"
   ]
  },
  {
   "cell_type": "code",
   "execution_count": 3,
   "id": "596092eb-3aa0-466a-8bca-3fdb0be5a679",
   "metadata": {},
   "outputs": [],
   "source": [
    "logging.info('THis is through logging')\n",
    "logging.info('THis is through logging')\n",
    "logging.error('Error 303')\n",
    "logging.critical(\"Situation is critical!\")\n",
    "logging.debug('This will not get logged!!')"
   ]
  },
  {
   "cell_type": "code",
   "execution_count": 5,
   "id": "91849bfa-fbd4-4118-ba10-0fdfa3120e9d",
   "metadata": {},
   "outputs": [],
   "source": [
    "# if you want to log any list number or anything just typecast it to string\n",
    "l1 = [1,2,'c',(1,2,'c'),[1,2,3]]\n",
    "logging.info('this is my list:'+str(l1))\n",
    "logging.info(f'this is my list through fstring:{l1}')"
   ]
  }
 ],
 "metadata": {
  "kernelspec": {
   "display_name": "Python 3 (ipykernel)",
   "language": "python",
   "name": "python3"
  },
  "language_info": {
   "codemirror_mode": {
    "name": "ipython",
    "version": 3
   },
   "file_extension": ".py",
   "mimetype": "text/x-python",
   "name": "python",
   "nbconvert_exporter": "python",
   "pygments_lexer": "ipython3",
   "version": "3.10.8"
  }
 },
 "nbformat": 4,
 "nbformat_minor": 5
}
