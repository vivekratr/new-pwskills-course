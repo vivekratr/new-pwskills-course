{
 "cells": [
  {
   "cell_type": "code",
   "execution_count": 19,
   "id": "aedddab5-d436-4433-a082-ca1f9e56d431",
   "metadata": {},
   "outputs": [
    {
     "name": "stdout",
     "output_type": "stream",
     "text": [
      "4134711838987085478833841242112000\n"
     ]
    }
   ],
   "source": [
    "# Q1. Create a function which will take a list as an argument and return the product of all the numbers\n",
    "# after creating a flat list.\n",
    "# Use the below-given list as an argument for your function.\n",
    "from functools import reduce\n",
    "def prodNum(l):\n",
    "    l1 = []\n",
    "    for i in l:\n",
    "        if type(i) == int:\n",
    "            l1.append(i)\n",
    "        if type(i)== list or type(i) == tuple or type(i) == set:\n",
    "            for j in i:\n",
    "                if type(j) == int:             \n",
    "                    l1.append(j)\n",
    "                if type(j) == list:\n",
    "                    for jj in j:\n",
    "                        if type(jj) == int:\n",
    "                            l1.append(jj)\n",
    "        if type(i) == dict:\n",
    "            for x,y in i.items():\n",
    "                if type(x) == int:        \n",
    "                    l1.append(x)\n",
    "                if type(y) == int:                   \n",
    "                    l1.append(y)\n",
    "                if type(y) == list or type(y) == set or type(y) == tuple:\n",
    "                    for yy in y:\n",
    "                        if type(yy) == int:                         \n",
    "                            l1.append(yy)  \n",
    "\n",
    "        \n",
    "    return int(reduce(lambda a,b:a*b,l1))\n",
    "\n",
    "                    \n",
    "    \n",
    "list1 = [1,2,3,4, [44,55,66, True], False, (34,56,78,89,34), {1,2,3,3,2,1}, {1:34, \"key2\": [55, 67, 78, 89], 4: (45,\n",
    "22, 61, 34)}, [56, 'data science'], 'Machine Learning']\n",
    "output= prodNum(list1)\n",
    "print(output)"
   ]
  },
  {
   "cell_type": "code",
   "execution_count": 31,
   "id": "a1539a74-190e-4c35-a022-6ed5e2512682",
   "metadata": {},
   "outputs": [
    {
     "name": "stdout",
     "output_type": "stream",
     "text": [
      "i$wznt$to$yexome$z$dztz$sxientist.\n"
     ]
    }
   ],
   "source": [
    "# Q2. Write a python program for encrypting a message sent to you by your friend. The logic of encryption\n",
    "# should be such that, for a the output should be z. For b, the output should be y. For c, the output should\n",
    "# be x respectively. Also, the whitespace should be replaced with a dollar sign. Keep the punctuation\n",
    "# marks unchanged.\n",
    "# Input Sentence: I want to become a Data Scientist.\n",
    "# Encrypt the above input sentence using the program you just created.\n",
    "# Note: Convert the given input sentence into lowercase before encrypting. The final output should be\n",
    "# lowercase.\n",
    "def encrypt(a):\n",
    "    a = a.lower()\n",
    "    a = a.replace('a','z')\n",
    "    a = a.replace('b','y')\n",
    "    a = a.replace('c','x')\n",
    "    a = a.replace(' ','$')\n",
    "    return a\n",
    "e = encrypt('I want to become a Data Scientist.')\n",
    "print(e)"
   ]
  }
 ],
 "metadata": {
  "kernelspec": {
   "display_name": "Python 3 (ipykernel)",
   "language": "python",
   "name": "python3"
  },
  "language_info": {
   "codemirror_mode": {
    "name": "ipython",
    "version": 3
   },
   "file_extension": ".py",
   "mimetype": "text/x-python",
   "name": "python",
   "nbconvert_exporter": "python",
   "pygments_lexer": "ipython3",
   "version": "3.10.8"
  }
 },
 "nbformat": 4,
 "nbformat_minor": 5
}
