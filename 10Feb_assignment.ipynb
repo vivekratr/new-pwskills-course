{
 "cells": [
  {
   "cell_type": "code",
   "execution_count": null,
   "id": "4f9ed01f-4a4f-4142-beac-ee5846ee6f39",
   "metadata": {},
   "outputs": [],
   "source": [
    "# Q1. Which function is used to open a file? What are the different modes of opening a file? Explain each mode\n",
    "# of file opening.\n",
    "Ans->1) 'open' function is used to open a file.\n",
    "2) Different modes of opening a file:\n",
    "    a) 'r' : it opens the file in read mode , if the file does not exist then it will throw an error.\n",
    "    b) 'w' : it opens the file in write mode, if the file does not exist then it create the file but if the file already exist then it will overwrite the\n",
    "    content of the file.\n",
    "    c) 'a' : it opens the file in append mode, in this mode new content can be appended without deletion of previous data. If the file does not exist\n",
    "    it will create the file.\n",
    "    d) 'b' : This mode is used to read or write a file in binary format. In this mode, the file is opened in binary format instead of text format."
   ]
  },
  {
   "cell_type": "code",
   "execution_count": null,
   "id": "e0398b93-a174-41fd-8882-ce4fd045e193",
   "metadata": {},
   "outputs": [],
   "source": [
    "# Q2. Why close() function is used? Why is it important to close a file?\n",
    "Ans->\n",
    "a) close() is a method that is used to close a file that has been opened using the open() function. \n",
    "b) If a file is not closed properly, it can lead to data corruption or loss, as well as issues \n",
    "with system resources. Therefore, it is essential to close a file after it has been used."
   ]
  },
  {
   "cell_type": "code",
   "execution_count": 2,
   "id": "61db1444-8d33-442a-ab86-50f68e3c1a95",
   "metadata": {},
   "outputs": [
    {
     "name": "stdout",
     "output_type": "stream",
     "text": [
      "I want to become a Data Scientist\n"
     ]
    }
   ],
   "source": [
    "# Q3. Write a python program to create a text file. Write ‘I want to become a Data Scientist’ in that file. Then\n",
    "# close the file. Open this file and read the content of the file.\n",
    "# Ans->\n",
    "f = open('10Feb.txt','w')\n",
    "f.write('I want to become a Data Scientist')\n",
    "f.close()\n",
    "with open('10Feb.txt','r') as f:\n",
    "    for i in f:\n",
    "        print(i)\n",
    "    "
   ]
  },
  {
   "cell_type": "code",
   "execution_count": 4,
   "id": "72ab4798-c855-4d64-832f-6b56f50c346d",
   "metadata": {},
   "outputs": [
    {
     "data": {
      "text/plain": [
       "'Intelligence is a complex concept that refers to the ability of an individual \\nto learn from experience, reason, solve problems, adapt to new situations, and think abstractly.\\nWhile there is no universally agreed upon definition of intelligence, most experts agree that it is a multifaceted\\nconstruct that includes cognitive, social, and emotional abilities.\\nThere are different ways to classify intelligence, but one common way is to distinguish between two broad types: \\nfluid intelligence and crystallized intelligence.\\n\\nFluid Intelligence: Fluid intelligence refers to the ability to think abstractly and solve problems in novel situations,\\nindependent of acquired knowledge. It is often considered to be a measure of raw intellectual potential and is thought to\\ndecline with age. Examples of tasks that measure fluid intelligence include pattern recognition, spatial reasoning, and logical thinking.'"
      ]
     },
     "execution_count": 4,
     "metadata": {},
     "output_type": "execute_result"
    }
   ],
   "source": [
    "# Q4. Explain the following with python code: read(), readline() and readlines().\n",
    "# Ans->a) read():\n",
    "#     This function is used to read the whole content inside the file \n",
    "#     and returns it as a single string. It takes an optional argument \n",
    "#     that specifies the number of bytes to read. If no argument is provided, the entire file is read.\n",
    "    \n",
    "f = open('10feb4.txt','w')\n",
    "f.write('''Intelligence is a complex concept that refers to the ability of an individual \n",
    "to learn from experience, reason, solve problems, adapt to new situations, and think abstractly.\n",
    "While there is no universally agreed upon definition of intelligence, most experts agree that it is a multifaceted\n",
    "construct that includes cognitive, social, and emotional abilities.\n",
    "There are different ways to classify intelligence, but one common way is to distinguish between two broad types: \n",
    "fluid intelligence and crystallized intelligence.\n",
    "\n",
    "Fluid Intelligence: Fluid intelligence refers to the ability to think abstractly and solve problems in novel situations,\n",
    "independent of acquired knowledge. It is often considered to be a measure of raw intellectual potential and is thought to\n",
    "decline with age. Examples of tasks that measure fluid intelligence include pattern recognition, spatial reasoning, and logical thinking.''')\n",
    "f.close()\n",
    "\n",
    "#read()\n",
    "f1 = open('10feb4.txt','r')\n",
    "f1.read()\n"
   ]
  },
  {
   "cell_type": "code",
   "execution_count": 1,
   "id": "0a4f3e2c-1c1d-4bdd-9e3a-b1585a845813",
   "metadata": {},
   "outputs": [
    {
     "name": "stdout",
     "output_type": "stream",
     "text": [
      "Intelligence is a complex concept that refers to the ability of an individual \n",
      "\n",
      "to learn from experience, reason, solve problems, adapt to new situations, and think abstractly.\n",
      "\n"
     ]
    }
   ],
   "source": [
    "#readlines():\n",
    "# b) readline():\n",
    "# This method reads a single line from a file and returns it as a string. \n",
    "# It reads characters from the current position of the file pointer up to and including the first newline character.\n",
    "# If the end of the file is reached, an empty string is returned.\n",
    "\n",
    "f2 = open('10feb4.txt','r')\n",
    "print(f2.readline())\n",
    "print(f2.readline())\n",
    "f2.close()\n"
   ]
  },
  {
   "cell_type": "code",
   "execution_count": 2,
   "id": "57eb1376-0e3c-4aa4-a4bf-0ecf824ac989",
   "metadata": {},
   "outputs": [
    {
     "name": "stdout",
     "output_type": "stream",
     "text": [
      "Intelligence is a complex concept that refers to the ability of an individual \n",
      "\n",
      "to learn from experience, reason, solve problems, adapt to new situations, and think abstractly.\n",
      "\n",
      "While there is no universally agreed upon definition of intelligence, most experts agree that it is a multifaceted\n",
      "\n",
      "construct that includes cognitive, social, and emotional abilities.\n",
      "\n",
      "There are different ways to classify intelligence, but one common way is to distinguish between two broad types: \n",
      "\n",
      "fluid intelligence and crystallized intelligence.\n",
      "\n",
      "\n",
      "\n",
      "Fluid Intelligence: Fluid intelligence refers to the ability to think abstractly and solve problems in novel situations,\n",
      "\n",
      "independent of acquired knowledge. It is often considered to be a measure of raw intellectual potential and is thought to\n",
      "\n",
      "decline with age. Examples of tasks that measure fluid intelligence include pattern recognition, spatial reasoning, and logical thinking.\n"
     ]
    }
   ],
   "source": [
    "#c) readlines: # This method reads all the lines from a file and returns them as a list of strings.\n",
    "# Each string in the list represents a line from the file. If the end of the file is reached, an empty list is returned.\n",
    "# Example using readlines() method\n",
    "with open(\"10feb4.txt\", \"r\") as file:\n",
    "    lines = file.readlines()\n",
    "    for line in lines:\n",
    "        print(line)\n"
   ]
  },
  {
   "cell_type": "code",
   "execution_count": null,
   "id": "e7786a16-c9df-4d9a-b364-9c8c4898b4db",
   "metadata": {},
   "outputs": [],
   "source": [
    "# Q5. Explain why 'with' statement is used with open(). What is the advantage of using 'with' statement and\n",
    "# open() together?\n",
    "Ans->\n",
    "1)'with' statement is used in conjunction with open() to ensure that a file is properly closed after it has been used. \n",
    "2)The advantage of using the 'with' statement with open() is that it automatically takes care of closing the file,\n",
    "even if an error occurs while the file is being read or written.\n",
    "3)The advantage of using the with statement with open() is that it simplifies the code and makes it more readable \n",
    "by removing the need to explicitly call the close() method"
   ]
  },
  {
   "cell_type": "code",
   "execution_count": 6,
   "id": "5c9980bd-e140-49ab-9d4d-d9a1fb22259d",
   "metadata": {},
   "outputs": [
    {
     "name": "stdout",
     "output_type": "stream",
     "text": [
      "This is the new data.\n"
     ]
    }
   ],
   "source": [
    "# Q6. Explain the write() and writelines() functions. Give a suitable example.\n",
    "# Ans->1)write(): \n",
    "#     a) This function is used to write a single string of data to a file. \n",
    "#     b) The data is written at the current position of the file pointer, which is initially set to the beginning of the file when the file is opened.\n",
    "#     c) If the file already exists and contains data, that data will be overwritten with the new string.\n",
    "#     d) If the file does not exist, it will be created.\n",
    "with open('10feb6.txt', 'w') as f:\n",
    "    f.write('Hello, world!')\n",
    "    f.close()\n",
    "with open('10feb6.txt', 'w') as f:\n",
    "    f.write('This is the new data.')\n",
    "with open('10feb6.txt', 'r') as f:\n",
    "    print(f.read())\n",
    "\n",
    "\n"
   ]
  },
  {
   "cell_type": "code",
   "execution_count": 16,
   "id": "02cc751b-c833-45fd-a40f-c92c9ae0861e",
   "metadata": {},
   "outputs": [
    {
     "name": "stdout",
     "output_type": "stream",
     "text": [
      "Hello, world!\n",
      "How are you?\n",
      "Goodbye!\n",
      "\n"
     ]
    }
   ],
   "source": [
    "# 2) writeline():\n",
    "#     a) This function is used to write a sequence of strings to a file.\n",
    "#     b) Each string in the sequence is written to the file as a separate line. \n",
    "with open('10feb6a.txt', 'w') as f:\n",
    "    lines = ['Hello, world!', 'How are you?', 'Goodbye!']\n",
    "    f.writelines(line + '\\n' for line in lines)\n",
    "with open('10feb6a.txt', 'r') as f:\n",
    "    p=f.read()\n",
    "    print(p)"
   ]
  }
 ],
 "metadata": {
  "kernelspec": {
   "display_name": "Python 3 (ipykernel)",
   "language": "python",
   "name": "python3"
  },
  "language_info": {
   "codemirror_mode": {
    "name": "ipython",
    "version": 3
   },
   "file_extension": ".py",
   "mimetype": "text/x-python",
   "name": "python",
   "nbconvert_exporter": "python",
   "pygments_lexer": "ipython3",
   "version": "3.10.8"
  }
 },
 "nbformat": 4,
 "nbformat_minor": 5
}
