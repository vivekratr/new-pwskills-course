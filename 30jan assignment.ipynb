{
 "cells": [
  {
   "cell_type": "code",
   "execution_count": 1,
   "id": "2b6f6d66-82ab-4928-8690-0fb6960beee2",
   "metadata": {},
   "outputs": [
    {
     "name": "stdin",
     "output_type": "stream",
     "text": [
      "Enter your percentage:\n",
      " 94\n"
     ]
    },
    {
     "name": "stdout",
     "output_type": "stream",
     "text": [
      "Your percentage is 94.0 and you got Grade: A \n"
     ]
    }
   ],
   "source": [
    "#Q.NO1\n",
    "mrks= float(input(\"Enter your percentage:\\n\"))\n",
    "if(mrks>90.00):\n",
    "    grade = 'A'\n",
    "elif(mrks>80 and mrks<=90):\n",
    "    grade = 'B'\n",
    "elif(mrks>=60 and mrks <=80):\n",
    "    grade = 'C'\n",
    "elif(mrks<60):\n",
    "    grade = 'D'\n",
    "print(f\"Your percentage is {mrks} and you got Grade: {grade} \")"
   ]
  },
  {
   "cell_type": "code",
   "execution_count": 3,
   "id": "8685de55-25ba-42dc-985c-029403f29069",
   "metadata": {},
   "outputs": [
    {
     "name": "stdin",
     "output_type": "stream",
     "text": [
      "Enter the cost price of your bike:\n",
      " 999999\n"
     ]
    },
    {
     "name": "stdout",
     "output_type": "stream",
     "text": [
      "Road tax to be paid = 149999.85 \n"
     ]
    }
   ],
   "source": [
    "#Q.NO2\n",
    "cp = float(input(\"Enter the cost price of your bike:\\n\"))\n",
    "if(cp>100000):\n",
    "    tax = 0.15*cp\n",
    "elif(cp>50000 and cp<=100000):\n",
    "    tax = 0.10*cp\n",
    "elif(cp<=50000):\n",
    "    tax = 0.05*cp\n",
    "print(f\"Road tax to be paid = {tax} \")\n",
    "    \n",
    "    "
   ]
  },
  {
   "cell_type": "code",
   "execution_count": 7,
   "id": "34fba900-3e35-4c68-b990-9d3193d7e77b",
   "metadata": {},
   "outputs": [
    {
     "name": "stdin",
     "output_type": "stream",
     "text": [
      "Enter the city name: Jaipur\n"
     ]
    },
    {
     "name": "stdout",
     "output_type": "stream",
     "text": [
      "Monument in city JAIPUR is Jal Mahal\n"
     ]
    }
   ],
   "source": [
    "#Q.NO3 \n",
    "cm = {'delhi':'Red Fort','agra':'Taj Mahal','jaipur':'Jal Mahal'}\n",
    "c = input(\"Enter the city name:\").lower()\n",
    "print(f\"Monument in city {c.upper()} is {cm[c]}\")"
   ]
  },
  {
   "cell_type": "code",
   "execution_count": 16,
   "id": "987d23b1-f293-4d46-871d-99f2a044e5be",
   "metadata": {},
   "outputs": [
    {
     "name": "stdin",
     "output_type": "stream",
     "text": [
      "Enter the number: 90\n"
     ]
    },
    {
     "name": "stdout",
     "output_type": "stream",
     "text": [
      "2 times 90 can be divided by 3 before it is less than or equal to 1O.  \n"
     ]
    }
   ],
   "source": [
    "#Q.NO4\n",
    "num = int(input('Enter the number:'))\n",
    "num1 = num\n",
    "ctr = 0\n",
    "while(num1>10):\n",
    "    ctr +=1\n",
    "    num1 /=3\n",
    "print(f\"{ctr} times {num} can be divided by 3 before it is less than or equal to 1O.  \")"
   ]
  },
  {
   "cell_type": "code",
   "execution_count": null,
   "id": "6125c0e3-52aa-42f1-a2c8-0ed54bb3bedb",
   "metadata": {},
   "outputs": [],
   "source": [
    "#Q.NO5\n",
    "A while loop in Python is used to repeatedly execute a block of code as long as a certain condition is met. \n",
    "It is a type of control flow statement that allows a program to execute a block of code repeatedly while a certain condition is true."
   ]
  },
  {
   "cell_type": "code",
   "execution_count": 19,
   "id": "24a1f81b-2254-4c56-b35d-ea2814ea90f0",
   "metadata": {},
   "outputs": [
    {
     "name": "stdout",
     "output_type": "stream",
     "text": [
      "1\n",
      "2\n",
      "3\n",
      "4\n",
      "5\n"
     ]
    }
   ],
   "source": [
    "#e.g of while loop\n",
    "count = 1\n",
    "\n",
    "# while loop to repeat the execution of the code as long as count is less than or equal to 5\n",
    "while count <= 5:\n",
    "    print(count)\n",
    "    count += 1\n",
    "\n",
    "# Output:\n",
    "# 1\n",
    "# 2\n",
    "# 3\n",
    "# 4\n",
    "# 5\n"
   ]
  },
  {
   "cell_type": "code",
   "execution_count": 41,
   "id": "c1e1b200-fcef-4850-95e1-91690db504b7",
   "metadata": {},
   "outputs": [
    {
     "name": "stdout",
     "output_type": "stream",
     "text": [
      "***** \n",
      "***** \n",
      "***** \n",
      "***** \n",
      "***** \n"
     ]
    }
   ],
   "source": [
    "#Q.NO6\n",
    "# pattern 1 : Square\n",
    "r =5\n",
    "\n",
    "while(r):\n",
    "    \n",
    "    c = 5\n",
    "    while(c):\n",
    "        print('*',end='')\n",
    "        c -= 1\n",
    "    print(' ')\n",
    "    r -= 1\n",
    "    "
   ]
  },
  {
   "cell_type": "code",
   "execution_count": 36,
   "id": "5e2c124f-218d-40b8-8f74-1d5b08b3a2e8",
   "metadata": {},
   "outputs": [
    {
     "name": "stdout",
     "output_type": "stream",
     "text": [
      "     * \n",
      "    * * \n",
      "   * * * \n",
      "  * * * * \n",
      " * * * * * \n"
     ]
    }
   ],
   "source": [
    "# pattern 2 : pyramid\n",
    "\n",
    "space = 5\n",
    "c =1 \n",
    "while(c != 6):\n",
    "    print(' '*space,end='')\n",
    "    print('* '*c,end='')\n",
    "    space -=1\n",
    "    c += 1\n",
    "    print()"
   ]
  },
  {
   "cell_type": "code",
   "execution_count": 38,
   "id": "05311a7f-0352-4f7a-b418-1aaae196fe7f",
   "metadata": {},
   "outputs": [
    {
     "name": "stdout",
     "output_type": "stream",
     "text": [
      " * * * * * \n",
      "  * * * * \n",
      "   * * * \n",
      "    * * \n",
      "     * \n"
     ]
    }
   ],
   "source": [
    "#pattern 3 : reverse pyramid\n",
    "space = 1\n",
    "c =5\n",
    "while(c != 0):\n",
    "    print(' '*space,end='')\n",
    "    print('* '*c,end='')\n",
    "    space +=1\n",
    "    c -= 1\n",
    "    print()"
   ]
  },
  {
   "cell_type": "code",
   "execution_count": 42,
   "id": "8f2c8de4-6a67-440a-b96e-d92785d85222",
   "metadata": {},
   "outputs": [
    {
     "name": "stdout",
     "output_type": "stream",
     "text": [
      "10\n",
      "9\n",
      "8\n",
      "7\n",
      "6\n",
      "5\n",
      "4\n",
      "3\n",
      "2\n",
      "1\n"
     ]
    }
   ],
   "source": [
    "#Q.NO7\n",
    "i = 10\n",
    "while(i != 0):\n",
    "    print(i)\n",
    "    i -=1"
   ]
  },
  {
   "cell_type": "code",
   "execution_count": 43,
   "id": "325003f6-c8bd-49cf-af69-a7d701bdc7c8",
   "metadata": {},
   "outputs": [
    {
     "name": "stdout",
     "output_type": "stream",
     "text": [
      "10\n",
      "9\n",
      "8\n",
      "7\n",
      "6\n",
      "5\n",
      "4\n",
      "3\n",
      "2\n",
      "1\n"
     ]
    }
   ],
   "source": [
    "#Q.NO8\n",
    "i = 10\n",
    "while(i != 0):\n",
    "    print(i)\n",
    "    i -=1"
   ]
  }
 ],
 "metadata": {
  "kernelspec": {
   "display_name": "Python 3 (ipykernel)",
   "language": "python",
   "name": "python3"
  },
  "language_info": {
   "codemirror_mode": {
    "name": "ipython",
    "version": 3
   },
   "file_extension": ".py",
   "mimetype": "text/x-python",
   "name": "python",
   "nbconvert_exporter": "python",
   "pygments_lexer": "ipython3",
   "version": "3.10.8"
  }
 },
 "nbformat": 4,
 "nbformat_minor": 5
}
