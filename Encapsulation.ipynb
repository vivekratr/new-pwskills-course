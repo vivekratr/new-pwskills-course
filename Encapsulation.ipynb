{
 "cells": [
  {
   "cell_type": "code",
   "execution_count": null,
   "id": "5e40189d-6ae3-46c2-aeb5-052b766f7f33",
   "metadata": {},
   "outputs": [],
   "source": [
    "Encapsulation is used to make private method so that the general user wont have any priviledge to make any changes in it.\n",
    "It describes the idea of wrapping data and the methods that work on data within one unit. This puts restrictions on accessing \n",
    "variables and methods directly and can prevent the accidental modification of data. To prevent accidental change, an object’s \n",
    "variable can only be changed by an object’s method. Those types of variables are known as private variables.\n"
   ]
  },
  {
   "cell_type": "code",
   "execution_count": 18,
   "id": "6d0c5143-b8a6-4017-9c5a-c39de7aec0da",
   "metadata": {},
   "outputs": [
    {
     "data": {
      "text/plain": [
       "0"
      ]
     },
     "execution_count": 18,
     "metadata": {},
     "output_type": "execute_result"
    }
   ],
   "source": [
    "class Axis_Bank():\n",
    "    def __init__(self,name,mobile_no,balance) :\n",
    "        self.name = name\n",
    "        self.mobile_no = mobile_no\n",
    "        self.__balance = balance\n",
    "    # def balance(self):\n",
    "    #     self.__balance = 0\n",
    "    def deposit(self,amt):\n",
    "        self.__balance += amt\n",
    "        return True\n",
    "    def show_bal(self):\n",
    "        return self.__balance\n",
    "    def withdraw(self,amtt):\n",
    "        if amtt<=self.__balance:\n",
    "            self.__balance -= amtt\n",
    "            return True\n",
    "        else:\n",
    "            return False\n",
    "vk = Axis_Bank(\"Vivek\",9228828292,0)\n",
    "vk.show_bal()"
   ]
  },
  {
   "cell_type": "code",
   "execution_count": 19,
   "id": "4ce70b9e-10c0-4cb0-8360-532f582c4f07",
   "metadata": {},
   "outputs": [
    {
     "data": {
      "text/plain": [
       "3500"
      ]
     },
     "execution_count": 19,
     "metadata": {},
     "output_type": "execute_result"
    }
   ],
   "source": [
    "vk.deposit(3500)\n",
    "vk.show_bal()"
   ]
  },
  {
   "cell_type": "code",
   "execution_count": 20,
   "id": "7d3b8d23-9e59-48d4-890e-2ace7c70dba2",
   "metadata": {},
   "outputs": [
    {
     "data": {
      "text/plain": [
       "True"
      ]
     },
     "execution_count": 20,
     "metadata": {},
     "output_type": "execute_result"
    }
   ],
   "source": [
    "vk.withdraw(500)"
   ]
  },
  {
   "cell_type": "code",
   "execution_count": 21,
   "id": "553eb667-3c9d-4188-ba0c-ac460c2ad05e",
   "metadata": {},
   "outputs": [
    {
     "data": {
      "text/plain": [
       "3000"
      ]
     },
     "execution_count": 21,
     "metadata": {},
     "output_type": "execute_result"
    }
   ],
   "source": [
    "vk.show_bal()"
   ]
  },
  {
   "cell_type": "code",
   "execution_count": 66,
   "id": "fa675686-aea9-4e40-9021-8b8a82fccfce",
   "metadata": {},
   "outputs": [
    {
     "data": {
      "text/plain": [
       "19999"
      ]
     },
     "execution_count": 66,
     "metadata": {},
     "output_type": "execute_result"
    }
   ],
   "source": [
    "vk._Axis_Bank__balance = 19999 #illegal access to private variable\n",
    "vk.show_bal()"
   ]
  }
 ],
 "metadata": {
  "kernelspec": {
   "display_name": "Python 3 (ipykernel)",
   "language": "python",
   "name": "python3"
  },
  "language_info": {
   "codemirror_mode": {
    "name": "ipython",
    "version": 3
   },
   "file_extension": ".py",
   "mimetype": "text/x-python",
   "name": "python",
   "nbconvert_exporter": "python",
   "pygments_lexer": "ipython3",
   "version": "3.10.8"
  }
 },
 "nbformat": 4,
 "nbformat_minor": 5
}
