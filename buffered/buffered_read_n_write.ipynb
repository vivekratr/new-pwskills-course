{
 "cells": [
  {
   "cell_type": "code",
   "execution_count": 1,
   "id": "3d508396-6d1c-445e-b383-9d4814e54b8a",
   "metadata": {},
   "outputs": [],
   "source": [
    "import io"
   ]
  },
  {
   "cell_type": "code",
   "execution_count": 2,
   "id": "b67a5536-5968-4294-b1ba-fc5c6dbb0ffb",
   "metadata": {},
   "outputs": [],
   "source": [
    "with open('demo1.txt','wb') as f:\n",
    "    file = io.BufferedWriter(f)\n",
    "    file.write(b'This is my first line.\\n')\n",
    "    file.write(b'This is my second line.\\n')\n",
    "    file.flush()"
   ]
  },
  {
   "cell_type": "code",
   "execution_count": 3,
   "id": "ea0a2e45-e6f8-4641-bf70-9cc286c9118d",
   "metadata": {},
   "outputs": [
    {
     "name": "stdout",
     "output_type": "stream",
     "text": [
      "b'This is my'\n"
     ]
    }
   ],
   "source": [
    "with open('demo1.txt','rb') as f:\n",
    "    file = io.BufferedReader(f)\n",
    "    d = file.read(10)\n",
    "    print(d)"
   ]
  }
 ],
 "metadata": {
  "kernelspec": {
   "display_name": "Python 3 (ipykernel)",
   "language": "python",
   "name": "python3"
  },
  "language_info": {
   "codemirror_mode": {
    "name": "ipython",
    "version": 3
   },
   "file_extension": ".py",
   "mimetype": "text/x-python",
   "name": "python",
   "nbconvert_exporter": "python",
   "pygments_lexer": "ipython3",
   "version": "3.10.8"
  }
 },
 "nbformat": 4,
 "nbformat_minor": 5
}
