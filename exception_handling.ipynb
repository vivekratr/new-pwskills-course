{
 "cells": [
  {
   "cell_type": "code",
   "execution_count": 1,
   "id": "2a3734c4-939f-4fe3-93ce-e8e5fa139c59",
   "metadata": {},
   "outputs": [
    {
     "ename": "ZeroDivisionError",
     "evalue": "division by zero",
     "output_type": "error",
     "traceback": [
      "\u001b[0;31m---------------------------------------------------------------------------\u001b[0m",
      "\u001b[0;31mZeroDivisionError\u001b[0m                         Traceback (most recent call last)",
      "Cell \u001b[0;32mIn[1], line 3\u001b[0m\n\u001b[1;32m      1\u001b[0m a \u001b[38;5;241m=\u001b[39m \u001b[38;5;241m1\u001b[39m\n\u001b[1;32m      2\u001b[0m b \u001b[38;5;241m=\u001b[39m\u001b[38;5;241m0\u001b[39m\n\u001b[0;32m----> 3\u001b[0m c \u001b[38;5;241m=\u001b[39m \u001b[43ma\u001b[49m\u001b[38;5;241;43m/\u001b[39;49m\u001b[43mb\u001b[49m\n\u001b[1;32m      4\u001b[0m \u001b[38;5;28mprint\u001b[39m(\u001b[38;5;124m'\u001b[39m\u001b[38;5;124mTHis will not get printed\u001b[39m\u001b[38;5;124m'\u001b[39m)\n",
      "\u001b[0;31mZeroDivisionError\u001b[0m: division by zero"
     ]
    }
   ],
   "source": [
    "a = 1\n",
    "b =0\n",
    "c = a/b\n",
    "print('THis will not get printed')"
   ]
  },
  {
   "cell_type": "code",
   "execution_count": 5,
   "id": "f3b3bc93-5118-4e26-b6d8-dbf9b2117568",
   "metadata": {},
   "outputs": [
    {
     "name": "stdout",
     "output_type": "stream",
     "text": [
      "Error has occured and the error is  division by zero\n",
      "THis will get printed this time\n"
     ]
    }
   ],
   "source": [
    "try:\n",
    "    a = 1\n",
    "    b =0\n",
    "    c = a/b\n",
    "except Exception as v:\n",
    "    print('Error has occured and the error is ',v)\n",
    "print('THis will get printed this time')"
   ]
  },
  {
   "cell_type": "code",
   "execution_count": 8,
   "id": "ba4ae7e9-e594-4014-bd10-405d67c393f1",
   "metadata": {},
   "outputs": [
    {
     "name": "stdout",
     "output_type": "stream",
     "text": [
      "You are seeing this , it means that try block has no error.\n"
     ]
    }
   ],
   "source": [
    "try:\n",
    "    a = 1\n",
    "    b =0\n",
    "    c = a+b\n",
    "except Exception as v: # it will run only when error has occurred\n",
    "    print('Error has occured and the error is ',v)\n",
    "else: # it will execute only if try block has no error\n",
    "    print('You are seeing this , it means that try block has no error.')"
   ]
  },
  {
   "cell_type": "code",
   "execution_count": 9,
   "id": "b69031a7-24d2-4bb5-ad55-17c667a420dd",
   "metadata": {},
   "outputs": [
    {
     "name": "stdout",
     "output_type": "stream",
     "text": [
      "Finally will execute itself in any situation.\n"
     ]
    },
    {
     "ename": "ZeroDivisionError",
     "evalue": "division by zero",
     "output_type": "error",
     "traceback": [
      "\u001b[0;31m---------------------------------------------------------------------------\u001b[0m",
      "\u001b[0;31mZeroDivisionError\u001b[0m                         Traceback (most recent call last)",
      "Cell \u001b[0;32mIn[9], line 4\u001b[0m\n\u001b[1;32m      2\u001b[0m     a \u001b[38;5;241m=\u001b[39m \u001b[38;5;241m1\u001b[39m\n\u001b[1;32m      3\u001b[0m     b \u001b[38;5;241m=\u001b[39m\u001b[38;5;241m0\u001b[39m\n\u001b[0;32m----> 4\u001b[0m     c \u001b[38;5;241m=\u001b[39m \u001b[43ma\u001b[49m\u001b[38;5;241;43m/\u001b[39;49m\u001b[43mb\u001b[49m\n\u001b[1;32m      5\u001b[0m \u001b[38;5;28;01mfinally\u001b[39;00m:\n\u001b[1;32m      6\u001b[0m     \u001b[38;5;28mprint\u001b[39m(\u001b[38;5;124m'\u001b[39m\u001b[38;5;124mFinally will execute itself in any situation.\u001b[39m\u001b[38;5;124m'\u001b[39m)\n",
      "\u001b[0;31mZeroDivisionError\u001b[0m: division by zero"
     ]
    }
   ],
   "source": [
    "try:\n",
    "    a = 1\n",
    "    b =0\n",
    "    c = a/b\n",
    "finally:\n",
    "    print('Finally will execute itself in any situation.')"
   ]
  },
  {
   "cell_type": "code",
   "execution_count": 11,
   "id": "4283863d-b669-47d0-906c-3e86a0dc2903",
   "metadata": {},
   "outputs": [
    {
     "ename": "SyntaxError",
     "evalue": "invalid syntax (2900290549.py, line 5)",
     "output_type": "error",
     "traceback": [
      "\u001b[0;36m  Cell \u001b[0;32mIn[11], line 5\u001b[0;36m\u001b[0m\n\u001b[0;31m    finally:\u001b[0m\n\u001b[0m    ^\u001b[0m\n\u001b[0;31mSyntaxError\u001b[0m\u001b[0;31m:\u001b[0m invalid syntax\n"
     ]
    }
   ],
   "source": [
    "#'finally' should be used with 'try'\n",
    "a = 1\n",
    "b =0\n",
    "c = a/b\n",
    "finally:\n",
    "    print('Finally will execute itself in any situation.')"
   ]
  }
 ],
 "metadata": {
  "kernelspec": {
   "display_name": "Python 3 (ipykernel)",
   "language": "python",
   "name": "python3"
  },
  "language_info": {
   "codemirror_mode": {
    "name": "ipython",
    "version": 3
   },
   "file_extension": ".py",
   "mimetype": "text/x-python",
   "name": "python",
   "nbconvert_exporter": "python",
   "pygments_lexer": "ipython3",
   "version": "3.10.8"
  }
 },
 "nbformat": 4,
 "nbformat_minor": 5
}
