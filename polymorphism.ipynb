{
 "cells": [
  {
   "cell_type": "code",
   "execution_count": 2,
   "id": "25ed9a89-9ba0-4e41-911d-b93a35978573",
   "metadata": {},
   "outputs": [
    {
     "name": "stdout",
     "output_type": "stream",
     "text": [
      "11\n",
      "56\n"
     ]
    }
   ],
   "source": [
    "# Polymorphism: it is nothing but an ability to take different forms.\n",
    "print(5+6)\n",
    "print('5' + '6')"
   ]
  },
  {
   "cell_type": "code",
   "execution_count": 24,
   "id": "e27d7f6c-e97b-4ace-a5bf-4d73021af50b",
   "metadata": {},
   "outputs": [
    {
     "name": "stdout",
     "output_type": "stream",
     "text": [
      "I am male!\n",
      "I am female!\n"
     ]
    }
   ],
   "source": [
    "class Male:\n",
    "    \n",
    "    def gender(self):\n",
    "        print(\"I am male!\")\n",
    "class Female:\n",
    "    def gender(self):\n",
    "        print(\"I am female!\")\n",
    "def g(a):\n",
    "    a.gender()\n",
    "Vivek = Male()\n",
    "Priyanka = Female()\n",
    "# print(f\"Vivek: {g(Vivek)} \\n Priyanka : {g(Priyanka)}\")\n",
    "g(Vivek)\n",
    "g(Priyanka)"
   ]
  },
  {
   "cell_type": "code",
   "execution_count": null,
   "id": "202f620f-1e8e-4b4b-b30a-f79e13eb9275",
   "metadata": {},
   "outputs": [],
   "source": []
  }
 ],
 "metadata": {
  "kernelspec": {
   "display_name": "Python 3 (ipykernel)",
   "language": "python",
   "name": "python3"
  },
  "language_info": {
   "codemirror_mode": {
    "name": "ipython",
    "version": 3
   },
   "file_extension": ".py",
   "mimetype": "text/x-python",
   "name": "python",
   "nbconvert_exporter": "python",
   "pygments_lexer": "ipython3",
   "version": "3.10.8"
  }
 },
 "nbformat": 4,
 "nbformat_minor": 5
}
