{
 "cells": [
  {
   "cell_type": "code",
   "execution_count": 7,
   "id": "7492ee3e-0c03-41ac-8396-a091a8239f0f",
   "metadata": {},
   "outputs": [],
   "source": [
    "info ={\n",
    "'name':'vivek',\n",
    "'Age':18,\n",
    "'Height':5.6,\n",
    "'Weight':67,\n",
    "'Something':[1,2,3,45,5]\n",
    "}"
   ]
  },
  {
   "cell_type": "code",
   "execution_count": 8,
   "id": "9acfbfa7-a1c0-44f9-87cc-d17606abd0a2",
   "metadata": {},
   "outputs": [],
   "source": [
    "import json"
   ]
  },
  {
   "cell_type": "code",
   "execution_count": 9,
   "id": "a54629ed-9218-46b1-b32e-df0808e8f634",
   "metadata": {},
   "outputs": [],
   "source": [
    "with open('demo1.json','w') as f:\n",
    "    json.dump(info,f)"
   ]
  },
  {
   "cell_type": "code",
   "execution_count": 10,
   "id": "220a06d9-d561-459b-91bb-0fb0e0479353",
   "metadata": {},
   "outputs": [],
   "source": [
    "with open('demo1.json','r') as f1:\n",
    "    a = json.load(f1)"
   ]
  },
  {
   "cell_type": "code",
   "execution_count": 11,
   "id": "c1b0b03e-1324-40e1-bfb4-b841f974b1a2",
   "metadata": {},
   "outputs": [
    {
     "data": {
      "text/plain": [
       "{'name': 'vivek',\n",
       " 'Age': 18,\n",
       " 'Height': 5.6,\n",
       " 'Weight': 67,\n",
       " 'Something': [1, 2, 3, 45, 5]}"
      ]
     },
     "execution_count": 11,
     "metadata": {},
     "output_type": "execute_result"
    }
   ],
   "source": [
    "a"
   ]
  },
  {
   "cell_type": "code",
   "execution_count": 12,
   "id": "365c6235-ad24-4adf-bc2a-4296d7f84448",
   "metadata": {},
   "outputs": [],
   "source": [
    "import csv\n"
   ]
  },
  {
   "cell_type": "code",
   "execution_count": 13,
   "id": "ee2041f1-6954-4028-b327-0ffaca55db3f",
   "metadata": {},
   "outputs": [],
   "source": [
    "a= [['Name','Email_id','Mobile_no.'],\n",
    "    ['Vivek','vivekratr@gmail.com ',8208772095],\n",
    "    ['Paresh','breakratr@gmail.com',8030239930]\n",
    "]"
   ]
  },
  {
   "cell_type": "code",
   "execution_count": 14,
   "id": "4ca35c42-41c1-4523-ba01-850f28c379db",
   "metadata": {},
   "outputs": [],
   "source": [
    "with open('demo1.csv','w') as f:\n",
    "    writer_obj = csv.writer(f)\n",
    "    for i in a:\n",
    "        writer_obj.writerow(i)"
   ]
  },
  {
   "cell_type": "code",
   "execution_count": 15,
   "id": "84e9f356-a0ec-4442-8f90-7d95c42151c5",
   "metadata": {},
   "outputs": [
    {
     "name": "stdout",
     "output_type": "stream",
     "text": [
      "['Name', 'Email_id', 'Mobile_no.']\n",
      "['Vivek', 'vivekratr@gmail.com ', '8208772095']\n",
      "['Paresh', 'breakratr@gmail.com', '8030239930']\n"
     ]
    }
   ],
   "source": [
    "with open('demo1.csv','r') as f:\n",
    "    read_obj = csv.reader(f)\n",
    "    for i in read_obj:\n",
    "        print(i)"
   ]
  },
  {
   "cell_type": "code",
   "execution_count": 16,
   "id": "fd794bd5-3aba-4230-8aac-733ef2737737",
   "metadata": {},
   "outputs": [],
   "source": [
    "# Binary file operation"
   ]
  },
  {
   "cell_type": "code",
   "execution_count": null,
   "id": "24e99705-e680-42ed-84c0-d40ed71b91cf",
   "metadata": {},
   "outputs": [],
   "source": [
    "with open('demo1.bin','wb') as f:\n",
    "    \n"
   ]
  }
 ],
 "metadata": {
  "kernelspec": {
   "display_name": "Python 3 (ipykernel)",
   "language": "python",
   "name": "python3"
  },
  "language_info": {
   "codemirror_mode": {
    "name": "ipython",
    "version": 3
   },
   "file_extension": ".py",
   "mimetype": "text/x-python",
   "name": "python",
   "nbconvert_exporter": "python",
   "pygments_lexer": "ipython3",
   "version": "3.10.8"
  }
 },
 "nbformat": 4,
 "nbformat_minor": 5
}
