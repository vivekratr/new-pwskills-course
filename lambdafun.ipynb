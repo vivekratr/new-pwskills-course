{
 "cells": [
  {
   "cell_type": "code",
   "execution_count": 1,
   "id": "28c56892-636e-4054-b5ef-3d0ed84819d2",
   "metadata": {},
   "outputs": [
    {
     "data": {
      "text/plain": [
       "<function __main__.<lambda>(a, b)>"
      ]
     },
     "execution_count": 1,
     "metadata": {},
     "output_type": "execute_result"
    }
   ],
   "source": [
    "#lambda or anonymous function is a single line function\n",
    "lambda a,b : a**b"
   ]
  },
  {
   "cell_type": "code",
   "execution_count": 2,
   "id": "8d1ef2ab-ed80-4771-8091-1eba7da13730",
   "metadata": {},
   "outputs": [],
   "source": [
    "a = lambda a,b : a**b"
   ]
  },
  {
   "cell_type": "code",
   "execution_count": 3,
   "id": "a5b4e924-ed5d-4772-8371-508411def552",
   "metadata": {},
   "outputs": [
    {
     "data": {
      "text/plain": [
       "9"
      ]
     },
     "execution_count": 3,
     "metadata": {},
     "output_type": "execute_result"
    }
   ],
   "source": [
    "a(3,2)"
   ]
  },
  {
   "cell_type": "code",
   "execution_count": 4,
   "id": "658127dd-d962-445a-87f4-9039b2fc0e88",
   "metadata": {},
   "outputs": [],
   "source": [
    "add = lambda a,b : a+b"
   ]
  },
  {
   "cell_type": "code",
   "execution_count": 5,
   "id": "1cf66fa4-cde1-4ed1-b349-4fcfd22da204",
   "metadata": {},
   "outputs": [
    {
     "data": {
      "text/plain": [
       "3"
      ]
     },
     "execution_count": 5,
     "metadata": {},
     "output_type": "execute_result"
    }
   ],
   "source": [
    "add(1,2)"
   ]
  },
  {
   "cell_type": "code",
   "execution_count": 6,
   "id": "df608a9b-acc4-4730-be19-da4c1e5e9bb4",
   "metadata": {},
   "outputs": [],
   "source": [
    "cToF = lambda c : (9/5)*c+32"
   ]
  },
  {
   "cell_type": "code",
   "execution_count": 7,
   "id": "308a0d8f-8fb5-47af-9bd6-b1147ff41e9a",
   "metadata": {},
   "outputs": [
    {
     "data": {
      "text/plain": [
       "82.4"
      ]
     },
     "execution_count": 7,
     "metadata": {},
     "output_type": "execute_result"
    }
   ],
   "source": [
    "cToF(28)"
   ]
  },
  {
   "cell_type": "code",
   "execution_count": 9,
   "id": "0f7424ef-3296-4ca0-b03c-ccd72465f3fb",
   "metadata": {},
   "outputs": [
    {
     "data": {
      "text/plain": [
       "100.4"
      ]
     },
     "execution_count": 9,
     "metadata": {},
     "output_type": "execute_result"
    }
   ],
   "source": [
    "cToF(38)"
   ]
  },
  {
   "cell_type": "code",
   "execution_count": 12,
   "id": "d7c33e5e-7658-4a0d-b440-08b9e3e7a9f4",
   "metadata": {},
   "outputs": [],
   "source": [
    "max = lambda a,b: a if a>b else b"
   ]
  },
  {
   "cell_type": "code",
   "execution_count": 13,
   "id": "42fb5031-24da-4e21-b017-c543e1a84625",
   "metadata": {},
   "outputs": [
    {
     "data": {
      "text/plain": [
       "3"
      ]
     },
     "execution_count": 13,
     "metadata": {},
     "output_type": "execute_result"
    }
   ],
   "source": [
    "max(1,3)"
   ]
  },
  {
   "cell_type": "code",
   "execution_count": 16,
   "id": "0ae4b8fc-ffda-45b6-9828-8677d2917276",
   "metadata": {},
   "outputs": [],
   "source": [
    "max1 = lambda a,b,c: a if a>b else b if b>c else c"
   ]
  },
  {
   "cell_type": "code",
   "execution_count": 17,
   "id": "e3d4011f-10eb-4743-87d2-cfca31c66c0a",
   "metadata": {},
   "outputs": [
    {
     "data": {
      "text/plain": [
       "5"
      ]
     },
     "execution_count": 17,
     "metadata": {},
     "output_type": "execute_result"
    }
   ],
   "source": [
    "max1(3,5,1)"
   ]
  },
  {
   "cell_type": "code",
   "execution_count": null,
   "id": "2ed7b72c-6775-46be-b8a0-6d619881e911",
   "metadata": {},
   "outputs": [],
   "source": []
  }
 ],
 "metadata": {
  "kernelspec": {
   "display_name": "Python 3 (ipykernel)",
   "language": "python",
   "name": "python3"
  },
  "language_info": {
   "codemirror_mode": {
    "name": "ipython",
    "version": 3
   },
   "file_extension": ".py",
   "mimetype": "text/x-python",
   "name": "python",
   "nbconvert_exporter": "python",
   "pygments_lexer": "ipython3",
   "version": "3.10.8"
  }
 },
 "nbformat": 4,
 "nbformat_minor": 5
}
