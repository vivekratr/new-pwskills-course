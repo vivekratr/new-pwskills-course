{
 "cells": [
  {
   "cell_type": "code",
   "execution_count": 1,
   "id": "060b88ce-cfac-49db-ab56-817d89c94088",
   "metadata": {},
   "outputs": [],
   "source": [
    "l = [1,2,3,4,5,6]"
   ]
  },
  {
   "cell_type": "code",
   "execution_count": 2,
   "id": "6be49d0c-a6f9-4116-bbc4-f9393ca63a5d",
   "metadata": {},
   "outputs": [],
   "source": [
    "def sq(list):\n",
    "    l1 = []\n",
    "    for i in list:\n",
    "        l1.append(i**2)\n",
    "    return l1"
   ]
  },
  {
   "cell_type": "code",
   "execution_count": 3,
   "id": "76f6c795-1831-4106-8dff-fb5c3a0ae0d8",
   "metadata": {},
   "outputs": [
    {
     "data": {
      "text/plain": [
       "[1, 4, 9, 16, 25, 36]"
      ]
     },
     "execution_count": 3,
     "metadata": {},
     "output_type": "execute_result"
    }
   ],
   "source": [
    "sq(l)"
   ]
  },
  {
   "cell_type": "code",
   "execution_count": 4,
   "id": "3fc887c3-8b80-44b5-89a5-f82152935d6b",
   "metadata": {},
   "outputs": [],
   "source": [
    "def sq1(a):\n",
    "    return a**2\n"
   ]
  },
  {
   "cell_type": "code",
   "execution_count": 7,
   "id": "d284ddc5-d760-471a-a24e-7de258679e85",
   "metadata": {},
   "outputs": [
    {
     "data": {
      "text/plain": [
       "[1, 4, 9, 16, 25, 36]"
      ]
     },
     "execution_count": 7,
     "metadata": {},
     "output_type": "execute_result"
    }
   ],
   "source": [
    "list(map(sq1,l))"
   ]
  },
  {
   "cell_type": "code",
   "execution_count": 9,
   "id": "74033210-5a84-41dc-8ff9-76395d250504",
   "metadata": {},
   "outputs": [
    {
     "data": {
      "text/plain": [
       "[1, 4, 9, 16, 25, 36]"
      ]
     },
     "execution_count": 9,
     "metadata": {},
     "output_type": "execute_result"
    }
   ],
   "source": [
    "list(map(lambda a : a**2 , l))"
   ]
  },
  {
   "cell_type": "code",
   "execution_count": 10,
   "id": "38c75376-a9b7-45b2-9ff0-5a29d5b4ed16",
   "metadata": {},
   "outputs": [],
   "source": [
    "l1 = [1,2,3,4,5]\n",
    "l2 = [6,7,8,9,10]\n"
   ]
  },
  {
   "cell_type": "code",
   "execution_count": 15,
   "id": "0e3f688f-9a4c-4af5-b11a-3fe9b2e57147",
   "metadata": {},
   "outputs": [
    {
     "data": {
      "text/plain": [
       "[7, 9, 11, 13, 15]"
      ]
     },
     "execution_count": 15,
     "metadata": {},
     "output_type": "execute_result"
    }
   ],
   "source": [
    "list(map((lambda a,b:a+b),l1,l2))"
   ]
  },
  {
   "cell_type": "code",
   "execution_count": 17,
   "id": "e1ad86f7-c916-436f-8676-a6056871717f",
   "metadata": {},
   "outputs": [],
   "source": [
    "from functools import reduce\n",
    "#reduce , reduces the elements in a list and provide a single output"
   ]
  },
  {
   "cell_type": "code",
   "execution_count": 18,
   "id": "868d8c4d-7d74-4bc2-a329-ac77d849a746",
   "metadata": {},
   "outputs": [],
   "source": [
    "l = [1,2,3,3,4,5]"
   ]
  },
  {
   "cell_type": "code",
   "execution_count": 20,
   "id": "693cd7a8-aed8-41b1-ba61-6fa23ecf7e02",
   "metadata": {},
   "outputs": [
    {
     "data": {
      "text/plain": [
       "18"
      ]
     },
     "execution_count": 20,
     "metadata": {},
     "output_type": "execute_result"
    }
   ],
   "source": [
    "reduce(lambda a,b:a+b,l) #always take 2 parameters as it can take all values in the list and not 3 or more"
   ]
  },
  {
   "cell_type": "code",
   "execution_count": 21,
   "id": "335dae3b-75e7-48c6-a452-e66ca34f7045",
   "metadata": {},
   "outputs": [
    {
     "ename": "TypeError",
     "evalue": "<lambda>() missing 1 required positional argument: 'c'",
     "output_type": "error",
     "traceback": [
      "\u001b[0;31m---------------------------------------------------------------------------\u001b[0m",
      "\u001b[0;31mTypeError\u001b[0m                                 Traceback (most recent call last)",
      "Cell \u001b[0;32mIn[21], line 1\u001b[0m\n\u001b[0;32m----> 1\u001b[0m \u001b[43mreduce\u001b[49m\u001b[43m(\u001b[49m\u001b[38;5;28;43;01mlambda\u001b[39;49;00m\u001b[43m \u001b[49m\u001b[43ma\u001b[49m\u001b[43m,\u001b[49m\u001b[43mb\u001b[49m\u001b[43m,\u001b[49m\u001b[43mc\u001b[49m\u001b[43m:\u001b[49m\u001b[43ma\u001b[49m\u001b[38;5;241;43m+\u001b[39;49m\u001b[43mb\u001b[49m\u001b[38;5;241;43m+\u001b[39;49m\u001b[43mc\u001b[49m\u001b[43m,\u001b[49m\u001b[43ml\u001b[49m\u001b[43m)\u001b[49m \u001b[38;5;66;03m#always take 2 parameters as it can take all values in the list and not 3 or more\u001b[39;00m\n",
      "\u001b[0;31mTypeError\u001b[0m: <lambda>() missing 1 required positional argument: 'c'"
     ]
    }
   ],
   "source": [
    "reduce(lambda a,b,c:a+b+c,l) #always take 2 parameters as it can take all values in the list and not 3 or more"
   ]
  },
  {
   "cell_type": "code",
   "execution_count": 23,
   "id": "c7f68e1c-9012-48c8-b776-6731a7db1045",
   "metadata": {},
   "outputs": [
    {
     "data": {
      "text/plain": [
       "1"
      ]
     },
     "execution_count": 23,
     "metadata": {},
     "output_type": "execute_result"
    }
   ],
   "source": [
    "#exceptional case of reduce\n",
    "reduce(lambda a,b:a+b,[1]) #here it requires 2 param but only 1 was given"
   ]
  },
  {
   "cell_type": "code",
   "execution_count": 25,
   "id": "9b5bf47b-3319-460e-a9dd-a5c14258cb76",
   "metadata": {},
   "outputs": [
    {
     "data": {
      "text/plain": [
       "5"
      ]
     },
     "execution_count": 25,
     "metadata": {},
     "output_type": "execute_result"
    }
   ],
   "source": [
    "#program to find max number\n",
    "reduce(lambda x,y: x if x>y else y ,l1)"
   ]
  },
  {
   "cell_type": "code",
   "execution_count": 26,
   "id": "24936ee4-27c9-4ce5-a13f-9809498db1ee",
   "metadata": {},
   "outputs": [
    {
     "data": {
      "text/plain": [
       "[2, 4]"
      ]
     },
     "execution_count": 26,
     "metadata": {},
     "output_type": "execute_result"
    }
   ],
   "source": [
    "#filter\n",
    "list(filter(lambda x:x%2 == 0,l1))"
   ]
  },
  {
   "cell_type": "code",
   "execution_count": null,
   "id": "9a2b8e35-1932-4434-80d1-082ee8c6e078",
   "metadata": {},
   "outputs": [],
   "source": []
  }
 ],
 "metadata": {
  "kernelspec": {
   "display_name": "Python 3 (ipykernel)",
   "language": "python",
   "name": "python3"
  },
  "language_info": {
   "codemirror_mode": {
    "name": "ipython",
    "version": 3
   },
   "file_extension": ".py",
   "mimetype": "text/x-python",
   "name": "python",
   "nbconvert_exporter": "python",
   "pygments_lexer": "ipython3",
   "version": "3.10.8"
  }
 },
 "nbformat": 4,
 "nbformat_minor": 5
}
