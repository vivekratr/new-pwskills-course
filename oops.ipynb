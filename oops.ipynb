{
 "cells": [
  {
   "cell_type": "code",
   "execution_count": 105,
   "id": "5457a3b4-9b09-443c-80a4-51f4afb6b6c6",
   "metadata": {},
   "outputs": [
    {
     "name": "stdout",
     "output_type": "stream",
     "text": [
      "<class 'int'>\n"
     ]
    }
   ],
   "source": [
    "a = 19\n",
    "print(type(a))"
   ]
  },
  {
   "cell_type": "code",
   "execution_count": 106,
   "id": "4130b605-dd36-4901-8d58-b6feca32fb2c",
   "metadata": {},
   "outputs": [
    {
     "name": "stdout",
     "output_type": "stream",
     "text": [
      "<class '__main__.pwskills'>\n",
      "Welcome <__main__.pwskills object at 0x7f623d2db8b0> to pwskills\n"
     ]
    }
   ],
   "source": [
    "class pwskills:\n",
    "    \n",
    "    def welcome(self):\n",
    "        print(f\"Welcome {self} to pwskills\")\n",
    "a=pwskills()\n",
    "print(type(a))\n",
    "a.welcome()"
   ]
  },
  {
   "cell_type": "code",
   "execution_count": 107,
   "id": "2f6023e0-31eb-405a-9178-eda44d83658c",
   "metadata": {},
   "outputs": [],
   "source": [
    "class college:\n",
    "    def __init__(mein,name,phone_no,email_id): # mein = self\n",
    "        mein.name = name\n",
    "        mein.phone = phone_no\n",
    "        mein.email_id = email_id\n",
    "    def returnfunc(mein):\n",
    "        return mein.name,mein.phone,mein.email_id"
   ]
  },
  {
   "cell_type": "code",
   "execution_count": 108,
   "id": "b708aea8-739a-47af-bcf6-689af65bae70",
   "metadata": {},
   "outputs": [],
   "source": [
    "# a = 'vivek'\n",
    "# b = list(reversed(a))\n",
    "# print(b)"
   ]
  },
  {
   "cell_type": "code",
   "execution_count": 109,
   "id": "c19c0996-6b75-43e4-8bc6-458c8a642987",
   "metadata": {},
   "outputs": [
    {
     "data": {
      "text/plain": [
       "'Vivek'"
      ]
     },
     "execution_count": 109,
     "metadata": {},
     "output_type": "execute_result"
    }
   ],
   "source": [
    "vk = college('Vivek',8208772095,'vivekratr@gmail.com')\n",
    "vk.name"
   ]
  },
  {
   "cell_type": "code",
   "execution_count": 110,
   "id": "a892e8a8-3c37-4440-b5ba-7f1582b3bfcb",
   "metadata": {},
   "outputs": [
    {
     "data": {
      "text/plain": [
       "8208772095"
      ]
     },
     "execution_count": 110,
     "metadata": {},
     "output_type": "execute_result"
    }
   ],
   "source": [
    "vk.phone"
   ]
  },
  {
   "cell_type": "code",
   "execution_count": 111,
   "id": "4621cd15-a5e6-46b0-9f52-0d835ef10971",
   "metadata": {},
   "outputs": [
    {
     "data": {
      "text/plain": [
       "'vivekratr@gmail.com'"
      ]
     },
     "execution_count": 111,
     "metadata": {},
     "output_type": "execute_result"
    }
   ],
   "source": [
    "vk.email_id\n"
   ]
  },
  {
   "cell_type": "code",
   "execution_count": 112,
   "id": "6ccf8a05-19c8-4038-9dc8-b09d56bffbef",
   "metadata": {},
   "outputs": [
    {
     "data": {
      "text/plain": [
       "('Vivek', 8208772095, 'vivekratr@gmail.com')"
      ]
     },
     "execution_count": 112,
     "metadata": {},
     "output_type": "execute_result"
    }
   ],
   "source": [
    "vk.returnfunc()"
   ]
  },
  {
   "cell_type": "code",
   "execution_count": 113,
   "id": "8ef3f69a-5a16-4867-a98d-818f21f5f7cb",
   "metadata": {},
   "outputs": [],
   "source": [
    "pk = college('Paresh',38930202020,'saksdk@outlook.com')"
   ]
  },
  {
   "cell_type": "code",
   "execution_count": 115,
   "id": "56db8d0e-0aaa-46b8-b306-b59a39f2e3ce",
   "metadata": {},
   "outputs": [
    {
     "data": {
      "text/plain": [
       "('Paresh', 38930202020, 'saksdk@outlook.com')"
      ]
     },
     "execution_count": 115,
     "metadata": {},
     "output_type": "execute_result"
    }
   ],
   "source": [
    "pk.returnfunc()"
   ]
  }
 ],
 "metadata": {
  "kernelspec": {
   "display_name": "Python 3 (ipykernel)",
   "language": "python",
   "name": "python3"
  },
  "language_info": {
   "codemirror_mode": {
    "name": "ipython",
    "version": 3
   },
   "file_extension": ".py",
   "mimetype": "text/x-python",
   "name": "python",
   "nbconvert_exporter": "python",
   "pygments_lexer": "ipython3",
   "version": "3.10.8"
  }
 },
 "nbformat": 4,
 "nbformat_minor": 5
}
