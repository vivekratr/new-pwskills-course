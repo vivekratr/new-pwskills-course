{
 "cells": [
  {
   "cell_type": "code",
   "execution_count": 1,
   "id": "b5557c91-05f1-42a3-9341-5ea0054b38f5",
   "metadata": {},
   "outputs": [],
   "source": [
    "class validateAge(Exception):\n",
    "    def __init__(self,message):\n",
    "        self.message = message\n",
    "        "
   ]
  },
  {
   "cell_type": "code",
   "execution_count": 4,
   "id": "ddc15f4f-1fa1-4912-befd-851a3b70b5ac",
   "metadata": {},
   "outputs": [],
   "source": [
    "def valiAge(age):\n",
    "    if age <0:\n",
    "        raise validateAge('Age is negative.')\n",
    "    elif age >200:\n",
    "        raise validateAge('The age is way too high')\n",
    "    else :\n",
    "        print('Valid Age.')\n",
    "        "
   ]
  },
  {
   "cell_type": "code",
   "execution_count": 5,
   "id": "a609af87-6d07-4a39-8106-92c3eca0e9c9",
   "metadata": {},
   "outputs": [
    {
     "name": "stdin",
     "output_type": "stream",
     "text": [
      "Enter the age:  -1\n"
     ]
    },
    {
     "name": "stdout",
     "output_type": "stream",
     "text": [
      "v Age is negative.\n"
     ]
    }
   ],
   "source": [
    "try:\n",
    "    age = int(input('Enter the age: '))\n",
    "    valiAge(age)\n",
    "except validateAge as e:\n",
    "    print('v',e)"
   ]
  },
  {
   "cell_type": "code",
   "execution_count": null,
   "id": "746bcbd8-bdf2-4967-9e71-b0e990049d7f",
   "metadata": {},
   "outputs": [],
   "source": []
  }
 ],
 "metadata": {
  "kernelspec": {
   "display_name": "Python 3 (ipykernel)",
   "language": "python",
   "name": "python3"
  },
  "language_info": {
   "codemirror_mode": {
    "name": "ipython",
    "version": 3
   },
   "file_extension": ".py",
   "mimetype": "text/x-python",
   "name": "python",
   "nbconvert_exporter": "python",
   "pygments_lexer": "ipython3",
   "version": "3.10.8"
  }
 },
 "nbformat": 4,
 "nbformat_minor": 5
}
