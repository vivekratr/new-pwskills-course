{
 "cells": [
  {
   "cell_type": "code",
   "execution_count": 5,
   "id": "6bcacb0d-25d8-44b3-a30a-eaa93c440ff5",
   "metadata": {},
   "outputs": [],
   "source": [
    "import threading\n",
    "import logging"
   ]
  },
  {
   "cell_type": "code",
   "execution_count": 6,
   "id": "603b7ea8-eab1-4e0c-9366-19ed5230e435",
   "metadata": {},
   "outputs": [],
   "source": [
    "def test(i):\n",
    "    print(f\"Hello {i}\")\n",
    "logging.basicConfig(filename= 'multithreading.log', level=logging.DEBUG ,format = '%(asctime)s %(message)s')"
   ]
  },
  {
   "cell_type": "code",
   "execution_count": 9,
   "id": "72655b6b-3d31-4c6d-b1e5-88c2a1a5c43e",
   "metadata": {},
   "outputs": [],
   "source": [
    "th= [threading.Thread(target=test, args=(i,)) for i in range(10)]"
   ]
  },
  {
   "cell_type": "code",
   "execution_count": 10,
   "id": "d301ae58-28a7-4217-9e9c-d28eacc38424",
   "metadata": {},
   "outputs": [
    {
     "name": "stdout",
     "output_type": "stream",
     "text": [
      "Hello 0\n",
      "Hello 1\n",
      "Hello 2\n",
      "Hello 3\n",
      "Hello 4\n",
      "Hello 5\n",
      "Hello 6\n",
      "Hello 7\n",
      "Hello 8\n",
      "Hello 9\n"
     ]
    }
   ],
   "source": [
    "for t in th:\n",
    "    logging.info('hellu')\n",
    "    t.start()"
   ]
  },
  {
   "cell_type": "code",
   "execution_count": 11,
   "id": "2c53a5fb-1a4e-4c53-a893-2fd6c325df83",
   "metadata": {},
   "outputs": [],
   "source": [
    "import threading\n",
    "import urllib.request\n",
    "\n",
    "def url_fetch(url,filename):\n",
    "    urllib.request.urlretrieve(url,filename)\n",
    "    "
   ]
  },
  {
   "cell_type": "code",
   "execution_count": 12,
   "id": "3da83043-a47a-46d6-a89e-3b98a15f9e48",
   "metadata": {},
   "outputs": [],
   "source": [
    "url_list = ['https://github.com/vivekratr/PWSKILLS-assignments/blob/39e3ce52b2fca9d94fccbf3f95e632c77a121bd7/6Feb-Assignment.ipynb','https://github.com/vivekratr/PWSKILLS-assignments/blob/39e3ce52b2fca9d94fccbf3f95e632c77a121bd7/2feb%20assignments.ipynb','https://github.com/vivekratr/PWSKILLS-assignments/blob/39e3ce52b2fca9d94fccbf3f95e632c77a121bd7/10Feb_assignment.ipynb']\n",
    "filenam_list = ['multithreadf1.txt','multithreadf2.txt','multithreadf3.txt']"
   ]
  },
  {
   "cell_type": "code",
   "execution_count": 14,
   "id": "4a70f780-0202-4c24-8340-65731510af41",
   "metadata": {},
   "outputs": [],
   "source": [
    "th = [threading.Thread(target=url_fetch,args=(url_list[i],filenam_list[i])) for i in range(len(filenam_list))]"
   ]
  },
  {
   "cell_type": "code",
   "execution_count": 16,
   "id": "ad6a58ff-e197-434f-922f-053cb7cc417f",
   "metadata": {},
   "outputs": [
    {
     "data": {
      "text/plain": [
       "[<Thread(Thread-25 (url_fetch), initial)>,\n",
       " <Thread(Thread-26 (url_fetch), initial)>,\n",
       " <Thread(Thread-27 (url_fetch), initial)>]"
      ]
     },
     "execution_count": 16,
     "metadata": {},
     "output_type": "execute_result"
    }
   ],
   "source": [
    "th # it says that it will make total 3 threads to execute the task"
   ]
  },
  {
   "cell_type": "code",
   "execution_count": 17,
   "id": "312e661d-2dc2-47e3-9f4e-aa2d6947912c",
   "metadata": {},
   "outputs": [],
   "source": [
    "for t in th:\n",
    "    t.start()"
   ]
  },
  {
   "cell_type": "code",
   "execution_count": 18,
   "id": "6667fea1-5fef-4ad8-abd5-c0485fbbb2c8",
   "metadata": {},
   "outputs": [
    {
     "data": {
      "text/plain": [
       "[<Thread(Thread-25 (url_fetch), stopped 139752996070976)>,\n",
       " <Thread(Thread-26 (url_fetch), stopped 139752970901056)>,\n",
       " <Thread(Thread-27 (url_fetch), stopped 139752962508352)>]"
      ]
     },
     "execution_count": 18,
     "metadata": {},
     "output_type": "execute_result"
    }
   ],
   "source": [
    "th"
   ]
  },
  {
   "cell_type": "code",
   "execution_count": 19,
   "id": "d00a75ef-99f1-4e1e-a7f3-79ace689ab89",
   "metadata": {},
   "outputs": [],
   "source": [
    "import time"
   ]
  },
  {
   "cell_type": "code",
   "execution_count": 37,
   "id": "8bff22f3-3e5d-44fe-84a2-d9b820251c77",
   "metadata": {},
   "outputs": [],
   "source": [
    "def something(id):\n",
    "    for i in range(1,11):\n",
    "        print(f\"{id} for i = {i}\")\n",
    "        time.sleep(1)\n",
    "def something1(id):\n",
    "    for i in range(1,11):\n",
    "        print(f\"{id} for i = {i}\")\n",
    "        # time.sleep(1)"
   ]
  },
  {
   "cell_type": "code",
   "execution_count": 46,
   "id": "2f237ee3-7364-4899-858d-97e4cb8b1a9b",
   "metadata": {},
   "outputs": [],
   "source": [
    "d = [threading.Thread(target=something,args=(i,)) for i in range(1,4)]\n",
    "d1 = [threading.Thread(target=something1,args=(i,)) for i in range(1,4)]"
   ]
  },
  {
   "cell_type": "code",
   "execution_count": 47,
   "id": "b907c952-98d9-4c35-8c3e-f1c2e024c941",
   "metadata": {},
   "outputs": [
    {
     "name": "stdout",
     "output_type": "stream",
     "text": [
      "1 for i = 1\n",
      "2 for i = 1\n",
      "3 for i = 1\n",
      "1 for i = 2\n",
      "2 for i = 2\n",
      "3 for i = 2\n",
      "1 for i = 3\n",
      "2 for i = 3\n",
      "3 for i = 3\n",
      "1 for i = 4\n",
      "2 for i = 4\n",
      "3 for i = 4\n",
      "1 for i = 5\n",
      "2 for i = 5\n",
      "3 for i = 5\n",
      "1 for i = 6\n",
      "2 for i = 6\n",
      "3 for i = 6\n",
      "1 for i = 72 for i = 7\n",
      "\n",
      "3 for i = 7\n",
      "2 for i = 8\n",
      "3 for i = 8\n",
      "1 for i = 8\n",
      "2 for i = 93 for i = 9\n",
      "\n",
      "1 for i = 9\n",
      "3 for i = 10\n",
      "2 for i = 10\n",
      "1 for i = 10\n"
     ]
    }
   ],
   "source": [
    "for m in d: #here task is done parallely because every task is letting thread to sit idle for 1 sec, and thread just perform context switchin\n",
    "    m.start()"
   ]
  },
  {
   "cell_type": "code",
   "execution_count": 48,
   "id": "daa0bfae-e0ee-4690-a0b8-46ed7894acf0",
   "metadata": {},
   "outputs": [
    {
     "name": "stdout",
     "output_type": "stream",
     "text": [
      "1 for i = 1\n",
      "1 for i = 2\n",
      "1 for i = 3\n",
      "1 for i = 4\n",
      "1 for i = 5\n",
      "1 for i = 6\n",
      "1 for i = 7\n",
      "1 for i = 8\n",
      "1 for i = 9\n",
      "1 for i = 10\n",
      "2 for i = 1\n",
      "2 for i = 2\n",
      "2 for i = 3\n",
      "2 for i = 4\n",
      "2 for i = 5\n",
      "2 for i = 6\n",
      "2 for i = 7\n",
      "2 for i = 8\n",
      "2 for i = 9\n",
      "2 for i = 10\n",
      "3 for i = 1\n",
      "3 for i = 2\n",
      "3 for i = 3\n",
      "3 for i = 4\n",
      "3 for i = 5\n",
      "3 for i = 6\n",
      "3 for i = 7\n",
      "3 for i = 8\n",
      "3 for i = 9\n",
      "3 for i = 10\n"
     ]
    }
   ],
   "source": [
    "for n in d1: # it will execute serially as the 1st task is not letting the thread to sit idle \n",
    "    n.start()"
   ]
  },
  {
   "cell_type": "code",
   "execution_count": 49,
   "id": "8d2e2523-ff04-4063-8308-d9d4fd062e32",
   "metadata": {},
   "outputs": [],
   "source": [
    "shared_resource = 0\n",
    "lock_var = threading.Lock()\n",
    "def test2(id):\n",
    "    global shared_resource\n",
    "    with lock_var:\n",
    "        shared_resource +=1\n",
    "        print(f'{id} has changed shared var to the value of {shared_resource}')\n",
    "        \n",
    "ther1 = [threading.Thread(target=test2,args=(i,)) for i in range(3)]"
   ]
  },
  {
   "cell_type": "code",
   "execution_count": 50,
   "id": "71e8d4b6-6f84-43e9-9ae5-d1c9d0c5e391",
   "metadata": {},
   "outputs": [
    {
     "name": "stdout",
     "output_type": "stream",
     "text": [
      "0 has changed shared var to the value of 1\n",
      "1 has changed shared var to the value of 2\n",
      "2 has changed shared var to the value of 3\n"
     ]
    }
   ],
   "source": [
    "for t in ther1:\n",
    "    t.start()"
   ]
  },
  {
   "cell_type": "code",
   "execution_count": null,
   "id": "5601fdd4-c88c-4ec2-970f-3bc5bea99763",
   "metadata": {},
   "outputs": [],
   "source": []
  }
 ],
 "metadata": {
  "kernelspec": {
   "display_name": "Python 3 (ipykernel)",
   "language": "python",
   "name": "python3"
  },
  "language_info": {
   "codemirror_mode": {
    "name": "ipython",
    "version": 3
   },
   "file_extension": ".py",
   "mimetype": "text/x-python",
   "name": "python",
   "nbconvert_exporter": "python",
   "pygments_lexer": "ipython3",
   "version": "3.10.8"
  }
 },
 "nbformat": 4,
 "nbformat_minor": 5
}
