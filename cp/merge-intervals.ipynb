{
 "cells": [
  {
   "cell_type": "code",
   "execution_count": 18,
   "id": "4ed39562-f9d6-45ab-a456-c35c4785c1de",
   "metadata": {},
   "outputs": [
    {
     "name": "stdout",
     "output_type": "stream",
     "text": [
      "2\n",
      "[[1, 6], [8, 10], [15, 18]]\n"
     ]
    }
   ],
   "source": [
    "intervals =[[1,3],[2,6],[8,10],[15,18]]\n",
    "new = []\n",
    "i = 0\n",
    "while(i< len(intervals)):\n",
    "    if(len(new) == 0):\n",
    "        if(intervals[i][1]>=intervals[i+1][0]):\n",
    "            # print(\"hi\")\n",
    "            new.append([intervals[i][0],intervals[i+1][1]])\n",
    "            # print(i)\n",
    "            # print(new)\n",
    "            i +=1\n",
    "            p=0 #new's index\n",
    "        else:\n",
    "            # print(i)\n",
    "            new.appen(intervals[i])\n",
    "    elif(new[p][1]>=intervals[i][0]):\n",
    "        # print(i)\n",
    "        \n",
    "        new.append([new[p][0],intervals[i][1]])\n",
    "        new.pop(p)\n",
    "    elif(i+1!=len(intervals)):\n",
    "        # print(i)\n",
    "        \n",
    "        if(intervals[i][1]>=intervals[i+1][0]):\n",
    "            new.append([intervals[i][0],intervals[i+1][1]])\n",
    "            i +=1\n",
    "            p+=1\n",
    "        else:\n",
    "            # print(i)\n",
    "            new.append(intervals[i])\n",
    "    else:\n",
    "        # print(i)\n",
    "        new.append(intervals[i])\n",
    "\n",
    "    i +=1\n",
    "print(new)"
   ]
  },
  {
   "cell_type": "code",
   "execution_count": 20,
   "id": "25a7fd11-fd24-46c1-9b0d-53874870999b",
   "metadata": {},
   "outputs": [
    {
     "name": "stdout",
     "output_type": "stream",
     "text": [
      "[[0, 0], [1, 1], [2, 6]]\n"
     ]
    }
   ],
   "source": [
    "intervals =[[4,5],[2,4],[4,6],[3,4],[0,0],[1,1],[3,5],[2,2]]\n",
    "new = []\n",
    "intervals.sort()\n",
    "i = 0\n",
    "while(i< len(intervals)):\n",
    "    if(len(new) == 0):\n",
    "        if(i+1<len(intervals)):\n",
    "            if(intervals[i][1]>=intervals[i+1][0]):\n",
    "                new.append([intervals[i][0],max(intervals[i+1][1],intervals[i][1])])\n",
    "                i +=1\n",
    "                p=0 #new's index\n",
    "            else:\n",
    "                new.append(intervals[i])\n",
    "                p=0 #new's index\n",
    "\n",
    "        else:\n",
    "                    new.append(intervals[i])\n",
    "                    p=0 #new's index\n",
    "\n",
    "    elif(new[p][1]>=intervals[i][0]):\n",
    "                new.append([new[p][0],max(new[p][1],intervals[i][1])])\n",
    "                new.pop(p)\n",
    "            # elif(i+1!=len(intervals)):\n",
    "            #     if(intervals[i][1]>=intervals[i+1][0]):\n",
    "            #         new.append([intervals[i][0],max(intervals[i+1][1],intervals[i][1])])\n",
    "            #         i +=1\n",
    "            #         p+=1\n",
    "            #     else:\n",
    "            #         new.append(intervals[i])\n",
    "            #         p +=1\n",
    "    else:\n",
    "                new.append(intervals[i])\n",
    "                p+=1\n",
    "\n",
    "    i +=1\n",
    "print(new)"
   ]
  }
 ],
 "metadata": {
  "kernelspec": {
   "display_name": "Python 3 (ipykernel)",
   "language": "python",
   "name": "python3"
  },
  "language_info": {
   "codemirror_mode": {
    "name": "ipython",
    "version": 3
   },
   "file_extension": ".py",
   "mimetype": "text/x-python",
   "name": "python",
   "nbconvert_exporter": "python",
   "pygments_lexer": "ipython3",
   "version": "3.10.8"
  }
 },
 "nbformat": 4,
 "nbformat_minor": 5
}
