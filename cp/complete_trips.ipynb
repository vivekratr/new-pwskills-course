{
 "cells": [
  {
   "cell_type": "code",
   "execution_count": 7,
   "id": "9f8cb955-833e-4ab0-bc66-8a7ab5d79a7d",
   "metadata": {},
   "outputs": [
    {
     "name": "stdout",
     "output_type": "stream",
     "text": [
      "6\n"
     ]
    }
   ],
   "source": [
    "from functools import reduce\n",
    "time = [1,2,3]\n",
    "trip  = 9\n",
    "i = 1\n",
    "t =[]\n",
    "for i in range(len(time)):\n",
    "    t.append(0)\n",
    "while True:\n",
    "    sum = 0\n",
    "    for j in range(len(time)):\n",
    "        t[j] = int(i/time[j])\n",
    "    # print(t)\n",
    "    sum = reduce(lambda c,b: c+b,t)\n",
    "    if sum >=trip:\n",
    "        print(i)\n",
    "        break\n",
    "    i+=1\n"
   ]
  }
 ],
 "metadata": {
  "kernelspec": {
   "display_name": "Python 3 (ipykernel)",
   "language": "python",
   "name": "python3"
  },
  "language_info": {
   "codemirror_mode": {
    "name": "ipython",
    "version": 3
   },
   "file_extension": ".py",
   "mimetype": "text/x-python",
   "name": "python",
   "nbconvert_exporter": "python",
   "pygments_lexer": "ipython3",
   "version": "3.10.8"
  }
 },
 "nbformat": 4,
 "nbformat_minor": 5
}
