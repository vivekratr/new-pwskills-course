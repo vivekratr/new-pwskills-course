{
 "cells": [
  {
   "cell_type": "code",
   "execution_count": 2,
   "id": "098de0f0-d9de-4f8a-86cb-8403ab8529fe",
   "metadata": {},
   "outputs": [],
   "source": [
    "l1 = [2,4,3]\n",
    "l2 = [5,6,4]\n"
   ]
  },
  {
   "cell_type": "code",
   "execution_count": 7,
   "id": "97781d1c-a6a5-4826-ad68-ae02d88ae4cd",
   "metadata": {},
   "outputs": [
    {
     "name": "stdout",
     "output_type": "stream",
     "text": [
      "[7, 0, 8]\n"
     ]
    }
   ],
   "source": [
    "a = ''\n",
    "\n",
    "for f in l1:\n",
    "    a = str(f) + a\n",
    "b = ''\n",
    "for f in l2:\n",
    "    b = str(f) +b\n",
    "c = str(int(a) + int(b))\n",
    "d = c[::-1]\n",
    "print([int(s) for s in d])"
   ]
  },
  {
   "cell_type": "code",
   "execution_count": 12,
   "id": "d6ce3d61-ed34-45c4-a541-ea572fa8d168",
   "metadata": {},
   "outputs": [
    {
     "data": {
      "text/plain": [
       "['1', '2', '1']"
      ]
     },
     "execution_count": 12,
     "metadata": {},
     "output_type": "execute_result"
    }
   ],
   "source": [
    "x =121\n",
    "\n",
    "aa = [''+ str(b) for b in str(x)]\n",
    "aa"
   ]
  }
 ],
 "metadata": {
  "kernelspec": {
   "display_name": "Python 3 (ipykernel)",
   "language": "python",
   "name": "python3"
  },
  "language_info": {
   "codemirror_mode": {
    "name": "ipython",
    "version": 3
   },
   "file_extension": ".py",
   "mimetype": "text/x-python",
   "name": "python",
   "nbconvert_exporter": "python",
   "pygments_lexer": "ipython3",
   "version": "3.10.8"
  }
 },
 "nbformat": 4,
 "nbformat_minor": 5
}
