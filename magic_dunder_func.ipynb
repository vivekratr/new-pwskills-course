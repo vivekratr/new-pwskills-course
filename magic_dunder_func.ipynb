{
 "cells": [
  {
   "cell_type": "code",
   "execution_count": null,
   "id": "49ab0772-dd34-4fed-a635-46f7afa395bf",
   "metadata": {},
   "outputs": [],
   "source": [
    "\"dunder\" is short for \"double underscore\", and in Python, \"magic dunder\" refers to special double-underscore methods and attributes that have a special\n",
    "meaning in the language. These methods have a specific syntax and are used for specific purposes, such as operator overloading, name mangling, and more.\n",
    "\n",
    "For example, the __len__ method is a magic dunder method that returns the length of an object. The __str__ method is another magic dunder method that\n",
    "returns a string representation of an object. When you use the len function on an object, Python calls its __len__ method automatically, and when you\n",
    "use the print function on an object, Python calls its __str__ method to display a string representation of the object.\n",
    "\n",
    "Magic dunder methods and attributes play a crucial role in the way Python works and are used extensively throughout the language and its standard libraries.\n"
   ]
  },
  {
   "cell_type": "code",
   "execution_count": 1,
   "id": "f21f5cdc-6b36-4157-8192-a8da5b23ab40",
   "metadata": {},
   "outputs": [
    {
     "name": "stdout",
     "output_type": "stream",
     "text": [
      "War and Peace by Leo Tolstoy\n"
     ]
    }
   ],
   "source": [
    "class Book:\n",
    "    def __init__(self, title, author):\n",
    "        self.title = title\n",
    "        self.author = author\n",
    "\n",
    "    def __str__(self):\n",
    "        return f\"{self.title} by {self.author}\"\n",
    "\n",
    "book = Book(\"War and Peace\", \"Leo Tolstoy\")\n",
    "print(book)\n"
   ]
  }
 ],
 "metadata": {
  "kernelspec": {
   "display_name": "Python 3 (ipykernel)",
   "language": "python",
   "name": "python3"
  },
  "language_info": {
   "codemirror_mode": {
    "name": "ipython",
    "version": 3
   },
   "file_extension": ".py",
   "mimetype": "text/x-python",
   "name": "python",
   "nbconvert_exporter": "python",
   "pygments_lexer": "ipython3",
   "version": "3.10.8"
  }
 },
 "nbformat": 4,
 "nbformat_minor": 5
}
